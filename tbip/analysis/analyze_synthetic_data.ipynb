{
 "cells": [
  {
   "cell_type": "code",
   "execution_count": 1,
   "id": "4665ecbc",
   "metadata": {},
   "outputs": [],
   "source": [
    "import numpy as np\n",
    "import os\n",
    "import scipy.sparse as sparse\n",
    "from scipy.stats import bernoulli, poisson\n",
    "import analysis_utils_mine as utils\n",
    "\n",
    "import plotly.graph_objects as go\n",
    "import chart_studio\n",
    "import json\n",
    "import pandas as pd\n",
    "import ast\n",
    "from datetime import datetime\n",
    "import torch\n",
    "import pandas as pd\n",
    "from datetime import datetime, timedelta"
   ]
  },
  {
   "cell_type": "code",
   "execution_count": null,
   "id": "39bcf182",
   "metadata": {},
   "outputs": [],
   "source": []
  },
  {
   "cell_type": "markdown",
   "id": "e2344000",
   "metadata": {},
   "source": [
    "### original TBIP on senate speeches"
   ]
  },
  {
   "cell_type": "code",
   "execution_count": 2,
   "id": "ba190339",
   "metadata": {},
   "outputs": [],
   "source": [
    "project_dir = os.path.abspath('/workspace/pranav/tbip/') \n",
    "source_dir = os.path.join(project_dir, \"data/synthetic\")\n",
    "\n",
    "# Load TBIP data.\n",
    "data_dir = os.path.join(source_dir, \"clean\")\n",
    "(counts, vocabulary, author_indices, \n",
    " author_map) = utils.load_text_data(data_dir)\n",
    "\n",
    "# Load TBIP parameters.\n",
    "param_dir = os.path.join(source_dir, \"tbip-pytorch-fits-og/params/\")\n",
    "(document_loc, document_scale, objective_topic_loc, objective_topic_scale, \n",
    " ideological_topic_loc, ideological_topic_scale, ideal_point_loc, \n",
    " ideal_point_scale) = utils.load_tbip_parameters(param_dir)\n",
    "\n",
    "# Compute means from variational parameters\n",
    "document_mean = np.exp(document_loc + document_scale ** 2 / 2)\n",
    "objective_topic_mean = np.exp(objective_topic_loc + \n",
    "                              objective_topic_scale ** 2 / 2)\n",
    "ideological_topic_mean = ideological_topic_loc\n",
    "ideal_point_mean = ideal_point_loc"
   ]
  },
  {
   "cell_type": "code",
   "execution_count": 3,
   "id": "0aa61e32",
   "metadata": {},
   "outputs": [
    {
     "name": "stdout",
     "output_type": "stream",
     "text": [
      "(45, 3)\n",
      "(3, 60)\n",
      "(3, 60)\n",
      "(6,)\n"
     ]
    }
   ],
   "source": [
    "print(document_mean.shape)\n",
    "print(objective_topic_mean.shape)\n",
    "print(ideological_topic_mean.shape)\n",
    "print(ideal_point_mean.shape)\n",
    "ideal_point_mean = -1*ideal_point_mean\n",
    "ideological_topic_loc = ideological_topic_loc * -1"
   ]
  },
  {
   "cell_type": "code",
   "execution_count": 4,
   "id": "18079d35",
   "metadata": {},
   "outputs": [
    {
     "name": "stdout",
     "output_type": "stream",
     "text": [
      "['Ideal Point = -1.0, Topic = 0: solar, crisis, renewable, carbon_tax, energy_efficiency, wind, pollution, clean_energy, global_warming, climate_change, energy, jobs, mine_workers, oil, economy, coal, production, hoax, china, govt_overreach'\n",
      " 'Ideal Point = -0.5, Topic = 0: pollution, global_warming, climate_change, clean_energy, carbon_tax, solar, crisis, renewable, energy_efficiency, wind, energy, jobs, oil, mine_workers, economy, coal, china, production, hoax, govt_overreach'\n",
      " 'Ideal Point = 0.0, Topic = 0: energy, pollution, global_warming, jobs, climate_change, oil, mine_workers, clean_energy, economy, carbon_tax, coal, crisis, china, production, solar, renewable, energy_efficiency, wind, hoax, govt_overreach'\n",
      " 'Ideal Point = 0.5, Topic = 0: energy, jobs, oil, mine_workers, economy, coal, production, china, pollution, govt_overreach, hoax, global_warming, climate_change, clean_energy, carbon_tax, renewable, energy_efficiency, crisis, solar, wind'\n",
      " 'Ideal Point = 1.0, Topic = 0: economy, oil, coal, mine_workers, energy, production, jobs, china, govt_overreach, hoax, pollution, global_warming, climate_change, clean_energy, carbon_tax, renewable, energy_efficiency, crisis, wind, solar'\n",
      " '========================================================================================================================'\n",
      " 'Ideal Point = -1.0, Topic = 1: america, immigrant, immigrant_rights, legal_immigration, refugees, broken_system, daca, dreamer, comprehensive_immigration_reform, deportation, homeland_security, law, immigration, border, secure, enforce, wall, amnesty, illegal, illegal_immigrants'\n",
      " 'Ideal Point = -0.5, Topic = 1: immigrant, legal_immigration, immigrant_rights, america, refugees, broken_system, daca, comprehensive_immigration_reform, dreamer, deportation, homeland_security, law, immigration, border, secure, enforce, illegal, amnesty, illegal_immigrants, wall'\n",
      " 'Ideal Point = 0.0, Topic = 1: immigrant, legal_immigration, immigration, homeland_security, law, immigrant_rights, border, refugees, america, secure, enforce, illegal, amnesty, illegal_immigrants, wall, daca, broken_system, comprehensive_immigration_reform, dreamer, deportation'\n",
      " 'Ideal Point = 0.5, Topic = 1: immigration, homeland_security, law, border, secure, enforce, illegal, amnesty, illegal_immigrants, legal_immigration, immigrant, wall, immigrant_rights, refugees, america, daca, dreamer, broken_system, comprehensive_immigration_reform, deportation'\n",
      " 'Ideal Point = 1.0, Topic = 1: enforce, illegal, immigration, illegal_immigrants, amnesty, secure, homeland_security, wall, law, border, legal_immigration, immigrant, immigrant_rights, refugees, america, dreamer, daca, deportation, comprehensive_immigration_reform, broken_system'\n",
      " '========================================================================================================================'\n",
      " 'Ideal Point = -1.0, Topic = 2: access, birth_control, contraception, rights, bodily_autonomy, legal, rare, women, choice, healthcare, heartbeat, stem, late_abortion, weeks, life, babies, unborn_child, unborn, murder, baby'\n",
      " 'Ideal Point = -0.5, Topic = 2: women, access, choice, legal, birth_control, contraception, rights, bodily_autonomy, rare, healthcare, heartbeat, stem, late_abortion, weeks, life, babies, unborn_child, unborn, murder, baby'\n",
      " 'Ideal Point = 0.0, Topic = 2: women, heartbeat, choice, stem, late_abortion, weeks, legal, life, rare, healthcare, access, babies, unborn, unborn_child, birth_control, murder, rights, contraception, baby, bodily_autonomy'\n",
      " 'Ideal Point = 0.5, Topic = 2: heartbeat, stem, weeks, late_abortion, life, babies, unborn, unborn_child, women, murder, baby, choice, legal, rare, healthcare, access, birth_control, rights, contraception, bodily_autonomy'\n",
      " 'Ideal Point = 1.0, Topic = 2: unborn_child, unborn, babies, murder, life, baby, weeks, heartbeat, late_abortion, stem, women, choice, legal, rare, healthcare, access, bodily_autonomy, rights, contraception, birth_control'\n",
      " '========================================================================================================================']\n",
      "\n",
      "\n"
     ]
    }
   ],
   "source": [
    "utils.print_topics(objective_topic_loc, \n",
    "                   objective_topic_scale, \n",
    "                   ideological_topic_loc, \n",
    "                   ideological_topic_scale, \n",
    "                   vocabulary, \n",
    "                   20)"
   ]
  },
  {
   "cell_type": "code",
   "execution_count": 5,
   "id": "3367136f",
   "metadata": {},
   "outputs": [],
   "source": [
    "colors = np.array([\"crimson\" if '(R)' in rep else \"steelblue\" for rep in author_map])\n",
    "def get_ideological_topics(objective_topic_loc, \n",
    "                           objective_topic_scale,\n",
    "                           ideological_topic_loc, \n",
    "                           ideological_topic_scale,\n",
    "                           ideal_point):\n",
    "    ideological_topic_mean = np.exp(objective_topic_loc +\n",
    "                              ideal_point * ideological_topic_loc +\n",
    "                              (objective_topic_scale ** 2 + \n",
    "                               ideal_point ** 2 * \n",
    "                               ideological_topic_scale ** 2) / 2)\n",
    "    return ideological_topic_mean"
   ]
  },
  {
   "cell_type": "code",
   "execution_count": 6,
   "id": "25a424bb",
   "metadata": {},
   "outputs": [
    {
     "name": "stdout",
     "output_type": "stream",
     "text": [
      "(6,)\n",
      "(6,)\n"
     ]
    }
   ],
   "source": [
    "ideal_points = ideal_point_mean\n",
    "author_map = np.array(author_map)\n",
    "print(author_map.shape)\n",
    "ideal_points = np.array(ideal_points)\n",
    "print(ideal_points.shape)"
   ]
  },
  {
   "cell_type": "code",
   "execution_count": 7,
   "id": "129c2c9e",
   "metadata": {},
   "outputs": [],
   "source": [
    "def get_topic_name(topic_number):\n",
    "    if topic_number == 0:\n",
    "        topic_name = \"Energy\"\n",
    "    elif topic_number == 1:\n",
    "        topic_name = \"Immigration\"\n",
    "    elif topic_number == 2:\n",
    "        topic_name = \"Abortion\"\n",
    "        \n",
    "    return topic_name"
   ]
  },
  {
   "cell_type": "code",
   "execution_count": 14,
   "id": "dcc61e0f",
   "metadata": {},
   "outputs": [],
   "source": [
    "def show_interactive(topic_number):\n",
    "    topic_name = get_topic_name(topic_number)\n",
    "    \n",
    "    #avg_topic_props = mean_topic_props[:, topic_number]\n",
    "\n",
    "    fig = go.Figure(layout = go.Layout(\n",
    "        paper_bgcolor='rgba(0,0,0,0)',\n",
    "        plot_bgcolor='rgba(0,0,0,0)'))\n",
    "    x_min = -1.0\n",
    "    x_max = 1.0\n",
    "    diff = 0.05\n",
    "    offset = -x_min / diff\n",
    "    scatterplot_location = -0.53\n",
    "    avg_topic_prop_scatter_location = -1.06\n",
    "\n",
    "    ideal_point_dict = {}\n",
    "    for i in range(int((x_max - x_min) / diff) + 1):\n",
    "        ideal_point_dict[i] = (i - offset) * diff\n",
    "        \n",
    "    topic_prop_dict = {}\n",
    "    for i in range(int((1.0 - 0.0) / diff) + 1):\n",
    "        topic_prop_dict[i] = (i - offset) * diff\n",
    "\n",
    "    # Add black line.\n",
    "    fig.add_trace(go.Scatter(x=[x_min, x_max], \n",
    "                             y = [scatterplot_location, scatterplot_location],\n",
    "                             line=dict(color=\"black\", width=1),\n",
    "                             marker=dict(size=1),\n",
    "                             hoverinfo='skip'))\n",
    "\n",
    "    # Add trace for all representatives\n",
    "    fig.add_trace(go.Scatter(\n",
    "        mode=\"markers\",\n",
    "        x=ideal_points, \n",
    "        y=scatterplot_location * np.ones(len(ideal_points)), \n",
    "        text=[x for x in author_map], \n",
    "        hoverinfo=\"x+text\",\n",
    "        marker=dict(color=colors, size=8)))\n",
    "    \n",
    "#     # Add another black line\n",
    "#     fig.add_trace(go.Scatter(x=[0.0, 1.0], \n",
    "#                              y = [avg_topic_prop_scatter_location, avg_topic_prop_scatter_location],\n",
    "#                              line=dict(color=\"black\", width=1),\n",
    "#                              marker=dict(size=1),\n",
    "#                              hoverinfo='skip'))\n",
    "\n",
    "#     # Add another trace for all representatives - this time for avg prop of the topic in their speeches\n",
    "#     fig.add_trace(go.Scatter(\n",
    "#         mode=\"markers\",\n",
    "#         x=avg_topic_props, \n",
    "#         y=avg_topic_prop_scatter_location * np.ones(len(avg_topic_props)), \n",
    "#         text=[x for x in author_map], \n",
    "#         hoverinfo=\"x+text\",\n",
    "#         marker=dict(color=colors, size=8)))\n",
    "\n",
    "    num_top_words = 8\n",
    "\n",
    "    # Add bar plots, one for each ideal point\n",
    "    for step in np.arange(len(ideal_point_dict.keys())):\n",
    "        ideological_topic_mean = get_ideological_topics(objective_topic_loc, \n",
    "                                   objective_topic_scale,\n",
    "                                   ideological_topic_loc, \n",
    "                                   ideological_topic_scale,\n",
    "                                   ideal_point_dict[step])\n",
    "        topic_intensities = ideological_topic_mean[topic_number]/50.0\n",
    "        top_topic_intensities = np.sort(topic_intensities)[-num_top_words:]\n",
    "        top_topic_words = vocabulary[np.argsort(-topic_intensities)[:num_top_words]][::-1]\n",
    "        fig.add_trace(\n",
    "            go.Bar(\n",
    "                visible=False,\n",
    "                x=top_topic_intensities * 5,\n",
    "                orientation='h',\n",
    "                text=top_topic_words,\n",
    "                textposition='outside',\n",
    "                marker_color='rgb(175,122,197)',\n",
    "                y0=0.529,\n",
    "                dy=0.214,\n",
    "                base=-0.3,\n",
    "                hoverinfo='skip',\n",
    "            ))\n",
    "\n",
    "    fig.update_layout(go.Layout(\n",
    "    yaxis = {'showgrid': False,\n",
    "             'showline': False,\n",
    "             'zeroline': False,\n",
    "            'showticklabels': False,\n",
    "            'fixedrange': True}),\n",
    "    xaxis = {'showgrid': False,\n",
    "             'showline': False,\n",
    "             'zeroline': False,\n",
    "            'showticklabels': False,\n",
    "            'fixedrange': True})\n",
    "    fig.update_yaxes(range=[-0.6, 2.5])\n",
    "    fig.update_xaxes(range=[x_min - 0.02, x_max + 0.02])\n",
    "\n",
    "    # Set default trace\n",
    "    fig.data[len(fig.data) // 2].visible = True\n",
    "    \n",
    "    #print(len(fig.data))\n",
    "\n",
    "    # Create and add slider\n",
    "    steps = []\n",
    "    for i in range(2, len(fig.data)):\n",
    "        step = dict(\n",
    "            method=\"update\",\n",
    "            args=[{\"visible\": [True, True] + [False] * (len(fig.data) - 2)}],  \n",
    "            label=\"{:.2f}\".format(ideal_point_dict[i - 2]),\n",
    "        )\n",
    "        step[\"args\"][0][\"visible\"][i] = True  # Toggle i'th trace to \"visible\"\n",
    "        steps.append(step)\n",
    "\n",
    "    sliders = [dict(\n",
    "        active=(len(fig.data) // 2 - 1),\n",
    "        currentvalue={\"prefix\": \"Ideal Point: \"},\n",
    "        y=0.35,\n",
    "        steps=steps)]\n",
    "\n",
    "    fig.update_layout(sliders=sliders, showlegend=False, \n",
    "                      title={'text': \"Word Usage as a Function of Ideal Point (Topic: {})\".format(topic_name),\n",
    "                             'x': 0.5,\n",
    "                             'y': 0.9},\n",
    "                      xaxis_title='Representative ideal points (hover to see names)',\n",
    "                      annotations = [\n",
    "                                    dict(xref='paper',\n",
    "                                            yref='paper',\n",
    "                                            x=0.5, y=0.255,\n",
    "                                            font={'size': 14},\n",
    "                                            showarrow=False,\n",
    "                                            text ='Move slider to change ideal point')\n",
    "                      ])\n",
    "    fig.show()"
   ]
  },
  {
   "cell_type": "code",
   "execution_count": 15,
   "id": "d61b69f7",
   "metadata": {},
   "outputs": [
    {
     "data": {
      "application/vnd.plotly.v1+json": {
       "config": {
        "plotlyServerURL": "https://plot.ly"
       },
       "data": [
        {
         "hoverinfo": "skip",
         "line": {
          "color": "black",
          "width": 1
         },
         "marker": {
          "size": 1
         },
         "type": "scatter",
         "x": [
          -1,
          1
         ],
         "y": [
          -0.53,
          -0.53
         ]
        },
        {
         "hoverinfo": "x+text",
         "marker": {
          "color": [
           "steelblue",
           "crimson",
           "steelblue",
           "crimson",
           "crimson",
           "steelblue"
          ],
          "size": 8
         },
         "mode": "markers",
         "text": [
          "Alex (D)",
          "John (R)",
          "Justicia (D)",
          "Lauren (R)",
          "Mark (R)",
          "Mona (D)"
         ],
         "type": "scatter",
         "x": [
          -0.789236307144165,
          0.8978533148765564,
          -1.0066245794296265,
          0.8361955285072327,
          0.829914391040802,
          -0.9671030640602112
         ],
         "y": [
          -0.53,
          -0.53,
          -0.53,
          -0.53,
          -0.53,
          -0.53
         ]
        },
        {
         "base": -0.3,
         "dy": 0.214,
         "hoverinfo": "skip",
         "marker": {
          "color": "rgb(175,122,197)"
         },
         "orientation": "h",
         "text": [
          "clean_energy",
          "pollution",
          "wind",
          "energy_efficiency",
          "carbon_tax",
          "renewable",
          "crisis",
          "solar"
         ],
         "textposition": "outside",
         "type": "bar",
         "visible": false,
         "x": [
          0.27394887804985046,
          0.2825168967247009,
          0.28994524478912354,
          0.29418322443962097,
          0.2961410582065582,
          0.2964690923690796,
          0.31631216406822205,
          0.32479020953178406
         ],
         "y0": 0.529
        },
        {
         "base": -0.3,
         "dy": 0.214,
         "hoverinfo": "skip",
         "marker": {
          "color": "rgb(175,122,197)"
         },
         "orientation": "h",
         "text": [
          "clean_energy",
          "wind",
          "energy_efficiency",
          "pollution",
          "renewable",
          "carbon_tax",
          "crisis",
          "solar"
         ],
         "textposition": "outside",
         "type": "bar",
         "visible": false,
         "x": [
          0.2622697055339813,
          0.2689887583255768,
          0.2731091380119324,
          0.2748548090457916,
          0.27513670921325684,
          0.2804171144962311,
          0.292927086353302,
          0.30011409521102905
         ],
         "y0": 0.529
        },
        {
         "base": -0.3,
         "dy": 0.214,
         "hoverinfo": "skip",
         "marker": {
          "color": "rgb(175,122,197)"
         },
         "orientation": "h",
         "text": [
          "climate_change",
          "energy_efficiency",
          "global_warming",
          "renewable",
          "carbon_tax",
          "pollution",
          "crisis",
          "solar"
         ],
         "textposition": "outside",
         "type": "bar",
         "visible": false,
         "x": [
          0.2514117658138275,
          0.25362157821655273,
          0.254788339138031,
          0.2554229199886322,
          0.26560044288635254,
          0.2674573063850403,
          0.27135294675827026,
          0.27741068601608276
         ],
         "y0": 0.529
        },
        {
         "base": -0.3,
         "dy": 0.214,
         "hoverinfo": "skip",
         "marker": {
          "color": "rgb(175,122,197)"
         },
         "orientation": "h",
         "text": [
          "renewable",
          "clean_energy",
          "climate_change",
          "global_warming",
          "crisis",
          "carbon_tax",
          "solar",
          "pollution"
         ],
         "textposition": "outside",
         "type": "bar",
         "visible": false,
         "x": [
          0.23719923198223114,
          0.2405700832605362,
          0.2435886263847351,
          0.2479582130908966,
          0.25144392251968384,
          0.25163522362709045,
          0.2565153241157532,
          0.26031428575515747
         ],
         "y0": 0.529
        },
        {
         "base": -0.3,
         "dy": 0.214,
         "hoverinfo": "skip",
         "marker": {
          "color": "rgb(175,122,197)"
         },
         "orientation": "h",
         "text": [
          "renewable",
          "clean_energy",
          "crisis",
          "climate_change",
          "solar",
          "carbon_tax",
          "global_warming",
          "pollution"
         ],
         "textposition": "outside",
         "type": "bar",
         "visible": false,
         "x": [
          0.22034786641597748,
          0.23049241304397583,
          0.23306609690189362,
          0.2360677570104599,
          0.23727759718894958,
          0.23846925795078278,
          0.24137723445892334,
          0.25341588258743286
         ],
         "y0": 0.529
        },
        {
         "base": -0.3,
         "dy": 0.214,
         "hoverinfo": "skip",
         "marker": {
          "color": "rgb(175,122,197)"
         },
         "orientation": "h",
         "text": [
          "renewable",
          "crisis",
          "solar",
          "clean_energy",
          "carbon_tax",
          "climate_change",
          "global_warming",
          "pollution"
         ],
         "textposition": "outside",
         "type": "bar",
         "visible": false,
         "x": [
          0.2047606110572815,
          0.2160969078540802,
          0.2195601463317871,
          0.22089388966560364,
          0.22605375945568085,
          0.2288360893726349,
          0.23503530025482178,
          0.2467527687549591
         ],
         "y0": 0.529
        },
        {
         "base": -0.3,
         "dy": 0.214,
         "hoverinfo": "skip",
         "marker": {
          "color": "rgb(175,122,197)"
         },
         "orientation": "h",
         "text": [
          "renewable",
          "crisis",
          "solar",
          "clean_energy",
          "carbon_tax",
          "climate_change",
          "global_warming",
          "pollution"
         ],
         "textposition": "outside",
         "type": "bar",
         "visible": false,
         "x": [
          0.19033832848072052,
          0.20042386651039124,
          0.203237384557724,
          0.21174974739551544,
          0.21434305608272552,
          0.22188125550746918,
          0.22892265021800995,
          0.24031594395637512
         ],
         "y0": 0.529
        },
        {
         "base": -0.3,
         "dy": 0.214,
         "hoverinfo": "skip",
         "marker": {
          "color": "rgb(175,122,197)"
         },
         "orientation": "h",
         "text": [
          "renewable",
          "crisis",
          "solar",
          "clean_energy",
          "carbon_tax",
          "climate_change",
          "global_warming",
          "pollution"
         ],
         "textposition": "outside",
         "type": "bar",
         "visible": false,
         "x": [
          0.17698976397514343,
          0.1859438270330429,
          0.18819454312324524,
          0.20303654670715332,
          0.20329442620277405,
          0.21519136428833008,
          0.22303009033203125,
          0.23409681022167206
         ],
         "y0": 0.529
        },
        {
         "base": -0.3,
         "dy": 0.214,
         "hoverinfo": "skip",
         "marker": {
          "color": "rgb(175,122,197)"
         },
         "orientation": "h",
         "text": [
          "renewable",
          "crisis",
          "solar",
          "carbon_tax",
          "clean_energy",
          "climate_change",
          "global_warming",
          "pollution"
         ],
         "textposition": "outside",
         "type": "bar",
         "visible": false,
         "x": [
          0.16463123261928558,
          0.17256216704845428,
          0.17432667315006256,
          0.19286783039569855,
          0.1947321593761444,
          0.208755224943161,
          0.21734870970249176,
          0.22808712720870972
         ],
         "y0": 0.529
        },
        {
         "base": -0.3,
         "dy": 0.214,
         "hoverinfo": "skip",
         "marker": {
          "color": "rgb(175,122,197)"
         },
         "orientation": "h",
         "text": [
          "renewable",
          "crisis",
          "solar",
          "carbon_tax",
          "clean_energy",
          "climate_change",
          "global_warming",
          "pollution"
         ],
         "textposition": "outside",
         "type": "bar",
         "visible": false,
         "x": [
          0.15318575501441956,
          0.16019201278686523,
          0.16153770685195923,
          0.18302588164806366,
          0.18681563436985016,
          0.20256204903125763,
          0.21187007427215576,
          0.22227895259857178
         ],
         "y0": 0.529
        },
        {
         "base": -0.3,
         "dy": 0.214,
         "hoverinfo": "skip",
         "marker": {
          "color": "rgb(175,122,197)"
         },
         "orientation": "h",
         "text": [
          "renewable",
          "crisis",
          "solar",
          "carbon_tax",
          "clean_energy",
          "climate_change",
          "global_warming",
          "pollution"
         ],
         "textposition": "outside",
         "type": "bar",
         "visible": false,
         "x": [
          0.14258265495300293,
          0.14875361323356628,
          0.1497398167848587,
          0.17373351752758026,
          0.17926724255084991,
          0.19660156965255737,
          0.2065861076116562,
          0.21666479110717773
         ],
         "y0": 0.529
        },
        {
         "base": -0.3,
         "dy": 0.214,
         "hoverinfo": "skip",
         "marker": {
          "color": "rgb(175,122,197)"
         },
         "orientation": "h",
         "text": [
          "energy",
          "crisis",
          "solar",
          "carbon_tax",
          "clean_energy",
          "climate_change",
          "global_warming",
          "pollution"
         ],
         "textposition": "outside",
         "type": "bar",
         "visible": false,
         "x": [
          0.1364772915840149,
          0.13817381858825684,
          0.13885261118412018,
          0.16495786607265472,
          0.172068253159523,
          0.19086402654647827,
          0.20148906111717224,
          0.21123731136322021
         ],
         "y0": 0.529
        },
        {
         "base": -0.3,
         "dy": 0.214,
         "hoverinfo": "skip",
         "marker": {
          "color": "rgb(175,122,197)"
         },
         "orientation": "h",
         "text": [
          "crisis",
          "solar",
          "energy",
          "carbon_tax",
          "clean_energy",
          "climate_change",
          "global_warming",
          "pollution"
         ],
         "textposition": "outside",
         "type": "bar",
         "visible": false,
         "x": [
          0.12838530540466309,
          0.12880244851112366,
          0.1397435963153839,
          0.15666818618774414,
          0.16520100831985474,
          0.18534010648727417,
          0.19657164812088013,
          0.20598956942558289
         ],
         "y0": 0.529
        },
        {
         "base": -0.3,
         "dy": 0.214,
         "hoverinfo": "skip",
         "marker": {
          "color": "rgb(175,122,197)"
         },
         "orientation": "h",
         "text": [
          "solar",
          "jobs",
          "energy",
          "carbon_tax",
          "clean_energy",
          "climate_change",
          "global_warming",
          "pollution"
         ],
         "textposition": "outside",
         "type": "bar",
         "visible": false,
         "x": [
          0.11952188611030579,
          0.13070794939994812,
          0.1431148499250412,
          0.14883561432361603,
          0.1586487740278244,
          0.18002094328403473,
          0.19182676076889038,
          0.20091497898101807
         ],
         "y0": 0.529
        },
        {
         "base": -0.3,
         "dy": 0.214,
         "hoverinfo": "skip",
         "marker": {
          "color": "rgb(175,122,197)"
         },
         "orientation": "h",
         "text": [
          "oil",
          "jobs",
          "carbon_tax",
          "energy",
          "clean_energy",
          "climate_change",
          "global_warming",
          "pollution"
         ],
         "textposition": "outside",
         "type": "bar",
         "visible": false,
         "x": [
          0.11273223906755447,
          0.13414853811264038,
          0.1414332091808319,
          0.14659489691257477,
          0.15239578485488892,
          0.1748979687690735,
          0.18724767863750458,
          0.19600702822208405
         ],
         "y0": 0.529
        },
        {
         "base": -0.3,
         "dy": 0.214,
         "hoverinfo": "skip",
         "marker": {
          "color": "rgb(175,122,197)"
         },
         "orientation": "h",
         "text": [
          "oil",
          "carbon_tax",
          "jobs",
          "clean_energy",
          "energy",
          "climate_change",
          "global_warming",
          "pollution"
         ],
         "textposition": "outside",
         "type": "bar",
         "visible": false,
         "x": [
          0.11691278219223022,
          0.13443556427955627,
          0.13771134614944458,
          0.14642702043056488,
          0.1501876562833786,
          0.16996312141418457,
          0.18282794952392578,
          0.19125965237617493
         ],
         "y0": 0.529
        },
        {
         "base": -0.3,
         "dy": 0.214,
         "hoverinfo": "skip",
         "marker": {
          "color": "rgb(175,122,197)"
         },
         "orientation": "h",
         "text": [
          "oil",
          "carbon_tax",
          "clean_energy",
          "jobs",
          "energy",
          "climate_change",
          "global_warming",
          "pollution"
         ],
         "textposition": "outside",
         "type": "bar",
         "visible": false,
         "x": [
          0.1212683692574501,
          0.1278189718723297,
          0.14072836935520172,
          0.1414012610912323,
          0.15389731526374817,
          0.16520871222019196,
          0.17856144905090332,
          0.18666692078113556
         ],
         "y0": 0.529
        },
        {
         "base": -0.3,
         "dy": 0.214,
         "hoverinfo": "skip",
         "marker": {
          "color": "rgb(175,122,197)"
         },
         "orientation": "h",
         "text": [
          "mine_workers",
          "oil",
          "clean_energy",
          "jobs",
          "energy",
          "climate_change",
          "global_warming",
          "pollution"
         ],
         "textposition": "outside",
         "type": "bar",
         "visible": false,
         "x": [
          0.12397775053977966,
          0.12580695748329163,
          0.13528642058372498,
          0.14522339403629303,
          0.15772812068462372,
          0.16062729060649872,
          0.17444230616092682,
          0.18222324550151825
         ],
         "y0": 0.529
        },
        {
         "base": -0.3,
         "dy": 0.214,
         "hoverinfo": "skip",
         "marker": {
          "color": "rgb(175,122,197)"
         },
         "orientation": "h",
         "text": [
          "mine_workers",
          "clean_energy",
          "oil",
          "jobs",
          "climate_change",
          "energy",
          "global_warming",
          "pollution"
         ],
         "textposition": "outside",
         "type": "bar",
         "visible": false,
         "x": [
          0.12855561077594757,
          0.13008849322795868,
          0.1305369734764099,
          0.14918310940265656,
          0.15621183812618256,
          0.1616845428943634,
          0.17046482861042023,
          0.17792317271232605
         ],
         "y0": 0.529
        },
        {
         "base": -0.3,
         "dy": 0.214,
         "hoverinfo": "skip",
         "marker": {
          "color": "rgb(175,122,197)"
         },
         "orientation": "h",
         "text": [
          "clean_energy",
          "mine_workers",
          "oil",
          "climate_change",
          "jobs",
          "energy",
          "global_warming",
          "pollution"
         ],
         "textposition": "outside",
         "type": "bar",
         "visible": true,
         "x": [
          0.1251225769519806,
          0.13332898914813995,
          0.13546714186668396,
          0.15195561945438385,
          0.15328602492809296,
          0.1657712608575821,
          0.16662371158599854,
          0.1737615317106247
         ],
         "y0": 0.529
        },
        {
         "base": -0.3,
         "dy": 0.214,
         "hoverinfo": "skip",
         "marker": {
          "color": "rgb(175,122,197)"
         },
         "orientation": "h",
         "text": [
          "clean_energy",
          "mine_workers",
          "oil",
          "climate_change",
          "jobs",
          "global_warming",
          "pollution",
          "energy"
         ],
         "textposition": "outside",
         "type": "bar",
         "visible": false,
         "x": [
          0.1203773021697998,
          0.13830707967281342,
          0.14060673117637634,
          0.14785221219062805,
          0.15753798186779022,
          0.1629137247800827,
          0.16973331570625305,
          0.1699931025505066
         ],
         "y0": 0.529
        },
        {
         "base": -0.3,
         "dy": 0.214,
         "hoverinfo": "skip",
         "marker": {
          "color": "rgb(175,122,197)"
         },
         "orientation": "h",
         "text": [
          "economy",
          "mine_workers",
          "climate_change",
          "oil",
          "global_warming",
          "jobs",
          "pollution",
          "energy"
         ],
         "textposition": "outside",
         "type": "bar",
         "visible": false,
         "x": [
          0.1208062544465065,
          0.14349955320358276,
          0.1438954621553421,
          0.14596539735794067,
          0.15932998061180115,
          0.16194505989551544,
          0.1658337414264679,
          0.17435508966445923
         ],
         "y0": 0.529
        },
        {
         "base": -0.3,
         "dy": 0.214,
         "hoverinfo": "skip",
         "marker": {
          "color": "rgb(175,122,197)"
         },
         "orientation": "h",
         "text": [
          "economy",
          "climate_change",
          "mine_workers",
          "oil",
          "global_warming",
          "pollution",
          "jobs",
          "energy"
         ],
         "textposition": "outside",
         "type": "bar",
         "visible": false,
         "x": [
          0.12691041827201843,
          0.14007948338985443,
          0.148916557431221,
          0.15155328810214996,
          0.15586775541305542,
          0.16205818951129913,
          0.16651368141174316,
          0.17886249721050262
         ],
         "y0": 0.529
        },
        {
         "base": -0.3,
         "dy": 0.214,
         "hoverinfo": "skip",
         "marker": {
          "color": "rgb(175,122,197)"
         },
         "orientation": "h",
         "text": [
          "economy",
          "climate_change",
          "global_warming",
          "mine_workers",
          "oil",
          "pollution",
          "jobs",
          "energy"
         ],
         "textposition": "outside",
         "type": "bar",
         "visible": false,
         "x": [
          0.13335876166820526,
          0.13639870285987854,
          0.15252253413200378,
          0.15456873178482056,
          0.1573810577392578,
          0.15840230882167816,
          0.17125055193901062,
          0.18352079391479492
         ],
         "y0": 0.529
        },
        {
         "base": -0.3,
         "dy": 0.214,
         "hoverinfo": "skip",
         "marker": {
          "color": "rgb(175,122,197)"
         },
         "orientation": "h",
         "text": [
          "climate_change",
          "economy",
          "global_warming",
          "pollution",
          "mine_workers",
          "oil",
          "jobs",
          "energy"
         ],
         "textposition": "outside",
         "type": "bar",
         "visible": false,
         "x": [
          0.13284772634506226,
          0.1401723325252533,
          0.14928998053073883,
          0.15486182272434235,
          0.16046734154224396,
          0.1634598970413208,
          0.17616263031959534,
          0.18833570182323456
         ],
         "y0": 0.529
        },
        {
         "base": -0.3,
         "dy": 0.214,
         "hoverinfo": "skip",
         "marker": {
          "color": "rgb(175,122,197)"
         },
         "orientation": "h",
         "text": [
          "climate_change",
          "global_warming",
          "economy",
          "pollution",
          "mine_workers",
          "oil",
          "jobs",
          "energy"
         ],
         "textposition": "outside",
         "type": "bar",
         "visible": false,
         "x": [
          0.1294214427471161,
          0.14616595208644867,
          0.1473735123872757,
          0.15143266320228577,
          0.16662415862083435,
          0.1698015332221985,
          0.1812572479248047,
          0.1933130919933319
         ],
         "y0": 0.529
        },
        {
         "base": -0.3,
         "dy": 0.214,
         "hoverinfo": "skip",
         "marker": {
          "color": "rgb(175,122,197)"
         },
         "orientation": "h",
         "text": [
          "climate_change",
          "global_warming",
          "pollution",
          "economy",
          "mine_workers",
          "oil",
          "jobs",
          "energy"
         ],
         "textposition": "outside",
         "type": "bar",
         "visible": false,
         "x": [
          0.12611494958400726,
          0.14314649999141693,
          0.14811092615127563,
          0.1549862176179886,
          0.17305158078670502,
          0.17641830444335938,
          0.18654204905033112,
          0.198459193110466
         ],
         "y0": 0.529
        },
        {
         "base": -0.3,
         "dy": 0.214,
         "hoverinfo": "skip",
         "marker": {
          "color": "rgb(175,122,197)"
         },
         "orientation": "h",
         "text": [
          "climate_change",
          "global_warming",
          "pollution",
          "economy",
          "mine_workers",
          "oil",
          "jobs",
          "energy"
         ],
         "textposition": "outside",
         "type": "bar",
         "visible": false,
         "x": [
          0.12292355298995972,
          0.14022783935070038,
          0.1448928564786911,
          0.16303583979606628,
          0.17976263165473938,
          0.18332317471504211,
          0.1920250654220581,
          0.20378044247627258
         ],
         "y0": 0.529
        },
        {
         "base": -0.3,
         "dy": 0.214,
         "hoverinfo": "skip",
         "marker": {
          "color": "rgb(175,122,197)"
         },
         "orientation": "h",
         "text": [
          "coal",
          "global_warming",
          "pollution",
          "economy",
          "mine_workers",
          "oil",
          "jobs",
          "energy"
         ],
         "textposition": "outside",
         "type": "bar",
         "visible": false,
         "x": [
          0.12642966210842133,
          0.13740630447864532,
          0.14177484810352325,
          0.17154954373836517,
          0.18677103519439697,
          0.1905297040939331,
          0.1977146565914154,
          0.20928356051445007
         ],
         "y0": 0.529
        },
        {
         "base": -0.3,
         "dy": 0.214,
         "hoverinfo": "skip",
         "marker": {
          "color": "rgb(175,122,197)"
         },
         "orientation": "h",
         "text": [
          "global_warming",
          "coal",
          "pollution",
          "economy",
          "mine_workers",
          "oil",
          "jobs",
          "energy"
         ],
         "textposition": "outside",
         "type": "bar",
         "visible": false,
         "x": [
          0.1346784234046936,
          0.13566669821739197,
          0.1387534737586975,
          0.18055623769760132,
          0.19409127533435822,
          0.19805222749710083,
          0.2036195993423462,
          0.2149755358695984
         ],
         "y0": 0.529
        },
        {
         "base": -0.3,
         "dy": 0.214,
         "hoverinfo": "skip",
         "marker": {
          "color": "rgb(175,122,197)"
         },
         "orientation": "h",
         "text": [
          "china",
          "production",
          "coal",
          "economy",
          "mine_workers",
          "oil",
          "jobs",
          "energy"
         ],
         "textposition": "outside",
         "type": "bar",
         "visible": false,
         "x": [
          0.1408783197402954,
          0.14255297183990479,
          0.14563055336475372,
          0.1900867372751236,
          0.20173849165439606,
          0.2059057056903839,
          0.20974910259246826,
          0.22086365520954132
         ],
         "y0": 0.529
        },
        {
         "base": -0.3,
         "dy": 0.214,
         "hoverinfo": "skip",
         "marker": {
          "color": "rgb(175,122,197)"
         },
         "orientation": "h",
         "text": [
          "china",
          "production",
          "coal",
          "economy",
          "mine_workers",
          "oil",
          "jobs",
          "energy"
         ],
         "textposition": "outside",
         "type": "bar",
         "visible": false,
         "x": [
          0.15088218450546265,
          0.1529335379600525,
          0.15638190507888794,
          0.2001739740371704,
          0.2097286581993103,
          0.21410591900348663,
          0.21611274778842926,
          0.2269555628299713
         ],
         "y0": 0.529
        },
        {
         "base": -0.3,
         "dy": 0.214,
         "hoverinfo": "skip",
         "marker": {
          "color": "rgb(175,122,197)"
         },
         "orientation": "h",
         "text": [
          "china",
          "production",
          "coal",
          "economy",
          "mine_workers",
          "oil",
          "jobs",
          "energy"
         ],
         "textposition": "outside",
         "type": "bar",
         "visible": false,
         "x": [
          0.16163142025470734,
          0.1641193926334381,
          0.1679869294166565,
          0.21085304021835327,
          0.21807865798473358,
          0.22266948223114014,
          0.222720667719841,
          0.2332591414451599
         ],
         "y0": 0.529
        },
        {
         "base": -0.3,
         "dy": 0.214,
         "hoverinfo": "skip",
         "marker": {
          "color": "rgb(175,122,197)"
         },
         "orientation": "h",
         "text": [
          "china",
          "production",
          "coal",
          "economy",
          "mine_workers",
          "jobs",
          "oil",
          "energy"
         ],
         "textposition": "outside",
         "type": "bar",
         "visible": false,
         "x": [
          0.17318396270275116,
          0.17617635428905487,
          0.18051749467849731,
          0.22216132283210754,
          0.22680611908435822,
          0.22958332300186157,
          0.23161369562149048,
          0.23978270590305328
         ],
         "y0": 0.529
        },
        {
         "base": -0.3,
         "dy": 0.214,
         "hoverinfo": "skip",
         "marker": {
          "color": "rgb(175,122,197)"
         },
         "orientation": "h",
         "text": [
          "china",
          "production",
          "coal",
          "economy",
          "mine_workers",
          "jobs",
          "oil",
          "energy"
         ],
         "textposition": "outside",
         "type": "bar",
         "visible": false,
         "x": [
          0.18560239672660828,
          0.18917597830295563,
          0.19405192136764526,
          0.2341388761997223,
          0.23592975735664368,
          0.23671185970306396,
          0.24095702171325684,
          0.24653488397598267
         ],
         "y0": 0.529
        },
        {
         "base": -0.3,
         "dy": 0.214,
         "hoverinfo": "skip",
         "marker": {
          "color": "rgb(175,122,197)"
         },
         "orientation": "h",
         "text": [
          "china",
          "production",
          "coal",
          "jobs",
          "mine_workers",
          "economy",
          "oil",
          "energy"
         ],
         "textposition": "outside",
         "type": "bar",
         "visible": false,
         "x": [
          0.19895441830158234,
          0.20319592952728271,
          0.2086755335330963,
          0.24411779642105103,
          0.2454691231250763,
          0.2468283623456955,
          0.2507185637950897,
          0.25352466106414795
         ],
         "y0": 0.529
        },
        {
         "base": -0.3,
         "dy": 0.214,
         "hoverinfo": "skip",
         "marker": {
          "color": "rgb(175,122,197)"
         },
         "orientation": "h",
         "text": [
          "china",
          "production",
          "coal",
          "jobs",
          "mine_workers",
          "economy",
          "energy",
          "oil"
         ],
         "textposition": "outside",
         "type": "bar",
         "visible": false,
         "x": [
          0.21331317722797394,
          0.2183205634355545,
          0.22448116540908813,
          0.25181329250335693,
          0.2554449737071991,
          0.26027533411979675,
          0.26076143980026245,
          0.26091864705085754
         ],
         "y0": 0.529
        },
        {
         "base": -0.3,
         "dy": 0.214,
         "hoverinfo": "skip",
         "marker": {
          "color": "rgb(175,122,197)"
         },
         "orientation": "h",
         "text": [
          "china",
          "production",
          "coal",
          "jobs",
          "mine_workers",
          "energy",
          "oil",
          "economy"
         ],
         "textposition": "outside",
         "type": "bar",
         "visible": false,
         "x": [
          0.22875773906707764,
          0.23464152216911316,
          0.2415701150894165,
          0.2598111033439636,
          0.2658790946006775,
          0.2682550251483917,
          0.27157846093177795,
          0.27452850341796875
         ],
         "y0": 0.529
        },
        {
         "base": -0.3,
         "dy": 0.214,
         "hoverinfo": "skip",
         "marker": {
          "color": "rgb(175,122,197)"
         },
         "orientation": "h",
         "text": [
          "china",
          "production",
          "coal",
          "jobs",
          "energy",
          "mine_workers",
          "oil",
          "economy"
         ],
         "textposition": "outside",
         "type": "bar",
         "visible": false,
         "x": [
          0.2453736662864685,
          0.25225844979286194,
          0.26005271077156067,
          0.2681244909763336,
          0.27601557970046997,
          0.2767943739891052,
          0.2827204465866089,
          0.28963977098464966
         ],
         "y0": 0.529
        },
        {
         "base": -0.3,
         "dy": 0.214,
         "hoverinfo": "skip",
         "marker": {
          "color": "rgb(175,122,197)"
         },
         "orientation": "h",
         "text": [
          "china",
          "production",
          "jobs",
          "coal",
          "energy",
          "mine_workers",
          "oil",
          "economy"
         ],
         "textposition": "outside",
         "type": "bar",
         "visible": false,
         "x": [
          0.26325350999832153,
          0.27127963304519653,
          0.27676743268966675,
          0.28004926443099976,
          0.2840539216995239,
          0.2882150113582611,
          0.29436808824539185,
          0.3056648075580597
         ],
         "y0": 0.529
        },
        {
         "base": -0.3,
         "dy": 0.214,
         "hoverinfo": "skip",
         "marker": {
          "color": "rgb(175,122,197)"
         },
         "orientation": "h",
         "text": [
          "china",
          "jobs",
          "production",
          "energy",
          "mine_workers",
          "coal",
          "oil",
          "economy"
         ],
         "textposition": "outside",
         "type": "bar",
         "visible": false,
         "x": [
          0.282497376203537,
          0.2857547104358673,
          0.2918228209018707,
          0.29238101840019226,
          0.3001665472984314,
          0.3016910254955292,
          0.30654624104499817,
          0.32266300916671753
         ],
         "y0": 0.529
        }
       ],
       "layout": {
        "annotations": [
         {
          "font": {
           "size": 14
          },
          "showarrow": false,
          "text": "Move slider to change ideal point",
          "x": 0.5,
          "xref": "paper",
          "y": 0.255,
          "yref": "paper"
         }
        ],
        "paper_bgcolor": "rgba(0,0,0,0)",
        "plot_bgcolor": "rgba(0,0,0,0)",
        "showlegend": false,
        "sliders": [
         {
          "active": 20,
          "currentvalue": {
           "prefix": "Ideal Point: "
          },
          "steps": [
           {
            "args": [
             {
              "visible": [
               true,
               true,
               true,
               false,
               false,
               false,
               false,
               false,
               false,
               false,
               false,
               false,
               false,
               false,
               false,
               false,
               false,
               false,
               false,
               false,
               false,
               false,
               false,
               false,
               false,
               false,
               false,
               false,
               false,
               false,
               false,
               false,
               false,
               false,
               false,
               false,
               false,
               false,
               false,
               false,
               false,
               false,
               false
              ]
             }
            ],
            "label": "-1.00",
            "method": "update"
           },
           {
            "args": [
             {
              "visible": [
               true,
               true,
               false,
               true,
               false,
               false,
               false,
               false,
               false,
               false,
               false,
               false,
               false,
               false,
               false,
               false,
               false,
               false,
               false,
               false,
               false,
               false,
               false,
               false,
               false,
               false,
               false,
               false,
               false,
               false,
               false,
               false,
               false,
               false,
               false,
               false,
               false,
               false,
               false,
               false,
               false,
               false,
               false
              ]
             }
            ],
            "label": "-0.95",
            "method": "update"
           },
           {
            "args": [
             {
              "visible": [
               true,
               true,
               false,
               false,
               true,
               false,
               false,
               false,
               false,
               false,
               false,
               false,
               false,
               false,
               false,
               false,
               false,
               false,
               false,
               false,
               false,
               false,
               false,
               false,
               false,
               false,
               false,
               false,
               false,
               false,
               false,
               false,
               false,
               false,
               false,
               false,
               false,
               false,
               false,
               false,
               false,
               false,
               false
              ]
             }
            ],
            "label": "-0.90",
            "method": "update"
           },
           {
            "args": [
             {
              "visible": [
               true,
               true,
               false,
               false,
               false,
               true,
               false,
               false,
               false,
               false,
               false,
               false,
               false,
               false,
               false,
               false,
               false,
               false,
               false,
               false,
               false,
               false,
               false,
               false,
               false,
               false,
               false,
               false,
               false,
               false,
               false,
               false,
               false,
               false,
               false,
               false,
               false,
               false,
               false,
               false,
               false,
               false,
               false
              ]
             }
            ],
            "label": "-0.85",
            "method": "update"
           },
           {
            "args": [
             {
              "visible": [
               true,
               true,
               false,
               false,
               false,
               false,
               true,
               false,
               false,
               false,
               false,
               false,
               false,
               false,
               false,
               false,
               false,
               false,
               false,
               false,
               false,
               false,
               false,
               false,
               false,
               false,
               false,
               false,
               false,
               false,
               false,
               false,
               false,
               false,
               false,
               false,
               false,
               false,
               false,
               false,
               false,
               false,
               false
              ]
             }
            ],
            "label": "-0.80",
            "method": "update"
           },
           {
            "args": [
             {
              "visible": [
               true,
               true,
               false,
               false,
               false,
               false,
               false,
               true,
               false,
               false,
               false,
               false,
               false,
               false,
               false,
               false,
               false,
               false,
               false,
               false,
               false,
               false,
               false,
               false,
               false,
               false,
               false,
               false,
               false,
               false,
               false,
               false,
               false,
               false,
               false,
               false,
               false,
               false,
               false,
               false,
               false,
               false,
               false
              ]
             }
            ],
            "label": "-0.75",
            "method": "update"
           },
           {
            "args": [
             {
              "visible": [
               true,
               true,
               false,
               false,
               false,
               false,
               false,
               false,
               true,
               false,
               false,
               false,
               false,
               false,
               false,
               false,
               false,
               false,
               false,
               false,
               false,
               false,
               false,
               false,
               false,
               false,
               false,
               false,
               false,
               false,
               false,
               false,
               false,
               false,
               false,
               false,
               false,
               false,
               false,
               false,
               false,
               false,
               false
              ]
             }
            ],
            "label": "-0.70",
            "method": "update"
           },
           {
            "args": [
             {
              "visible": [
               true,
               true,
               false,
               false,
               false,
               false,
               false,
               false,
               false,
               true,
               false,
               false,
               false,
               false,
               false,
               false,
               false,
               false,
               false,
               false,
               false,
               false,
               false,
               false,
               false,
               false,
               false,
               false,
               false,
               false,
               false,
               false,
               false,
               false,
               false,
               false,
               false,
               false,
               false,
               false,
               false,
               false,
               false
              ]
             }
            ],
            "label": "-0.65",
            "method": "update"
           },
           {
            "args": [
             {
              "visible": [
               true,
               true,
               false,
               false,
               false,
               false,
               false,
               false,
               false,
               false,
               true,
               false,
               false,
               false,
               false,
               false,
               false,
               false,
               false,
               false,
               false,
               false,
               false,
               false,
               false,
               false,
               false,
               false,
               false,
               false,
               false,
               false,
               false,
               false,
               false,
               false,
               false,
               false,
               false,
               false,
               false,
               false,
               false
              ]
             }
            ],
            "label": "-0.60",
            "method": "update"
           },
           {
            "args": [
             {
              "visible": [
               true,
               true,
               false,
               false,
               false,
               false,
               false,
               false,
               false,
               false,
               false,
               true,
               false,
               false,
               false,
               false,
               false,
               false,
               false,
               false,
               false,
               false,
               false,
               false,
               false,
               false,
               false,
               false,
               false,
               false,
               false,
               false,
               false,
               false,
               false,
               false,
               false,
               false,
               false,
               false,
               false,
               false,
               false
              ]
             }
            ],
            "label": "-0.55",
            "method": "update"
           },
           {
            "args": [
             {
              "visible": [
               true,
               true,
               false,
               false,
               false,
               false,
               false,
               false,
               false,
               false,
               false,
               false,
               true,
               false,
               false,
               false,
               false,
               false,
               false,
               false,
               false,
               false,
               false,
               false,
               false,
               false,
               false,
               false,
               false,
               false,
               false,
               false,
               false,
               false,
               false,
               false,
               false,
               false,
               false,
               false,
               false,
               false,
               false
              ]
             }
            ],
            "label": "-0.50",
            "method": "update"
           },
           {
            "args": [
             {
              "visible": [
               true,
               true,
               false,
               false,
               false,
               false,
               false,
               false,
               false,
               false,
               false,
               false,
               false,
               true,
               false,
               false,
               false,
               false,
               false,
               false,
               false,
               false,
               false,
               false,
               false,
               false,
               false,
               false,
               false,
               false,
               false,
               false,
               false,
               false,
               false,
               false,
               false,
               false,
               false,
               false,
               false,
               false,
               false
              ]
             }
            ],
            "label": "-0.45",
            "method": "update"
           },
           {
            "args": [
             {
              "visible": [
               true,
               true,
               false,
               false,
               false,
               false,
               false,
               false,
               false,
               false,
               false,
               false,
               false,
               false,
               true,
               false,
               false,
               false,
               false,
               false,
               false,
               false,
               false,
               false,
               false,
               false,
               false,
               false,
               false,
               false,
               false,
               false,
               false,
               false,
               false,
               false,
               false,
               false,
               false,
               false,
               false,
               false,
               false
              ]
             }
            ],
            "label": "-0.40",
            "method": "update"
           },
           {
            "args": [
             {
              "visible": [
               true,
               true,
               false,
               false,
               false,
               false,
               false,
               false,
               false,
               false,
               false,
               false,
               false,
               false,
               false,
               true,
               false,
               false,
               false,
               false,
               false,
               false,
               false,
               false,
               false,
               false,
               false,
               false,
               false,
               false,
               false,
               false,
               false,
               false,
               false,
               false,
               false,
               false,
               false,
               false,
               false,
               false,
               false
              ]
             }
            ],
            "label": "-0.35",
            "method": "update"
           },
           {
            "args": [
             {
              "visible": [
               true,
               true,
               false,
               false,
               false,
               false,
               false,
               false,
               false,
               false,
               false,
               false,
               false,
               false,
               false,
               false,
               true,
               false,
               false,
               false,
               false,
               false,
               false,
               false,
               false,
               false,
               false,
               false,
               false,
               false,
               false,
               false,
               false,
               false,
               false,
               false,
               false,
               false,
               false,
               false,
               false,
               false,
               false
              ]
             }
            ],
            "label": "-0.30",
            "method": "update"
           },
           {
            "args": [
             {
              "visible": [
               true,
               true,
               false,
               false,
               false,
               false,
               false,
               false,
               false,
               false,
               false,
               false,
               false,
               false,
               false,
               false,
               false,
               true,
               false,
               false,
               false,
               false,
               false,
               false,
               false,
               false,
               false,
               false,
               false,
               false,
               false,
               false,
               false,
               false,
               false,
               false,
               false,
               false,
               false,
               false,
               false,
               false,
               false
              ]
             }
            ],
            "label": "-0.25",
            "method": "update"
           },
           {
            "args": [
             {
              "visible": [
               true,
               true,
               false,
               false,
               false,
               false,
               false,
               false,
               false,
               false,
               false,
               false,
               false,
               false,
               false,
               false,
               false,
               false,
               true,
               false,
               false,
               false,
               false,
               false,
               false,
               false,
               false,
               false,
               false,
               false,
               false,
               false,
               false,
               false,
               false,
               false,
               false,
               false,
               false,
               false,
               false,
               false,
               false
              ]
             }
            ],
            "label": "-0.20",
            "method": "update"
           },
           {
            "args": [
             {
              "visible": [
               true,
               true,
               false,
               false,
               false,
               false,
               false,
               false,
               false,
               false,
               false,
               false,
               false,
               false,
               false,
               false,
               false,
               false,
               false,
               true,
               false,
               false,
               false,
               false,
               false,
               false,
               false,
               false,
               false,
               false,
               false,
               false,
               false,
               false,
               false,
               false,
               false,
               false,
               false,
               false,
               false,
               false,
               false
              ]
             }
            ],
            "label": "-0.15",
            "method": "update"
           },
           {
            "args": [
             {
              "visible": [
               true,
               true,
               false,
               false,
               false,
               false,
               false,
               false,
               false,
               false,
               false,
               false,
               false,
               false,
               false,
               false,
               false,
               false,
               false,
               false,
               true,
               false,
               false,
               false,
               false,
               false,
               false,
               false,
               false,
               false,
               false,
               false,
               false,
               false,
               false,
               false,
               false,
               false,
               false,
               false,
               false,
               false,
               false
              ]
             }
            ],
            "label": "-0.10",
            "method": "update"
           },
           {
            "args": [
             {
              "visible": [
               true,
               true,
               false,
               false,
               false,
               false,
               false,
               false,
               false,
               false,
               false,
               false,
               false,
               false,
               false,
               false,
               false,
               false,
               false,
               false,
               false,
               true,
               false,
               false,
               false,
               false,
               false,
               false,
               false,
               false,
               false,
               false,
               false,
               false,
               false,
               false,
               false,
               false,
               false,
               false,
               false,
               false,
               false
              ]
             }
            ],
            "label": "-0.05",
            "method": "update"
           },
           {
            "args": [
             {
              "visible": [
               true,
               true,
               false,
               false,
               false,
               false,
               false,
               false,
               false,
               false,
               false,
               false,
               false,
               false,
               false,
               false,
               false,
               false,
               false,
               false,
               false,
               false,
               true,
               false,
               false,
               false,
               false,
               false,
               false,
               false,
               false,
               false,
               false,
               false,
               false,
               false,
               false,
               false,
               false,
               false,
               false,
               false,
               false
              ]
             }
            ],
            "label": "0.00",
            "method": "update"
           },
           {
            "args": [
             {
              "visible": [
               true,
               true,
               false,
               false,
               false,
               false,
               false,
               false,
               false,
               false,
               false,
               false,
               false,
               false,
               false,
               false,
               false,
               false,
               false,
               false,
               false,
               false,
               false,
               true,
               false,
               false,
               false,
               false,
               false,
               false,
               false,
               false,
               false,
               false,
               false,
               false,
               false,
               false,
               false,
               false,
               false,
               false,
               false
              ]
             }
            ],
            "label": "0.05",
            "method": "update"
           },
           {
            "args": [
             {
              "visible": [
               true,
               true,
               false,
               false,
               false,
               false,
               false,
               false,
               false,
               false,
               false,
               false,
               false,
               false,
               false,
               false,
               false,
               false,
               false,
               false,
               false,
               false,
               false,
               false,
               true,
               false,
               false,
               false,
               false,
               false,
               false,
               false,
               false,
               false,
               false,
               false,
               false,
               false,
               false,
               false,
               false,
               false,
               false
              ]
             }
            ],
            "label": "0.10",
            "method": "update"
           },
           {
            "args": [
             {
              "visible": [
               true,
               true,
               false,
               false,
               false,
               false,
               false,
               false,
               false,
               false,
               false,
               false,
               false,
               false,
               false,
               false,
               false,
               false,
               false,
               false,
               false,
               false,
               false,
               false,
               false,
               true,
               false,
               false,
               false,
               false,
               false,
               false,
               false,
               false,
               false,
               false,
               false,
               false,
               false,
               false,
               false,
               false,
               false
              ]
             }
            ],
            "label": "0.15",
            "method": "update"
           },
           {
            "args": [
             {
              "visible": [
               true,
               true,
               false,
               false,
               false,
               false,
               false,
               false,
               false,
               false,
               false,
               false,
               false,
               false,
               false,
               false,
               false,
               false,
               false,
               false,
               false,
               false,
               false,
               false,
               false,
               false,
               true,
               false,
               false,
               false,
               false,
               false,
               false,
               false,
               false,
               false,
               false,
               false,
               false,
               false,
               false,
               false,
               false
              ]
             }
            ],
            "label": "0.20",
            "method": "update"
           },
           {
            "args": [
             {
              "visible": [
               true,
               true,
               false,
               false,
               false,
               false,
               false,
               false,
               false,
               false,
               false,
               false,
               false,
               false,
               false,
               false,
               false,
               false,
               false,
               false,
               false,
               false,
               false,
               false,
               false,
               false,
               false,
               true,
               false,
               false,
               false,
               false,
               false,
               false,
               false,
               false,
               false,
               false,
               false,
               false,
               false,
               false,
               false
              ]
             }
            ],
            "label": "0.25",
            "method": "update"
           },
           {
            "args": [
             {
              "visible": [
               true,
               true,
               false,
               false,
               false,
               false,
               false,
               false,
               false,
               false,
               false,
               false,
               false,
               false,
               false,
               false,
               false,
               false,
               false,
               false,
               false,
               false,
               false,
               false,
               false,
               false,
               false,
               false,
               true,
               false,
               false,
               false,
               false,
               false,
               false,
               false,
               false,
               false,
               false,
               false,
               false,
               false,
               false
              ]
             }
            ],
            "label": "0.30",
            "method": "update"
           },
           {
            "args": [
             {
              "visible": [
               true,
               true,
               false,
               false,
               false,
               false,
               false,
               false,
               false,
               false,
               false,
               false,
               false,
               false,
               false,
               false,
               false,
               false,
               false,
               false,
               false,
               false,
               false,
               false,
               false,
               false,
               false,
               false,
               false,
               true,
               false,
               false,
               false,
               false,
               false,
               false,
               false,
               false,
               false,
               false,
               false,
               false,
               false
              ]
             }
            ],
            "label": "0.35",
            "method": "update"
           },
           {
            "args": [
             {
              "visible": [
               true,
               true,
               false,
               false,
               false,
               false,
               false,
               false,
               false,
               false,
               false,
               false,
               false,
               false,
               false,
               false,
               false,
               false,
               false,
               false,
               false,
               false,
               false,
               false,
               false,
               false,
               false,
               false,
               false,
               false,
               true,
               false,
               false,
               false,
               false,
               false,
               false,
               false,
               false,
               false,
               false,
               false,
               false
              ]
             }
            ],
            "label": "0.40",
            "method": "update"
           },
           {
            "args": [
             {
              "visible": [
               true,
               true,
               false,
               false,
               false,
               false,
               false,
               false,
               false,
               false,
               false,
               false,
               false,
               false,
               false,
               false,
               false,
               false,
               false,
               false,
               false,
               false,
               false,
               false,
               false,
               false,
               false,
               false,
               false,
               false,
               false,
               true,
               false,
               false,
               false,
               false,
               false,
               false,
               false,
               false,
               false,
               false,
               false
              ]
             }
            ],
            "label": "0.45",
            "method": "update"
           },
           {
            "args": [
             {
              "visible": [
               true,
               true,
               false,
               false,
               false,
               false,
               false,
               false,
               false,
               false,
               false,
               false,
               false,
               false,
               false,
               false,
               false,
               false,
               false,
               false,
               false,
               false,
               false,
               false,
               false,
               false,
               false,
               false,
               false,
               false,
               false,
               false,
               true,
               false,
               false,
               false,
               false,
               false,
               false,
               false,
               false,
               false,
               false
              ]
             }
            ],
            "label": "0.50",
            "method": "update"
           },
           {
            "args": [
             {
              "visible": [
               true,
               true,
               false,
               false,
               false,
               false,
               false,
               false,
               false,
               false,
               false,
               false,
               false,
               false,
               false,
               false,
               false,
               false,
               false,
               false,
               false,
               false,
               false,
               false,
               false,
               false,
               false,
               false,
               false,
               false,
               false,
               false,
               false,
               true,
               false,
               false,
               false,
               false,
               false,
               false,
               false,
               false,
               false
              ]
             }
            ],
            "label": "0.55",
            "method": "update"
           },
           {
            "args": [
             {
              "visible": [
               true,
               true,
               false,
               false,
               false,
               false,
               false,
               false,
               false,
               false,
               false,
               false,
               false,
               false,
               false,
               false,
               false,
               false,
               false,
               false,
               false,
               false,
               false,
               false,
               false,
               false,
               false,
               false,
               false,
               false,
               false,
               false,
               false,
               false,
               true,
               false,
               false,
               false,
               false,
               false,
               false,
               false,
               false
              ]
             }
            ],
            "label": "0.60",
            "method": "update"
           },
           {
            "args": [
             {
              "visible": [
               true,
               true,
               false,
               false,
               false,
               false,
               false,
               false,
               false,
               false,
               false,
               false,
               false,
               false,
               false,
               false,
               false,
               false,
               false,
               false,
               false,
               false,
               false,
               false,
               false,
               false,
               false,
               false,
               false,
               false,
               false,
               false,
               false,
               false,
               false,
               true,
               false,
               false,
               false,
               false,
               false,
               false,
               false
              ]
             }
            ],
            "label": "0.65",
            "method": "update"
           },
           {
            "args": [
             {
              "visible": [
               true,
               true,
               false,
               false,
               false,
               false,
               false,
               false,
               false,
               false,
               false,
               false,
               false,
               false,
               false,
               false,
               false,
               false,
               false,
               false,
               false,
               false,
               false,
               false,
               false,
               false,
               false,
               false,
               false,
               false,
               false,
               false,
               false,
               false,
               false,
               false,
               true,
               false,
               false,
               false,
               false,
               false,
               false
              ]
             }
            ],
            "label": "0.70",
            "method": "update"
           },
           {
            "args": [
             {
              "visible": [
               true,
               true,
               false,
               false,
               false,
               false,
               false,
               false,
               false,
               false,
               false,
               false,
               false,
               false,
               false,
               false,
               false,
               false,
               false,
               false,
               false,
               false,
               false,
               false,
               false,
               false,
               false,
               false,
               false,
               false,
               false,
               false,
               false,
               false,
               false,
               false,
               false,
               true,
               false,
               false,
               false,
               false,
               false
              ]
             }
            ],
            "label": "0.75",
            "method": "update"
           },
           {
            "args": [
             {
              "visible": [
               true,
               true,
               false,
               false,
               false,
               false,
               false,
               false,
               false,
               false,
               false,
               false,
               false,
               false,
               false,
               false,
               false,
               false,
               false,
               false,
               false,
               false,
               false,
               false,
               false,
               false,
               false,
               false,
               false,
               false,
               false,
               false,
               false,
               false,
               false,
               false,
               false,
               false,
               true,
               false,
               false,
               false,
               false
              ]
             }
            ],
            "label": "0.80",
            "method": "update"
           },
           {
            "args": [
             {
              "visible": [
               true,
               true,
               false,
               false,
               false,
               false,
               false,
               false,
               false,
               false,
               false,
               false,
               false,
               false,
               false,
               false,
               false,
               false,
               false,
               false,
               false,
               false,
               false,
               false,
               false,
               false,
               false,
               false,
               false,
               false,
               false,
               false,
               false,
               false,
               false,
               false,
               false,
               false,
               false,
               true,
               false,
               false,
               false
              ]
             }
            ],
            "label": "0.85",
            "method": "update"
           },
           {
            "args": [
             {
              "visible": [
               true,
               true,
               false,
               false,
               false,
               false,
               false,
               false,
               false,
               false,
               false,
               false,
               false,
               false,
               false,
               false,
               false,
               false,
               false,
               false,
               false,
               false,
               false,
               false,
               false,
               false,
               false,
               false,
               false,
               false,
               false,
               false,
               false,
               false,
               false,
               false,
               false,
               false,
               false,
               false,
               true,
               false,
               false
              ]
             }
            ],
            "label": "0.90",
            "method": "update"
           },
           {
            "args": [
             {
              "visible": [
               true,
               true,
               false,
               false,
               false,
               false,
               false,
               false,
               false,
               false,
               false,
               false,
               false,
               false,
               false,
               false,
               false,
               false,
               false,
               false,
               false,
               false,
               false,
               false,
               false,
               false,
               false,
               false,
               false,
               false,
               false,
               false,
               false,
               false,
               false,
               false,
               false,
               false,
               false,
               false,
               false,
               true,
               false
              ]
             }
            ],
            "label": "0.95",
            "method": "update"
           },
           {
            "args": [
             {
              "visible": [
               true,
               true,
               false,
               false,
               false,
               false,
               false,
               false,
               false,
               false,
               false,
               false,
               false,
               false,
               false,
               false,
               false,
               false,
               false,
               false,
               false,
               false,
               false,
               false,
               false,
               false,
               false,
               false,
               false,
               false,
               false,
               false,
               false,
               false,
               false,
               false,
               false,
               false,
               false,
               false,
               false,
               false,
               true
              ]
             }
            ],
            "label": "1.00",
            "method": "update"
           }
          ],
          "y": 0.35
         }
        ],
        "template": {
         "data": {
          "bar": [
           {
            "error_x": {
             "color": "#2a3f5f"
            },
            "error_y": {
             "color": "#2a3f5f"
            },
            "marker": {
             "line": {
              "color": "#E5ECF6",
              "width": 0.5
             }
            },
            "type": "bar"
           }
          ],
          "barpolar": [
           {
            "marker": {
             "line": {
              "color": "#E5ECF6",
              "width": 0.5
             }
            },
            "type": "barpolar"
           }
          ],
          "carpet": [
           {
            "aaxis": {
             "endlinecolor": "#2a3f5f",
             "gridcolor": "white",
             "linecolor": "white",
             "minorgridcolor": "white",
             "startlinecolor": "#2a3f5f"
            },
            "baxis": {
             "endlinecolor": "#2a3f5f",
             "gridcolor": "white",
             "linecolor": "white",
             "minorgridcolor": "white",
             "startlinecolor": "#2a3f5f"
            },
            "type": "carpet"
           }
          ],
          "choropleth": [
           {
            "colorbar": {
             "outlinewidth": 0,
             "ticks": ""
            },
            "type": "choropleth"
           }
          ],
          "contour": [
           {
            "colorbar": {
             "outlinewidth": 0,
             "ticks": ""
            },
            "colorscale": [
             [
              0,
              "#0d0887"
             ],
             [
              0.1111111111111111,
              "#46039f"
             ],
             [
              0.2222222222222222,
              "#7201a8"
             ],
             [
              0.3333333333333333,
              "#9c179e"
             ],
             [
              0.4444444444444444,
              "#bd3786"
             ],
             [
              0.5555555555555556,
              "#d8576b"
             ],
             [
              0.6666666666666666,
              "#ed7953"
             ],
             [
              0.7777777777777778,
              "#fb9f3a"
             ],
             [
              0.8888888888888888,
              "#fdca26"
             ],
             [
              1,
              "#f0f921"
             ]
            ],
            "type": "contour"
           }
          ],
          "contourcarpet": [
           {
            "colorbar": {
             "outlinewidth": 0,
             "ticks": ""
            },
            "type": "contourcarpet"
           }
          ],
          "heatmap": [
           {
            "colorbar": {
             "outlinewidth": 0,
             "ticks": ""
            },
            "colorscale": [
             [
              0,
              "#0d0887"
             ],
             [
              0.1111111111111111,
              "#46039f"
             ],
             [
              0.2222222222222222,
              "#7201a8"
             ],
             [
              0.3333333333333333,
              "#9c179e"
             ],
             [
              0.4444444444444444,
              "#bd3786"
             ],
             [
              0.5555555555555556,
              "#d8576b"
             ],
             [
              0.6666666666666666,
              "#ed7953"
             ],
             [
              0.7777777777777778,
              "#fb9f3a"
             ],
             [
              0.8888888888888888,
              "#fdca26"
             ],
             [
              1,
              "#f0f921"
             ]
            ],
            "type": "heatmap"
           }
          ],
          "heatmapgl": [
           {
            "colorbar": {
             "outlinewidth": 0,
             "ticks": ""
            },
            "colorscale": [
             [
              0,
              "#0d0887"
             ],
             [
              0.1111111111111111,
              "#46039f"
             ],
             [
              0.2222222222222222,
              "#7201a8"
             ],
             [
              0.3333333333333333,
              "#9c179e"
             ],
             [
              0.4444444444444444,
              "#bd3786"
             ],
             [
              0.5555555555555556,
              "#d8576b"
             ],
             [
              0.6666666666666666,
              "#ed7953"
             ],
             [
              0.7777777777777778,
              "#fb9f3a"
             ],
             [
              0.8888888888888888,
              "#fdca26"
             ],
             [
              1,
              "#f0f921"
             ]
            ],
            "type": "heatmapgl"
           }
          ],
          "histogram": [
           {
            "marker": {
             "colorbar": {
              "outlinewidth": 0,
              "ticks": ""
             }
            },
            "type": "histogram"
           }
          ],
          "histogram2d": [
           {
            "colorbar": {
             "outlinewidth": 0,
             "ticks": ""
            },
            "colorscale": [
             [
              0,
              "#0d0887"
             ],
             [
              0.1111111111111111,
              "#46039f"
             ],
             [
              0.2222222222222222,
              "#7201a8"
             ],
             [
              0.3333333333333333,
              "#9c179e"
             ],
             [
              0.4444444444444444,
              "#bd3786"
             ],
             [
              0.5555555555555556,
              "#d8576b"
             ],
             [
              0.6666666666666666,
              "#ed7953"
             ],
             [
              0.7777777777777778,
              "#fb9f3a"
             ],
             [
              0.8888888888888888,
              "#fdca26"
             ],
             [
              1,
              "#f0f921"
             ]
            ],
            "type": "histogram2d"
           }
          ],
          "histogram2dcontour": [
           {
            "colorbar": {
             "outlinewidth": 0,
             "ticks": ""
            },
            "colorscale": [
             [
              0,
              "#0d0887"
             ],
             [
              0.1111111111111111,
              "#46039f"
             ],
             [
              0.2222222222222222,
              "#7201a8"
             ],
             [
              0.3333333333333333,
              "#9c179e"
             ],
             [
              0.4444444444444444,
              "#bd3786"
             ],
             [
              0.5555555555555556,
              "#d8576b"
             ],
             [
              0.6666666666666666,
              "#ed7953"
             ],
             [
              0.7777777777777778,
              "#fb9f3a"
             ],
             [
              0.8888888888888888,
              "#fdca26"
             ],
             [
              1,
              "#f0f921"
             ]
            ],
            "type": "histogram2dcontour"
           }
          ],
          "mesh3d": [
           {
            "colorbar": {
             "outlinewidth": 0,
             "ticks": ""
            },
            "type": "mesh3d"
           }
          ],
          "parcoords": [
           {
            "line": {
             "colorbar": {
              "outlinewidth": 0,
              "ticks": ""
             }
            },
            "type": "parcoords"
           }
          ],
          "pie": [
           {
            "automargin": true,
            "type": "pie"
           }
          ],
          "scatter": [
           {
            "marker": {
             "colorbar": {
              "outlinewidth": 0,
              "ticks": ""
             }
            },
            "type": "scatter"
           }
          ],
          "scatter3d": [
           {
            "line": {
             "colorbar": {
              "outlinewidth": 0,
              "ticks": ""
             }
            },
            "marker": {
             "colorbar": {
              "outlinewidth": 0,
              "ticks": ""
             }
            },
            "type": "scatter3d"
           }
          ],
          "scattercarpet": [
           {
            "marker": {
             "colorbar": {
              "outlinewidth": 0,
              "ticks": ""
             }
            },
            "type": "scattercarpet"
           }
          ],
          "scattergeo": [
           {
            "marker": {
             "colorbar": {
              "outlinewidth": 0,
              "ticks": ""
             }
            },
            "type": "scattergeo"
           }
          ],
          "scattergl": [
           {
            "marker": {
             "colorbar": {
              "outlinewidth": 0,
              "ticks": ""
             }
            },
            "type": "scattergl"
           }
          ],
          "scattermapbox": [
           {
            "marker": {
             "colorbar": {
              "outlinewidth": 0,
              "ticks": ""
             }
            },
            "type": "scattermapbox"
           }
          ],
          "scatterpolar": [
           {
            "marker": {
             "colorbar": {
              "outlinewidth": 0,
              "ticks": ""
             }
            },
            "type": "scatterpolar"
           }
          ],
          "scatterpolargl": [
           {
            "marker": {
             "colorbar": {
              "outlinewidth": 0,
              "ticks": ""
             }
            },
            "type": "scatterpolargl"
           }
          ],
          "scatterternary": [
           {
            "marker": {
             "colorbar": {
              "outlinewidth": 0,
              "ticks": ""
             }
            },
            "type": "scatterternary"
           }
          ],
          "surface": [
           {
            "colorbar": {
             "outlinewidth": 0,
             "ticks": ""
            },
            "colorscale": [
             [
              0,
              "#0d0887"
             ],
             [
              0.1111111111111111,
              "#46039f"
             ],
             [
              0.2222222222222222,
              "#7201a8"
             ],
             [
              0.3333333333333333,
              "#9c179e"
             ],
             [
              0.4444444444444444,
              "#bd3786"
             ],
             [
              0.5555555555555556,
              "#d8576b"
             ],
             [
              0.6666666666666666,
              "#ed7953"
             ],
             [
              0.7777777777777778,
              "#fb9f3a"
             ],
             [
              0.8888888888888888,
              "#fdca26"
             ],
             [
              1,
              "#f0f921"
             ]
            ],
            "type": "surface"
           }
          ],
          "table": [
           {
            "cells": {
             "fill": {
              "color": "#EBF0F8"
             },
             "line": {
              "color": "white"
             }
            },
            "header": {
             "fill": {
              "color": "#C8D4E3"
             },
             "line": {
              "color": "white"
             }
            },
            "type": "table"
           }
          ]
         },
         "layout": {
          "annotationdefaults": {
           "arrowcolor": "#2a3f5f",
           "arrowhead": 0,
           "arrowwidth": 1
          },
          "autotypenumbers": "strict",
          "coloraxis": {
           "colorbar": {
            "outlinewidth": 0,
            "ticks": ""
           }
          },
          "colorscale": {
           "diverging": [
            [
             0,
             "#8e0152"
            ],
            [
             0.1,
             "#c51b7d"
            ],
            [
             0.2,
             "#de77ae"
            ],
            [
             0.3,
             "#f1b6da"
            ],
            [
             0.4,
             "#fde0ef"
            ],
            [
             0.5,
             "#f7f7f7"
            ],
            [
             0.6,
             "#e6f5d0"
            ],
            [
             0.7,
             "#b8e186"
            ],
            [
             0.8,
             "#7fbc41"
            ],
            [
             0.9,
             "#4d9221"
            ],
            [
             1,
             "#276419"
            ]
           ],
           "sequential": [
            [
             0,
             "#0d0887"
            ],
            [
             0.1111111111111111,
             "#46039f"
            ],
            [
             0.2222222222222222,
             "#7201a8"
            ],
            [
             0.3333333333333333,
             "#9c179e"
            ],
            [
             0.4444444444444444,
             "#bd3786"
            ],
            [
             0.5555555555555556,
             "#d8576b"
            ],
            [
             0.6666666666666666,
             "#ed7953"
            ],
            [
             0.7777777777777778,
             "#fb9f3a"
            ],
            [
             0.8888888888888888,
             "#fdca26"
            ],
            [
             1,
             "#f0f921"
            ]
           ],
           "sequentialminus": [
            [
             0,
             "#0d0887"
            ],
            [
             0.1111111111111111,
             "#46039f"
            ],
            [
             0.2222222222222222,
             "#7201a8"
            ],
            [
             0.3333333333333333,
             "#9c179e"
            ],
            [
             0.4444444444444444,
             "#bd3786"
            ],
            [
             0.5555555555555556,
             "#d8576b"
            ],
            [
             0.6666666666666666,
             "#ed7953"
            ],
            [
             0.7777777777777778,
             "#fb9f3a"
            ],
            [
             0.8888888888888888,
             "#fdca26"
            ],
            [
             1,
             "#f0f921"
            ]
           ]
          },
          "colorway": [
           "#636efa",
           "#EF553B",
           "#00cc96",
           "#ab63fa",
           "#FFA15A",
           "#19d3f3",
           "#FF6692",
           "#B6E880",
           "#FF97FF",
           "#FECB52"
          ],
          "font": {
           "color": "#2a3f5f"
          },
          "geo": {
           "bgcolor": "white",
           "lakecolor": "white",
           "landcolor": "#E5ECF6",
           "showlakes": true,
           "showland": true,
           "subunitcolor": "white"
          },
          "hoverlabel": {
           "align": "left"
          },
          "hovermode": "closest",
          "mapbox": {
           "style": "light"
          },
          "paper_bgcolor": "white",
          "plot_bgcolor": "#E5ECF6",
          "polar": {
           "angularaxis": {
            "gridcolor": "white",
            "linecolor": "white",
            "ticks": ""
           },
           "bgcolor": "#E5ECF6",
           "radialaxis": {
            "gridcolor": "white",
            "linecolor": "white",
            "ticks": ""
           }
          },
          "scene": {
           "xaxis": {
            "backgroundcolor": "#E5ECF6",
            "gridcolor": "white",
            "gridwidth": 2,
            "linecolor": "white",
            "showbackground": true,
            "ticks": "",
            "zerolinecolor": "white"
           },
           "yaxis": {
            "backgroundcolor": "#E5ECF6",
            "gridcolor": "white",
            "gridwidth": 2,
            "linecolor": "white",
            "showbackground": true,
            "ticks": "",
            "zerolinecolor": "white"
           },
           "zaxis": {
            "backgroundcolor": "#E5ECF6",
            "gridcolor": "white",
            "gridwidth": 2,
            "linecolor": "white",
            "showbackground": true,
            "ticks": "",
            "zerolinecolor": "white"
           }
          },
          "shapedefaults": {
           "line": {
            "color": "#2a3f5f"
           }
          },
          "ternary": {
           "aaxis": {
            "gridcolor": "white",
            "linecolor": "white",
            "ticks": ""
           },
           "baxis": {
            "gridcolor": "white",
            "linecolor": "white",
            "ticks": ""
           },
           "bgcolor": "#E5ECF6",
           "caxis": {
            "gridcolor": "white",
            "linecolor": "white",
            "ticks": ""
           }
          },
          "title": {
           "x": 0.05
          },
          "xaxis": {
           "automargin": true,
           "gridcolor": "white",
           "linecolor": "white",
           "ticks": "",
           "title": {
            "standoff": 15
           },
           "zerolinecolor": "white",
           "zerolinewidth": 2
          },
          "yaxis": {
           "automargin": true,
           "gridcolor": "white",
           "linecolor": "white",
           "ticks": "",
           "title": {
            "standoff": 15
           },
           "zerolinecolor": "white",
           "zerolinewidth": 2
          }
         }
        },
        "title": {
         "text": "Word Usage as a Function of Ideal Point (Topic: Energy)",
         "x": 0.5,
         "y": 0.9
        },
        "xaxis": {
         "fixedrange": true,
         "range": [
          -1.02,
          1.02
         ],
         "showgrid": false,
         "showline": false,
         "showticklabels": false,
         "title": {
          "text": "Representative ideal points (hover to see names)"
         },
         "zeroline": false
        },
        "yaxis": {
         "fixedrange": true,
         "range": [
          -0.6,
          2.5
         ],
         "showgrid": false,
         "showline": false,
         "showticklabels": false,
         "zeroline": false
        }
       }
      },
      "text/html": [
       "<div>                            <div id=\"92bbb7d1-4ca1-4914-9ae4-cb90a1109fa4\" class=\"plotly-graph-div\" style=\"height:525px; width:100%;\"></div>            <script type=\"text/javascript\">                require([\"plotly\"], function(Plotly) {                    window.PLOTLYENV=window.PLOTLYENV || {};                                    if (document.getElementById(\"92bbb7d1-4ca1-4914-9ae4-cb90a1109fa4\")) {                    Plotly.newPlot(                        \"92bbb7d1-4ca1-4914-9ae4-cb90a1109fa4\",                        [{\"hoverinfo\": \"skip\", \"line\": {\"color\": \"black\", \"width\": 1}, \"marker\": {\"size\": 1}, \"type\": \"scatter\", \"x\": [-1.0, 1.0], \"y\": [-0.53, -0.53]}, {\"hoverinfo\": \"x+text\", \"marker\": {\"color\": [\"steelblue\", \"crimson\", \"steelblue\", \"crimson\", \"crimson\", \"steelblue\"], \"size\": 8}, \"mode\": \"markers\", \"text\": [\"Alex (D)\", \"John (R)\", \"Justicia (D)\", \"Lauren (R)\", \"Mark (R)\", \"Mona (D)\"], \"type\": \"scatter\", \"x\": [-0.789236307144165, 0.8978533148765564, -1.0066245794296265, 0.8361955285072327, 0.829914391040802, -0.9671030640602112], \"y\": [-0.53, -0.53, -0.53, -0.53, -0.53, -0.53]}, {\"base\": -0.3, \"dy\": 0.214, \"hoverinfo\": \"skip\", \"marker\": {\"color\": \"rgb(175,122,197)\"}, \"orientation\": \"h\", \"text\": [\"clean_energy\", \"pollution\", \"wind\", \"energy_efficiency\", \"carbon_tax\", \"renewable\", \"crisis\", \"solar\"], \"textposition\": \"outside\", \"type\": \"bar\", \"visible\": false, \"x\": [0.27394887804985046, 0.2825168967247009, 0.28994524478912354, 0.29418322443962097, 0.2961410582065582, 0.2964690923690796, 0.31631216406822205, 0.32479020953178406], \"y0\": 0.529}, {\"base\": -0.3, \"dy\": 0.214, \"hoverinfo\": \"skip\", \"marker\": {\"color\": \"rgb(175,122,197)\"}, \"orientation\": \"h\", \"text\": [\"clean_energy\", \"wind\", \"energy_efficiency\", \"pollution\", \"renewable\", \"carbon_tax\", \"crisis\", \"solar\"], \"textposition\": \"outside\", \"type\": \"bar\", \"visible\": false, \"x\": [0.2622697055339813, 0.2689887583255768, 0.2731091380119324, 0.2748548090457916, 0.27513670921325684, 0.2804171144962311, 0.292927086353302, 0.30011409521102905], \"y0\": 0.529}, {\"base\": -0.3, \"dy\": 0.214, \"hoverinfo\": \"skip\", \"marker\": {\"color\": \"rgb(175,122,197)\"}, \"orientation\": \"h\", \"text\": [\"climate_change\", \"energy_efficiency\", \"global_warming\", \"renewable\", \"carbon_tax\", \"pollution\", \"crisis\", \"solar\"], \"textposition\": \"outside\", \"type\": \"bar\", \"visible\": false, \"x\": [0.2514117658138275, 0.25362157821655273, 0.254788339138031, 0.2554229199886322, 0.26560044288635254, 0.2674573063850403, 0.27135294675827026, 0.27741068601608276], \"y0\": 0.529}, {\"base\": -0.3, \"dy\": 0.214, \"hoverinfo\": \"skip\", \"marker\": {\"color\": \"rgb(175,122,197)\"}, \"orientation\": \"h\", \"text\": [\"renewable\", \"clean_energy\", \"climate_change\", \"global_warming\", \"crisis\", \"carbon_tax\", \"solar\", \"pollution\"], \"textposition\": \"outside\", \"type\": \"bar\", \"visible\": false, \"x\": [0.23719923198223114, 0.2405700832605362, 0.2435886263847351, 0.2479582130908966, 0.25144392251968384, 0.25163522362709045, 0.2565153241157532, 0.26031428575515747], \"y0\": 0.529}, {\"base\": -0.3, \"dy\": 0.214, \"hoverinfo\": \"skip\", \"marker\": {\"color\": \"rgb(175,122,197)\"}, \"orientation\": \"h\", \"text\": [\"renewable\", \"clean_energy\", \"crisis\", \"climate_change\", \"solar\", \"carbon_tax\", \"global_warming\", \"pollution\"], \"textposition\": \"outside\", \"type\": \"bar\", \"visible\": false, \"x\": [0.22034786641597748, 0.23049241304397583, 0.23306609690189362, 0.2360677570104599, 0.23727759718894958, 0.23846925795078278, 0.24137723445892334, 0.25341588258743286], \"y0\": 0.529}, {\"base\": -0.3, \"dy\": 0.214, \"hoverinfo\": \"skip\", \"marker\": {\"color\": \"rgb(175,122,197)\"}, \"orientation\": \"h\", \"text\": [\"renewable\", \"crisis\", \"solar\", \"clean_energy\", \"carbon_tax\", \"climate_change\", \"global_warming\", \"pollution\"], \"textposition\": \"outside\", \"type\": \"bar\", \"visible\": false, \"x\": [0.2047606110572815, 0.2160969078540802, 0.2195601463317871, 0.22089388966560364, 0.22605375945568085, 0.2288360893726349, 0.23503530025482178, 0.2467527687549591], \"y0\": 0.529}, {\"base\": -0.3, \"dy\": 0.214, \"hoverinfo\": \"skip\", \"marker\": {\"color\": \"rgb(175,122,197)\"}, \"orientation\": \"h\", \"text\": [\"renewable\", \"crisis\", \"solar\", \"clean_energy\", \"carbon_tax\", \"climate_change\", \"global_warming\", \"pollution\"], \"textposition\": \"outside\", \"type\": \"bar\", \"visible\": false, \"x\": [0.19033832848072052, 0.20042386651039124, 0.203237384557724, 0.21174974739551544, 0.21434305608272552, 0.22188125550746918, 0.22892265021800995, 0.24031594395637512], \"y0\": 0.529}, {\"base\": -0.3, \"dy\": 0.214, \"hoverinfo\": \"skip\", \"marker\": {\"color\": \"rgb(175,122,197)\"}, \"orientation\": \"h\", \"text\": [\"renewable\", \"crisis\", \"solar\", \"clean_energy\", \"carbon_tax\", \"climate_change\", \"global_warming\", \"pollution\"], \"textposition\": \"outside\", \"type\": \"bar\", \"visible\": false, \"x\": [0.17698976397514343, 0.1859438270330429, 0.18819454312324524, 0.20303654670715332, 0.20329442620277405, 0.21519136428833008, 0.22303009033203125, 0.23409681022167206], \"y0\": 0.529}, {\"base\": -0.3, \"dy\": 0.214, \"hoverinfo\": \"skip\", \"marker\": {\"color\": \"rgb(175,122,197)\"}, \"orientation\": \"h\", \"text\": [\"renewable\", \"crisis\", \"solar\", \"carbon_tax\", \"clean_energy\", \"climate_change\", \"global_warming\", \"pollution\"], \"textposition\": \"outside\", \"type\": \"bar\", \"visible\": false, \"x\": [0.16463123261928558, 0.17256216704845428, 0.17432667315006256, 0.19286783039569855, 0.1947321593761444, 0.208755224943161, 0.21734870970249176, 0.22808712720870972], \"y0\": 0.529}, {\"base\": -0.3, \"dy\": 0.214, \"hoverinfo\": \"skip\", \"marker\": {\"color\": \"rgb(175,122,197)\"}, \"orientation\": \"h\", \"text\": [\"renewable\", \"crisis\", \"solar\", \"carbon_tax\", \"clean_energy\", \"climate_change\", \"global_warming\", \"pollution\"], \"textposition\": \"outside\", \"type\": \"bar\", \"visible\": false, \"x\": [0.15318575501441956, 0.16019201278686523, 0.16153770685195923, 0.18302588164806366, 0.18681563436985016, 0.20256204903125763, 0.21187007427215576, 0.22227895259857178], \"y0\": 0.529}, {\"base\": -0.3, \"dy\": 0.214, \"hoverinfo\": \"skip\", \"marker\": {\"color\": \"rgb(175,122,197)\"}, \"orientation\": \"h\", \"text\": [\"renewable\", \"crisis\", \"solar\", \"carbon_tax\", \"clean_energy\", \"climate_change\", \"global_warming\", \"pollution\"], \"textposition\": \"outside\", \"type\": \"bar\", \"visible\": false, \"x\": [0.14258265495300293, 0.14875361323356628, 0.1497398167848587, 0.17373351752758026, 0.17926724255084991, 0.19660156965255737, 0.2065861076116562, 0.21666479110717773], \"y0\": 0.529}, {\"base\": -0.3, \"dy\": 0.214, \"hoverinfo\": \"skip\", \"marker\": {\"color\": \"rgb(175,122,197)\"}, \"orientation\": \"h\", \"text\": [\"energy\", \"crisis\", \"solar\", \"carbon_tax\", \"clean_energy\", \"climate_change\", \"global_warming\", \"pollution\"], \"textposition\": \"outside\", \"type\": \"bar\", \"visible\": false, \"x\": [0.1364772915840149, 0.13817381858825684, 0.13885261118412018, 0.16495786607265472, 0.172068253159523, 0.19086402654647827, 0.20148906111717224, 0.21123731136322021], \"y0\": 0.529}, {\"base\": -0.3, \"dy\": 0.214, \"hoverinfo\": \"skip\", \"marker\": {\"color\": \"rgb(175,122,197)\"}, \"orientation\": \"h\", \"text\": [\"crisis\", \"solar\", \"energy\", \"carbon_tax\", \"clean_energy\", \"climate_change\", \"global_warming\", \"pollution\"], \"textposition\": \"outside\", \"type\": \"bar\", \"visible\": false, \"x\": [0.12838530540466309, 0.12880244851112366, 0.1397435963153839, 0.15666818618774414, 0.16520100831985474, 0.18534010648727417, 0.19657164812088013, 0.20598956942558289], \"y0\": 0.529}, {\"base\": -0.3, \"dy\": 0.214, \"hoverinfo\": \"skip\", \"marker\": {\"color\": \"rgb(175,122,197)\"}, \"orientation\": \"h\", \"text\": [\"solar\", \"jobs\", \"energy\", \"carbon_tax\", \"clean_energy\", \"climate_change\", \"global_warming\", \"pollution\"], \"textposition\": \"outside\", \"type\": \"bar\", \"visible\": false, \"x\": [0.11952188611030579, 0.13070794939994812, 0.1431148499250412, 0.14883561432361603, 0.1586487740278244, 0.18002094328403473, 0.19182676076889038, 0.20091497898101807], \"y0\": 0.529}, {\"base\": -0.3, \"dy\": 0.214, \"hoverinfo\": \"skip\", \"marker\": {\"color\": \"rgb(175,122,197)\"}, \"orientation\": \"h\", \"text\": [\"oil\", \"jobs\", \"carbon_tax\", \"energy\", \"clean_energy\", \"climate_change\", \"global_warming\", \"pollution\"], \"textposition\": \"outside\", \"type\": \"bar\", \"visible\": false, \"x\": [0.11273223906755447, 0.13414853811264038, 0.1414332091808319, 0.14659489691257477, 0.15239578485488892, 0.1748979687690735, 0.18724767863750458, 0.19600702822208405], \"y0\": 0.529}, {\"base\": -0.3, \"dy\": 0.214, \"hoverinfo\": \"skip\", \"marker\": {\"color\": \"rgb(175,122,197)\"}, \"orientation\": \"h\", \"text\": [\"oil\", \"carbon_tax\", \"jobs\", \"clean_energy\", \"energy\", \"climate_change\", \"global_warming\", \"pollution\"], \"textposition\": \"outside\", \"type\": \"bar\", \"visible\": false, \"x\": [0.11691278219223022, 0.13443556427955627, 0.13771134614944458, 0.14642702043056488, 0.1501876562833786, 0.16996312141418457, 0.18282794952392578, 0.19125965237617493], \"y0\": 0.529}, {\"base\": -0.3, \"dy\": 0.214, \"hoverinfo\": \"skip\", \"marker\": {\"color\": \"rgb(175,122,197)\"}, \"orientation\": \"h\", \"text\": [\"oil\", \"carbon_tax\", \"clean_energy\", \"jobs\", \"energy\", \"climate_change\", \"global_warming\", \"pollution\"], \"textposition\": \"outside\", \"type\": \"bar\", \"visible\": false, \"x\": [0.1212683692574501, 0.1278189718723297, 0.14072836935520172, 0.1414012610912323, 0.15389731526374817, 0.16520871222019196, 0.17856144905090332, 0.18666692078113556], \"y0\": 0.529}, {\"base\": -0.3, \"dy\": 0.214, \"hoverinfo\": \"skip\", \"marker\": {\"color\": \"rgb(175,122,197)\"}, \"orientation\": \"h\", \"text\": [\"mine_workers\", \"oil\", \"clean_energy\", \"jobs\", \"energy\", \"climate_change\", \"global_warming\", \"pollution\"], \"textposition\": \"outside\", \"type\": \"bar\", \"visible\": false, \"x\": [0.12397775053977966, 0.12580695748329163, 0.13528642058372498, 0.14522339403629303, 0.15772812068462372, 0.16062729060649872, 0.17444230616092682, 0.18222324550151825], \"y0\": 0.529}, {\"base\": -0.3, \"dy\": 0.214, \"hoverinfo\": \"skip\", \"marker\": {\"color\": \"rgb(175,122,197)\"}, \"orientation\": \"h\", \"text\": [\"mine_workers\", \"clean_energy\", \"oil\", \"jobs\", \"climate_change\", \"energy\", \"global_warming\", \"pollution\"], \"textposition\": \"outside\", \"type\": \"bar\", \"visible\": false, \"x\": [0.12855561077594757, 0.13008849322795868, 0.1305369734764099, 0.14918310940265656, 0.15621183812618256, 0.1616845428943634, 0.17046482861042023, 0.17792317271232605], \"y0\": 0.529}, {\"base\": -0.3, \"dy\": 0.214, \"hoverinfo\": \"skip\", \"marker\": {\"color\": \"rgb(175,122,197)\"}, \"orientation\": \"h\", \"text\": [\"clean_energy\", \"mine_workers\", \"oil\", \"climate_change\", \"jobs\", \"energy\", \"global_warming\", \"pollution\"], \"textposition\": \"outside\", \"type\": \"bar\", \"visible\": true, \"x\": [0.1251225769519806, 0.13332898914813995, 0.13546714186668396, 0.15195561945438385, 0.15328602492809296, 0.1657712608575821, 0.16662371158599854, 0.1737615317106247], \"y0\": 0.529}, {\"base\": -0.3, \"dy\": 0.214, \"hoverinfo\": \"skip\", \"marker\": {\"color\": \"rgb(175,122,197)\"}, \"orientation\": \"h\", \"text\": [\"clean_energy\", \"mine_workers\", \"oil\", \"climate_change\", \"jobs\", \"global_warming\", \"pollution\", \"energy\"], \"textposition\": \"outside\", \"type\": \"bar\", \"visible\": false, \"x\": [0.1203773021697998, 0.13830707967281342, 0.14060673117637634, 0.14785221219062805, 0.15753798186779022, 0.1629137247800827, 0.16973331570625305, 0.1699931025505066], \"y0\": 0.529}, {\"base\": -0.3, \"dy\": 0.214, \"hoverinfo\": \"skip\", \"marker\": {\"color\": \"rgb(175,122,197)\"}, \"orientation\": \"h\", \"text\": [\"economy\", \"mine_workers\", \"climate_change\", \"oil\", \"global_warming\", \"jobs\", \"pollution\", \"energy\"], \"textposition\": \"outside\", \"type\": \"bar\", \"visible\": false, \"x\": [0.1208062544465065, 0.14349955320358276, 0.1438954621553421, 0.14596539735794067, 0.15932998061180115, 0.16194505989551544, 0.1658337414264679, 0.17435508966445923], \"y0\": 0.529}, {\"base\": -0.3, \"dy\": 0.214, \"hoverinfo\": \"skip\", \"marker\": {\"color\": \"rgb(175,122,197)\"}, \"orientation\": \"h\", \"text\": [\"economy\", \"climate_change\", \"mine_workers\", \"oil\", \"global_warming\", \"pollution\", \"jobs\", \"energy\"], \"textposition\": \"outside\", \"type\": \"bar\", \"visible\": false, \"x\": [0.12691041827201843, 0.14007948338985443, 0.148916557431221, 0.15155328810214996, 0.15586775541305542, 0.16205818951129913, 0.16651368141174316, 0.17886249721050262], \"y0\": 0.529}, {\"base\": -0.3, \"dy\": 0.214, \"hoverinfo\": \"skip\", \"marker\": {\"color\": \"rgb(175,122,197)\"}, \"orientation\": \"h\", \"text\": [\"economy\", \"climate_change\", \"global_warming\", \"mine_workers\", \"oil\", \"pollution\", \"jobs\", \"energy\"], \"textposition\": \"outside\", \"type\": \"bar\", \"visible\": false, \"x\": [0.13335876166820526, 0.13639870285987854, 0.15252253413200378, 0.15456873178482056, 0.1573810577392578, 0.15840230882167816, 0.17125055193901062, 0.18352079391479492], \"y0\": 0.529}, {\"base\": -0.3, \"dy\": 0.214, \"hoverinfo\": \"skip\", \"marker\": {\"color\": \"rgb(175,122,197)\"}, \"orientation\": \"h\", \"text\": [\"climate_change\", \"economy\", \"global_warming\", \"pollution\", \"mine_workers\", \"oil\", \"jobs\", \"energy\"], \"textposition\": \"outside\", \"type\": \"bar\", \"visible\": false, \"x\": [0.13284772634506226, 0.1401723325252533, 0.14928998053073883, 0.15486182272434235, 0.16046734154224396, 0.1634598970413208, 0.17616263031959534, 0.18833570182323456], \"y0\": 0.529}, {\"base\": -0.3, \"dy\": 0.214, \"hoverinfo\": \"skip\", \"marker\": {\"color\": \"rgb(175,122,197)\"}, \"orientation\": \"h\", \"text\": [\"climate_change\", \"global_warming\", \"economy\", \"pollution\", \"mine_workers\", \"oil\", \"jobs\", \"energy\"], \"textposition\": \"outside\", \"type\": \"bar\", \"visible\": false, \"x\": [0.1294214427471161, 0.14616595208644867, 0.1473735123872757, 0.15143266320228577, 0.16662415862083435, 0.1698015332221985, 0.1812572479248047, 0.1933130919933319], \"y0\": 0.529}, {\"base\": -0.3, \"dy\": 0.214, \"hoverinfo\": \"skip\", \"marker\": {\"color\": \"rgb(175,122,197)\"}, \"orientation\": \"h\", \"text\": [\"climate_change\", \"global_warming\", \"pollution\", \"economy\", \"mine_workers\", \"oil\", \"jobs\", \"energy\"], \"textposition\": \"outside\", \"type\": \"bar\", \"visible\": false, \"x\": [0.12611494958400726, 0.14314649999141693, 0.14811092615127563, 0.1549862176179886, 0.17305158078670502, 0.17641830444335938, 0.18654204905033112, 0.198459193110466], \"y0\": 0.529}, {\"base\": -0.3, \"dy\": 0.214, \"hoverinfo\": \"skip\", \"marker\": {\"color\": \"rgb(175,122,197)\"}, \"orientation\": \"h\", \"text\": [\"climate_change\", \"global_warming\", \"pollution\", \"economy\", \"mine_workers\", \"oil\", \"jobs\", \"energy\"], \"textposition\": \"outside\", \"type\": \"bar\", \"visible\": false, \"x\": [0.12292355298995972, 0.14022783935070038, 0.1448928564786911, 0.16303583979606628, 0.17976263165473938, 0.18332317471504211, 0.1920250654220581, 0.20378044247627258], \"y0\": 0.529}, {\"base\": -0.3, \"dy\": 0.214, \"hoverinfo\": \"skip\", \"marker\": {\"color\": \"rgb(175,122,197)\"}, \"orientation\": \"h\", \"text\": [\"coal\", \"global_warming\", \"pollution\", \"economy\", \"mine_workers\", \"oil\", \"jobs\", \"energy\"], \"textposition\": \"outside\", \"type\": \"bar\", \"visible\": false, \"x\": [0.12642966210842133, 0.13740630447864532, 0.14177484810352325, 0.17154954373836517, 0.18677103519439697, 0.1905297040939331, 0.1977146565914154, 0.20928356051445007], \"y0\": 0.529}, {\"base\": -0.3, \"dy\": 0.214, \"hoverinfo\": \"skip\", \"marker\": {\"color\": \"rgb(175,122,197)\"}, \"orientation\": \"h\", \"text\": [\"global_warming\", \"coal\", \"pollution\", \"economy\", \"mine_workers\", \"oil\", \"jobs\", \"energy\"], \"textposition\": \"outside\", \"type\": \"bar\", \"visible\": false, \"x\": [0.1346784234046936, 0.13566669821739197, 0.1387534737586975, 0.18055623769760132, 0.19409127533435822, 0.19805222749710083, 0.2036195993423462, 0.2149755358695984], \"y0\": 0.529}, {\"base\": -0.3, \"dy\": 0.214, \"hoverinfo\": \"skip\", \"marker\": {\"color\": \"rgb(175,122,197)\"}, \"orientation\": \"h\", \"text\": [\"china\", \"production\", \"coal\", \"economy\", \"mine_workers\", \"oil\", \"jobs\", \"energy\"], \"textposition\": \"outside\", \"type\": \"bar\", \"visible\": false, \"x\": [0.1408783197402954, 0.14255297183990479, 0.14563055336475372, 0.1900867372751236, 0.20173849165439606, 0.2059057056903839, 0.20974910259246826, 0.22086365520954132], \"y0\": 0.529}, {\"base\": -0.3, \"dy\": 0.214, \"hoverinfo\": \"skip\", \"marker\": {\"color\": \"rgb(175,122,197)\"}, \"orientation\": \"h\", \"text\": [\"china\", \"production\", \"coal\", \"economy\", \"mine_workers\", \"oil\", \"jobs\", \"energy\"], \"textposition\": \"outside\", \"type\": \"bar\", \"visible\": false, \"x\": [0.15088218450546265, 0.1529335379600525, 0.15638190507888794, 0.2001739740371704, 0.2097286581993103, 0.21410591900348663, 0.21611274778842926, 0.2269555628299713], \"y0\": 0.529}, {\"base\": -0.3, \"dy\": 0.214, \"hoverinfo\": \"skip\", \"marker\": {\"color\": \"rgb(175,122,197)\"}, \"orientation\": \"h\", \"text\": [\"china\", \"production\", \"coal\", \"economy\", \"mine_workers\", \"oil\", \"jobs\", \"energy\"], \"textposition\": \"outside\", \"type\": \"bar\", \"visible\": false, \"x\": [0.16163142025470734, 0.1641193926334381, 0.1679869294166565, 0.21085304021835327, 0.21807865798473358, 0.22266948223114014, 0.222720667719841, 0.2332591414451599], \"y0\": 0.529}, {\"base\": -0.3, \"dy\": 0.214, \"hoverinfo\": \"skip\", \"marker\": {\"color\": \"rgb(175,122,197)\"}, \"orientation\": \"h\", \"text\": [\"china\", \"production\", \"coal\", \"economy\", \"mine_workers\", \"jobs\", \"oil\", \"energy\"], \"textposition\": \"outside\", \"type\": \"bar\", \"visible\": false, \"x\": [0.17318396270275116, 0.17617635428905487, 0.18051749467849731, 0.22216132283210754, 0.22680611908435822, 0.22958332300186157, 0.23161369562149048, 0.23978270590305328], \"y0\": 0.529}, {\"base\": -0.3, \"dy\": 0.214, \"hoverinfo\": \"skip\", \"marker\": {\"color\": \"rgb(175,122,197)\"}, \"orientation\": \"h\", \"text\": [\"china\", \"production\", \"coal\", \"economy\", \"mine_workers\", \"jobs\", \"oil\", \"energy\"], \"textposition\": \"outside\", \"type\": \"bar\", \"visible\": false, \"x\": [0.18560239672660828, 0.18917597830295563, 0.19405192136764526, 0.2341388761997223, 0.23592975735664368, 0.23671185970306396, 0.24095702171325684, 0.24653488397598267], \"y0\": 0.529}, {\"base\": -0.3, \"dy\": 0.214, \"hoverinfo\": \"skip\", \"marker\": {\"color\": \"rgb(175,122,197)\"}, \"orientation\": \"h\", \"text\": [\"china\", \"production\", \"coal\", \"jobs\", \"mine_workers\", \"economy\", \"oil\", \"energy\"], \"textposition\": \"outside\", \"type\": \"bar\", \"visible\": false, \"x\": [0.19895441830158234, 0.20319592952728271, 0.2086755335330963, 0.24411779642105103, 0.2454691231250763, 0.2468283623456955, 0.2507185637950897, 0.25352466106414795], \"y0\": 0.529}, {\"base\": -0.3, \"dy\": 0.214, \"hoverinfo\": \"skip\", \"marker\": {\"color\": \"rgb(175,122,197)\"}, \"orientation\": \"h\", \"text\": [\"china\", \"production\", \"coal\", \"jobs\", \"mine_workers\", \"economy\", \"energy\", \"oil\"], \"textposition\": \"outside\", \"type\": \"bar\", \"visible\": false, \"x\": [0.21331317722797394, 0.2183205634355545, 0.22448116540908813, 0.25181329250335693, 0.2554449737071991, 0.26027533411979675, 0.26076143980026245, 0.26091864705085754], \"y0\": 0.529}, {\"base\": -0.3, \"dy\": 0.214, \"hoverinfo\": \"skip\", \"marker\": {\"color\": \"rgb(175,122,197)\"}, \"orientation\": \"h\", \"text\": [\"china\", \"production\", \"coal\", \"jobs\", \"mine_workers\", \"energy\", \"oil\", \"economy\"], \"textposition\": \"outside\", \"type\": \"bar\", \"visible\": false, \"x\": [0.22875773906707764, 0.23464152216911316, 0.2415701150894165, 0.2598111033439636, 0.2658790946006775, 0.2682550251483917, 0.27157846093177795, 0.27452850341796875], \"y0\": 0.529}, {\"base\": -0.3, \"dy\": 0.214, \"hoverinfo\": \"skip\", \"marker\": {\"color\": \"rgb(175,122,197)\"}, \"orientation\": \"h\", \"text\": [\"china\", \"production\", \"coal\", \"jobs\", \"energy\", \"mine_workers\", \"oil\", \"economy\"], \"textposition\": \"outside\", \"type\": \"bar\", \"visible\": false, \"x\": [0.2453736662864685, 0.25225844979286194, 0.26005271077156067, 0.2681244909763336, 0.27601557970046997, 0.2767943739891052, 0.2827204465866089, 0.28963977098464966], \"y0\": 0.529}, {\"base\": -0.3, \"dy\": 0.214, \"hoverinfo\": \"skip\", \"marker\": {\"color\": \"rgb(175,122,197)\"}, \"orientation\": \"h\", \"text\": [\"china\", \"production\", \"jobs\", \"coal\", \"energy\", \"mine_workers\", \"oil\", \"economy\"], \"textposition\": \"outside\", \"type\": \"bar\", \"visible\": false, \"x\": [0.26325350999832153, 0.27127963304519653, 0.27676743268966675, 0.28004926443099976, 0.2840539216995239, 0.2882150113582611, 0.29436808824539185, 0.3056648075580597], \"y0\": 0.529}, {\"base\": -0.3, \"dy\": 0.214, \"hoverinfo\": \"skip\", \"marker\": {\"color\": \"rgb(175,122,197)\"}, \"orientation\": \"h\", \"text\": [\"china\", \"jobs\", \"production\", \"energy\", \"mine_workers\", \"coal\", \"oil\", \"economy\"], \"textposition\": \"outside\", \"type\": \"bar\", \"visible\": false, \"x\": [0.282497376203537, 0.2857547104358673, 0.2918228209018707, 0.29238101840019226, 0.3001665472984314, 0.3016910254955292, 0.30654624104499817, 0.32266300916671753], \"y0\": 0.529}],                        {\"annotations\": [{\"font\": {\"size\": 14}, \"showarrow\": false, \"text\": \"Move slider to change ideal point\", \"x\": 0.5, \"xref\": \"paper\", \"y\": 0.255, \"yref\": \"paper\"}], \"paper_bgcolor\": \"rgba(0,0,0,0)\", \"plot_bgcolor\": \"rgba(0,0,0,0)\", \"showlegend\": false, \"sliders\": [{\"active\": 20, \"currentvalue\": {\"prefix\": \"Ideal Point: \"}, \"steps\": [{\"args\": [{\"visible\": [true, true, true, false, false, false, false, false, false, false, false, false, false, false, false, false, false, false, false, false, false, false, false, false, false, false, false, false, false, false, false, false, false, false, false, false, false, false, false, false, false, false, false]}], \"label\": \"-1.00\", \"method\": \"update\"}, {\"args\": [{\"visible\": [true, true, false, true, false, false, false, false, false, false, false, false, false, false, false, false, false, false, false, false, false, false, false, false, false, false, false, false, false, false, false, false, false, false, false, false, false, false, false, false, false, false, false]}], \"label\": \"-0.95\", \"method\": \"update\"}, {\"args\": [{\"visible\": [true, true, false, false, true, false, false, false, false, false, false, false, false, false, false, false, false, false, false, false, false, false, false, false, false, false, false, false, false, false, false, false, false, false, false, false, false, false, false, false, false, false, false]}], \"label\": \"-0.90\", \"method\": \"update\"}, {\"args\": [{\"visible\": [true, true, false, false, false, true, false, false, false, false, false, false, false, false, false, false, false, false, false, false, false, false, false, false, false, false, false, false, false, false, false, false, false, false, false, false, false, false, false, false, false, false, false]}], \"label\": \"-0.85\", \"method\": \"update\"}, {\"args\": [{\"visible\": [true, true, false, false, false, false, true, false, false, false, false, false, false, false, false, false, false, false, false, false, false, false, false, false, false, false, false, false, false, false, false, false, false, false, false, false, false, false, false, false, false, false, false]}], \"label\": \"-0.80\", \"method\": \"update\"}, {\"args\": [{\"visible\": [true, true, false, false, false, false, false, true, false, false, false, false, false, false, false, false, false, false, false, false, false, false, false, false, false, false, false, false, false, false, false, false, false, false, false, false, false, false, false, false, false, false, false]}], \"label\": \"-0.75\", \"method\": \"update\"}, {\"args\": [{\"visible\": [true, true, false, false, false, false, false, false, true, false, false, false, false, false, false, false, false, false, false, false, false, false, false, false, false, false, false, false, false, false, false, false, false, false, false, false, false, false, false, false, false, false, false]}], \"label\": \"-0.70\", \"method\": \"update\"}, {\"args\": [{\"visible\": [true, true, false, false, false, false, false, false, false, true, false, false, false, false, false, false, false, false, false, false, false, false, false, false, false, false, false, false, false, false, false, false, false, false, false, false, false, false, false, false, false, false, false]}], \"label\": \"-0.65\", \"method\": \"update\"}, {\"args\": [{\"visible\": [true, true, false, false, false, false, false, false, false, false, true, false, false, false, false, false, false, false, false, false, false, false, false, false, false, false, false, false, false, false, false, false, false, false, false, false, false, false, false, false, false, false, false]}], \"label\": \"-0.60\", \"method\": \"update\"}, {\"args\": [{\"visible\": [true, true, false, false, false, false, false, false, false, false, false, true, false, false, false, false, false, false, false, false, false, false, false, false, false, false, false, false, false, false, false, false, false, false, false, false, false, false, false, false, false, false, false]}], \"label\": \"-0.55\", \"method\": \"update\"}, {\"args\": [{\"visible\": [true, true, false, false, false, false, false, false, false, false, false, false, true, false, false, false, false, false, false, false, false, false, false, false, false, false, false, false, false, false, false, false, false, false, false, false, false, false, false, false, false, false, false]}], \"label\": \"-0.50\", \"method\": \"update\"}, {\"args\": [{\"visible\": [true, true, false, false, false, false, false, false, false, false, false, false, false, true, false, false, false, false, false, false, false, false, false, false, false, false, false, false, false, false, false, false, false, false, false, false, false, false, false, false, false, false, false]}], \"label\": \"-0.45\", \"method\": \"update\"}, {\"args\": [{\"visible\": [true, true, false, false, false, false, false, false, false, false, false, false, false, false, true, false, false, false, false, false, false, false, false, false, false, false, false, false, false, false, false, false, false, false, false, false, false, false, false, false, false, false, false]}], \"label\": \"-0.40\", \"method\": \"update\"}, {\"args\": [{\"visible\": [true, true, false, false, false, false, false, false, false, false, false, false, false, false, false, true, false, false, false, false, false, false, false, false, false, false, false, false, false, false, false, false, false, false, false, false, false, false, false, false, false, false, false]}], \"label\": \"-0.35\", \"method\": \"update\"}, {\"args\": [{\"visible\": [true, true, false, false, false, false, false, false, false, false, false, false, false, false, false, false, true, false, false, false, false, false, false, false, false, false, false, false, false, false, false, false, false, false, false, false, false, false, false, false, false, false, false]}], \"label\": \"-0.30\", \"method\": \"update\"}, {\"args\": [{\"visible\": [true, true, false, false, false, false, false, false, false, false, false, false, false, false, false, false, false, true, false, false, false, false, false, false, false, false, false, false, false, false, false, false, false, false, false, false, false, false, false, false, false, false, false]}], \"label\": \"-0.25\", \"method\": \"update\"}, {\"args\": [{\"visible\": [true, true, false, false, false, false, false, false, false, false, false, false, false, false, false, false, false, false, true, false, false, false, false, false, false, false, false, false, false, false, false, false, false, false, false, false, false, false, false, false, false, false, false]}], \"label\": \"-0.20\", \"method\": \"update\"}, {\"args\": [{\"visible\": [true, true, false, false, false, false, false, false, false, false, false, false, false, false, false, false, false, false, false, true, false, false, false, false, false, false, false, false, false, false, false, false, false, false, false, false, false, false, false, false, false, false, false]}], \"label\": \"-0.15\", \"method\": \"update\"}, {\"args\": [{\"visible\": [true, true, false, false, false, false, false, false, false, false, false, false, false, false, false, false, false, false, false, false, true, false, false, false, false, false, false, false, false, false, false, false, false, false, false, false, false, false, false, false, false, false, false]}], \"label\": \"-0.10\", \"method\": \"update\"}, {\"args\": [{\"visible\": [true, true, false, false, false, false, false, false, false, false, false, false, false, false, false, false, false, false, false, false, false, true, false, false, false, false, false, false, false, false, false, false, false, false, false, false, false, false, false, false, false, false, false]}], \"label\": \"-0.05\", \"method\": \"update\"}, {\"args\": [{\"visible\": [true, true, false, false, false, false, false, false, false, false, false, false, false, false, false, false, false, false, false, false, false, false, true, false, false, false, false, false, false, false, false, false, false, false, false, false, false, false, false, false, false, false, false]}], \"label\": \"0.00\", \"method\": \"update\"}, {\"args\": [{\"visible\": [true, true, false, false, false, false, false, false, false, false, false, false, false, false, false, false, false, false, false, false, false, false, false, true, false, false, false, false, false, false, false, false, false, false, false, false, false, false, false, false, false, false, false]}], \"label\": \"0.05\", \"method\": \"update\"}, {\"args\": [{\"visible\": [true, true, false, false, false, false, false, false, false, false, false, false, false, false, false, false, false, false, false, false, false, false, false, false, true, false, false, false, false, false, false, false, false, false, false, false, false, false, false, false, false, false, false]}], \"label\": \"0.10\", \"method\": \"update\"}, {\"args\": [{\"visible\": [true, true, false, false, false, false, false, false, false, false, false, false, false, false, false, false, false, false, false, false, false, false, false, false, false, true, false, false, false, false, false, false, false, false, false, false, false, false, false, false, false, false, false]}], \"label\": \"0.15\", \"method\": \"update\"}, {\"args\": [{\"visible\": [true, true, false, false, false, false, false, false, false, false, false, false, false, false, false, false, false, false, false, false, false, false, false, false, false, false, true, false, false, false, false, false, false, false, false, false, false, false, false, false, false, false, false]}], \"label\": \"0.20\", \"method\": \"update\"}, {\"args\": [{\"visible\": [true, true, false, false, false, false, false, false, false, false, false, false, false, false, false, false, false, false, false, false, false, false, false, false, false, false, false, true, false, false, false, false, false, false, false, false, false, false, false, false, false, false, false]}], \"label\": \"0.25\", \"method\": \"update\"}, {\"args\": [{\"visible\": [true, true, false, false, false, false, false, false, false, false, false, false, false, false, false, false, false, false, false, false, false, false, false, false, false, false, false, false, true, false, false, false, false, false, false, false, false, false, false, false, false, false, false]}], \"label\": \"0.30\", \"method\": \"update\"}, {\"args\": [{\"visible\": [true, true, false, false, false, false, false, false, false, false, false, false, false, false, false, false, false, false, false, false, false, false, false, false, false, false, false, false, false, true, false, false, false, false, false, false, false, false, false, false, false, false, false]}], \"label\": \"0.35\", \"method\": \"update\"}, {\"args\": [{\"visible\": [true, true, false, false, false, false, false, false, false, false, false, false, false, false, false, false, false, false, false, false, false, false, false, false, false, false, false, false, false, false, true, false, false, false, false, false, false, false, false, false, false, false, false]}], \"label\": \"0.40\", \"method\": \"update\"}, {\"args\": [{\"visible\": [true, true, false, false, false, false, false, false, false, false, false, false, false, false, false, false, false, false, false, false, false, false, false, false, false, false, false, false, false, false, false, true, false, false, false, false, false, false, false, false, false, false, false]}], \"label\": \"0.45\", \"method\": \"update\"}, {\"args\": [{\"visible\": [true, true, false, false, false, false, false, false, false, false, false, false, false, false, false, false, false, false, false, false, false, false, false, false, false, false, false, false, false, false, false, false, true, false, false, false, false, false, false, false, false, false, false]}], \"label\": \"0.50\", \"method\": \"update\"}, {\"args\": [{\"visible\": [true, true, false, false, false, false, false, false, false, false, false, false, false, false, false, false, false, false, false, false, false, false, false, false, false, false, false, false, false, false, false, false, false, true, false, false, false, false, false, false, false, false, false]}], \"label\": \"0.55\", \"method\": \"update\"}, {\"args\": [{\"visible\": [true, true, false, false, false, false, false, false, false, false, false, false, false, false, false, false, false, false, false, false, false, false, false, false, false, false, false, false, false, false, false, false, false, false, true, false, false, false, false, false, false, false, false]}], \"label\": \"0.60\", \"method\": \"update\"}, {\"args\": [{\"visible\": [true, true, false, false, false, false, false, false, false, false, false, false, false, false, false, false, false, false, false, false, false, false, false, false, false, false, false, false, false, false, false, false, false, false, false, true, false, false, false, false, false, false, false]}], \"label\": \"0.65\", \"method\": \"update\"}, {\"args\": [{\"visible\": [true, true, false, false, false, false, false, false, false, false, false, false, false, false, false, false, false, false, false, false, false, false, false, false, false, false, false, false, false, false, false, false, false, false, false, false, true, false, false, false, false, false, false]}], \"label\": \"0.70\", \"method\": \"update\"}, {\"args\": [{\"visible\": [true, true, false, false, false, false, false, false, false, false, false, false, false, false, false, false, false, false, false, false, false, false, false, false, false, false, false, false, false, false, false, false, false, false, false, false, false, true, false, false, false, false, false]}], \"label\": \"0.75\", \"method\": \"update\"}, {\"args\": [{\"visible\": [true, true, false, false, false, false, false, false, false, false, false, false, false, false, false, false, false, false, false, false, false, false, false, false, false, false, false, false, false, false, false, false, false, false, false, false, false, false, true, false, false, false, false]}], \"label\": \"0.80\", \"method\": \"update\"}, {\"args\": [{\"visible\": [true, true, false, false, false, false, false, false, false, false, false, false, false, false, false, false, false, false, false, false, false, false, false, false, false, false, false, false, false, false, false, false, false, false, false, false, false, false, false, true, false, false, false]}], \"label\": \"0.85\", \"method\": \"update\"}, {\"args\": [{\"visible\": [true, true, false, false, false, false, false, false, false, false, false, false, false, false, false, false, false, false, false, false, false, false, false, false, false, false, false, false, false, false, false, false, false, false, false, false, false, false, false, false, true, false, false]}], \"label\": \"0.90\", \"method\": \"update\"}, {\"args\": [{\"visible\": [true, true, false, false, false, false, false, false, false, false, false, false, false, false, false, false, false, false, false, false, false, false, false, false, false, false, false, false, false, false, false, false, false, false, false, false, false, false, false, false, false, true, false]}], \"label\": \"0.95\", \"method\": \"update\"}, {\"args\": [{\"visible\": [true, true, false, false, false, false, false, false, false, false, false, false, false, false, false, false, false, false, false, false, false, false, false, false, false, false, false, false, false, false, false, false, false, false, false, false, false, false, false, false, false, false, true]}], \"label\": \"1.00\", \"method\": \"update\"}], \"y\": 0.35}], \"template\": {\"data\": {\"bar\": [{\"error_x\": {\"color\": \"#2a3f5f\"}, \"error_y\": {\"color\": \"#2a3f5f\"}, \"marker\": {\"line\": {\"color\": \"#E5ECF6\", \"width\": 0.5}}, \"type\": \"bar\"}], \"barpolar\": [{\"marker\": {\"line\": {\"color\": \"#E5ECF6\", \"width\": 0.5}}, \"type\": \"barpolar\"}], \"carpet\": [{\"aaxis\": {\"endlinecolor\": \"#2a3f5f\", \"gridcolor\": \"white\", \"linecolor\": \"white\", \"minorgridcolor\": \"white\", \"startlinecolor\": \"#2a3f5f\"}, \"baxis\": {\"endlinecolor\": \"#2a3f5f\", \"gridcolor\": \"white\", \"linecolor\": \"white\", \"minorgridcolor\": \"white\", \"startlinecolor\": \"#2a3f5f\"}, \"type\": \"carpet\"}], \"choropleth\": [{\"colorbar\": {\"outlinewidth\": 0, \"ticks\": \"\"}, \"type\": \"choropleth\"}], \"contour\": [{\"colorbar\": {\"outlinewidth\": 0, \"ticks\": \"\"}, \"colorscale\": [[0.0, \"#0d0887\"], [0.1111111111111111, \"#46039f\"], [0.2222222222222222, \"#7201a8\"], [0.3333333333333333, \"#9c179e\"], [0.4444444444444444, \"#bd3786\"], [0.5555555555555556, \"#d8576b\"], [0.6666666666666666, \"#ed7953\"], [0.7777777777777778, \"#fb9f3a\"], [0.8888888888888888, \"#fdca26\"], [1.0, \"#f0f921\"]], \"type\": \"contour\"}], \"contourcarpet\": [{\"colorbar\": {\"outlinewidth\": 0, \"ticks\": \"\"}, \"type\": \"contourcarpet\"}], \"heatmap\": [{\"colorbar\": {\"outlinewidth\": 0, \"ticks\": \"\"}, \"colorscale\": [[0.0, \"#0d0887\"], [0.1111111111111111, \"#46039f\"], [0.2222222222222222, \"#7201a8\"], [0.3333333333333333, \"#9c179e\"], [0.4444444444444444, \"#bd3786\"], [0.5555555555555556, \"#d8576b\"], [0.6666666666666666, \"#ed7953\"], [0.7777777777777778, \"#fb9f3a\"], [0.8888888888888888, \"#fdca26\"], [1.0, \"#f0f921\"]], \"type\": \"heatmap\"}], \"heatmapgl\": [{\"colorbar\": {\"outlinewidth\": 0, \"ticks\": \"\"}, \"colorscale\": [[0.0, \"#0d0887\"], [0.1111111111111111, \"#46039f\"], [0.2222222222222222, \"#7201a8\"], [0.3333333333333333, \"#9c179e\"], [0.4444444444444444, \"#bd3786\"], [0.5555555555555556, \"#d8576b\"], [0.6666666666666666, \"#ed7953\"], [0.7777777777777778, \"#fb9f3a\"], [0.8888888888888888, \"#fdca26\"], [1.0, \"#f0f921\"]], \"type\": \"heatmapgl\"}], \"histogram\": [{\"marker\": {\"colorbar\": {\"outlinewidth\": 0, \"ticks\": \"\"}}, \"type\": \"histogram\"}], \"histogram2d\": [{\"colorbar\": {\"outlinewidth\": 0, \"ticks\": \"\"}, \"colorscale\": [[0.0, \"#0d0887\"], [0.1111111111111111, \"#46039f\"], [0.2222222222222222, \"#7201a8\"], [0.3333333333333333, \"#9c179e\"], [0.4444444444444444, \"#bd3786\"], [0.5555555555555556, \"#d8576b\"], [0.6666666666666666, \"#ed7953\"], [0.7777777777777778, \"#fb9f3a\"], [0.8888888888888888, \"#fdca26\"], [1.0, \"#f0f921\"]], \"type\": \"histogram2d\"}], \"histogram2dcontour\": [{\"colorbar\": {\"outlinewidth\": 0, \"ticks\": \"\"}, \"colorscale\": [[0.0, \"#0d0887\"], [0.1111111111111111, \"#46039f\"], [0.2222222222222222, \"#7201a8\"], [0.3333333333333333, \"#9c179e\"], [0.4444444444444444, \"#bd3786\"], [0.5555555555555556, \"#d8576b\"], [0.6666666666666666, \"#ed7953\"], [0.7777777777777778, \"#fb9f3a\"], [0.8888888888888888, \"#fdca26\"], [1.0, \"#f0f921\"]], \"type\": \"histogram2dcontour\"}], \"mesh3d\": [{\"colorbar\": {\"outlinewidth\": 0, \"ticks\": \"\"}, \"type\": \"mesh3d\"}], \"parcoords\": [{\"line\": {\"colorbar\": {\"outlinewidth\": 0, \"ticks\": \"\"}}, \"type\": \"parcoords\"}], \"pie\": [{\"automargin\": true, \"type\": \"pie\"}], \"scatter\": [{\"marker\": {\"colorbar\": {\"outlinewidth\": 0, \"ticks\": \"\"}}, \"type\": \"scatter\"}], \"scatter3d\": [{\"line\": {\"colorbar\": {\"outlinewidth\": 0, \"ticks\": \"\"}}, \"marker\": {\"colorbar\": {\"outlinewidth\": 0, \"ticks\": \"\"}}, \"type\": \"scatter3d\"}], \"scattercarpet\": [{\"marker\": {\"colorbar\": {\"outlinewidth\": 0, \"ticks\": \"\"}}, \"type\": \"scattercarpet\"}], \"scattergeo\": [{\"marker\": {\"colorbar\": {\"outlinewidth\": 0, \"ticks\": \"\"}}, \"type\": \"scattergeo\"}], \"scattergl\": [{\"marker\": {\"colorbar\": {\"outlinewidth\": 0, \"ticks\": \"\"}}, \"type\": \"scattergl\"}], \"scattermapbox\": [{\"marker\": {\"colorbar\": {\"outlinewidth\": 0, \"ticks\": \"\"}}, \"type\": \"scattermapbox\"}], \"scatterpolar\": [{\"marker\": {\"colorbar\": {\"outlinewidth\": 0, \"ticks\": \"\"}}, \"type\": \"scatterpolar\"}], \"scatterpolargl\": [{\"marker\": {\"colorbar\": {\"outlinewidth\": 0, \"ticks\": \"\"}}, \"type\": \"scatterpolargl\"}], \"scatterternary\": [{\"marker\": {\"colorbar\": {\"outlinewidth\": 0, \"ticks\": \"\"}}, \"type\": \"scatterternary\"}], \"surface\": [{\"colorbar\": {\"outlinewidth\": 0, \"ticks\": \"\"}, \"colorscale\": [[0.0, \"#0d0887\"], [0.1111111111111111, \"#46039f\"], [0.2222222222222222, \"#7201a8\"], [0.3333333333333333, \"#9c179e\"], [0.4444444444444444, \"#bd3786\"], [0.5555555555555556, \"#d8576b\"], [0.6666666666666666, \"#ed7953\"], [0.7777777777777778, \"#fb9f3a\"], [0.8888888888888888, \"#fdca26\"], [1.0, \"#f0f921\"]], \"type\": \"surface\"}], \"table\": [{\"cells\": {\"fill\": {\"color\": \"#EBF0F8\"}, \"line\": {\"color\": \"white\"}}, \"header\": {\"fill\": {\"color\": \"#C8D4E3\"}, \"line\": {\"color\": \"white\"}}, \"type\": \"table\"}]}, \"layout\": {\"annotationdefaults\": {\"arrowcolor\": \"#2a3f5f\", \"arrowhead\": 0, \"arrowwidth\": 1}, \"autotypenumbers\": \"strict\", \"coloraxis\": {\"colorbar\": {\"outlinewidth\": 0, \"ticks\": \"\"}}, \"colorscale\": {\"diverging\": [[0, \"#8e0152\"], [0.1, \"#c51b7d\"], [0.2, \"#de77ae\"], [0.3, \"#f1b6da\"], [0.4, \"#fde0ef\"], [0.5, \"#f7f7f7\"], [0.6, \"#e6f5d0\"], [0.7, \"#b8e186\"], [0.8, \"#7fbc41\"], [0.9, \"#4d9221\"], [1, \"#276419\"]], \"sequential\": [[0.0, \"#0d0887\"], [0.1111111111111111, \"#46039f\"], [0.2222222222222222, \"#7201a8\"], [0.3333333333333333, \"#9c179e\"], [0.4444444444444444, \"#bd3786\"], [0.5555555555555556, \"#d8576b\"], [0.6666666666666666, \"#ed7953\"], [0.7777777777777778, \"#fb9f3a\"], [0.8888888888888888, \"#fdca26\"], [1.0, \"#f0f921\"]], \"sequentialminus\": [[0.0, \"#0d0887\"], [0.1111111111111111, \"#46039f\"], [0.2222222222222222, \"#7201a8\"], [0.3333333333333333, \"#9c179e\"], [0.4444444444444444, \"#bd3786\"], [0.5555555555555556, \"#d8576b\"], [0.6666666666666666, \"#ed7953\"], [0.7777777777777778, \"#fb9f3a\"], [0.8888888888888888, \"#fdca26\"], [1.0, \"#f0f921\"]]}, \"colorway\": [\"#636efa\", \"#EF553B\", \"#00cc96\", \"#ab63fa\", \"#FFA15A\", \"#19d3f3\", \"#FF6692\", \"#B6E880\", \"#FF97FF\", \"#FECB52\"], \"font\": {\"color\": \"#2a3f5f\"}, \"geo\": {\"bgcolor\": \"white\", \"lakecolor\": \"white\", \"landcolor\": \"#E5ECF6\", \"showlakes\": true, \"showland\": true, \"subunitcolor\": \"white\"}, \"hoverlabel\": {\"align\": \"left\"}, \"hovermode\": \"closest\", \"mapbox\": {\"style\": \"light\"}, \"paper_bgcolor\": \"white\", \"plot_bgcolor\": \"#E5ECF6\", \"polar\": {\"angularaxis\": {\"gridcolor\": \"white\", \"linecolor\": \"white\", \"ticks\": \"\"}, \"bgcolor\": \"#E5ECF6\", \"radialaxis\": {\"gridcolor\": \"white\", \"linecolor\": \"white\", \"ticks\": \"\"}}, \"scene\": {\"xaxis\": {\"backgroundcolor\": \"#E5ECF6\", \"gridcolor\": \"white\", \"gridwidth\": 2, \"linecolor\": \"white\", \"showbackground\": true, \"ticks\": \"\", \"zerolinecolor\": \"white\"}, \"yaxis\": {\"backgroundcolor\": \"#E5ECF6\", \"gridcolor\": \"white\", \"gridwidth\": 2, \"linecolor\": \"white\", \"showbackground\": true, \"ticks\": \"\", \"zerolinecolor\": \"white\"}, \"zaxis\": {\"backgroundcolor\": \"#E5ECF6\", \"gridcolor\": \"white\", \"gridwidth\": 2, \"linecolor\": \"white\", \"showbackground\": true, \"ticks\": \"\", \"zerolinecolor\": \"white\"}}, \"shapedefaults\": {\"line\": {\"color\": \"#2a3f5f\"}}, \"ternary\": {\"aaxis\": {\"gridcolor\": \"white\", \"linecolor\": \"white\", \"ticks\": \"\"}, \"baxis\": {\"gridcolor\": \"white\", \"linecolor\": \"white\", \"ticks\": \"\"}, \"bgcolor\": \"#E5ECF6\", \"caxis\": {\"gridcolor\": \"white\", \"linecolor\": \"white\", \"ticks\": \"\"}}, \"title\": {\"x\": 0.05}, \"xaxis\": {\"automargin\": true, \"gridcolor\": \"white\", \"linecolor\": \"white\", \"ticks\": \"\", \"title\": {\"standoff\": 15}, \"zerolinecolor\": \"white\", \"zerolinewidth\": 2}, \"yaxis\": {\"automargin\": true, \"gridcolor\": \"white\", \"linecolor\": \"white\", \"ticks\": \"\", \"title\": {\"standoff\": 15}, \"zerolinecolor\": \"white\", \"zerolinewidth\": 2}}}, \"title\": {\"text\": \"Word Usage as a Function of Ideal Point (Topic: Energy)\", \"x\": 0.5, \"y\": 0.9}, \"xaxis\": {\"fixedrange\": true, \"range\": [-1.02, 1.02], \"showgrid\": false, \"showline\": false, \"showticklabels\": false, \"title\": {\"text\": \"Representative ideal points (hover to see names)\"}, \"zeroline\": false}, \"yaxis\": {\"fixedrange\": true, \"range\": [-0.6, 2.5], \"showgrid\": false, \"showline\": false, \"showticklabels\": false, \"zeroline\": false}},                        {\"responsive\": true}                    ).then(function(){\n",
       "                            \n",
       "var gd = document.getElementById('92bbb7d1-4ca1-4914-9ae4-cb90a1109fa4');\n",
       "var x = new MutationObserver(function (mutations, observer) {{\n",
       "        var display = window.getComputedStyle(gd).display;\n",
       "        if (!display || display === 'none') {{\n",
       "            console.log([gd, 'removed!']);\n",
       "            Plotly.purge(gd);\n",
       "            observer.disconnect();\n",
       "        }}\n",
       "}});\n",
       "\n",
       "// Listen for the removal of the full notebook cells\n",
       "var notebookContainer = gd.closest('#notebook-container');\n",
       "if (notebookContainer) {{\n",
       "    x.observe(notebookContainer, {childList: true});\n",
       "}}\n",
       "\n",
       "// Listen for the clearing of the current output cell\n",
       "var outputEl = gd.closest('.output');\n",
       "if (outputEl) {{\n",
       "    x.observe(outputEl, {childList: true});\n",
       "}}\n",
       "\n",
       "                        })                };                });            </script>        </div>"
      ]
     },
     "metadata": {},
     "output_type": "display_data"
    }
   ],
   "source": [
    "show_interactive(0)"
   ]
  },
  {
   "cell_type": "code",
   "execution_count": 16,
   "id": "8135fed2",
   "metadata": {},
   "outputs": [
    {
     "data": {
      "application/vnd.plotly.v1+json": {
       "config": {
        "plotlyServerURL": "https://plot.ly"
       },
       "data": [
        {
         "hoverinfo": "skip",
         "line": {
          "color": "black",
          "width": 1
         },
         "marker": {
          "size": 1
         },
         "type": "scatter",
         "x": [
          -1,
          1
         ],
         "y": [
          -0.53,
          -0.53
         ]
        },
        {
         "hoverinfo": "x+text",
         "marker": {
          "color": [
           "steelblue",
           "crimson",
           "steelblue",
           "crimson",
           "crimson",
           "steelblue"
          ],
          "size": 8
         },
         "mode": "markers",
         "text": [
          "Alex (D)",
          "John (R)",
          "Justicia (D)",
          "Lauren (R)",
          "Mark (R)",
          "Mona (D)"
         ],
         "type": "scatter",
         "x": [
          -0.789236307144165,
          0.8978533148765564,
          -1.0066245794296265,
          0.8361955285072327,
          0.829914391040802,
          -0.9671030640602112
         ],
         "y": [
          -0.53,
          -0.53,
          -0.53,
          -0.53,
          -0.53,
          -0.53
         ]
        },
        {
         "base": -0.3,
         "dy": 0.214,
         "hoverinfo": "skip",
         "marker": {
          "color": "rgb(175,122,197)"
         },
         "orientation": "h",
         "text": [
          "dreamer",
          "daca",
          "broken_system",
          "refugees",
          "legal_immigration",
          "immigrant_rights",
          "immigrant",
          "america"
         ],
         "textposition": "outside",
         "type": "bar",
         "visible": false,
         "x": [
          0.3051481246948242,
          0.3170206546783447,
          0.32429128885269165,
          0.3288993835449219,
          0.32914355397224426,
          0.35859641432762146,
          0.3645510673522949,
          0.38899505138397217
         ],
         "y0": 0.529
        },
        {
         "base": -0.3,
         "dy": 0.214,
         "hoverinfo": "skip",
         "marker": {
          "color": "rgb(175,122,197)"
         },
         "orientation": "h",
         "text": [
          "dreamer",
          "daca",
          "broken_system",
          "refugees",
          "legal_immigration",
          "immigrant_rights",
          "immigrant",
          "america"
         ],
         "textposition": "outside",
         "type": "bar",
         "visible": false,
         "x": [
          0.2820410132408142,
          0.2931699752807617,
          0.299541175365448,
          0.31362056732177734,
          0.3201035261154175,
          0.34381794929504395,
          0.3528314530849457,
          0.36554190516471863
         ],
         "y0": 0.529
        },
        {
         "base": -0.3,
         "dy": 0.214,
         "hoverinfo": "skip",
         "marker": {
          "color": "rgb(175,122,197)"
         },
         "orientation": "h",
         "text": [
          "comprehensive_immigration_reform",
          "daca",
          "broken_system",
          "refugees",
          "legal_immigration",
          "immigrant_rights",
          "immigrant",
          "america"
         ],
         "textposition": "outside",
         "type": "bar",
         "visible": false,
         "x": [
          0.2608465552330017,
          0.27118077874183655,
          0.2767447829246521,
          0.2991092801094055,
          0.3113585114479065,
          0.329704225063324,
          0.3415515422821045,
          0.34358376264572144
         ],
         "y0": 0.529
        },
        {
         "base": -0.3,
         "dy": 0.214,
         "hoverinfo": "skip",
         "marker": {
          "color": "rgb(175,122,197)"
         },
         "orientation": "h",
         "text": [
          "comprehensive_immigration_reform",
          "daca",
          "broken_system",
          "refugees",
          "legal_immigration",
          "immigrant_rights",
          "america",
          "immigrant"
         ],
         "textposition": "outside",
         "type": "bar",
         "visible": false,
         "x": [
          0.24143600463867188,
          0.25090292096138,
          0.25574326515197754,
          0.28532445430755615,
          0.3028978407382965,
          0.31622302532196045,
          0.3230207562446594,
          0.33069297671318054
         ],
         "y0": 0.529
        },
        {
         "base": -0.3,
         "dy": 0.214,
         "hoverinfo": "skip",
         "marker": {
          "color": "rgb(175,122,197)"
         },
         "orientation": "h",
         "text": [
          "comprehensive_immigration_reform",
          "daca",
          "broken_system",
          "refugees",
          "legal_immigration",
          "immigrant_rights",
          "america",
          "immigrant"
         ],
         "textposition": "outside",
         "type": "bar",
         "visible": false,
         "x": [
          0.22353041172027588,
          0.23219875991344452,
          0.23639081418514252,
          0.27222740650177,
          0.2947111129760742,
          0.30334407091140747,
          0.30375993251800537,
          0.3202385902404785
         ],
         "y0": 0.529
        },
        {
         "base": -0.3,
         "dy": 0.214,
         "hoverinfo": "skip",
         "marker": {
          "color": "rgb(175,122,197)"
         },
         "orientation": "h",
         "text": [
          "comprehensive_immigration_reform",
          "daca",
          "broken_system",
          "refugees",
          "america",
          "legal_immigration",
          "immigrant_rights",
          "immigrant"
         ],
         "textposition": "outside",
         "type": "bar",
         "visible": false,
         "x": [
          0.20700886845588684,
          0.2149421125650406,
          0.21855391561985016,
          0.2597816288471222,
          0.28571492433547974,
          0.2867887020111084,
          0.29103878140449524,
          0.3101716935634613
         ],
         "y0": 0.529
        },
        {
         "base": -0.3,
         "dy": 0.214,
         "hoverinfo": "skip",
         "marker": {
          "color": "rgb(175,122,197)"
         },
         "orientation": "h",
         "text": [
          "comprehensive_immigration_reform",
          "daca",
          "broken_system",
          "refugees",
          "america",
          "legal_immigration",
          "immigrant_rights",
          "immigrant"
         ],
         "textposition": "outside",
         "type": "bar",
         "visible": false,
         "x": [
          0.19176039099693298,
          0.19901719689369202,
          0.20211029052734375,
          0.2479526549577713,
          0.2688051760196686,
          0.279121071100235,
          0.27927958965301514,
          0.3004765808582306
         ],
         "y0": 0.529
        },
        {
         "base": -0.3,
         "dy": 0.214,
         "hoverinfo": "skip",
         "marker": {
          "color": "rgb(175,122,197)"
         },
         "orientation": "h",
         "text": [
          "comprehensive_immigration_reform",
          "daca",
          "broken_system",
          "refugees",
          "america",
          "immigrant_rights",
          "legal_immigration",
          "immigrant"
         ],
         "textposition": "outside",
         "type": "bar",
         "visible": false,
         "x": [
          0.17768330872058868,
          0.1843177080154419,
          0.18694758415222168,
          0.23670794069766998,
          0.2529557943344116,
          0.26804062724113464,
          0.2716991901397705,
          0.29113805294036865
         ],
         "y0": 0.529
        },
        {
         "base": -0.3,
         "dy": 0.214,
         "hoverinfo": "skip",
         "marker": {
          "color": "rgb(175,122,197)"
         },
         "orientation": "h",
         "text": [
          "comprehensive_immigration_reform",
          "daca",
          "broken_system",
          "refugees",
          "america",
          "immigrant_rights",
          "legal_immigration",
          "immigrant"
         ],
         "textposition": "outside",
         "type": "bar",
         "visible": false,
         "x": [
          0.16468428075313568,
          0.17074616253376007,
          0.17296291887760162,
          0.2260168045759201,
          0.23809702694416046,
          0.2572973370552063,
          0.2645142674446106,
          0.28214165568351746
         ],
         "y0": 0.529
        },
        {
         "base": -0.3,
         "dy": 0.214,
         "hoverinfo": "skip",
         "marker": {
          "color": "rgb(175,122,197)"
         },
         "orientation": "h",
         "text": [
          "comprehensive_immigration_reform",
          "daca",
          "broken_system",
          "refugees",
          "america",
          "immigrant_rights",
          "legal_immigration",
          "immigrant"
         ],
         "textposition": "outside",
         "type": "bar",
         "visible": false,
         "x": [
          0.15267761051654816,
          0.15821300446987152,
          0.16006186604499817,
          0.21585015952587128,
          0.22416388988494873,
          0.2470262050628662,
          0.2575579881668091,
          0.2734735310077667
         ],
         "y0": 0.529
        },
        {
         "base": -0.3,
         "dy": 0.214,
         "hoverinfo": "skip",
         "marker": {
          "color": "rgb(175,122,197)"
         },
         "orientation": "h",
         "text": [
          "comprehensive_immigration_reform",
          "daca",
          "broken_system",
          "refugees",
          "america",
          "immigrant_rights",
          "legal_immigration",
          "immigrant"
         ],
         "textposition": "outside",
         "type": "bar",
         "visible": false,
         "x": [
          0.14158466458320618,
          0.14663609862327576,
          0.1481577605009079,
          0.20618054270744324,
          0.21109580993652344,
          0.23720502853393555,
          0.2508222162723541,
          0.2651205062866211
         ],
         "y0": 0.529
        },
        {
         "base": -0.3,
         "dy": 0.214,
         "hoverinfo": "skip",
         "marker": {
          "color": "rgb(175,122,197)"
         },
         "orientation": "h",
         "text": [
          "homeland_security",
          "daca",
          "broken_system",
          "refugees",
          "america",
          "immigrant_rights",
          "legal_immigration",
          "immigrant"
         ],
         "textposition": "outside",
         "type": "bar",
         "visible": false,
         "x": [
          0.13450393080711365,
          0.13593992590904236,
          0.13717111945152283,
          0.19698214530944824,
          0.19883638620376587,
          0.22781267762184143,
          0.24429918825626373,
          0.2570698857307434
         ],
         "y0": 0.529
        },
        {
         "base": -0.3,
         "dy": 0.214,
         "hoverinfo": "skip",
         "marker": {
          "color": "rgb(175,122,197)"
         },
         "orientation": "h",
         "text": [
          "law",
          "immigration",
          "homeland_security",
          "america",
          "refugees",
          "immigrant_rights",
          "legal_immigration",
          "immigrant"
         ],
         "textposition": "outside",
         "type": "bar",
         "visible": false,
         "x": [
          0.13375988602638245,
          0.13487859070301056,
          0.1382037252187729,
          0.18733307719230652,
          0.18823041021823883,
          0.21882908046245575,
          0.23798149824142456,
          0.24930959939956665
         ],
         "y0": 0.529
        },
        {
         "base": -0.3,
         "dy": 0.214,
         "hoverinfo": "skip",
         "marker": {
          "color": "rgb(175,122,197)"
         },
         "orientation": "h",
         "text": [
          "law",
          "immigration",
          "homeland_security",
          "america",
          "refugees",
          "immigrant_rights",
          "legal_immigration",
          "immigrant"
         ],
         "textposition": "outside",
         "type": "bar",
         "visible": false,
         "x": [
          0.13710501790046692,
          0.1391138881444931,
          0.14203360676765442,
          0.17653685808181763,
          0.17990216612815857,
          0.2102351188659668,
          0.2318619042634964,
          0.24182802438735962
         ],
         "y0": 0.529
        },
        {
         "base": -0.3,
         "dy": 0.214,
         "hoverinfo": "skip",
         "marker": {
          "color": "rgb(175,122,197)"
         },
         "orientation": "h",
         "text": [
          "law",
          "immigration",
          "homeland_security",
          "america",
          "refugees",
          "immigrant_rights",
          "legal_immigration",
          "immigrant"
         ],
         "textposition": "outside",
         "type": "bar",
         "visible": false,
         "x": [
          0.14056043326854706,
          0.1435137689113617,
          0.14599871635437012,
          0.16640202701091766,
          0.17197558283805847,
          0.20201267302036285,
          0.22593356668949127,
          0.23461413383483887
         ],
         "y0": 0.529
        },
        {
         "base": -0.3,
         "dy": 0.214,
         "hoverinfo": "skip",
         "marker": {
          "color": "rgb(175,122,197)"
         },
         "orientation": "h",
         "text": [
          "law",
          "immigration",
          "homeland_security",
          "america",
          "refugees",
          "immigrant_rights",
          "legal_immigration",
          "immigrant"
         ],
         "textposition": "outside",
         "type": "bar",
         "visible": false,
         "x": [
          0.14413022994995117,
          0.14808538556098938,
          0.15010438859462738,
          0.15688598155975342,
          0.16442997753620148,
          0.19414453208446503,
          0.22018976509571075,
          0.22765731811523438
         ],
         "y0": 0.529
        },
        {
         "base": -0.3,
         "dy": 0.214,
         "hoverinfo": "skip",
         "marker": {
          "color": "rgb(175,122,197)"
         },
         "orientation": "h",
         "text": [
          "law",
          "america",
          "immigration",
          "homeland_security",
          "refugees",
          "immigrant_rights",
          "legal_immigration",
          "immigrant"
         ],
         "textposition": "outside",
         "type": "bar",
         "visible": false,
         "x": [
          0.1478186696767807,
          0.1479489952325821,
          0.15283627808094025,
          0.15435630083084106,
          0.15724575519561768,
          0.1866142451763153,
          0.21462418138980865,
          0.22094742953777313
         ],
         "y0": 0.529
        },
        {
         "base": -0.3,
         "dy": 0.214,
         "hoverinfo": "skip",
         "marker": {
          "color": "rgb(175,122,197)"
         },
         "orientation": "h",
         "text": [
          "america",
          "refugees",
          "law",
          "immigration",
          "homeland_security",
          "immigrant_rights",
          "legal_immigration",
          "immigrant"
         ],
         "textposition": "outside",
         "type": "bar",
         "visible": false,
         "x": [
          0.139553964138031,
          0.1504044383764267,
          0.1516302227973938,
          0.15777431428432465,
          0.15876027941703796,
          0.17940625548362732,
          0.20923061668872833,
          0.21447473764419556
         ],
         "y0": 0.529
        },
        {
         "base": -0.3,
         "dy": 0.214,
         "hoverinfo": "skip",
         "marker": {
          "color": "rgb(175,122,197)"
         },
         "orientation": "h",
         "text": [
          "border",
          "refugees",
          "law",
          "immigration",
          "homeland_security",
          "immigrant_rights",
          "legal_immigration",
          "immigrant"
         ],
         "textposition": "outside",
         "type": "bar",
         "visible": false,
         "x": [
          0.1375913918018341,
          0.1438884735107422,
          0.15556952357292175,
          0.16290774941444397,
          0.16332246363162994,
          0.1725057065486908,
          0.20400317013263702,
          0.20823000371456146
         ],
         "y0": 0.529
        },
        {
         "base": -0.3,
         "dy": 0.214,
         "hoverinfo": "skip",
         "marker": {
          "color": "rgb(175,122,197)"
         },
         "orientation": "h",
         "text": [
          "refugees",
          "border",
          "law",
          "immigrant_rights",
          "homeland_security",
          "immigration",
          "legal_immigration",
          "immigrant"
         ],
         "textposition": "outside",
         "type": "bar",
         "visible": true,
         "x": [
          0.13768139481544495,
          0.14158421754837036,
          0.15964141488075256,
          0.16589851677417755,
          0.16804920136928558,
          0.16824521124362946,
          0.19893613457679749,
          0.20220425724983215
         ],
         "y0": 0.529
        },
        {
         "base": -0.3,
         "dy": 0.214,
         "hoverinfo": "skip",
         "marker": {
          "color": "rgb(175,122,197)"
         },
         "orientation": "h",
         "text": [
          "refugees",
          "border",
          "immigrant_rights",
          "law",
          "homeland_security",
          "immigration",
          "legal_immigration",
          "immigrant"
         ],
         "textposition": "outside",
         "type": "bar",
         "visible": false,
         "x": [
          0.13176748156547546,
          0.1457168459892273,
          0.15957124531269073,
          0.16385090351104736,
          0.1729472130537033,
          0.17379581928253174,
          0.19402402639389038,
          0.19638898968696594
         ],
         "y0": 0.529
        },
        {
         "base": -0.3,
         "dy": 0.214,
         "hoverinfo": "skip",
         "marker": {
          "color": "rgb(175,122,197)"
         },
         "orientation": "h",
         "text": [
          "refugees",
          "border",
          "immigrant_rights",
          "law",
          "homeland_security",
          "immigration",
          "legal_immigration",
          "immigrant"
         ],
         "textposition": "outside",
         "type": "bar",
         "visible": false,
         "x": [
          0.12613190710544586,
          0.14999476075172424,
          0.1535111367702484,
          0.1682032346725464,
          0.17802345752716064,
          0.1795690506696701,
          0.18926158547401428,
          0.190776064991951
         ],
         "y0": 0.529
        },
        {
         "base": -0.3,
         "dy": 0.214,
         "hoverinfo": "skip",
         "marker": {
          "color": "rgb(175,122,197)"
         },
         "orientation": "h",
         "text": [
          "refugees",
          "immigrant_rights",
          "border",
          "law",
          "homeland_security",
          "legal_immigration",
          "immigrant",
          "immigration"
         ],
         "textposition": "outside",
         "type": "bar",
         "visible": false,
         "x": [
          0.12076064199209213,
          0.1477060616016388,
          0.15442365407943726,
          0.17270387709140778,
          0.18328523635864258,
          0.1846437156200409,
          0.1853576898574829,
          0.18557490408420563
         ],
         "y0": 0.529
        },
        {
         "base": -0.3,
         "dy": 0.214,
         "hoverinfo": "skip",
         "marker": {
          "color": "rgb(175,122,197)"
         },
         "orientation": "h",
         "text": [
          "secure",
          "immigrant_rights",
          "border",
          "law",
          "immigrant",
          "legal_immigration",
          "homeland_security",
          "immigration"
         ],
         "textposition": "outside",
         "type": "bar",
         "visible": false,
         "x": [
          0.12620507180690765,
          0.14214442670345306,
          0.15900945663452148,
          0.17735853791236877,
          0.18012629449367523,
          0.18016549944877625,
          0.188740074634552,
          0.19182385504245758
         ],
         "y0": 0.529
        },
        {
         "base": -0.3,
         "dy": 0.214,
         "hoverinfo": "skip",
         "marker": {
          "color": "rgb(175,122,197)"
         },
         "orientation": "h",
         "text": [
          "secure",
          "immigrant_rights",
          "border",
          "immigrant",
          "legal_immigration",
          "law",
          "homeland_security",
          "immigration"
         ],
         "textposition": "outside",
         "type": "bar",
         "visible": false,
         "x": [
          0.13334733247756958,
          0.13681523501873016,
          0.16375833749771118,
          0.17507478594779968,
          0.17582225799560547,
          0.18217313289642334,
          0.19439606368541718,
          0.19832687079906464
         ],
         "y0": 0.529
        },
        {
         "base": -0.3,
         "dy": 0.214,
         "hoverinfo": "skip",
         "marker": {
          "color": "rgb(175,122,197)"
         },
         "orientation": "h",
         "text": [
          "immigrant_rights",
          "secure",
          "border",
          "immigrant",
          "legal_immigration",
          "law",
          "homeland_security",
          "immigration"
         ],
         "textposition": "outside",
         "type": "bar",
         "visible": false,
         "x": [
          0.1317080408334732,
          0.14092856645584106,
          0.16867679357528687,
          0.17019622027873993,
          0.17160944640636444,
          0.1871538907289505,
          0.20026139914989471,
          0.20509548485279083
         ],
         "y0": 0.529
        },
        {
         "base": -0.3,
         "dy": 0.214,
         "hoverinfo": "skip",
         "marker": {
          "color": "rgb(175,122,197)"
         },
         "orientation": "h",
         "text": [
          "immigrant_rights",
          "secure",
          "immigrant",
          "legal_immigration",
          "border",
          "law",
          "homeland_security",
          "immigration"
         ],
         "textposition": "outside",
         "type": "bar",
         "visible": false,
         "x": [
          0.12681283056735992,
          0.148977592587471,
          0.16548402607440948,
          0.16752266883850098,
          0.17377150058746338,
          0.192307248711586,
          0.2063448131084442,
          0.21214179694652557
         ],
         "y0": 0.529
        },
        {
         "base": -0.3,
         "dy": 0.214,
         "hoverinfo": "skip",
         "marker": {
          "color": "rgb(175,122,197)"
         },
         "orientation": "h",
         "text": [
          "enforce",
          "secure",
          "immigrant",
          "legal_immigration",
          "border",
          "law",
          "homeland_security",
          "immigration"
         ],
         "textposition": "outside",
         "type": "bar",
         "visible": false,
         "x": [
          0.1360505074262619,
          0.1575252115726471,
          0.16093192994594574,
          0.1635577380657196,
          0.179049551486969,
          0.19763991236686707,
          0.2126554250717163,
          0.21947848796844482
         ],
         "y0": 0.529
        },
        {
         "base": -0.3,
         "dy": 0.214,
         "hoverinfo": "skip",
         "marker": {
          "color": "rgb(175,122,197)"
         },
         "orientation": "h",
         "text": [
          "enforce",
          "immigrant",
          "legal_immigration",
          "secure",
          "border",
          "law",
          "homeland_security",
          "immigration"
         ],
         "textposition": "outside",
         "type": "bar",
         "visible": false,
         "x": [
          0.1465139240026474,
          0.1565338373184204,
          0.1597105711698532,
          0.16660434007644653,
          0.1845182329416275,
          0.20315897464752197,
          0.2192026972770691,
          0.22711887955665588
         ],
         "y0": 0.529
        },
        {
         "base": -0.3,
         "dy": 0.214,
         "hoverinfo": "skip",
         "marker": {
          "color": "rgb(175,122,197)"
         },
         "orientation": "h",
         "text": [
          "illegal",
          "legal_immigration",
          "enforce",
          "secure",
          "border",
          "law",
          "homeland_security",
          "immigration"
         ],
         "textposition": "outside",
         "type": "bar",
         "visible": false,
         "x": [
          0.1545385718345642,
          0.155977264046669,
          0.15783017873764038,
          0.17625026404857635,
          0.19018518924713135,
          0.20887164771556854,
          0.22599655389785767,
          0.23507699370384216
         ],
         "y0": 0.529
        },
        {
         "base": -0.3,
         "dy": 0.214,
         "hoverinfo": "skip",
         "marker": {
          "color": "rgb(175,122,197)"
         },
         "orientation": "h",
         "text": [
          "amnesty",
          "illegal",
          "enforce",
          "secure",
          "border",
          "law",
          "homeland_security",
          "immigration"
         ],
         "textposition": "outside",
         "type": "bar",
         "visible": false,
         "x": [
          0.1591198891401291,
          0.16656331717967987,
          0.17007233202457428,
          0.1865006983280182,
          0.19605843722820282,
          0.21478566527366638,
          0.23304744064807892,
          0.2433674931526184
         ],
         "y0": 0.529
        },
        {
         "base": -0.3,
         "dy": 0.214,
         "hoverinfo": "skip",
         "marker": {
          "color": "rgb(175,122,197)"
         },
         "orientation": "h",
         "text": [
          "amnesty",
          "illegal",
          "enforce",
          "secure",
          "border",
          "law",
          "homeland_security",
          "immigration"
         ],
         "textposition": "outside",
         "type": "bar",
         "visible": false,
         "x": [
          0.17113324999809265,
          0.17957839369773865,
          0.18331995606422424,
          0.19739599525928497,
          0.2021462619304657,
          0.22090895473957062,
          0.24036617577075958,
          0.2520058751106262
         ],
         "y0": 0.529
        },
        {
         "base": -0.3,
         "dy": 0.214,
         "hoverinfo": "skip",
         "marker": {
          "color": "rgb(175,122,197)"
         },
         "orientation": "h",
         "text": [
          "amnesty",
          "illegal",
          "enforce",
          "border",
          "secure",
          "law",
          "homeland_security",
          "immigration"
         ],
         "textposition": "outside",
         "type": "bar",
         "visible": false,
         "x": [
          0.18409952521324158,
          0.1936694234609604,
          0.19765974581241608,
          0.20845739543437958,
          0.20897936820983887,
          0.2272498607635498,
          0.24796417355537415,
          0.26100829243659973
         ],
         "y0": 0.529
        },
        {
         "base": -0.3,
         "dy": 0.214,
         "hoverinfo": "skip",
         "marker": {
          "color": "rgb(175,122,197)"
         },
         "orientation": "h",
         "text": [
          "amnesty",
          "illegal",
          "enforce",
          "border",
          "secure",
          "law",
          "homeland_security",
          "immigration"
         ],
         "textposition": "outside",
         "type": "bar",
         "visible": false,
         "x": [
          0.19809764623641968,
          0.20892968773841858,
          0.21318623423576355,
          0.2150009274482727,
          0.221297025680542,
          0.23381704092025757,
          0.2558532953262329,
          0.2703917920589447
         ],
         "y0": 0.529
        },
        {
         "base": -0.3,
         "dy": 0.214,
         "hoverinfo": "skip",
         "marker": {
          "color": "rgb(175,122,197)"
         },
         "orientation": "h",
         "text": [
          "amnesty",
          "border",
          "illegal",
          "enforce",
          "secure",
          "law",
          "homeland_security",
          "immigration"
         ],
         "textposition": "outside",
         "type": "bar",
         "visible": false,
         "x": [
          0.21321332454681396,
          0.2217862606048584,
          0.22546106576919556,
          0.2300024926662445,
          0.23439861834049225,
          0.24061959981918335,
          0.2640460431575775,
          0.2801743447780609
         ],
         "y0": 0.529
        },
        {
         "base": -0.3,
         "dy": 0.214,
         "hoverinfo": "skip",
         "marker": {
          "color": "rgb(175,122,197)"
         },
         "orientation": "h",
         "text": [
          "border",
          "amnesty",
          "illegal",
          "law",
          "enforce",
          "secure",
          "homeland_security",
          "immigration"
         ],
         "textposition": "outside",
         "type": "bar",
         "visible": false,
         "x": [
          0.22882336378097534,
          0.2295396476984024,
          0.2433745563030243,
          0.24766695499420166,
          0.24822098016738892,
          0.24833714962005615,
          0.2725554406642914,
          0.2903746962547302
         ],
         "y0": 0.529
        },
        {
         "base": -0.3,
         "dy": 0.214,
         "hoverinfo": "skip",
         "marker": {
          "color": "rgb(175,122,197)"
         },
         "orientation": "h",
         "text": [
          "illegal_immigrants",
          "amnesty",
          "law",
          "illegal",
          "secure",
          "enforce",
          "homeland_security",
          "immigration"
         ],
         "textposition": "outside",
         "type": "bar",
         "visible": false,
         "x": [
          0.24656987190246582,
          0.24717780947685242,
          0.2549689710140228,
          0.26279133558273315,
          0.26316946744918823,
          0.267964243888855,
          0.2813951373100281,
          0.30101266503334045
         ],
         "y0": 0.529
        },
        {
         "base": -0.3,
         "dy": 0.214,
         "hoverinfo": "skip",
         "marker": {
          "color": "rgb(175,122,197)"
         },
         "orientation": "h",
         "text": [
          "law",
          "illegal_immigrants",
          "amnesty",
          "secure",
          "illegal",
          "enforce",
          "homeland_security",
          "immigration"
         ],
         "textposition": "outside",
         "type": "bar",
         "visible": false,
         "x": [
          0.26253604888916016,
          0.2658228278160095,
          0.2662377655506134,
          0.2789565324783325,
          0.28384360671043396,
          0.28936606645584106,
          0.2905794382095337,
          0.3121090531349182
         ],
         "y0": 0.529
        },
        {
         "base": -0.3,
         "dy": 0.214,
         "hoverinfo": "skip",
         "marker": {
          "color": "rgb(175,122,197)"
         },
         "orientation": "h",
         "text": [
          "law",
          "illegal_immigrants",
          "amnesty",
          "secure",
          "homeland_security",
          "illegal",
          "enforce",
          "immigration"
         ],
         "textposition": "outside",
         "type": "bar",
         "visible": false,
         "x": [
          0.27037885785102844,
          0.2866545021533966,
          0.28683897852897644,
          0.2957635521888733,
          0.30012327432632446,
          0.3066757023334503,
          0.3125724792480469,
          0.3236857056617737
         ],
         "y0": 0.529
        },
        {
         "base": -0.3,
         "dy": 0.214,
         "hoverinfo": "skip",
         "marker": {
          "color": "rgb(175,122,197)"
         },
         "orientation": "h",
         "text": [
          "wall",
          "amnesty",
          "illegal_immigrants",
          "homeland_security",
          "secure",
          "illegal",
          "immigration",
          "enforce"
         ],
         "textposition": "outside",
         "type": "bar",
         "visible": false,
         "x": [
          0.27864062786102295,
          0.30911144614219666,
          0.3091999590396881,
          0.3100423216819763,
          0.3136606514453888,
          0.3314453363418579,
          0.33576563000679016,
          0.33774304389953613
         ],
         "y0": 0.529
        },
        {
         "base": -0.3,
         "dy": 0.214,
         "hoverinfo": "skip",
         "marker": {
          "color": "rgb(175,122,197)"
         },
         "orientation": "h",
         "text": [
          "wall",
          "homeland_security",
          "secure",
          "amnesty",
          "illegal_immigrants",
          "immigration",
          "illegal",
          "enforce"
         ],
         "textposition": "outside",
         "type": "bar",
         "visible": false,
         "x": [
          0.299485981464386,
          0.32035306096076965,
          0.33272290229797363,
          0.33319640159606934,
          0.33360642194747925,
          0.34837308526039124,
          0.35832464694976807,
          0.36505189538002014
         ],
         "y0": 0.529
        }
       ],
       "layout": {
        "annotations": [
         {
          "font": {
           "size": 14
          },
          "showarrow": false,
          "text": "Move slider to change ideal point",
          "x": 0.5,
          "xref": "paper",
          "y": 0.255,
          "yref": "paper"
         }
        ],
        "paper_bgcolor": "rgba(0,0,0,0)",
        "plot_bgcolor": "rgba(0,0,0,0)",
        "showlegend": false,
        "sliders": [
         {
          "active": 20,
          "currentvalue": {
           "prefix": "Ideal Point: "
          },
          "steps": [
           {
            "args": [
             {
              "visible": [
               true,
               true,
               true,
               false,
               false,
               false,
               false,
               false,
               false,
               false,
               false,
               false,
               false,
               false,
               false,
               false,
               false,
               false,
               false,
               false,
               false,
               false,
               false,
               false,
               false,
               false,
               false,
               false,
               false,
               false,
               false,
               false,
               false,
               false,
               false,
               false,
               false,
               false,
               false,
               false,
               false,
               false,
               false
              ]
             }
            ],
            "label": "-1.00",
            "method": "update"
           },
           {
            "args": [
             {
              "visible": [
               true,
               true,
               false,
               true,
               false,
               false,
               false,
               false,
               false,
               false,
               false,
               false,
               false,
               false,
               false,
               false,
               false,
               false,
               false,
               false,
               false,
               false,
               false,
               false,
               false,
               false,
               false,
               false,
               false,
               false,
               false,
               false,
               false,
               false,
               false,
               false,
               false,
               false,
               false,
               false,
               false,
               false,
               false
              ]
             }
            ],
            "label": "-0.95",
            "method": "update"
           },
           {
            "args": [
             {
              "visible": [
               true,
               true,
               false,
               false,
               true,
               false,
               false,
               false,
               false,
               false,
               false,
               false,
               false,
               false,
               false,
               false,
               false,
               false,
               false,
               false,
               false,
               false,
               false,
               false,
               false,
               false,
               false,
               false,
               false,
               false,
               false,
               false,
               false,
               false,
               false,
               false,
               false,
               false,
               false,
               false,
               false,
               false,
               false
              ]
             }
            ],
            "label": "-0.90",
            "method": "update"
           },
           {
            "args": [
             {
              "visible": [
               true,
               true,
               false,
               false,
               false,
               true,
               false,
               false,
               false,
               false,
               false,
               false,
               false,
               false,
               false,
               false,
               false,
               false,
               false,
               false,
               false,
               false,
               false,
               false,
               false,
               false,
               false,
               false,
               false,
               false,
               false,
               false,
               false,
               false,
               false,
               false,
               false,
               false,
               false,
               false,
               false,
               false,
               false
              ]
             }
            ],
            "label": "-0.85",
            "method": "update"
           },
           {
            "args": [
             {
              "visible": [
               true,
               true,
               false,
               false,
               false,
               false,
               true,
               false,
               false,
               false,
               false,
               false,
               false,
               false,
               false,
               false,
               false,
               false,
               false,
               false,
               false,
               false,
               false,
               false,
               false,
               false,
               false,
               false,
               false,
               false,
               false,
               false,
               false,
               false,
               false,
               false,
               false,
               false,
               false,
               false,
               false,
               false,
               false
              ]
             }
            ],
            "label": "-0.80",
            "method": "update"
           },
           {
            "args": [
             {
              "visible": [
               true,
               true,
               false,
               false,
               false,
               false,
               false,
               true,
               false,
               false,
               false,
               false,
               false,
               false,
               false,
               false,
               false,
               false,
               false,
               false,
               false,
               false,
               false,
               false,
               false,
               false,
               false,
               false,
               false,
               false,
               false,
               false,
               false,
               false,
               false,
               false,
               false,
               false,
               false,
               false,
               false,
               false,
               false
              ]
             }
            ],
            "label": "-0.75",
            "method": "update"
           },
           {
            "args": [
             {
              "visible": [
               true,
               true,
               false,
               false,
               false,
               false,
               false,
               false,
               true,
               false,
               false,
               false,
               false,
               false,
               false,
               false,
               false,
               false,
               false,
               false,
               false,
               false,
               false,
               false,
               false,
               false,
               false,
               false,
               false,
               false,
               false,
               false,
               false,
               false,
               false,
               false,
               false,
               false,
               false,
               false,
               false,
               false,
               false
              ]
             }
            ],
            "label": "-0.70",
            "method": "update"
           },
           {
            "args": [
             {
              "visible": [
               true,
               true,
               false,
               false,
               false,
               false,
               false,
               false,
               false,
               true,
               false,
               false,
               false,
               false,
               false,
               false,
               false,
               false,
               false,
               false,
               false,
               false,
               false,
               false,
               false,
               false,
               false,
               false,
               false,
               false,
               false,
               false,
               false,
               false,
               false,
               false,
               false,
               false,
               false,
               false,
               false,
               false,
               false
              ]
             }
            ],
            "label": "-0.65",
            "method": "update"
           },
           {
            "args": [
             {
              "visible": [
               true,
               true,
               false,
               false,
               false,
               false,
               false,
               false,
               false,
               false,
               true,
               false,
               false,
               false,
               false,
               false,
               false,
               false,
               false,
               false,
               false,
               false,
               false,
               false,
               false,
               false,
               false,
               false,
               false,
               false,
               false,
               false,
               false,
               false,
               false,
               false,
               false,
               false,
               false,
               false,
               false,
               false,
               false
              ]
             }
            ],
            "label": "-0.60",
            "method": "update"
           },
           {
            "args": [
             {
              "visible": [
               true,
               true,
               false,
               false,
               false,
               false,
               false,
               false,
               false,
               false,
               false,
               true,
               false,
               false,
               false,
               false,
               false,
               false,
               false,
               false,
               false,
               false,
               false,
               false,
               false,
               false,
               false,
               false,
               false,
               false,
               false,
               false,
               false,
               false,
               false,
               false,
               false,
               false,
               false,
               false,
               false,
               false,
               false
              ]
             }
            ],
            "label": "-0.55",
            "method": "update"
           },
           {
            "args": [
             {
              "visible": [
               true,
               true,
               false,
               false,
               false,
               false,
               false,
               false,
               false,
               false,
               false,
               false,
               true,
               false,
               false,
               false,
               false,
               false,
               false,
               false,
               false,
               false,
               false,
               false,
               false,
               false,
               false,
               false,
               false,
               false,
               false,
               false,
               false,
               false,
               false,
               false,
               false,
               false,
               false,
               false,
               false,
               false,
               false
              ]
             }
            ],
            "label": "-0.50",
            "method": "update"
           },
           {
            "args": [
             {
              "visible": [
               true,
               true,
               false,
               false,
               false,
               false,
               false,
               false,
               false,
               false,
               false,
               false,
               false,
               true,
               false,
               false,
               false,
               false,
               false,
               false,
               false,
               false,
               false,
               false,
               false,
               false,
               false,
               false,
               false,
               false,
               false,
               false,
               false,
               false,
               false,
               false,
               false,
               false,
               false,
               false,
               false,
               false,
               false
              ]
             }
            ],
            "label": "-0.45",
            "method": "update"
           },
           {
            "args": [
             {
              "visible": [
               true,
               true,
               false,
               false,
               false,
               false,
               false,
               false,
               false,
               false,
               false,
               false,
               false,
               false,
               true,
               false,
               false,
               false,
               false,
               false,
               false,
               false,
               false,
               false,
               false,
               false,
               false,
               false,
               false,
               false,
               false,
               false,
               false,
               false,
               false,
               false,
               false,
               false,
               false,
               false,
               false,
               false,
               false
              ]
             }
            ],
            "label": "-0.40",
            "method": "update"
           },
           {
            "args": [
             {
              "visible": [
               true,
               true,
               false,
               false,
               false,
               false,
               false,
               false,
               false,
               false,
               false,
               false,
               false,
               false,
               false,
               true,
               false,
               false,
               false,
               false,
               false,
               false,
               false,
               false,
               false,
               false,
               false,
               false,
               false,
               false,
               false,
               false,
               false,
               false,
               false,
               false,
               false,
               false,
               false,
               false,
               false,
               false,
               false
              ]
             }
            ],
            "label": "-0.35",
            "method": "update"
           },
           {
            "args": [
             {
              "visible": [
               true,
               true,
               false,
               false,
               false,
               false,
               false,
               false,
               false,
               false,
               false,
               false,
               false,
               false,
               false,
               false,
               true,
               false,
               false,
               false,
               false,
               false,
               false,
               false,
               false,
               false,
               false,
               false,
               false,
               false,
               false,
               false,
               false,
               false,
               false,
               false,
               false,
               false,
               false,
               false,
               false,
               false,
               false
              ]
             }
            ],
            "label": "-0.30",
            "method": "update"
           },
           {
            "args": [
             {
              "visible": [
               true,
               true,
               false,
               false,
               false,
               false,
               false,
               false,
               false,
               false,
               false,
               false,
               false,
               false,
               false,
               false,
               false,
               true,
               false,
               false,
               false,
               false,
               false,
               false,
               false,
               false,
               false,
               false,
               false,
               false,
               false,
               false,
               false,
               false,
               false,
               false,
               false,
               false,
               false,
               false,
               false,
               false,
               false
              ]
             }
            ],
            "label": "-0.25",
            "method": "update"
           },
           {
            "args": [
             {
              "visible": [
               true,
               true,
               false,
               false,
               false,
               false,
               false,
               false,
               false,
               false,
               false,
               false,
               false,
               false,
               false,
               false,
               false,
               false,
               true,
               false,
               false,
               false,
               false,
               false,
               false,
               false,
               false,
               false,
               false,
               false,
               false,
               false,
               false,
               false,
               false,
               false,
               false,
               false,
               false,
               false,
               false,
               false,
               false
              ]
             }
            ],
            "label": "-0.20",
            "method": "update"
           },
           {
            "args": [
             {
              "visible": [
               true,
               true,
               false,
               false,
               false,
               false,
               false,
               false,
               false,
               false,
               false,
               false,
               false,
               false,
               false,
               false,
               false,
               false,
               false,
               true,
               false,
               false,
               false,
               false,
               false,
               false,
               false,
               false,
               false,
               false,
               false,
               false,
               false,
               false,
               false,
               false,
               false,
               false,
               false,
               false,
               false,
               false,
               false
              ]
             }
            ],
            "label": "-0.15",
            "method": "update"
           },
           {
            "args": [
             {
              "visible": [
               true,
               true,
               false,
               false,
               false,
               false,
               false,
               false,
               false,
               false,
               false,
               false,
               false,
               false,
               false,
               false,
               false,
               false,
               false,
               false,
               true,
               false,
               false,
               false,
               false,
               false,
               false,
               false,
               false,
               false,
               false,
               false,
               false,
               false,
               false,
               false,
               false,
               false,
               false,
               false,
               false,
               false,
               false
              ]
             }
            ],
            "label": "-0.10",
            "method": "update"
           },
           {
            "args": [
             {
              "visible": [
               true,
               true,
               false,
               false,
               false,
               false,
               false,
               false,
               false,
               false,
               false,
               false,
               false,
               false,
               false,
               false,
               false,
               false,
               false,
               false,
               false,
               true,
               false,
               false,
               false,
               false,
               false,
               false,
               false,
               false,
               false,
               false,
               false,
               false,
               false,
               false,
               false,
               false,
               false,
               false,
               false,
               false,
               false
              ]
             }
            ],
            "label": "-0.05",
            "method": "update"
           },
           {
            "args": [
             {
              "visible": [
               true,
               true,
               false,
               false,
               false,
               false,
               false,
               false,
               false,
               false,
               false,
               false,
               false,
               false,
               false,
               false,
               false,
               false,
               false,
               false,
               false,
               false,
               true,
               false,
               false,
               false,
               false,
               false,
               false,
               false,
               false,
               false,
               false,
               false,
               false,
               false,
               false,
               false,
               false,
               false,
               false,
               false,
               false
              ]
             }
            ],
            "label": "0.00",
            "method": "update"
           },
           {
            "args": [
             {
              "visible": [
               true,
               true,
               false,
               false,
               false,
               false,
               false,
               false,
               false,
               false,
               false,
               false,
               false,
               false,
               false,
               false,
               false,
               false,
               false,
               false,
               false,
               false,
               false,
               true,
               false,
               false,
               false,
               false,
               false,
               false,
               false,
               false,
               false,
               false,
               false,
               false,
               false,
               false,
               false,
               false,
               false,
               false,
               false
              ]
             }
            ],
            "label": "0.05",
            "method": "update"
           },
           {
            "args": [
             {
              "visible": [
               true,
               true,
               false,
               false,
               false,
               false,
               false,
               false,
               false,
               false,
               false,
               false,
               false,
               false,
               false,
               false,
               false,
               false,
               false,
               false,
               false,
               false,
               false,
               false,
               true,
               false,
               false,
               false,
               false,
               false,
               false,
               false,
               false,
               false,
               false,
               false,
               false,
               false,
               false,
               false,
               false,
               false,
               false
              ]
             }
            ],
            "label": "0.10",
            "method": "update"
           },
           {
            "args": [
             {
              "visible": [
               true,
               true,
               false,
               false,
               false,
               false,
               false,
               false,
               false,
               false,
               false,
               false,
               false,
               false,
               false,
               false,
               false,
               false,
               false,
               false,
               false,
               false,
               false,
               false,
               false,
               true,
               false,
               false,
               false,
               false,
               false,
               false,
               false,
               false,
               false,
               false,
               false,
               false,
               false,
               false,
               false,
               false,
               false
              ]
             }
            ],
            "label": "0.15",
            "method": "update"
           },
           {
            "args": [
             {
              "visible": [
               true,
               true,
               false,
               false,
               false,
               false,
               false,
               false,
               false,
               false,
               false,
               false,
               false,
               false,
               false,
               false,
               false,
               false,
               false,
               false,
               false,
               false,
               false,
               false,
               false,
               false,
               true,
               false,
               false,
               false,
               false,
               false,
               false,
               false,
               false,
               false,
               false,
               false,
               false,
               false,
               false,
               false,
               false
              ]
             }
            ],
            "label": "0.20",
            "method": "update"
           },
           {
            "args": [
             {
              "visible": [
               true,
               true,
               false,
               false,
               false,
               false,
               false,
               false,
               false,
               false,
               false,
               false,
               false,
               false,
               false,
               false,
               false,
               false,
               false,
               false,
               false,
               false,
               false,
               false,
               false,
               false,
               false,
               true,
               false,
               false,
               false,
               false,
               false,
               false,
               false,
               false,
               false,
               false,
               false,
               false,
               false,
               false,
               false
              ]
             }
            ],
            "label": "0.25",
            "method": "update"
           },
           {
            "args": [
             {
              "visible": [
               true,
               true,
               false,
               false,
               false,
               false,
               false,
               false,
               false,
               false,
               false,
               false,
               false,
               false,
               false,
               false,
               false,
               false,
               false,
               false,
               false,
               false,
               false,
               false,
               false,
               false,
               false,
               false,
               true,
               false,
               false,
               false,
               false,
               false,
               false,
               false,
               false,
               false,
               false,
               false,
               false,
               false,
               false
              ]
             }
            ],
            "label": "0.30",
            "method": "update"
           },
           {
            "args": [
             {
              "visible": [
               true,
               true,
               false,
               false,
               false,
               false,
               false,
               false,
               false,
               false,
               false,
               false,
               false,
               false,
               false,
               false,
               false,
               false,
               false,
               false,
               false,
               false,
               false,
               false,
               false,
               false,
               false,
               false,
               false,
               true,
               false,
               false,
               false,
               false,
               false,
               false,
               false,
               false,
               false,
               false,
               false,
               false,
               false
              ]
             }
            ],
            "label": "0.35",
            "method": "update"
           },
           {
            "args": [
             {
              "visible": [
               true,
               true,
               false,
               false,
               false,
               false,
               false,
               false,
               false,
               false,
               false,
               false,
               false,
               false,
               false,
               false,
               false,
               false,
               false,
               false,
               false,
               false,
               false,
               false,
               false,
               false,
               false,
               false,
               false,
               false,
               true,
               false,
               false,
               false,
               false,
               false,
               false,
               false,
               false,
               false,
               false,
               false,
               false
              ]
             }
            ],
            "label": "0.40",
            "method": "update"
           },
           {
            "args": [
             {
              "visible": [
               true,
               true,
               false,
               false,
               false,
               false,
               false,
               false,
               false,
               false,
               false,
               false,
               false,
               false,
               false,
               false,
               false,
               false,
               false,
               false,
               false,
               false,
               false,
               false,
               false,
               false,
               false,
               false,
               false,
               false,
               false,
               true,
               false,
               false,
               false,
               false,
               false,
               false,
               false,
               false,
               false,
               false,
               false
              ]
             }
            ],
            "label": "0.45",
            "method": "update"
           },
           {
            "args": [
             {
              "visible": [
               true,
               true,
               false,
               false,
               false,
               false,
               false,
               false,
               false,
               false,
               false,
               false,
               false,
               false,
               false,
               false,
               false,
               false,
               false,
               false,
               false,
               false,
               false,
               false,
               false,
               false,
               false,
               false,
               false,
               false,
               false,
               false,
               true,
               false,
               false,
               false,
               false,
               false,
               false,
               false,
               false,
               false,
               false
              ]
             }
            ],
            "label": "0.50",
            "method": "update"
           },
           {
            "args": [
             {
              "visible": [
               true,
               true,
               false,
               false,
               false,
               false,
               false,
               false,
               false,
               false,
               false,
               false,
               false,
               false,
               false,
               false,
               false,
               false,
               false,
               false,
               false,
               false,
               false,
               false,
               false,
               false,
               false,
               false,
               false,
               false,
               false,
               false,
               false,
               true,
               false,
               false,
               false,
               false,
               false,
               false,
               false,
               false,
               false
              ]
             }
            ],
            "label": "0.55",
            "method": "update"
           },
           {
            "args": [
             {
              "visible": [
               true,
               true,
               false,
               false,
               false,
               false,
               false,
               false,
               false,
               false,
               false,
               false,
               false,
               false,
               false,
               false,
               false,
               false,
               false,
               false,
               false,
               false,
               false,
               false,
               false,
               false,
               false,
               false,
               false,
               false,
               false,
               false,
               false,
               false,
               true,
               false,
               false,
               false,
               false,
               false,
               false,
               false,
               false
              ]
             }
            ],
            "label": "0.60",
            "method": "update"
           },
           {
            "args": [
             {
              "visible": [
               true,
               true,
               false,
               false,
               false,
               false,
               false,
               false,
               false,
               false,
               false,
               false,
               false,
               false,
               false,
               false,
               false,
               false,
               false,
               false,
               false,
               false,
               false,
               false,
               false,
               false,
               false,
               false,
               false,
               false,
               false,
               false,
               false,
               false,
               false,
               true,
               false,
               false,
               false,
               false,
               false,
               false,
               false
              ]
             }
            ],
            "label": "0.65",
            "method": "update"
           },
           {
            "args": [
             {
              "visible": [
               true,
               true,
               false,
               false,
               false,
               false,
               false,
               false,
               false,
               false,
               false,
               false,
               false,
               false,
               false,
               false,
               false,
               false,
               false,
               false,
               false,
               false,
               false,
               false,
               false,
               false,
               false,
               false,
               false,
               false,
               false,
               false,
               false,
               false,
               false,
               false,
               true,
               false,
               false,
               false,
               false,
               false,
               false
              ]
             }
            ],
            "label": "0.70",
            "method": "update"
           },
           {
            "args": [
             {
              "visible": [
               true,
               true,
               false,
               false,
               false,
               false,
               false,
               false,
               false,
               false,
               false,
               false,
               false,
               false,
               false,
               false,
               false,
               false,
               false,
               false,
               false,
               false,
               false,
               false,
               false,
               false,
               false,
               false,
               false,
               false,
               false,
               false,
               false,
               false,
               false,
               false,
               false,
               true,
               false,
               false,
               false,
               false,
               false
              ]
             }
            ],
            "label": "0.75",
            "method": "update"
           },
           {
            "args": [
             {
              "visible": [
               true,
               true,
               false,
               false,
               false,
               false,
               false,
               false,
               false,
               false,
               false,
               false,
               false,
               false,
               false,
               false,
               false,
               false,
               false,
               false,
               false,
               false,
               false,
               false,
               false,
               false,
               false,
               false,
               false,
               false,
               false,
               false,
               false,
               false,
               false,
               false,
               false,
               false,
               true,
               false,
               false,
               false,
               false
              ]
             }
            ],
            "label": "0.80",
            "method": "update"
           },
           {
            "args": [
             {
              "visible": [
               true,
               true,
               false,
               false,
               false,
               false,
               false,
               false,
               false,
               false,
               false,
               false,
               false,
               false,
               false,
               false,
               false,
               false,
               false,
               false,
               false,
               false,
               false,
               false,
               false,
               false,
               false,
               false,
               false,
               false,
               false,
               false,
               false,
               false,
               false,
               false,
               false,
               false,
               false,
               true,
               false,
               false,
               false
              ]
             }
            ],
            "label": "0.85",
            "method": "update"
           },
           {
            "args": [
             {
              "visible": [
               true,
               true,
               false,
               false,
               false,
               false,
               false,
               false,
               false,
               false,
               false,
               false,
               false,
               false,
               false,
               false,
               false,
               false,
               false,
               false,
               false,
               false,
               false,
               false,
               false,
               false,
               false,
               false,
               false,
               false,
               false,
               false,
               false,
               false,
               false,
               false,
               false,
               false,
               false,
               false,
               true,
               false,
               false
              ]
             }
            ],
            "label": "0.90",
            "method": "update"
           },
           {
            "args": [
             {
              "visible": [
               true,
               true,
               false,
               false,
               false,
               false,
               false,
               false,
               false,
               false,
               false,
               false,
               false,
               false,
               false,
               false,
               false,
               false,
               false,
               false,
               false,
               false,
               false,
               false,
               false,
               false,
               false,
               false,
               false,
               false,
               false,
               false,
               false,
               false,
               false,
               false,
               false,
               false,
               false,
               false,
               false,
               true,
               false
              ]
             }
            ],
            "label": "0.95",
            "method": "update"
           },
           {
            "args": [
             {
              "visible": [
               true,
               true,
               false,
               false,
               false,
               false,
               false,
               false,
               false,
               false,
               false,
               false,
               false,
               false,
               false,
               false,
               false,
               false,
               false,
               false,
               false,
               false,
               false,
               false,
               false,
               false,
               false,
               false,
               false,
               false,
               false,
               false,
               false,
               false,
               false,
               false,
               false,
               false,
               false,
               false,
               false,
               false,
               true
              ]
             }
            ],
            "label": "1.00",
            "method": "update"
           }
          ],
          "y": 0.35
         }
        ],
        "template": {
         "data": {
          "bar": [
           {
            "error_x": {
             "color": "#2a3f5f"
            },
            "error_y": {
             "color": "#2a3f5f"
            },
            "marker": {
             "line": {
              "color": "#E5ECF6",
              "width": 0.5
             }
            },
            "type": "bar"
           }
          ],
          "barpolar": [
           {
            "marker": {
             "line": {
              "color": "#E5ECF6",
              "width": 0.5
             }
            },
            "type": "barpolar"
           }
          ],
          "carpet": [
           {
            "aaxis": {
             "endlinecolor": "#2a3f5f",
             "gridcolor": "white",
             "linecolor": "white",
             "minorgridcolor": "white",
             "startlinecolor": "#2a3f5f"
            },
            "baxis": {
             "endlinecolor": "#2a3f5f",
             "gridcolor": "white",
             "linecolor": "white",
             "minorgridcolor": "white",
             "startlinecolor": "#2a3f5f"
            },
            "type": "carpet"
           }
          ],
          "choropleth": [
           {
            "colorbar": {
             "outlinewidth": 0,
             "ticks": ""
            },
            "type": "choropleth"
           }
          ],
          "contour": [
           {
            "colorbar": {
             "outlinewidth": 0,
             "ticks": ""
            },
            "colorscale": [
             [
              0,
              "#0d0887"
             ],
             [
              0.1111111111111111,
              "#46039f"
             ],
             [
              0.2222222222222222,
              "#7201a8"
             ],
             [
              0.3333333333333333,
              "#9c179e"
             ],
             [
              0.4444444444444444,
              "#bd3786"
             ],
             [
              0.5555555555555556,
              "#d8576b"
             ],
             [
              0.6666666666666666,
              "#ed7953"
             ],
             [
              0.7777777777777778,
              "#fb9f3a"
             ],
             [
              0.8888888888888888,
              "#fdca26"
             ],
             [
              1,
              "#f0f921"
             ]
            ],
            "type": "contour"
           }
          ],
          "contourcarpet": [
           {
            "colorbar": {
             "outlinewidth": 0,
             "ticks": ""
            },
            "type": "contourcarpet"
           }
          ],
          "heatmap": [
           {
            "colorbar": {
             "outlinewidth": 0,
             "ticks": ""
            },
            "colorscale": [
             [
              0,
              "#0d0887"
             ],
             [
              0.1111111111111111,
              "#46039f"
             ],
             [
              0.2222222222222222,
              "#7201a8"
             ],
             [
              0.3333333333333333,
              "#9c179e"
             ],
             [
              0.4444444444444444,
              "#bd3786"
             ],
             [
              0.5555555555555556,
              "#d8576b"
             ],
             [
              0.6666666666666666,
              "#ed7953"
             ],
             [
              0.7777777777777778,
              "#fb9f3a"
             ],
             [
              0.8888888888888888,
              "#fdca26"
             ],
             [
              1,
              "#f0f921"
             ]
            ],
            "type": "heatmap"
           }
          ],
          "heatmapgl": [
           {
            "colorbar": {
             "outlinewidth": 0,
             "ticks": ""
            },
            "colorscale": [
             [
              0,
              "#0d0887"
             ],
             [
              0.1111111111111111,
              "#46039f"
             ],
             [
              0.2222222222222222,
              "#7201a8"
             ],
             [
              0.3333333333333333,
              "#9c179e"
             ],
             [
              0.4444444444444444,
              "#bd3786"
             ],
             [
              0.5555555555555556,
              "#d8576b"
             ],
             [
              0.6666666666666666,
              "#ed7953"
             ],
             [
              0.7777777777777778,
              "#fb9f3a"
             ],
             [
              0.8888888888888888,
              "#fdca26"
             ],
             [
              1,
              "#f0f921"
             ]
            ],
            "type": "heatmapgl"
           }
          ],
          "histogram": [
           {
            "marker": {
             "colorbar": {
              "outlinewidth": 0,
              "ticks": ""
             }
            },
            "type": "histogram"
           }
          ],
          "histogram2d": [
           {
            "colorbar": {
             "outlinewidth": 0,
             "ticks": ""
            },
            "colorscale": [
             [
              0,
              "#0d0887"
             ],
             [
              0.1111111111111111,
              "#46039f"
             ],
             [
              0.2222222222222222,
              "#7201a8"
             ],
             [
              0.3333333333333333,
              "#9c179e"
             ],
             [
              0.4444444444444444,
              "#bd3786"
             ],
             [
              0.5555555555555556,
              "#d8576b"
             ],
             [
              0.6666666666666666,
              "#ed7953"
             ],
             [
              0.7777777777777778,
              "#fb9f3a"
             ],
             [
              0.8888888888888888,
              "#fdca26"
             ],
             [
              1,
              "#f0f921"
             ]
            ],
            "type": "histogram2d"
           }
          ],
          "histogram2dcontour": [
           {
            "colorbar": {
             "outlinewidth": 0,
             "ticks": ""
            },
            "colorscale": [
             [
              0,
              "#0d0887"
             ],
             [
              0.1111111111111111,
              "#46039f"
             ],
             [
              0.2222222222222222,
              "#7201a8"
             ],
             [
              0.3333333333333333,
              "#9c179e"
             ],
             [
              0.4444444444444444,
              "#bd3786"
             ],
             [
              0.5555555555555556,
              "#d8576b"
             ],
             [
              0.6666666666666666,
              "#ed7953"
             ],
             [
              0.7777777777777778,
              "#fb9f3a"
             ],
             [
              0.8888888888888888,
              "#fdca26"
             ],
             [
              1,
              "#f0f921"
             ]
            ],
            "type": "histogram2dcontour"
           }
          ],
          "mesh3d": [
           {
            "colorbar": {
             "outlinewidth": 0,
             "ticks": ""
            },
            "type": "mesh3d"
           }
          ],
          "parcoords": [
           {
            "line": {
             "colorbar": {
              "outlinewidth": 0,
              "ticks": ""
             }
            },
            "type": "parcoords"
           }
          ],
          "pie": [
           {
            "automargin": true,
            "type": "pie"
           }
          ],
          "scatter": [
           {
            "marker": {
             "colorbar": {
              "outlinewidth": 0,
              "ticks": ""
             }
            },
            "type": "scatter"
           }
          ],
          "scatter3d": [
           {
            "line": {
             "colorbar": {
              "outlinewidth": 0,
              "ticks": ""
             }
            },
            "marker": {
             "colorbar": {
              "outlinewidth": 0,
              "ticks": ""
             }
            },
            "type": "scatter3d"
           }
          ],
          "scattercarpet": [
           {
            "marker": {
             "colorbar": {
              "outlinewidth": 0,
              "ticks": ""
             }
            },
            "type": "scattercarpet"
           }
          ],
          "scattergeo": [
           {
            "marker": {
             "colorbar": {
              "outlinewidth": 0,
              "ticks": ""
             }
            },
            "type": "scattergeo"
           }
          ],
          "scattergl": [
           {
            "marker": {
             "colorbar": {
              "outlinewidth": 0,
              "ticks": ""
             }
            },
            "type": "scattergl"
           }
          ],
          "scattermapbox": [
           {
            "marker": {
             "colorbar": {
              "outlinewidth": 0,
              "ticks": ""
             }
            },
            "type": "scattermapbox"
           }
          ],
          "scatterpolar": [
           {
            "marker": {
             "colorbar": {
              "outlinewidth": 0,
              "ticks": ""
             }
            },
            "type": "scatterpolar"
           }
          ],
          "scatterpolargl": [
           {
            "marker": {
             "colorbar": {
              "outlinewidth": 0,
              "ticks": ""
             }
            },
            "type": "scatterpolargl"
           }
          ],
          "scatterternary": [
           {
            "marker": {
             "colorbar": {
              "outlinewidth": 0,
              "ticks": ""
             }
            },
            "type": "scatterternary"
           }
          ],
          "surface": [
           {
            "colorbar": {
             "outlinewidth": 0,
             "ticks": ""
            },
            "colorscale": [
             [
              0,
              "#0d0887"
             ],
             [
              0.1111111111111111,
              "#46039f"
             ],
             [
              0.2222222222222222,
              "#7201a8"
             ],
             [
              0.3333333333333333,
              "#9c179e"
             ],
             [
              0.4444444444444444,
              "#bd3786"
             ],
             [
              0.5555555555555556,
              "#d8576b"
             ],
             [
              0.6666666666666666,
              "#ed7953"
             ],
             [
              0.7777777777777778,
              "#fb9f3a"
             ],
             [
              0.8888888888888888,
              "#fdca26"
             ],
             [
              1,
              "#f0f921"
             ]
            ],
            "type": "surface"
           }
          ],
          "table": [
           {
            "cells": {
             "fill": {
              "color": "#EBF0F8"
             },
             "line": {
              "color": "white"
             }
            },
            "header": {
             "fill": {
              "color": "#C8D4E3"
             },
             "line": {
              "color": "white"
             }
            },
            "type": "table"
           }
          ]
         },
         "layout": {
          "annotationdefaults": {
           "arrowcolor": "#2a3f5f",
           "arrowhead": 0,
           "arrowwidth": 1
          },
          "autotypenumbers": "strict",
          "coloraxis": {
           "colorbar": {
            "outlinewidth": 0,
            "ticks": ""
           }
          },
          "colorscale": {
           "diverging": [
            [
             0,
             "#8e0152"
            ],
            [
             0.1,
             "#c51b7d"
            ],
            [
             0.2,
             "#de77ae"
            ],
            [
             0.3,
             "#f1b6da"
            ],
            [
             0.4,
             "#fde0ef"
            ],
            [
             0.5,
             "#f7f7f7"
            ],
            [
             0.6,
             "#e6f5d0"
            ],
            [
             0.7,
             "#b8e186"
            ],
            [
             0.8,
             "#7fbc41"
            ],
            [
             0.9,
             "#4d9221"
            ],
            [
             1,
             "#276419"
            ]
           ],
           "sequential": [
            [
             0,
             "#0d0887"
            ],
            [
             0.1111111111111111,
             "#46039f"
            ],
            [
             0.2222222222222222,
             "#7201a8"
            ],
            [
             0.3333333333333333,
             "#9c179e"
            ],
            [
             0.4444444444444444,
             "#bd3786"
            ],
            [
             0.5555555555555556,
             "#d8576b"
            ],
            [
             0.6666666666666666,
             "#ed7953"
            ],
            [
             0.7777777777777778,
             "#fb9f3a"
            ],
            [
             0.8888888888888888,
             "#fdca26"
            ],
            [
             1,
             "#f0f921"
            ]
           ],
           "sequentialminus": [
            [
             0,
             "#0d0887"
            ],
            [
             0.1111111111111111,
             "#46039f"
            ],
            [
             0.2222222222222222,
             "#7201a8"
            ],
            [
             0.3333333333333333,
             "#9c179e"
            ],
            [
             0.4444444444444444,
             "#bd3786"
            ],
            [
             0.5555555555555556,
             "#d8576b"
            ],
            [
             0.6666666666666666,
             "#ed7953"
            ],
            [
             0.7777777777777778,
             "#fb9f3a"
            ],
            [
             0.8888888888888888,
             "#fdca26"
            ],
            [
             1,
             "#f0f921"
            ]
           ]
          },
          "colorway": [
           "#636efa",
           "#EF553B",
           "#00cc96",
           "#ab63fa",
           "#FFA15A",
           "#19d3f3",
           "#FF6692",
           "#B6E880",
           "#FF97FF",
           "#FECB52"
          ],
          "font": {
           "color": "#2a3f5f"
          },
          "geo": {
           "bgcolor": "white",
           "lakecolor": "white",
           "landcolor": "#E5ECF6",
           "showlakes": true,
           "showland": true,
           "subunitcolor": "white"
          },
          "hoverlabel": {
           "align": "left"
          },
          "hovermode": "closest",
          "mapbox": {
           "style": "light"
          },
          "paper_bgcolor": "white",
          "plot_bgcolor": "#E5ECF6",
          "polar": {
           "angularaxis": {
            "gridcolor": "white",
            "linecolor": "white",
            "ticks": ""
           },
           "bgcolor": "#E5ECF6",
           "radialaxis": {
            "gridcolor": "white",
            "linecolor": "white",
            "ticks": ""
           }
          },
          "scene": {
           "xaxis": {
            "backgroundcolor": "#E5ECF6",
            "gridcolor": "white",
            "gridwidth": 2,
            "linecolor": "white",
            "showbackground": true,
            "ticks": "",
            "zerolinecolor": "white"
           },
           "yaxis": {
            "backgroundcolor": "#E5ECF6",
            "gridcolor": "white",
            "gridwidth": 2,
            "linecolor": "white",
            "showbackground": true,
            "ticks": "",
            "zerolinecolor": "white"
           },
           "zaxis": {
            "backgroundcolor": "#E5ECF6",
            "gridcolor": "white",
            "gridwidth": 2,
            "linecolor": "white",
            "showbackground": true,
            "ticks": "",
            "zerolinecolor": "white"
           }
          },
          "shapedefaults": {
           "line": {
            "color": "#2a3f5f"
           }
          },
          "ternary": {
           "aaxis": {
            "gridcolor": "white",
            "linecolor": "white",
            "ticks": ""
           },
           "baxis": {
            "gridcolor": "white",
            "linecolor": "white",
            "ticks": ""
           },
           "bgcolor": "#E5ECF6",
           "caxis": {
            "gridcolor": "white",
            "linecolor": "white",
            "ticks": ""
           }
          },
          "title": {
           "x": 0.05
          },
          "xaxis": {
           "automargin": true,
           "gridcolor": "white",
           "linecolor": "white",
           "ticks": "",
           "title": {
            "standoff": 15
           },
           "zerolinecolor": "white",
           "zerolinewidth": 2
          },
          "yaxis": {
           "automargin": true,
           "gridcolor": "white",
           "linecolor": "white",
           "ticks": "",
           "title": {
            "standoff": 15
           },
           "zerolinecolor": "white",
           "zerolinewidth": 2
          }
         }
        },
        "title": {
         "text": "Word Usage as a Function of Ideal Point (Topic: Immigration)",
         "x": 0.5,
         "y": 0.9
        },
        "xaxis": {
         "fixedrange": true,
         "range": [
          -1.02,
          1.02
         ],
         "showgrid": false,
         "showline": false,
         "showticklabels": false,
         "title": {
          "text": "Representative ideal points (hover to see names)"
         },
         "zeroline": false
        },
        "yaxis": {
         "fixedrange": true,
         "range": [
          -0.6,
          2.5
         ],
         "showgrid": false,
         "showline": false,
         "showticklabels": false,
         "zeroline": false
        }
       }
      },
      "text/html": [
       "<div>                            <div id=\"95582fac-9f27-4da9-bb4e-3e1b9275d8eb\" class=\"plotly-graph-div\" style=\"height:525px; width:100%;\"></div>            <script type=\"text/javascript\">                require([\"plotly\"], function(Plotly) {                    window.PLOTLYENV=window.PLOTLYENV || {};                                    if (document.getElementById(\"95582fac-9f27-4da9-bb4e-3e1b9275d8eb\")) {                    Plotly.newPlot(                        \"95582fac-9f27-4da9-bb4e-3e1b9275d8eb\",                        [{\"hoverinfo\": \"skip\", \"line\": {\"color\": \"black\", \"width\": 1}, \"marker\": {\"size\": 1}, \"type\": \"scatter\", \"x\": [-1.0, 1.0], \"y\": [-0.53, -0.53]}, {\"hoverinfo\": \"x+text\", \"marker\": {\"color\": [\"steelblue\", \"crimson\", \"steelblue\", \"crimson\", \"crimson\", \"steelblue\"], \"size\": 8}, \"mode\": \"markers\", \"text\": [\"Alex (D)\", \"John (R)\", \"Justicia (D)\", \"Lauren (R)\", \"Mark (R)\", \"Mona (D)\"], \"type\": \"scatter\", \"x\": [-0.789236307144165, 0.8978533148765564, -1.0066245794296265, 0.8361955285072327, 0.829914391040802, -0.9671030640602112], \"y\": [-0.53, -0.53, -0.53, -0.53, -0.53, -0.53]}, {\"base\": -0.3, \"dy\": 0.214, \"hoverinfo\": \"skip\", \"marker\": {\"color\": \"rgb(175,122,197)\"}, \"orientation\": \"h\", \"text\": [\"dreamer\", \"daca\", \"broken_system\", \"refugees\", \"legal_immigration\", \"immigrant_rights\", \"immigrant\", \"america\"], \"textposition\": \"outside\", \"type\": \"bar\", \"visible\": false, \"x\": [0.3051481246948242, 0.3170206546783447, 0.32429128885269165, 0.3288993835449219, 0.32914355397224426, 0.35859641432762146, 0.3645510673522949, 0.38899505138397217], \"y0\": 0.529}, {\"base\": -0.3, \"dy\": 0.214, \"hoverinfo\": \"skip\", \"marker\": {\"color\": \"rgb(175,122,197)\"}, \"orientation\": \"h\", \"text\": [\"dreamer\", \"daca\", \"broken_system\", \"refugees\", \"legal_immigration\", \"immigrant_rights\", \"immigrant\", \"america\"], \"textposition\": \"outside\", \"type\": \"bar\", \"visible\": false, \"x\": [0.2820410132408142, 0.2931699752807617, 0.299541175365448, 0.31362056732177734, 0.3201035261154175, 0.34381794929504395, 0.3528314530849457, 0.36554190516471863], \"y0\": 0.529}, {\"base\": -0.3, \"dy\": 0.214, \"hoverinfo\": \"skip\", \"marker\": {\"color\": \"rgb(175,122,197)\"}, \"orientation\": \"h\", \"text\": [\"comprehensive_immigration_reform\", \"daca\", \"broken_system\", \"refugees\", \"legal_immigration\", \"immigrant_rights\", \"immigrant\", \"america\"], \"textposition\": \"outside\", \"type\": \"bar\", \"visible\": false, \"x\": [0.2608465552330017, 0.27118077874183655, 0.2767447829246521, 0.2991092801094055, 0.3113585114479065, 0.329704225063324, 0.3415515422821045, 0.34358376264572144], \"y0\": 0.529}, {\"base\": -0.3, \"dy\": 0.214, \"hoverinfo\": \"skip\", \"marker\": {\"color\": \"rgb(175,122,197)\"}, \"orientation\": \"h\", \"text\": [\"comprehensive_immigration_reform\", \"daca\", \"broken_system\", \"refugees\", \"legal_immigration\", \"immigrant_rights\", \"america\", \"immigrant\"], \"textposition\": \"outside\", \"type\": \"bar\", \"visible\": false, \"x\": [0.24143600463867188, 0.25090292096138, 0.25574326515197754, 0.28532445430755615, 0.3028978407382965, 0.31622302532196045, 0.3230207562446594, 0.33069297671318054], \"y0\": 0.529}, {\"base\": -0.3, \"dy\": 0.214, \"hoverinfo\": \"skip\", \"marker\": {\"color\": \"rgb(175,122,197)\"}, \"orientation\": \"h\", \"text\": [\"comprehensive_immigration_reform\", \"daca\", \"broken_system\", \"refugees\", \"legal_immigration\", \"immigrant_rights\", \"america\", \"immigrant\"], \"textposition\": \"outside\", \"type\": \"bar\", \"visible\": false, \"x\": [0.22353041172027588, 0.23219875991344452, 0.23639081418514252, 0.27222740650177, 0.2947111129760742, 0.30334407091140747, 0.30375993251800537, 0.3202385902404785], \"y0\": 0.529}, {\"base\": -0.3, \"dy\": 0.214, \"hoverinfo\": \"skip\", \"marker\": {\"color\": \"rgb(175,122,197)\"}, \"orientation\": \"h\", \"text\": [\"comprehensive_immigration_reform\", \"daca\", \"broken_system\", \"refugees\", \"america\", \"legal_immigration\", \"immigrant_rights\", \"immigrant\"], \"textposition\": \"outside\", \"type\": \"bar\", \"visible\": false, \"x\": [0.20700886845588684, 0.2149421125650406, 0.21855391561985016, 0.2597816288471222, 0.28571492433547974, 0.2867887020111084, 0.29103878140449524, 0.3101716935634613], \"y0\": 0.529}, {\"base\": -0.3, \"dy\": 0.214, \"hoverinfo\": \"skip\", \"marker\": {\"color\": \"rgb(175,122,197)\"}, \"orientation\": \"h\", \"text\": [\"comprehensive_immigration_reform\", \"daca\", \"broken_system\", \"refugees\", \"america\", \"legal_immigration\", \"immigrant_rights\", \"immigrant\"], \"textposition\": \"outside\", \"type\": \"bar\", \"visible\": false, \"x\": [0.19176039099693298, 0.19901719689369202, 0.20211029052734375, 0.2479526549577713, 0.2688051760196686, 0.279121071100235, 0.27927958965301514, 0.3004765808582306], \"y0\": 0.529}, {\"base\": -0.3, \"dy\": 0.214, \"hoverinfo\": \"skip\", \"marker\": {\"color\": \"rgb(175,122,197)\"}, \"orientation\": \"h\", \"text\": [\"comprehensive_immigration_reform\", \"daca\", \"broken_system\", \"refugees\", \"america\", \"immigrant_rights\", \"legal_immigration\", \"immigrant\"], \"textposition\": \"outside\", \"type\": \"bar\", \"visible\": false, \"x\": [0.17768330872058868, 0.1843177080154419, 0.18694758415222168, 0.23670794069766998, 0.2529557943344116, 0.26804062724113464, 0.2716991901397705, 0.29113805294036865], \"y0\": 0.529}, {\"base\": -0.3, \"dy\": 0.214, \"hoverinfo\": \"skip\", \"marker\": {\"color\": \"rgb(175,122,197)\"}, \"orientation\": \"h\", \"text\": [\"comprehensive_immigration_reform\", \"daca\", \"broken_system\", \"refugees\", \"america\", \"immigrant_rights\", \"legal_immigration\", \"immigrant\"], \"textposition\": \"outside\", \"type\": \"bar\", \"visible\": false, \"x\": [0.16468428075313568, 0.17074616253376007, 0.17296291887760162, 0.2260168045759201, 0.23809702694416046, 0.2572973370552063, 0.2645142674446106, 0.28214165568351746], \"y0\": 0.529}, {\"base\": -0.3, \"dy\": 0.214, \"hoverinfo\": \"skip\", \"marker\": {\"color\": \"rgb(175,122,197)\"}, \"orientation\": \"h\", \"text\": [\"comprehensive_immigration_reform\", \"daca\", \"broken_system\", \"refugees\", \"america\", \"immigrant_rights\", \"legal_immigration\", \"immigrant\"], \"textposition\": \"outside\", \"type\": \"bar\", \"visible\": false, \"x\": [0.15267761051654816, 0.15821300446987152, 0.16006186604499817, 0.21585015952587128, 0.22416388988494873, 0.2470262050628662, 0.2575579881668091, 0.2734735310077667], \"y0\": 0.529}, {\"base\": -0.3, \"dy\": 0.214, \"hoverinfo\": \"skip\", \"marker\": {\"color\": \"rgb(175,122,197)\"}, \"orientation\": \"h\", \"text\": [\"comprehensive_immigration_reform\", \"daca\", \"broken_system\", \"refugees\", \"america\", \"immigrant_rights\", \"legal_immigration\", \"immigrant\"], \"textposition\": \"outside\", \"type\": \"bar\", \"visible\": false, \"x\": [0.14158466458320618, 0.14663609862327576, 0.1481577605009079, 0.20618054270744324, 0.21109580993652344, 0.23720502853393555, 0.2508222162723541, 0.2651205062866211], \"y0\": 0.529}, {\"base\": -0.3, \"dy\": 0.214, \"hoverinfo\": \"skip\", \"marker\": {\"color\": \"rgb(175,122,197)\"}, \"orientation\": \"h\", \"text\": [\"homeland_security\", \"daca\", \"broken_system\", \"refugees\", \"america\", \"immigrant_rights\", \"legal_immigration\", \"immigrant\"], \"textposition\": \"outside\", \"type\": \"bar\", \"visible\": false, \"x\": [0.13450393080711365, 0.13593992590904236, 0.13717111945152283, 0.19698214530944824, 0.19883638620376587, 0.22781267762184143, 0.24429918825626373, 0.2570698857307434], \"y0\": 0.529}, {\"base\": -0.3, \"dy\": 0.214, \"hoverinfo\": \"skip\", \"marker\": {\"color\": \"rgb(175,122,197)\"}, \"orientation\": \"h\", \"text\": [\"law\", \"immigration\", \"homeland_security\", \"america\", \"refugees\", \"immigrant_rights\", \"legal_immigration\", \"immigrant\"], \"textposition\": \"outside\", \"type\": \"bar\", \"visible\": false, \"x\": [0.13375988602638245, 0.13487859070301056, 0.1382037252187729, 0.18733307719230652, 0.18823041021823883, 0.21882908046245575, 0.23798149824142456, 0.24930959939956665], \"y0\": 0.529}, {\"base\": -0.3, \"dy\": 0.214, \"hoverinfo\": \"skip\", \"marker\": {\"color\": \"rgb(175,122,197)\"}, \"orientation\": \"h\", \"text\": [\"law\", \"immigration\", \"homeland_security\", \"america\", \"refugees\", \"immigrant_rights\", \"legal_immigration\", \"immigrant\"], \"textposition\": \"outside\", \"type\": \"bar\", \"visible\": false, \"x\": [0.13710501790046692, 0.1391138881444931, 0.14203360676765442, 0.17653685808181763, 0.17990216612815857, 0.2102351188659668, 0.2318619042634964, 0.24182802438735962], \"y0\": 0.529}, {\"base\": -0.3, \"dy\": 0.214, \"hoverinfo\": \"skip\", \"marker\": {\"color\": \"rgb(175,122,197)\"}, \"orientation\": \"h\", \"text\": [\"law\", \"immigration\", \"homeland_security\", \"america\", \"refugees\", \"immigrant_rights\", \"legal_immigration\", \"immigrant\"], \"textposition\": \"outside\", \"type\": \"bar\", \"visible\": false, \"x\": [0.14056043326854706, 0.1435137689113617, 0.14599871635437012, 0.16640202701091766, 0.17197558283805847, 0.20201267302036285, 0.22593356668949127, 0.23461413383483887], \"y0\": 0.529}, {\"base\": -0.3, \"dy\": 0.214, \"hoverinfo\": \"skip\", \"marker\": {\"color\": \"rgb(175,122,197)\"}, \"orientation\": \"h\", \"text\": [\"law\", \"immigration\", \"homeland_security\", \"america\", \"refugees\", \"immigrant_rights\", \"legal_immigration\", \"immigrant\"], \"textposition\": \"outside\", \"type\": \"bar\", \"visible\": false, \"x\": [0.14413022994995117, 0.14808538556098938, 0.15010438859462738, 0.15688598155975342, 0.16442997753620148, 0.19414453208446503, 0.22018976509571075, 0.22765731811523438], \"y0\": 0.529}, {\"base\": -0.3, \"dy\": 0.214, \"hoverinfo\": \"skip\", \"marker\": {\"color\": \"rgb(175,122,197)\"}, \"orientation\": \"h\", \"text\": [\"law\", \"america\", \"immigration\", \"homeland_security\", \"refugees\", \"immigrant_rights\", \"legal_immigration\", \"immigrant\"], \"textposition\": \"outside\", \"type\": \"bar\", \"visible\": false, \"x\": [0.1478186696767807, 0.1479489952325821, 0.15283627808094025, 0.15435630083084106, 0.15724575519561768, 0.1866142451763153, 0.21462418138980865, 0.22094742953777313], \"y0\": 0.529}, {\"base\": -0.3, \"dy\": 0.214, \"hoverinfo\": \"skip\", \"marker\": {\"color\": \"rgb(175,122,197)\"}, \"orientation\": \"h\", \"text\": [\"america\", \"refugees\", \"law\", \"immigration\", \"homeland_security\", \"immigrant_rights\", \"legal_immigration\", \"immigrant\"], \"textposition\": \"outside\", \"type\": \"bar\", \"visible\": false, \"x\": [0.139553964138031, 0.1504044383764267, 0.1516302227973938, 0.15777431428432465, 0.15876027941703796, 0.17940625548362732, 0.20923061668872833, 0.21447473764419556], \"y0\": 0.529}, {\"base\": -0.3, \"dy\": 0.214, \"hoverinfo\": \"skip\", \"marker\": {\"color\": \"rgb(175,122,197)\"}, \"orientation\": \"h\", \"text\": [\"border\", \"refugees\", \"law\", \"immigration\", \"homeland_security\", \"immigrant_rights\", \"legal_immigration\", \"immigrant\"], \"textposition\": \"outside\", \"type\": \"bar\", \"visible\": false, \"x\": [0.1375913918018341, 0.1438884735107422, 0.15556952357292175, 0.16290774941444397, 0.16332246363162994, 0.1725057065486908, 0.20400317013263702, 0.20823000371456146], \"y0\": 0.529}, {\"base\": -0.3, \"dy\": 0.214, \"hoverinfo\": \"skip\", \"marker\": {\"color\": \"rgb(175,122,197)\"}, \"orientation\": \"h\", \"text\": [\"refugees\", \"border\", \"law\", \"immigrant_rights\", \"homeland_security\", \"immigration\", \"legal_immigration\", \"immigrant\"], \"textposition\": \"outside\", \"type\": \"bar\", \"visible\": true, \"x\": [0.13768139481544495, 0.14158421754837036, 0.15964141488075256, 0.16589851677417755, 0.16804920136928558, 0.16824521124362946, 0.19893613457679749, 0.20220425724983215], \"y0\": 0.529}, {\"base\": -0.3, \"dy\": 0.214, \"hoverinfo\": \"skip\", \"marker\": {\"color\": \"rgb(175,122,197)\"}, \"orientation\": \"h\", \"text\": [\"refugees\", \"border\", \"immigrant_rights\", \"law\", \"homeland_security\", \"immigration\", \"legal_immigration\", \"immigrant\"], \"textposition\": \"outside\", \"type\": \"bar\", \"visible\": false, \"x\": [0.13176748156547546, 0.1457168459892273, 0.15957124531269073, 0.16385090351104736, 0.1729472130537033, 0.17379581928253174, 0.19402402639389038, 0.19638898968696594], \"y0\": 0.529}, {\"base\": -0.3, \"dy\": 0.214, \"hoverinfo\": \"skip\", \"marker\": {\"color\": \"rgb(175,122,197)\"}, \"orientation\": \"h\", \"text\": [\"refugees\", \"border\", \"immigrant_rights\", \"law\", \"homeland_security\", \"immigration\", \"legal_immigration\", \"immigrant\"], \"textposition\": \"outside\", \"type\": \"bar\", \"visible\": false, \"x\": [0.12613190710544586, 0.14999476075172424, 0.1535111367702484, 0.1682032346725464, 0.17802345752716064, 0.1795690506696701, 0.18926158547401428, 0.190776064991951], \"y0\": 0.529}, {\"base\": -0.3, \"dy\": 0.214, \"hoverinfo\": \"skip\", \"marker\": {\"color\": \"rgb(175,122,197)\"}, \"orientation\": \"h\", \"text\": [\"refugees\", \"immigrant_rights\", \"border\", \"law\", \"homeland_security\", \"legal_immigration\", \"immigrant\", \"immigration\"], \"textposition\": \"outside\", \"type\": \"bar\", \"visible\": false, \"x\": [0.12076064199209213, 0.1477060616016388, 0.15442365407943726, 0.17270387709140778, 0.18328523635864258, 0.1846437156200409, 0.1853576898574829, 0.18557490408420563], \"y0\": 0.529}, {\"base\": -0.3, \"dy\": 0.214, \"hoverinfo\": \"skip\", \"marker\": {\"color\": \"rgb(175,122,197)\"}, \"orientation\": \"h\", \"text\": [\"secure\", \"immigrant_rights\", \"border\", \"law\", \"immigrant\", \"legal_immigration\", \"homeland_security\", \"immigration\"], \"textposition\": \"outside\", \"type\": \"bar\", \"visible\": false, \"x\": [0.12620507180690765, 0.14214442670345306, 0.15900945663452148, 0.17735853791236877, 0.18012629449367523, 0.18016549944877625, 0.188740074634552, 0.19182385504245758], \"y0\": 0.529}, {\"base\": -0.3, \"dy\": 0.214, \"hoverinfo\": \"skip\", \"marker\": {\"color\": \"rgb(175,122,197)\"}, \"orientation\": \"h\", \"text\": [\"secure\", \"immigrant_rights\", \"border\", \"immigrant\", \"legal_immigration\", \"law\", \"homeland_security\", \"immigration\"], \"textposition\": \"outside\", \"type\": \"bar\", \"visible\": false, \"x\": [0.13334733247756958, 0.13681523501873016, 0.16375833749771118, 0.17507478594779968, 0.17582225799560547, 0.18217313289642334, 0.19439606368541718, 0.19832687079906464], \"y0\": 0.529}, {\"base\": -0.3, \"dy\": 0.214, \"hoverinfo\": \"skip\", \"marker\": {\"color\": \"rgb(175,122,197)\"}, \"orientation\": \"h\", \"text\": [\"immigrant_rights\", \"secure\", \"border\", \"immigrant\", \"legal_immigration\", \"law\", \"homeland_security\", \"immigration\"], \"textposition\": \"outside\", \"type\": \"bar\", \"visible\": false, \"x\": [0.1317080408334732, 0.14092856645584106, 0.16867679357528687, 0.17019622027873993, 0.17160944640636444, 0.1871538907289505, 0.20026139914989471, 0.20509548485279083], \"y0\": 0.529}, {\"base\": -0.3, \"dy\": 0.214, \"hoverinfo\": \"skip\", \"marker\": {\"color\": \"rgb(175,122,197)\"}, \"orientation\": \"h\", \"text\": [\"immigrant_rights\", \"secure\", \"immigrant\", \"legal_immigration\", \"border\", \"law\", \"homeland_security\", \"immigration\"], \"textposition\": \"outside\", \"type\": \"bar\", \"visible\": false, \"x\": [0.12681283056735992, 0.148977592587471, 0.16548402607440948, 0.16752266883850098, 0.17377150058746338, 0.192307248711586, 0.2063448131084442, 0.21214179694652557], \"y0\": 0.529}, {\"base\": -0.3, \"dy\": 0.214, \"hoverinfo\": \"skip\", \"marker\": {\"color\": \"rgb(175,122,197)\"}, \"orientation\": \"h\", \"text\": [\"enforce\", \"secure\", \"immigrant\", \"legal_immigration\", \"border\", \"law\", \"homeland_security\", \"immigration\"], \"textposition\": \"outside\", \"type\": \"bar\", \"visible\": false, \"x\": [0.1360505074262619, 0.1575252115726471, 0.16093192994594574, 0.1635577380657196, 0.179049551486969, 0.19763991236686707, 0.2126554250717163, 0.21947848796844482], \"y0\": 0.529}, {\"base\": -0.3, \"dy\": 0.214, \"hoverinfo\": \"skip\", \"marker\": {\"color\": \"rgb(175,122,197)\"}, \"orientation\": \"h\", \"text\": [\"enforce\", \"immigrant\", \"legal_immigration\", \"secure\", \"border\", \"law\", \"homeland_security\", \"immigration\"], \"textposition\": \"outside\", \"type\": \"bar\", \"visible\": false, \"x\": [0.1465139240026474, 0.1565338373184204, 0.1597105711698532, 0.16660434007644653, 0.1845182329416275, 0.20315897464752197, 0.2192026972770691, 0.22711887955665588], \"y0\": 0.529}, {\"base\": -0.3, \"dy\": 0.214, \"hoverinfo\": \"skip\", \"marker\": {\"color\": \"rgb(175,122,197)\"}, \"orientation\": \"h\", \"text\": [\"illegal\", \"legal_immigration\", \"enforce\", \"secure\", \"border\", \"law\", \"homeland_security\", \"immigration\"], \"textposition\": \"outside\", \"type\": \"bar\", \"visible\": false, \"x\": [0.1545385718345642, 0.155977264046669, 0.15783017873764038, 0.17625026404857635, 0.19018518924713135, 0.20887164771556854, 0.22599655389785767, 0.23507699370384216], \"y0\": 0.529}, {\"base\": -0.3, \"dy\": 0.214, \"hoverinfo\": \"skip\", \"marker\": {\"color\": \"rgb(175,122,197)\"}, \"orientation\": \"h\", \"text\": [\"amnesty\", \"illegal\", \"enforce\", \"secure\", \"border\", \"law\", \"homeland_security\", \"immigration\"], \"textposition\": \"outside\", \"type\": \"bar\", \"visible\": false, \"x\": [0.1591198891401291, 0.16656331717967987, 0.17007233202457428, 0.1865006983280182, 0.19605843722820282, 0.21478566527366638, 0.23304744064807892, 0.2433674931526184], \"y0\": 0.529}, {\"base\": -0.3, \"dy\": 0.214, \"hoverinfo\": \"skip\", \"marker\": {\"color\": \"rgb(175,122,197)\"}, \"orientation\": \"h\", \"text\": [\"amnesty\", \"illegal\", \"enforce\", \"secure\", \"border\", \"law\", \"homeland_security\", \"immigration\"], \"textposition\": \"outside\", \"type\": \"bar\", \"visible\": false, \"x\": [0.17113324999809265, 0.17957839369773865, 0.18331995606422424, 0.19739599525928497, 0.2021462619304657, 0.22090895473957062, 0.24036617577075958, 0.2520058751106262], \"y0\": 0.529}, {\"base\": -0.3, \"dy\": 0.214, \"hoverinfo\": \"skip\", \"marker\": {\"color\": \"rgb(175,122,197)\"}, \"orientation\": \"h\", \"text\": [\"amnesty\", \"illegal\", \"enforce\", \"border\", \"secure\", \"law\", \"homeland_security\", \"immigration\"], \"textposition\": \"outside\", \"type\": \"bar\", \"visible\": false, \"x\": [0.18409952521324158, 0.1936694234609604, 0.19765974581241608, 0.20845739543437958, 0.20897936820983887, 0.2272498607635498, 0.24796417355537415, 0.26100829243659973], \"y0\": 0.529}, {\"base\": -0.3, \"dy\": 0.214, \"hoverinfo\": \"skip\", \"marker\": {\"color\": \"rgb(175,122,197)\"}, \"orientation\": \"h\", \"text\": [\"amnesty\", \"illegal\", \"enforce\", \"border\", \"secure\", \"law\", \"homeland_security\", \"immigration\"], \"textposition\": \"outside\", \"type\": \"bar\", \"visible\": false, \"x\": [0.19809764623641968, 0.20892968773841858, 0.21318623423576355, 0.2150009274482727, 0.221297025680542, 0.23381704092025757, 0.2558532953262329, 0.2703917920589447], \"y0\": 0.529}, {\"base\": -0.3, \"dy\": 0.214, \"hoverinfo\": \"skip\", \"marker\": {\"color\": \"rgb(175,122,197)\"}, \"orientation\": \"h\", \"text\": [\"amnesty\", \"border\", \"illegal\", \"enforce\", \"secure\", \"law\", \"homeland_security\", \"immigration\"], \"textposition\": \"outside\", \"type\": \"bar\", \"visible\": false, \"x\": [0.21321332454681396, 0.2217862606048584, 0.22546106576919556, 0.2300024926662445, 0.23439861834049225, 0.24061959981918335, 0.2640460431575775, 0.2801743447780609], \"y0\": 0.529}, {\"base\": -0.3, \"dy\": 0.214, \"hoverinfo\": \"skip\", \"marker\": {\"color\": \"rgb(175,122,197)\"}, \"orientation\": \"h\", \"text\": [\"border\", \"amnesty\", \"illegal\", \"law\", \"enforce\", \"secure\", \"homeland_security\", \"immigration\"], \"textposition\": \"outside\", \"type\": \"bar\", \"visible\": false, \"x\": [0.22882336378097534, 0.2295396476984024, 0.2433745563030243, 0.24766695499420166, 0.24822098016738892, 0.24833714962005615, 0.2725554406642914, 0.2903746962547302], \"y0\": 0.529}, {\"base\": -0.3, \"dy\": 0.214, \"hoverinfo\": \"skip\", \"marker\": {\"color\": \"rgb(175,122,197)\"}, \"orientation\": \"h\", \"text\": [\"illegal_immigrants\", \"amnesty\", \"law\", \"illegal\", \"secure\", \"enforce\", \"homeland_security\", \"immigration\"], \"textposition\": \"outside\", \"type\": \"bar\", \"visible\": false, \"x\": [0.24656987190246582, 0.24717780947685242, 0.2549689710140228, 0.26279133558273315, 0.26316946744918823, 0.267964243888855, 0.2813951373100281, 0.30101266503334045], \"y0\": 0.529}, {\"base\": -0.3, \"dy\": 0.214, \"hoverinfo\": \"skip\", \"marker\": {\"color\": \"rgb(175,122,197)\"}, \"orientation\": \"h\", \"text\": [\"law\", \"illegal_immigrants\", \"amnesty\", \"secure\", \"illegal\", \"enforce\", \"homeland_security\", \"immigration\"], \"textposition\": \"outside\", \"type\": \"bar\", \"visible\": false, \"x\": [0.26253604888916016, 0.2658228278160095, 0.2662377655506134, 0.2789565324783325, 0.28384360671043396, 0.28936606645584106, 0.2905794382095337, 0.3121090531349182], \"y0\": 0.529}, {\"base\": -0.3, \"dy\": 0.214, \"hoverinfo\": \"skip\", \"marker\": {\"color\": \"rgb(175,122,197)\"}, \"orientation\": \"h\", \"text\": [\"law\", \"illegal_immigrants\", \"amnesty\", \"secure\", \"homeland_security\", \"illegal\", \"enforce\", \"immigration\"], \"textposition\": \"outside\", \"type\": \"bar\", \"visible\": false, \"x\": [0.27037885785102844, 0.2866545021533966, 0.28683897852897644, 0.2957635521888733, 0.30012327432632446, 0.3066757023334503, 0.3125724792480469, 0.3236857056617737], \"y0\": 0.529}, {\"base\": -0.3, \"dy\": 0.214, \"hoverinfo\": \"skip\", \"marker\": {\"color\": \"rgb(175,122,197)\"}, \"orientation\": \"h\", \"text\": [\"wall\", \"amnesty\", \"illegal_immigrants\", \"homeland_security\", \"secure\", \"illegal\", \"immigration\", \"enforce\"], \"textposition\": \"outside\", \"type\": \"bar\", \"visible\": false, \"x\": [0.27864062786102295, 0.30911144614219666, 0.3091999590396881, 0.3100423216819763, 0.3136606514453888, 0.3314453363418579, 0.33576563000679016, 0.33774304389953613], \"y0\": 0.529}, {\"base\": -0.3, \"dy\": 0.214, \"hoverinfo\": \"skip\", \"marker\": {\"color\": \"rgb(175,122,197)\"}, \"orientation\": \"h\", \"text\": [\"wall\", \"homeland_security\", \"secure\", \"amnesty\", \"illegal_immigrants\", \"immigration\", \"illegal\", \"enforce\"], \"textposition\": \"outside\", \"type\": \"bar\", \"visible\": false, \"x\": [0.299485981464386, 0.32035306096076965, 0.33272290229797363, 0.33319640159606934, 0.33360642194747925, 0.34837308526039124, 0.35832464694976807, 0.36505189538002014], \"y0\": 0.529}],                        {\"annotations\": [{\"font\": {\"size\": 14}, \"showarrow\": false, \"text\": \"Move slider to change ideal point\", \"x\": 0.5, \"xref\": \"paper\", \"y\": 0.255, \"yref\": \"paper\"}], \"paper_bgcolor\": \"rgba(0,0,0,0)\", \"plot_bgcolor\": \"rgba(0,0,0,0)\", \"showlegend\": false, \"sliders\": [{\"active\": 20, \"currentvalue\": {\"prefix\": \"Ideal Point: \"}, \"steps\": [{\"args\": [{\"visible\": [true, true, true, false, false, false, false, false, false, false, false, false, false, false, false, false, false, false, false, false, false, false, false, false, false, false, false, false, false, false, false, false, false, false, false, false, false, false, false, false, false, false, false]}], \"label\": \"-1.00\", \"method\": \"update\"}, {\"args\": [{\"visible\": [true, true, false, true, false, false, false, false, false, false, false, false, false, false, false, false, false, false, false, false, false, false, false, false, false, false, false, false, false, false, false, false, false, false, false, false, false, false, false, false, false, false, false]}], \"label\": \"-0.95\", \"method\": \"update\"}, {\"args\": [{\"visible\": [true, true, false, false, true, false, false, false, false, false, false, false, false, false, false, false, false, false, false, false, false, false, false, false, false, false, false, false, false, false, false, false, false, false, false, false, false, false, false, false, false, false, false]}], \"label\": \"-0.90\", \"method\": \"update\"}, {\"args\": [{\"visible\": [true, true, false, false, false, true, false, false, false, false, false, false, false, false, false, false, false, false, false, false, false, false, false, false, false, false, false, false, false, false, false, false, false, false, false, false, false, false, false, false, false, false, false]}], \"label\": \"-0.85\", \"method\": \"update\"}, {\"args\": [{\"visible\": [true, true, false, false, false, false, true, false, false, false, false, false, false, false, false, false, false, false, false, false, false, false, false, false, false, false, false, false, false, false, false, false, false, false, false, false, false, false, false, false, false, false, false]}], \"label\": \"-0.80\", \"method\": \"update\"}, {\"args\": [{\"visible\": [true, true, false, false, false, false, false, true, false, false, false, false, false, false, false, false, false, false, false, false, false, false, false, false, false, false, false, false, false, false, false, false, false, false, false, false, false, false, false, false, false, false, false]}], \"label\": \"-0.75\", \"method\": \"update\"}, {\"args\": [{\"visible\": [true, true, false, false, false, false, false, false, true, false, false, false, false, false, false, false, false, false, false, false, false, false, false, false, false, false, false, false, false, false, false, false, false, false, false, false, false, false, false, false, false, false, false]}], \"label\": \"-0.70\", \"method\": \"update\"}, {\"args\": [{\"visible\": [true, true, false, false, false, false, false, false, false, true, false, false, false, false, false, false, false, false, false, false, false, false, false, false, false, false, false, false, false, false, false, false, false, false, false, false, false, false, false, false, false, false, false]}], \"label\": \"-0.65\", \"method\": \"update\"}, {\"args\": [{\"visible\": [true, true, false, false, false, false, false, false, false, false, true, false, false, false, false, false, false, false, false, false, false, false, false, false, false, false, false, false, false, false, false, false, false, false, false, false, false, false, false, false, false, false, false]}], \"label\": \"-0.60\", \"method\": \"update\"}, {\"args\": [{\"visible\": [true, true, false, false, false, false, false, false, false, false, false, true, false, false, false, false, false, false, false, false, false, false, false, false, false, false, false, false, false, false, false, false, false, false, false, false, false, false, false, false, false, false, false]}], \"label\": \"-0.55\", \"method\": \"update\"}, {\"args\": [{\"visible\": [true, true, false, false, false, false, false, false, false, false, false, false, true, false, false, false, false, false, false, false, false, false, false, false, false, false, false, false, false, false, false, false, false, false, false, false, false, false, false, false, false, false, false]}], \"label\": \"-0.50\", \"method\": \"update\"}, {\"args\": [{\"visible\": [true, true, false, false, false, false, false, false, false, false, false, false, false, true, false, false, false, false, false, false, false, false, false, false, false, false, false, false, false, false, false, false, false, false, false, false, false, false, false, false, false, false, false]}], \"label\": \"-0.45\", \"method\": \"update\"}, {\"args\": [{\"visible\": [true, true, false, false, false, false, false, false, false, false, false, false, false, false, true, false, false, false, false, false, false, false, false, false, false, false, false, false, false, false, false, false, false, false, false, false, false, false, false, false, false, false, false]}], \"label\": \"-0.40\", \"method\": \"update\"}, {\"args\": [{\"visible\": [true, true, false, false, false, false, false, false, false, false, false, false, false, false, false, true, false, false, false, false, false, false, false, false, false, false, false, false, false, false, false, false, false, false, false, false, false, false, false, false, false, false, false]}], \"label\": \"-0.35\", \"method\": \"update\"}, {\"args\": [{\"visible\": [true, true, false, false, false, false, false, false, false, false, false, false, false, false, false, false, true, false, false, false, false, false, false, false, false, false, false, false, false, false, false, false, false, false, false, false, false, false, false, false, false, false, false]}], \"label\": \"-0.30\", \"method\": \"update\"}, {\"args\": [{\"visible\": [true, true, false, false, false, false, false, false, false, false, false, false, false, false, false, false, false, true, false, false, false, false, false, false, false, false, false, false, false, false, false, false, false, false, false, false, false, false, false, false, false, false, false]}], \"label\": \"-0.25\", \"method\": \"update\"}, {\"args\": [{\"visible\": [true, true, false, false, false, false, false, false, false, false, false, false, false, false, false, false, false, false, true, false, false, false, false, false, false, false, false, false, false, false, false, false, false, false, false, false, false, false, false, false, false, false, false]}], \"label\": \"-0.20\", \"method\": \"update\"}, {\"args\": [{\"visible\": [true, true, false, false, false, false, false, false, false, false, false, false, false, false, false, false, false, false, false, true, false, false, false, false, false, false, false, false, false, false, false, false, false, false, false, false, false, false, false, false, false, false, false]}], \"label\": \"-0.15\", \"method\": \"update\"}, {\"args\": [{\"visible\": [true, true, false, false, false, false, false, false, false, false, false, false, false, false, false, false, false, false, false, false, true, false, false, false, false, false, false, false, false, false, false, false, false, false, false, false, false, false, false, false, false, false, false]}], \"label\": \"-0.10\", \"method\": \"update\"}, {\"args\": [{\"visible\": [true, true, false, false, false, false, false, false, false, false, false, false, false, false, false, false, false, false, false, false, false, true, false, false, false, false, false, false, false, false, false, false, false, false, false, false, false, false, false, false, false, false, false]}], \"label\": \"-0.05\", \"method\": \"update\"}, {\"args\": [{\"visible\": [true, true, false, false, false, false, false, false, false, false, false, false, false, false, false, false, false, false, false, false, false, false, true, false, false, false, false, false, false, false, false, false, false, false, false, false, false, false, false, false, false, false, false]}], \"label\": \"0.00\", \"method\": \"update\"}, {\"args\": [{\"visible\": [true, true, false, false, false, false, false, false, false, false, false, false, false, false, false, false, false, false, false, false, false, false, false, true, false, false, false, false, false, false, false, false, false, false, false, false, false, false, false, false, false, false, false]}], \"label\": \"0.05\", \"method\": \"update\"}, {\"args\": [{\"visible\": [true, true, false, false, false, false, false, false, false, false, false, false, false, false, false, false, false, false, false, false, false, false, false, false, true, false, false, false, false, false, false, false, false, false, false, false, false, false, false, false, false, false, false]}], \"label\": \"0.10\", \"method\": \"update\"}, {\"args\": [{\"visible\": [true, true, false, false, false, false, false, false, false, false, false, false, false, false, false, false, false, false, false, false, false, false, false, false, false, true, false, false, false, false, false, false, false, false, false, false, false, false, false, false, false, false, false]}], \"label\": \"0.15\", \"method\": \"update\"}, {\"args\": [{\"visible\": [true, true, false, false, false, false, false, false, false, false, false, false, false, false, false, false, false, false, false, false, false, false, false, false, false, false, true, false, false, false, false, false, false, false, false, false, false, false, false, false, false, false, false]}], \"label\": \"0.20\", \"method\": \"update\"}, {\"args\": [{\"visible\": [true, true, false, false, false, false, false, false, false, false, false, false, false, false, false, false, false, false, false, false, false, false, false, false, false, false, false, true, false, false, false, false, false, false, false, false, false, false, false, false, false, false, false]}], \"label\": \"0.25\", \"method\": \"update\"}, {\"args\": [{\"visible\": [true, true, false, false, false, false, false, false, false, false, false, false, false, false, false, false, false, false, false, false, false, false, false, false, false, false, false, false, true, false, false, false, false, false, false, false, false, false, false, false, false, false, false]}], \"label\": \"0.30\", \"method\": \"update\"}, {\"args\": [{\"visible\": [true, true, false, false, false, false, false, false, false, false, false, false, false, false, false, false, false, false, false, false, false, false, false, false, false, false, false, false, false, true, false, false, false, false, false, false, false, false, false, false, false, false, false]}], \"label\": \"0.35\", \"method\": \"update\"}, {\"args\": [{\"visible\": [true, true, false, false, false, false, false, false, false, false, false, false, false, false, false, false, false, false, false, false, false, false, false, false, false, false, false, false, false, false, true, false, false, false, false, false, false, false, false, false, false, false, false]}], \"label\": \"0.40\", \"method\": \"update\"}, {\"args\": [{\"visible\": [true, true, false, false, false, false, false, false, false, false, false, false, false, false, false, false, false, false, false, false, false, false, false, false, false, false, false, false, false, false, false, true, false, false, false, false, false, false, false, false, false, false, false]}], \"label\": \"0.45\", \"method\": \"update\"}, {\"args\": [{\"visible\": [true, true, false, false, false, false, false, false, false, false, false, false, false, false, false, false, false, false, false, false, false, false, false, false, false, false, false, false, false, false, false, false, true, false, false, false, false, false, false, false, false, false, false]}], \"label\": \"0.50\", \"method\": \"update\"}, {\"args\": [{\"visible\": [true, true, false, false, false, false, false, false, false, false, false, false, false, false, false, false, false, false, false, false, false, false, false, false, false, false, false, false, false, false, false, false, false, true, false, false, false, false, false, false, false, false, false]}], \"label\": \"0.55\", \"method\": \"update\"}, {\"args\": [{\"visible\": [true, true, false, false, false, false, false, false, false, false, false, false, false, false, false, false, false, false, false, false, false, false, false, false, false, false, false, false, false, false, false, false, false, false, true, false, false, false, false, false, false, false, false]}], \"label\": \"0.60\", \"method\": \"update\"}, {\"args\": [{\"visible\": [true, true, false, false, false, false, false, false, false, false, false, false, false, false, false, false, false, false, false, false, false, false, false, false, false, false, false, false, false, false, false, false, false, false, false, true, false, false, false, false, false, false, false]}], \"label\": \"0.65\", \"method\": \"update\"}, {\"args\": [{\"visible\": [true, true, false, false, false, false, false, false, false, false, false, false, false, false, false, false, false, false, false, false, false, false, false, false, false, false, false, false, false, false, false, false, false, false, false, false, true, false, false, false, false, false, false]}], \"label\": \"0.70\", \"method\": \"update\"}, {\"args\": [{\"visible\": [true, true, false, false, false, false, false, false, false, false, false, false, false, false, false, false, false, false, false, false, false, false, false, false, false, false, false, false, false, false, false, false, false, false, false, false, false, true, false, false, false, false, false]}], \"label\": \"0.75\", \"method\": \"update\"}, {\"args\": [{\"visible\": [true, true, false, false, false, false, false, false, false, false, false, false, false, false, false, false, false, false, false, false, false, false, false, false, false, false, false, false, false, false, false, false, false, false, false, false, false, false, true, false, false, false, false]}], \"label\": \"0.80\", \"method\": \"update\"}, {\"args\": [{\"visible\": [true, true, false, false, false, false, false, false, false, false, false, false, false, false, false, false, false, false, false, false, false, false, false, false, false, false, false, false, false, false, false, false, false, false, false, false, false, false, false, true, false, false, false]}], \"label\": \"0.85\", \"method\": \"update\"}, {\"args\": [{\"visible\": [true, true, false, false, false, false, false, false, false, false, false, false, false, false, false, false, false, false, false, false, false, false, false, false, false, false, false, false, false, false, false, false, false, false, false, false, false, false, false, false, true, false, false]}], \"label\": \"0.90\", \"method\": \"update\"}, {\"args\": [{\"visible\": [true, true, false, false, false, false, false, false, false, false, false, false, false, false, false, false, false, false, false, false, false, false, false, false, false, false, false, false, false, false, false, false, false, false, false, false, false, false, false, false, false, true, false]}], \"label\": \"0.95\", \"method\": \"update\"}, {\"args\": [{\"visible\": [true, true, false, false, false, false, false, false, false, false, false, false, false, false, false, false, false, false, false, false, false, false, false, false, false, false, false, false, false, false, false, false, false, false, false, false, false, false, false, false, false, false, true]}], \"label\": \"1.00\", \"method\": \"update\"}], \"y\": 0.35}], \"template\": {\"data\": {\"bar\": [{\"error_x\": {\"color\": \"#2a3f5f\"}, \"error_y\": {\"color\": \"#2a3f5f\"}, \"marker\": {\"line\": {\"color\": \"#E5ECF6\", \"width\": 0.5}}, \"type\": \"bar\"}], \"barpolar\": [{\"marker\": {\"line\": {\"color\": \"#E5ECF6\", \"width\": 0.5}}, \"type\": \"barpolar\"}], \"carpet\": [{\"aaxis\": {\"endlinecolor\": \"#2a3f5f\", \"gridcolor\": \"white\", \"linecolor\": \"white\", \"minorgridcolor\": \"white\", \"startlinecolor\": \"#2a3f5f\"}, \"baxis\": {\"endlinecolor\": \"#2a3f5f\", \"gridcolor\": \"white\", \"linecolor\": \"white\", \"minorgridcolor\": \"white\", \"startlinecolor\": \"#2a3f5f\"}, \"type\": \"carpet\"}], \"choropleth\": [{\"colorbar\": {\"outlinewidth\": 0, \"ticks\": \"\"}, \"type\": \"choropleth\"}], \"contour\": [{\"colorbar\": {\"outlinewidth\": 0, \"ticks\": \"\"}, \"colorscale\": [[0.0, \"#0d0887\"], [0.1111111111111111, \"#46039f\"], [0.2222222222222222, \"#7201a8\"], [0.3333333333333333, \"#9c179e\"], [0.4444444444444444, \"#bd3786\"], [0.5555555555555556, \"#d8576b\"], [0.6666666666666666, \"#ed7953\"], [0.7777777777777778, \"#fb9f3a\"], [0.8888888888888888, \"#fdca26\"], [1.0, \"#f0f921\"]], \"type\": \"contour\"}], \"contourcarpet\": [{\"colorbar\": {\"outlinewidth\": 0, \"ticks\": \"\"}, \"type\": \"contourcarpet\"}], \"heatmap\": [{\"colorbar\": {\"outlinewidth\": 0, \"ticks\": \"\"}, \"colorscale\": [[0.0, \"#0d0887\"], [0.1111111111111111, \"#46039f\"], [0.2222222222222222, \"#7201a8\"], [0.3333333333333333, \"#9c179e\"], [0.4444444444444444, \"#bd3786\"], [0.5555555555555556, \"#d8576b\"], [0.6666666666666666, \"#ed7953\"], [0.7777777777777778, \"#fb9f3a\"], [0.8888888888888888, \"#fdca26\"], [1.0, \"#f0f921\"]], \"type\": \"heatmap\"}], \"heatmapgl\": [{\"colorbar\": {\"outlinewidth\": 0, \"ticks\": \"\"}, \"colorscale\": [[0.0, \"#0d0887\"], [0.1111111111111111, \"#46039f\"], [0.2222222222222222, \"#7201a8\"], [0.3333333333333333, \"#9c179e\"], [0.4444444444444444, \"#bd3786\"], [0.5555555555555556, \"#d8576b\"], [0.6666666666666666, \"#ed7953\"], [0.7777777777777778, \"#fb9f3a\"], [0.8888888888888888, \"#fdca26\"], [1.0, \"#f0f921\"]], \"type\": \"heatmapgl\"}], \"histogram\": [{\"marker\": {\"colorbar\": {\"outlinewidth\": 0, \"ticks\": \"\"}}, \"type\": \"histogram\"}], \"histogram2d\": [{\"colorbar\": {\"outlinewidth\": 0, \"ticks\": \"\"}, \"colorscale\": [[0.0, \"#0d0887\"], [0.1111111111111111, \"#46039f\"], [0.2222222222222222, \"#7201a8\"], [0.3333333333333333, \"#9c179e\"], [0.4444444444444444, \"#bd3786\"], [0.5555555555555556, \"#d8576b\"], [0.6666666666666666, \"#ed7953\"], [0.7777777777777778, \"#fb9f3a\"], [0.8888888888888888, \"#fdca26\"], [1.0, \"#f0f921\"]], \"type\": \"histogram2d\"}], \"histogram2dcontour\": [{\"colorbar\": {\"outlinewidth\": 0, \"ticks\": \"\"}, \"colorscale\": [[0.0, \"#0d0887\"], [0.1111111111111111, \"#46039f\"], [0.2222222222222222, \"#7201a8\"], [0.3333333333333333, \"#9c179e\"], [0.4444444444444444, \"#bd3786\"], [0.5555555555555556, \"#d8576b\"], [0.6666666666666666, \"#ed7953\"], [0.7777777777777778, \"#fb9f3a\"], [0.8888888888888888, \"#fdca26\"], [1.0, \"#f0f921\"]], \"type\": \"histogram2dcontour\"}], \"mesh3d\": [{\"colorbar\": {\"outlinewidth\": 0, \"ticks\": \"\"}, \"type\": \"mesh3d\"}], \"parcoords\": [{\"line\": {\"colorbar\": {\"outlinewidth\": 0, \"ticks\": \"\"}}, \"type\": \"parcoords\"}], \"pie\": [{\"automargin\": true, \"type\": \"pie\"}], \"scatter\": [{\"marker\": {\"colorbar\": {\"outlinewidth\": 0, \"ticks\": \"\"}}, \"type\": \"scatter\"}], \"scatter3d\": [{\"line\": {\"colorbar\": {\"outlinewidth\": 0, \"ticks\": \"\"}}, \"marker\": {\"colorbar\": {\"outlinewidth\": 0, \"ticks\": \"\"}}, \"type\": \"scatter3d\"}], \"scattercarpet\": [{\"marker\": {\"colorbar\": {\"outlinewidth\": 0, \"ticks\": \"\"}}, \"type\": \"scattercarpet\"}], \"scattergeo\": [{\"marker\": {\"colorbar\": {\"outlinewidth\": 0, \"ticks\": \"\"}}, \"type\": \"scattergeo\"}], \"scattergl\": [{\"marker\": {\"colorbar\": {\"outlinewidth\": 0, \"ticks\": \"\"}}, \"type\": \"scattergl\"}], \"scattermapbox\": [{\"marker\": {\"colorbar\": {\"outlinewidth\": 0, \"ticks\": \"\"}}, \"type\": \"scattermapbox\"}], \"scatterpolar\": [{\"marker\": {\"colorbar\": {\"outlinewidth\": 0, \"ticks\": \"\"}}, \"type\": \"scatterpolar\"}], \"scatterpolargl\": [{\"marker\": {\"colorbar\": {\"outlinewidth\": 0, \"ticks\": \"\"}}, \"type\": \"scatterpolargl\"}], \"scatterternary\": [{\"marker\": {\"colorbar\": {\"outlinewidth\": 0, \"ticks\": \"\"}}, \"type\": \"scatterternary\"}], \"surface\": [{\"colorbar\": {\"outlinewidth\": 0, \"ticks\": \"\"}, \"colorscale\": [[0.0, \"#0d0887\"], [0.1111111111111111, \"#46039f\"], [0.2222222222222222, \"#7201a8\"], [0.3333333333333333, \"#9c179e\"], [0.4444444444444444, \"#bd3786\"], [0.5555555555555556, \"#d8576b\"], [0.6666666666666666, \"#ed7953\"], [0.7777777777777778, \"#fb9f3a\"], [0.8888888888888888, \"#fdca26\"], [1.0, \"#f0f921\"]], \"type\": \"surface\"}], \"table\": [{\"cells\": {\"fill\": {\"color\": \"#EBF0F8\"}, \"line\": {\"color\": \"white\"}}, \"header\": {\"fill\": {\"color\": \"#C8D4E3\"}, \"line\": {\"color\": \"white\"}}, \"type\": \"table\"}]}, \"layout\": {\"annotationdefaults\": {\"arrowcolor\": \"#2a3f5f\", \"arrowhead\": 0, \"arrowwidth\": 1}, \"autotypenumbers\": \"strict\", \"coloraxis\": {\"colorbar\": {\"outlinewidth\": 0, \"ticks\": \"\"}}, \"colorscale\": {\"diverging\": [[0, \"#8e0152\"], [0.1, \"#c51b7d\"], [0.2, \"#de77ae\"], [0.3, \"#f1b6da\"], [0.4, \"#fde0ef\"], [0.5, \"#f7f7f7\"], [0.6, \"#e6f5d0\"], [0.7, \"#b8e186\"], [0.8, \"#7fbc41\"], [0.9, \"#4d9221\"], [1, \"#276419\"]], \"sequential\": [[0.0, \"#0d0887\"], [0.1111111111111111, \"#46039f\"], [0.2222222222222222, \"#7201a8\"], [0.3333333333333333, \"#9c179e\"], [0.4444444444444444, \"#bd3786\"], [0.5555555555555556, \"#d8576b\"], [0.6666666666666666, \"#ed7953\"], [0.7777777777777778, \"#fb9f3a\"], [0.8888888888888888, \"#fdca26\"], [1.0, \"#f0f921\"]], \"sequentialminus\": [[0.0, \"#0d0887\"], [0.1111111111111111, \"#46039f\"], [0.2222222222222222, \"#7201a8\"], [0.3333333333333333, \"#9c179e\"], [0.4444444444444444, \"#bd3786\"], [0.5555555555555556, \"#d8576b\"], [0.6666666666666666, \"#ed7953\"], [0.7777777777777778, \"#fb9f3a\"], [0.8888888888888888, \"#fdca26\"], [1.0, \"#f0f921\"]]}, \"colorway\": [\"#636efa\", \"#EF553B\", \"#00cc96\", \"#ab63fa\", \"#FFA15A\", \"#19d3f3\", \"#FF6692\", \"#B6E880\", \"#FF97FF\", \"#FECB52\"], \"font\": {\"color\": \"#2a3f5f\"}, \"geo\": {\"bgcolor\": \"white\", \"lakecolor\": \"white\", \"landcolor\": \"#E5ECF6\", \"showlakes\": true, \"showland\": true, \"subunitcolor\": \"white\"}, \"hoverlabel\": {\"align\": \"left\"}, \"hovermode\": \"closest\", \"mapbox\": {\"style\": \"light\"}, \"paper_bgcolor\": \"white\", \"plot_bgcolor\": \"#E5ECF6\", \"polar\": {\"angularaxis\": {\"gridcolor\": \"white\", \"linecolor\": \"white\", \"ticks\": \"\"}, \"bgcolor\": \"#E5ECF6\", \"radialaxis\": {\"gridcolor\": \"white\", \"linecolor\": \"white\", \"ticks\": \"\"}}, \"scene\": {\"xaxis\": {\"backgroundcolor\": \"#E5ECF6\", \"gridcolor\": \"white\", \"gridwidth\": 2, \"linecolor\": \"white\", \"showbackground\": true, \"ticks\": \"\", \"zerolinecolor\": \"white\"}, \"yaxis\": {\"backgroundcolor\": \"#E5ECF6\", \"gridcolor\": \"white\", \"gridwidth\": 2, \"linecolor\": \"white\", \"showbackground\": true, \"ticks\": \"\", \"zerolinecolor\": \"white\"}, \"zaxis\": {\"backgroundcolor\": \"#E5ECF6\", \"gridcolor\": \"white\", \"gridwidth\": 2, \"linecolor\": \"white\", \"showbackground\": true, \"ticks\": \"\", \"zerolinecolor\": \"white\"}}, \"shapedefaults\": {\"line\": {\"color\": \"#2a3f5f\"}}, \"ternary\": {\"aaxis\": {\"gridcolor\": \"white\", \"linecolor\": \"white\", \"ticks\": \"\"}, \"baxis\": {\"gridcolor\": \"white\", \"linecolor\": \"white\", \"ticks\": \"\"}, \"bgcolor\": \"#E5ECF6\", \"caxis\": {\"gridcolor\": \"white\", \"linecolor\": \"white\", \"ticks\": \"\"}}, \"title\": {\"x\": 0.05}, \"xaxis\": {\"automargin\": true, \"gridcolor\": \"white\", \"linecolor\": \"white\", \"ticks\": \"\", \"title\": {\"standoff\": 15}, \"zerolinecolor\": \"white\", \"zerolinewidth\": 2}, \"yaxis\": {\"automargin\": true, \"gridcolor\": \"white\", \"linecolor\": \"white\", \"ticks\": \"\", \"title\": {\"standoff\": 15}, \"zerolinecolor\": \"white\", \"zerolinewidth\": 2}}}, \"title\": {\"text\": \"Word Usage as a Function of Ideal Point (Topic: Immigration)\", \"x\": 0.5, \"y\": 0.9}, \"xaxis\": {\"fixedrange\": true, \"range\": [-1.02, 1.02], \"showgrid\": false, \"showline\": false, \"showticklabels\": false, \"title\": {\"text\": \"Representative ideal points (hover to see names)\"}, \"zeroline\": false}, \"yaxis\": {\"fixedrange\": true, \"range\": [-0.6, 2.5], \"showgrid\": false, \"showline\": false, \"showticklabels\": false, \"zeroline\": false}},                        {\"responsive\": true}                    ).then(function(){\n",
       "                            \n",
       "var gd = document.getElementById('95582fac-9f27-4da9-bb4e-3e1b9275d8eb');\n",
       "var x = new MutationObserver(function (mutations, observer) {{\n",
       "        var display = window.getComputedStyle(gd).display;\n",
       "        if (!display || display === 'none') {{\n",
       "            console.log([gd, 'removed!']);\n",
       "            Plotly.purge(gd);\n",
       "            observer.disconnect();\n",
       "        }}\n",
       "}});\n",
       "\n",
       "// Listen for the removal of the full notebook cells\n",
       "var notebookContainer = gd.closest('#notebook-container');\n",
       "if (notebookContainer) {{\n",
       "    x.observe(notebookContainer, {childList: true});\n",
       "}}\n",
       "\n",
       "// Listen for the clearing of the current output cell\n",
       "var outputEl = gd.closest('.output');\n",
       "if (outputEl) {{\n",
       "    x.observe(outputEl, {childList: true});\n",
       "}}\n",
       "\n",
       "                        })                };                });            </script>        </div>"
      ]
     },
     "metadata": {},
     "output_type": "display_data"
    }
   ],
   "source": [
    "show_interactive(1)"
   ]
  },
  {
   "cell_type": "code",
   "execution_count": 17,
   "id": "d552cb23",
   "metadata": {},
   "outputs": [
    {
     "data": {
      "application/vnd.plotly.v1+json": {
       "config": {
        "plotlyServerURL": "https://plot.ly"
       },
       "data": [
        {
         "hoverinfo": "skip",
         "line": {
          "color": "black",
          "width": 1
         },
         "marker": {
          "size": 1
         },
         "type": "scatter",
         "x": [
          -1,
          1
         ],
         "y": [
          -0.53,
          -0.53
         ]
        },
        {
         "hoverinfo": "x+text",
         "marker": {
          "color": [
           "steelblue",
           "crimson",
           "steelblue",
           "crimson",
           "crimson",
           "steelblue"
          ],
          "size": 8
         },
         "mode": "markers",
         "text": [
          "Alex (D)",
          "John (R)",
          "Justicia (D)",
          "Lauren (R)",
          "Mark (R)",
          "Mona (D)"
         ],
         "type": "scatter",
         "x": [
          -0.789236307144165,
          0.8978533148765564,
          -1.0066245794296265,
          0.8361955285072327,
          0.829914391040802,
          -0.9671030640602112
         ],
         "y": [
          -0.53,
          -0.53,
          -0.53,
          -0.53,
          -0.53,
          -0.53
         ]
        },
        {
         "base": -0.3,
         "dy": 0.214,
         "hoverinfo": "skip",
         "marker": {
          "color": "rgb(175,122,197)"
         },
         "orientation": "h",
         "text": [
          "women",
          "rare",
          "legal",
          "bodily_autonomy",
          "rights",
          "contraception",
          "birth_control",
          "access"
         ],
         "textposition": "outside",
         "type": "bar",
         "visible": false,
         "x": [
          0.25288963317871094,
          0.2606831192970276,
          0.2611026465892792,
          0.35001933574676514,
          0.3921607732772827,
          0.4020880460739136,
          0.42210090160369873,
          0.46070098876953125
         ],
         "y0": 0.529
        },
        {
         "base": -0.3,
         "dy": 0.214,
         "hoverinfo": "skip",
         "marker": {
          "color": "rgb(175,122,197)"
         },
         "orientation": "h",
         "text": [
          "rare",
          "women",
          "legal",
          "bodily_autonomy",
          "rights",
          "contraception",
          "birth_control",
          "access"
         ],
         "textposition": "outside",
         "type": "bar",
         "visible": false,
         "x": [
          0.24768942594528198,
          0.24890966713428497,
          0.2521551847457886,
          0.3236377537250519,
          0.36132362484931946,
          0.36986780166625977,
          0.3878245949745178,
          0.42286860942840576
         ],
         "y0": 0.529
        },
        {
         "base": -0.3,
         "dy": 0.214,
         "hoverinfo": "skip",
         "marker": {
          "color": "rgb(175,122,197)"
         },
         "orientation": "h",
         "text": [
          "rare",
          "legal",
          "women",
          "bodily_autonomy",
          "rights",
          "contraception",
          "birth_control",
          "access"
         ],
         "textposition": "outside",
         "type": "bar",
         "visible": false,
         "x": [
          0.23538345098495483,
          0.2435719072818756,
          0.2450355738401413,
          0.2992878556251526,
          0.3329702615737915,
          0.34030064940452576,
          0.35640445351600647,
          0.38821035623550415
         ],
         "y0": 0.529
        },
        {
         "base": -0.3,
         "dy": 0.214,
         "hoverinfo": "skip",
         "marker": {
          "color": "rgb(175,122,197)"
         },
         "orientation": "h",
         "text": [
          "rare",
          "legal",
          "women",
          "bodily_autonomy",
          "rights",
          "contraception",
          "birth_control",
          "access"
         ],
         "textposition": "outside",
         "type": "bar",
         "visible": false,
         "x": [
          0.22372691333293915,
          0.23533642292022705,
          0.24126428365707397,
          0.2768101096153259,
          0.30689600110054016,
          0.3131626546382904,
          0.3275966942310333,
          0.3564545512199402
         ],
         "y0": 0.529
        },
        {
         "base": -0.3,
         "dy": 0.214,
         "hoverinfo": "skip",
         "marker": {
          "color": "rgb(175,122,197)"
         },
         "orientation": "h",
         "text": [
          "rare",
          "legal",
          "women",
          "bodily_autonomy",
          "rights",
          "contraception",
          "birth_control",
          "access"
         ],
         "textposition": "outside",
         "type": "bar",
         "visible": false,
         "x": [
          0.2126837521791458,
          0.22743315994739532,
          0.2375929355621338,
          0.2560575604438782,
          0.28291356563568115,
          0.2882491648197174,
          0.30117887258529663,
          0.3273531198501587
         ],
         "y0": 0.529
        },
        {
         "base": -0.3,
         "dy": 0.214,
         "hoverinfo": "skip",
         "marker": {
          "color": "rgb(175,122,197)"
         },
         "orientation": "h",
         "text": [
          "choice",
          "legal",
          "women",
          "bodily_autonomy",
          "rights",
          "contraception",
          "birth_control",
          "access"
         ],
         "textposition": "outside",
         "type": "bar",
         "visible": false,
         "x": [
          0.20641830563545227,
          0.21984727680683136,
          0.2340187132358551,
          0.2368951439857483,
          0.26085129380226135,
          0.2653731107711792,
          0.2769479751586914,
          0.30067968368530273
         ],
         "y0": 0.529
        },
        {
         "base": -0.3,
         "dy": 0.214,
         "hoverinfo": "skip",
         "marker": {
          "color": "rgb(175,122,197)"
         },
         "orientation": "h",
         "text": [
          "choice",
          "legal",
          "bodily_autonomy",
          "women",
          "rights",
          "contraception",
          "birth_control",
          "access"
         ],
         "textposition": "outside",
         "type": "bar",
         "visible": false,
         "x": [
          0.20284534990787506,
          0.2125646322965622,
          0.21919846534729004,
          0.23053890466690063,
          0.24055200815200806,
          0.2443636953830719,
          0.25471851229667664,
          0.2762276530265808
         ],
         "y0": 0.529
        },
        {
         "base": -0.3,
         "dy": 0.214,
         "hoverinfo": "skip",
         "marker": {
          "color": "rgb(175,122,197)"
         },
         "orientation": "h",
         "text": [
          "choice",
          "bodily_autonomy",
          "legal",
          "rights",
          "contraception",
          "women",
          "birth_control",
          "access"
         ],
         "textposition": "outside",
         "type": "bar",
         "visible": false,
         "x": [
          0.19937139749526978,
          0.20285314321517944,
          0.20557183027267456,
          0.22187158465385437,
          0.22506466507911682,
          0.2271508425474167,
          0.23432117700576782,
          0.25380808115005493
         ],
         "y0": 0.529
        },
        {
         "base": -0.3,
         "dy": 0.214,
         "hoverinfo": "skip",
         "marker": {
          "color": "rgb(175,122,197)"
         },
         "orientation": "h",
         "text": [
          "bodily_autonomy",
          "choice",
          "legal",
          "rights",
          "contraception",
          "birth_control",
          "women",
          "access"
         ],
         "textposition": "outside",
         "type": "bar",
         "visible": false,
         "x": [
          0.1877538561820984,
          0.19599346816539764,
          0.19885607063770294,
          0.2046780288219452,
          0.20733320713043213,
          0.21560120582580566,
          0.22385208308696747,
          0.23324869573116302
         ],
         "y0": 0.529
        },
        {
         "base": -0.3,
         "dy": 0.214,
         "hoverinfo": "skip",
         "marker": {
          "color": "rgb(175,122,197)"
         },
         "orientation": "h",
         "text": [
          "bodily_autonomy",
          "rights",
          "contraception",
          "legal",
          "choice",
          "birth_control",
          "access",
          "women"
         ],
         "textposition": "outside",
         "type": "bar",
         "visible": false,
         "x": [
          0.17380359768867493,
          0.18885017931461334,
          0.19103868305683136,
          0.19240516424179077,
          0.19270867109298706,
          0.19841724634170532,
          0.214391827583313,
          0.2206401228904724
         ],
         "y0": 0.529
        },
        {
         "base": -0.3,
         "dy": 0.214,
         "hoverinfo": "skip",
         "marker": {
          "color": "rgb(175,122,197)"
         },
         "orientation": "h",
         "text": [
          "bodily_autonomy",
          "rights",
          "contraception",
          "birth_control",
          "legal",
          "choice",
          "access",
          "women"
         ],
         "textposition": "outside",
         "type": "bar",
         "visible": false,
         "x": [
          0.1609131544828415,
          0.17427712678909302,
          0.17606157064437866,
          0.1826401948928833,
          0.18620756268501282,
          0.18951423466205597,
          0.1970936357975006,
          0.2175125628709793
         ],
         "y0": 0.529
        },
        {
         "base": -0.3,
         "dy": 0.214,
         "hoverinfo": "skip",
         "marker": {
          "color": "rgb(175,122,197)"
         },
         "orientation": "h",
         "text": [
          "rare",
          "rights",
          "contraception",
          "birth_control",
          "legal",
          "access",
          "choice",
          "women"
         ],
         "textposition": "outside",
         "type": "bar",
         "visible": false,
         "x": [
          0.1499386876821518,
          0.16085706651210785,
          0.16229259967803955,
          0.16815200448036194,
          0.18025217950344086,
          0.1812225729227066,
          0.18640749156475067,
          0.2144671231508255
         ],
         "y0": 0.529
        },
        {
         "base": -0.3,
         "dy": 0.214,
         "hoverinfo": "skip",
         "marker": {
          "color": "rgb(175,122,197)"
         },
         "orientation": "h",
         "text": [
          "rare",
          "rights",
          "contraception",
          "birth_control",
          "access",
          "legal",
          "choice",
          "women"
         ],
         "textposition": "outside",
         "type": "bar",
         "visible": false,
         "x": [
          0.1427316665649414,
          0.148496612906456,
          0.14963176846504211,
          0.15484468638896942,
          0.1666584610939026,
          0.17452852427959442,
          0.18338584899902344,
          0.21150164306163788
         ],
         "y0": 0.529
        },
        {
         "base": -0.3,
         "dy": 0.214,
         "hoverinfo": "skip",
         "marker": {
          "color": "rgb(175,122,197)"
         },
         "orientation": "h",
         "text": [
          "rights",
          "heartbeat",
          "contraception",
          "birth_control",
          "access",
          "legal",
          "choice",
          "women"
         ],
         "textposition": "outside",
         "type": "bar",
         "visible": false,
         "x": [
          0.13711018860340118,
          0.13722041249275208,
          0.13798747956752777,
          0.14261959493160248,
          0.15329138934612274,
          0.16902655363082886,
          0.1804468184709549,
          0.20861394703388214
         ],
         "y0": 0.529
        },
        {
         "base": -0.3,
         "dy": 0.214,
         "hoverinfo": "skip",
         "marker": {
          "color": "rgb(175,122,197)"
         },
         "orientation": "h",
         "text": [
          "rare",
          "birth_control",
          "stem",
          "heartbeat",
          "access",
          "legal",
          "choice",
          "women"
         ],
         "textposition": "outside",
         "type": "bar",
         "visible": false,
         "x": [
          0.1294061690568924,
          0.13138650357723236,
          0.13565315306186676,
          0.14066998660564423,
          0.14102089405059814,
          0.1637367308139801,
          0.17758795619010925,
          0.20580194890499115
         ],
         "y0": 0.529
        },
        {
         "base": -0.3,
         "dy": 0.214,
         "hoverinfo": "skip",
         "marker": {
          "color": "rgb(175,122,197)"
         },
         "orientation": "h",
         "text": [
          "weeks",
          "late_abortion",
          "access",
          "stem",
          "heartbeat",
          "legal",
          "choice",
          "women"
         ],
         "textposition": "outside",
         "type": "bar",
         "visible": false,
         "x": [
          0.12430407851934433,
          0.12782463431358337,
          0.1297551393508911,
          0.13908979296684265,
          0.14423605799674988,
          0.1586499661207199,
          0.17480698227882385,
          0.20306363701820374
         ],
         "y0": 0.529
        },
        {
         "base": -0.3,
         "dy": 0.214,
         "hoverinfo": "skip",
         "marker": {
          "color": "rgb(175,122,197)"
         },
         "orientation": "h",
         "text": [
          "access",
          "weeks",
          "late_abortion",
          "stem",
          "heartbeat",
          "legal",
          "choice",
          "women"
         ],
         "textposition": "outside",
         "type": "bar",
         "visible": false,
         "x": [
          0.11941008269786835,
          0.12830406427383423,
          0.1316021978855133,
          0.14264915883541107,
          0.1479230523109436,
          0.15375755727291107,
          0.17210161685943604,
          0.20039710402488708
         ],
         "y0": 0.529
        },
        {
         "base": -0.3,
         "dy": 0.214,
         "hoverinfo": "skip",
         "marker": {
          "color": "rgb(175,122,197)"
         },
         "orientation": "h",
         "text": [
          "rare",
          "weeks",
          "late_abortion",
          "stem",
          "legal",
          "heartbeat",
          "choice",
          "women"
         ],
         "textposition": "outside",
         "type": "bar",
         "visible": false,
         "x": [
          0.11185632646083832,
          0.13246166706085205,
          0.13552340865135193,
          0.14633618295192719,
          0.1490512639284134,
          0.15173563361167908,
          0.1694696992635727,
          0.19780045747756958
         ],
         "y0": 0.529
        },
        {
         "base": -0.3,
         "dy": 0.214,
         "hoverinfo": "skip",
         "marker": {
          "color": "rgb(175,122,197)"
         },
         "orientation": "h",
         "text": [
          "life",
          "weeks",
          "late_abortion",
          "legal",
          "stem",
          "heartbeat",
          "choice",
          "women"
         ],
         "textposition": "outside",
         "type": "bar",
         "visible": false,
         "x": [
          0.11436007916927338,
          0.13678383827209473,
          0.1395944207906723,
          0.14452317357063293,
          0.15015605092048645,
          0.1556786149740219,
          0.1669091135263443,
          0.19527184963226318
         ],
         "y0": 0.529
        },
        {
         "base": -0.3,
         "dy": 0.214,
         "hoverinfo": "skip",
         "marker": {
          "color": "rgb(175,122,197)"
         },
         "orientation": "h",
         "text": [
          "life",
          "legal",
          "weeks",
          "late_abortion",
          "stem",
          "heartbeat",
          "choice",
          "women"
         ],
         "textposition": "outside",
         "type": "bar",
         "visible": true,
         "x": [
          0.11967632919549942,
          0.140165776014328,
          0.14127786457538605,
          0.14382170140743256,
          0.15411414206027985,
          0.15975706279277802,
          0.16441789269447327,
          0.1928095817565918
         ],
         "y0": 0.529
        },
        {
         "base": -0.3,
         "dy": 0.214,
         "hoverinfo": "skip",
         "marker": {
          "color": "rgb(175,122,197)"
         },
         "orientation": "h",
         "text": [
          "life",
          "legal",
          "weeks",
          "late_abortion",
          "stem",
          "choice",
          "heartbeat",
          "women"
         ],
         "textposition": "outside",
         "type": "bar",
         "visible": false,
         "x": [
          0.12526890635490417,
          0.13597187399864197,
          0.14595137536525726,
          0.1482120156288147,
          0.15821613371372223,
          0.16199401021003723,
          0.16397617757320404,
          0.19041194021701813
         ],
         "y0": 0.529
        },
        {
         "base": -0.3,
         "dy": 0.214,
         "hoverinfo": "skip",
         "marker": {
          "color": "rgb(175,122,197)"
         },
         "orientation": "h",
         "text": [
          "life",
          "legal",
          "weeks",
          "late_abortion",
          "choice",
          "stem",
          "heartbeat",
          "women"
         ],
         "textposition": "outside",
         "type": "bar",
         "visible": false,
         "x": [
          0.1311533898115158,
          0.13193465769290924,
          0.15081240236759186,
          0.1527724266052246,
          0.15963561832904816,
          0.16246792674064636,
          0.1683414876461029,
          0.18807724118232727
         ],
         "y0": 0.529
        },
        {
         "base": -0.3,
         "dy": 0.214,
         "hoverinfo": "skip",
         "marker": {
          "color": "rgb(175,122,197)"
         },
         "orientation": "h",
         "text": [
          "legal",
          "life",
          "weeks",
          "choice",
          "late_abortion",
          "stem",
          "heartbeat",
          "women"
         ],
         "textposition": "outside",
         "type": "bar",
         "visible": false,
         "x": [
          0.12804755568504333,
          0.1373463273048401,
          0.15586933493614197,
          0.1573408544063568,
          0.15751035511493683,
          0.1668756902217865,
          0.17285870015621185,
          0.18580392003059387
         ],
         "y0": 0.529
        },
        {
         "base": -0.3,
         "dy": 0.214,
         "hoverinfo": "skip",
         "marker": {
          "color": "rgb(175,122,197)"
         },
         "orientation": "h",
         "text": [
          "legal",
          "life",
          "choice",
          "weeks",
          "late_abortion",
          "stem",
          "heartbeat",
          "women"
         ],
         "textposition": "outside",
         "type": "bar",
         "visible": false,
         "x": [
          0.1243043765425682,
          0.14386522769927979,
          0.1551080048084259,
          0.16113099455833435,
          0.16243360936641693,
          0.17144590616226196,
          0.17753377556800842,
          0.18359047174453735
         ],
         "y0": 0.529
        },
        {
         "base": -0.3,
         "dy": 0.214,
         "hoverinfo": "skip",
         "marker": {
          "color": "rgb(175,122,197)"
         },
         "orientation": "h",
         "text": [
          "legal",
          "life",
          "choice",
          "weeks",
          "late_abortion",
          "stem",
          "women",
          "heartbeat"
         ],
         "textposition": "outside",
         "type": "bar",
         "visible": false,
         "x": [
          0.12069914489984512,
          0.15072868764400482,
          0.15293534100055695,
          0.166606605052948,
          0.16755031049251556,
          0.17618530988693237,
          0.18143536150455475,
          0.18237294256687164
         ],
         "y0": 0.529
        },
        {
         "base": -0.3,
         "dy": 0.214,
         "hoverinfo": "skip",
         "marker": {
          "color": "rgb(175,122,197)"
         },
         "orientation": "h",
         "text": [
          "babies",
          "choice",
          "life",
          "weeks",
          "late_abortion",
          "women",
          "stem",
          "heartbeat"
         ],
         "textposition": "outside",
         "type": "bar",
         "visible": false,
         "x": [
          0.12270934879779816,
          0.15082119405269623,
          0.15795640647411346,
          0.1723058819770813,
          0.17286904156208038,
          0.17933714389801025,
          0.1811010241508484,
          0.18738271296024323
         ],
         "y0": 0.529
        },
        {
         "base": -0.3,
         "dy": 0.214,
         "hoverinfo": "skip",
         "marker": {
          "color": "rgb(175,122,197)"
         },
         "orientation": "h",
         "text": [
          "babies",
          "choice",
          "life",
          "women",
          "weeks",
          "late_abortion",
          "stem",
          "heartbeat"
         ],
         "textposition": "outside",
         "type": "bar",
         "visible": false,
         "x": [
          0.13223157823085785,
          0.1487639993429184,
          0.1655692756175995,
          0.17729446291923523,
          0.17823903262615204,
          0.1783987283706665,
          0.18620042502880096,
          0.19256985187530518
         ],
         "y0": 0.529
        },
        {
         "base": -0.3,
         "dy": 0.214,
         "hoverinfo": "skip",
         "marker": {
          "color": "rgb(175,122,197)"
         },
         "orientation": "h",
         "text": [
          "babies",
          "choice",
          "life",
          "women",
          "late_abortion",
          "weeks",
          "stem",
          "heartbeat"
         ],
         "textposition": "outside",
         "type": "bar",
         "visible": false,
         "x": [
          0.14252358675003052,
          0.14676222205162048,
          0.1735895276069641,
          0.17530596256256104,
          0.18414881825447083,
          0.18441671133041382,
          0.19149130582809448,
          0.19794143736362457
         ],
         "y0": 0.529
        },
        {
         "base": -0.3,
         "dy": 0.214,
         "hoverinfo": "skip",
         "marker": {
          "color": "rgb(175,122,197)"
         },
         "orientation": "h",
         "text": [
          "unborn",
          "babies",
          "women",
          "life",
          "late_abortion",
          "weeks",
          "stem",
          "heartbeat"
         ],
         "textposition": "outside",
         "type": "bar",
         "visible": false,
         "x": [
          0.1532699018716812,
          0.1536499559879303,
          0.17337031662464142,
          0.1820407658815384,
          0.1901291310787201,
          0.190850168466568,
          0.196981742978096,
          0.20350489020347595
         ],
         "y0": 0.529
        },
        {
         "base": -0.3,
         "dy": 0.214,
         "hoverinfo": "skip",
         "marker": {
          "color": "rgb(175,122,197)"
         },
         "orientation": "h",
         "text": [
          "unborn",
          "babies",
          "women",
          "life",
          "late_abortion",
          "weeks",
          "stem",
          "heartbeat"
         ],
         "textposition": "outside",
         "type": "bar",
         "visible": false,
         "x": [
          0.1653854250907898,
          0.16568081080913544,
          0.1714862585067749,
          0.19094793498516083,
          0.19635005295276642,
          0.19755110144615173,
          0.2026802897453308,
          0.20926791429519653
         ],
         "y0": 0.529
        },
        {
         "base": -0.3,
         "dy": 0.214,
         "hoverinfo": "skip",
         "marker": {
          "color": "rgb(175,122,197)"
         },
         "orientation": "h",
         "text": [
          "unborn_child",
          "unborn",
          "babies",
          "life",
          "late_abortion",
          "weeks",
          "stem",
          "heartbeat"
         ],
         "textposition": "outside",
         "type": "bar",
         "visible": false,
         "x": [
          0.17836686968803406,
          0.178496852517128,
          0.17869240045547485,
          0.20033761858940125,
          0.20282244682312012,
          0.20453199744224548,
          0.20859584212303162,
          0.2152385711669922
         ],
         "y0": 0.529
        },
        {
         "base": -0.3,
         "dy": 0.214,
         "hoverinfo": "skip",
         "marker": {
          "color": "rgb(175,122,197)"
         },
         "orientation": "h",
         "text": [
          "unborn_child",
          "unborn",
          "babies",
          "late_abortion",
          "life",
          "weeks",
          "stem",
          "heartbeat"
         ],
         "textposition": "outside",
         "type": "bar",
         "visible": false,
         "x": [
          0.19257980585098267,
          0.19268898665905,
          0.19276760518550873,
          0.2095576822757721,
          0.21023809909820557,
          0.2118057757616043,
          0.21473772823810577,
          0.22142530977725983
         ],
         "y0": 0.529
        },
        {
         "base": -0.3,
         "dy": 0.214,
         "hoverinfo": "skip",
         "marker": {
          "color": "rgb(175,122,197)"
         },
         "orientation": "h",
         "text": [
          "unborn_child",
          "babies",
          "unborn",
          "late_abortion",
          "weeks",
          "life",
          "stem",
          "heartbeat"
         ],
         "textposition": "outside",
         "type": "bar",
         "visible": false,
         "x": [
          0.20797622203826904,
          0.20799651741981506,
          0.2080540657043457,
          0.21656769514083862,
          0.21938607096672058,
          0.22067926824092865,
          0.22111572325229645,
          0.22783689200878143
         ],
         "y0": 0.529
        },
        {
         "base": -0.3,
         "dy": 0.214,
         "hoverinfo": "skip",
         "marker": {
          "color": "rgb(175,122,197)"
         },
         "orientation": "h",
         "text": [
          "late_abortion",
          "babies",
          "unborn_child",
          "unborn",
          "weeks",
          "stem",
          "life",
          "heartbeat"
         ],
         "textposition": "outside",
         "type": "bar",
         "visible": false,
         "x": [
          0.22386513650417328,
          0.2244771420955658,
          0.2246585339307785,
          0.22469238936901093,
          0.22728726267814636,
          0.2277400940656662,
          0.23169295489788055,
          0.2344825565814972
         ],
         "y0": 0.529
        },
        {
         "base": -0.3,
         "dy": 0.214,
         "hoverinfo": "skip",
         "marker": {
          "color": "rgb(175,122,197)"
         },
         "orientation": "h",
         "text": [
          "late_abortion",
          "stem",
          "weeks",
          "heartbeat",
          "babies",
          "unborn",
          "unborn_child",
          "life"
         ],
         "textposition": "outside",
         "type": "bar",
         "visible": false,
         "x": [
          0.23146313428878784,
          0.2346215844154358,
          0.23552441596984863,
          0.24137189984321594,
          0.2423161268234253,
          0.2427133172750473,
          0.24273839592933655,
          0.24331308901309967
         ],
         "y0": 0.529
        },
        {
         "base": -0.3,
         "dy": 0.214,
         "hoverinfo": "skip",
         "marker": {
          "color": "rgb(175,122,197)"
         },
         "orientation": "h",
         "text": [
          "stem",
          "weeks",
          "murder",
          "heartbeat",
          "life",
          "babies",
          "unborn",
          "unborn_child"
         ],
         "textposition": "outside",
         "type": "bar",
         "visible": false,
         "x": [
          0.24177142977714539,
          0.24411335587501526,
          0.24592430889606476,
          0.24851493537425995,
          0.25557559728622437,
          0.26162946224212646,
          0.2622356712818146,
          0.2623375654220581
         ],
         "y0": 0.529
        },
        {
         "base": -0.3,
         "dy": 0.214,
         "hoverinfo": "skip",
         "marker": {
          "color": "rgb(175,122,197)"
         },
         "orientation": "h",
         "text": [
          "stem",
          "weeks",
          "heartbeat",
          "murder",
          "life",
          "babies",
          "unborn",
          "unborn_child"
         ],
         "textposition": "outside",
         "type": "bar",
         "visible": false,
         "x": [
          0.24920149147510529,
          0.2530706822872162,
          0.25592225790023804,
          0.26538071036338806,
          0.26851868629455566,
          0.2825433015823364,
          0.2833889424800873,
          0.28358861804008484
         ],
         "y0": 0.529
        },
        {
         "base": -0.3,
         "dy": 0.214,
         "hoverinfo": "skip",
         "marker": {
          "color": "rgb(175,122,197)"
         },
         "orientation": "h",
         "text": [
          "stem",
          "weeks",
          "heartbeat",
          "life",
          "murder",
          "babies",
          "unborn",
          "unborn_child"
         ],
         "textposition": "outside",
         "type": "bar",
         "visible": false,
         "x": [
          0.2569240927696228,
          0.26241397857666016,
          0.2636047601699829,
          0.2821830213069916,
          0.28643959760665894,
          0.30519503355026245,
          0.3063141703605652,
          0.306636244058609
         ],
         "y0": 0.529
        },
        {
         "base": -0.3,
         "dy": 0.214,
         "hoverinfo": "skip",
         "marker": {
          "color": "rgb(175,122,197)"
         },
         "orientation": "h",
         "text": [
          "heartbeat",
          "weeks",
          "baby",
          "life",
          "murder",
          "babies",
          "unborn",
          "unborn_child"
         ],
         "textposition": "outside",
         "type": "bar",
         "visible": false,
         "x": [
          0.27157390117645264,
          0.272161602973938,
          0.2746557295322418,
          0.29661184549331665,
          0.3092377185821533,
          0.329734206199646,
          0.33116474747657776,
          0.3316380977630615
         ],
         "y0": 0.529
        },
        {
         "base": -0.3,
         "dy": 0.214,
         "hoverinfo": "skip",
         "marker": {
          "color": "rgb(175,122,197)"
         },
         "orientation": "h",
         "text": [
          "heartbeat",
          "weeks",
          "baby",
          "life",
          "murder",
          "babies",
          "unborn",
          "unborn_child"
         ],
         "textposition": "outside",
         "type": "bar",
         "visible": false,
         "x": [
          0.2798417806625366,
          0.2823328971862793,
          0.295532763004303,
          0.3118511736392975,
          0.3339240252971649,
          0.35632357001304626,
          0.35810813307762146,
          0.3587663471698761
         ],
         "y0": 0.529
        },
        {
         "base": -0.3,
         "dy": 0.214,
         "hoverinfo": "skip",
         "marker": {
          "color": "rgb(175,122,197)"
         },
         "orientation": "h",
         "text": [
          "heartbeat",
          "weeks",
          "baby",
          "life",
          "murder",
          "babies",
          "unborn",
          "unborn_child"
         ],
         "textposition": "outside",
         "type": "bar",
         "visible": false,
         "x": [
          0.2884209156036377,
          0.29294824600219727,
          0.31805741786956787,
          0.32794997096061707,
          0.3606605529785156,
          0.385140597820282,
          0.38732650876045227,
          0.38820886611938477
         ],
         "y0": 0.529
        }
       ],
       "layout": {
        "annotations": [
         {
          "font": {
           "size": 14
          },
          "showarrow": false,
          "text": "Move slider to change ideal point",
          "x": 0.5,
          "xref": "paper",
          "y": 0.255,
          "yref": "paper"
         }
        ],
        "paper_bgcolor": "rgba(0,0,0,0)",
        "plot_bgcolor": "rgba(0,0,0,0)",
        "showlegend": false,
        "sliders": [
         {
          "active": 20,
          "currentvalue": {
           "prefix": "Ideal Point: "
          },
          "steps": [
           {
            "args": [
             {
              "visible": [
               true,
               true,
               true,
               false,
               false,
               false,
               false,
               false,
               false,
               false,
               false,
               false,
               false,
               false,
               false,
               false,
               false,
               false,
               false,
               false,
               false,
               false,
               false,
               false,
               false,
               false,
               false,
               false,
               false,
               false,
               false,
               false,
               false,
               false,
               false,
               false,
               false,
               false,
               false,
               false,
               false,
               false,
               false
              ]
             }
            ],
            "label": "-1.00",
            "method": "update"
           },
           {
            "args": [
             {
              "visible": [
               true,
               true,
               false,
               true,
               false,
               false,
               false,
               false,
               false,
               false,
               false,
               false,
               false,
               false,
               false,
               false,
               false,
               false,
               false,
               false,
               false,
               false,
               false,
               false,
               false,
               false,
               false,
               false,
               false,
               false,
               false,
               false,
               false,
               false,
               false,
               false,
               false,
               false,
               false,
               false,
               false,
               false,
               false
              ]
             }
            ],
            "label": "-0.95",
            "method": "update"
           },
           {
            "args": [
             {
              "visible": [
               true,
               true,
               false,
               false,
               true,
               false,
               false,
               false,
               false,
               false,
               false,
               false,
               false,
               false,
               false,
               false,
               false,
               false,
               false,
               false,
               false,
               false,
               false,
               false,
               false,
               false,
               false,
               false,
               false,
               false,
               false,
               false,
               false,
               false,
               false,
               false,
               false,
               false,
               false,
               false,
               false,
               false,
               false
              ]
             }
            ],
            "label": "-0.90",
            "method": "update"
           },
           {
            "args": [
             {
              "visible": [
               true,
               true,
               false,
               false,
               false,
               true,
               false,
               false,
               false,
               false,
               false,
               false,
               false,
               false,
               false,
               false,
               false,
               false,
               false,
               false,
               false,
               false,
               false,
               false,
               false,
               false,
               false,
               false,
               false,
               false,
               false,
               false,
               false,
               false,
               false,
               false,
               false,
               false,
               false,
               false,
               false,
               false,
               false
              ]
             }
            ],
            "label": "-0.85",
            "method": "update"
           },
           {
            "args": [
             {
              "visible": [
               true,
               true,
               false,
               false,
               false,
               false,
               true,
               false,
               false,
               false,
               false,
               false,
               false,
               false,
               false,
               false,
               false,
               false,
               false,
               false,
               false,
               false,
               false,
               false,
               false,
               false,
               false,
               false,
               false,
               false,
               false,
               false,
               false,
               false,
               false,
               false,
               false,
               false,
               false,
               false,
               false,
               false,
               false
              ]
             }
            ],
            "label": "-0.80",
            "method": "update"
           },
           {
            "args": [
             {
              "visible": [
               true,
               true,
               false,
               false,
               false,
               false,
               false,
               true,
               false,
               false,
               false,
               false,
               false,
               false,
               false,
               false,
               false,
               false,
               false,
               false,
               false,
               false,
               false,
               false,
               false,
               false,
               false,
               false,
               false,
               false,
               false,
               false,
               false,
               false,
               false,
               false,
               false,
               false,
               false,
               false,
               false,
               false,
               false
              ]
             }
            ],
            "label": "-0.75",
            "method": "update"
           },
           {
            "args": [
             {
              "visible": [
               true,
               true,
               false,
               false,
               false,
               false,
               false,
               false,
               true,
               false,
               false,
               false,
               false,
               false,
               false,
               false,
               false,
               false,
               false,
               false,
               false,
               false,
               false,
               false,
               false,
               false,
               false,
               false,
               false,
               false,
               false,
               false,
               false,
               false,
               false,
               false,
               false,
               false,
               false,
               false,
               false,
               false,
               false
              ]
             }
            ],
            "label": "-0.70",
            "method": "update"
           },
           {
            "args": [
             {
              "visible": [
               true,
               true,
               false,
               false,
               false,
               false,
               false,
               false,
               false,
               true,
               false,
               false,
               false,
               false,
               false,
               false,
               false,
               false,
               false,
               false,
               false,
               false,
               false,
               false,
               false,
               false,
               false,
               false,
               false,
               false,
               false,
               false,
               false,
               false,
               false,
               false,
               false,
               false,
               false,
               false,
               false,
               false,
               false
              ]
             }
            ],
            "label": "-0.65",
            "method": "update"
           },
           {
            "args": [
             {
              "visible": [
               true,
               true,
               false,
               false,
               false,
               false,
               false,
               false,
               false,
               false,
               true,
               false,
               false,
               false,
               false,
               false,
               false,
               false,
               false,
               false,
               false,
               false,
               false,
               false,
               false,
               false,
               false,
               false,
               false,
               false,
               false,
               false,
               false,
               false,
               false,
               false,
               false,
               false,
               false,
               false,
               false,
               false,
               false
              ]
             }
            ],
            "label": "-0.60",
            "method": "update"
           },
           {
            "args": [
             {
              "visible": [
               true,
               true,
               false,
               false,
               false,
               false,
               false,
               false,
               false,
               false,
               false,
               true,
               false,
               false,
               false,
               false,
               false,
               false,
               false,
               false,
               false,
               false,
               false,
               false,
               false,
               false,
               false,
               false,
               false,
               false,
               false,
               false,
               false,
               false,
               false,
               false,
               false,
               false,
               false,
               false,
               false,
               false,
               false
              ]
             }
            ],
            "label": "-0.55",
            "method": "update"
           },
           {
            "args": [
             {
              "visible": [
               true,
               true,
               false,
               false,
               false,
               false,
               false,
               false,
               false,
               false,
               false,
               false,
               true,
               false,
               false,
               false,
               false,
               false,
               false,
               false,
               false,
               false,
               false,
               false,
               false,
               false,
               false,
               false,
               false,
               false,
               false,
               false,
               false,
               false,
               false,
               false,
               false,
               false,
               false,
               false,
               false,
               false,
               false
              ]
             }
            ],
            "label": "-0.50",
            "method": "update"
           },
           {
            "args": [
             {
              "visible": [
               true,
               true,
               false,
               false,
               false,
               false,
               false,
               false,
               false,
               false,
               false,
               false,
               false,
               true,
               false,
               false,
               false,
               false,
               false,
               false,
               false,
               false,
               false,
               false,
               false,
               false,
               false,
               false,
               false,
               false,
               false,
               false,
               false,
               false,
               false,
               false,
               false,
               false,
               false,
               false,
               false,
               false,
               false
              ]
             }
            ],
            "label": "-0.45",
            "method": "update"
           },
           {
            "args": [
             {
              "visible": [
               true,
               true,
               false,
               false,
               false,
               false,
               false,
               false,
               false,
               false,
               false,
               false,
               false,
               false,
               true,
               false,
               false,
               false,
               false,
               false,
               false,
               false,
               false,
               false,
               false,
               false,
               false,
               false,
               false,
               false,
               false,
               false,
               false,
               false,
               false,
               false,
               false,
               false,
               false,
               false,
               false,
               false,
               false
              ]
             }
            ],
            "label": "-0.40",
            "method": "update"
           },
           {
            "args": [
             {
              "visible": [
               true,
               true,
               false,
               false,
               false,
               false,
               false,
               false,
               false,
               false,
               false,
               false,
               false,
               false,
               false,
               true,
               false,
               false,
               false,
               false,
               false,
               false,
               false,
               false,
               false,
               false,
               false,
               false,
               false,
               false,
               false,
               false,
               false,
               false,
               false,
               false,
               false,
               false,
               false,
               false,
               false,
               false,
               false
              ]
             }
            ],
            "label": "-0.35",
            "method": "update"
           },
           {
            "args": [
             {
              "visible": [
               true,
               true,
               false,
               false,
               false,
               false,
               false,
               false,
               false,
               false,
               false,
               false,
               false,
               false,
               false,
               false,
               true,
               false,
               false,
               false,
               false,
               false,
               false,
               false,
               false,
               false,
               false,
               false,
               false,
               false,
               false,
               false,
               false,
               false,
               false,
               false,
               false,
               false,
               false,
               false,
               false,
               false,
               false
              ]
             }
            ],
            "label": "-0.30",
            "method": "update"
           },
           {
            "args": [
             {
              "visible": [
               true,
               true,
               false,
               false,
               false,
               false,
               false,
               false,
               false,
               false,
               false,
               false,
               false,
               false,
               false,
               false,
               false,
               true,
               false,
               false,
               false,
               false,
               false,
               false,
               false,
               false,
               false,
               false,
               false,
               false,
               false,
               false,
               false,
               false,
               false,
               false,
               false,
               false,
               false,
               false,
               false,
               false,
               false
              ]
             }
            ],
            "label": "-0.25",
            "method": "update"
           },
           {
            "args": [
             {
              "visible": [
               true,
               true,
               false,
               false,
               false,
               false,
               false,
               false,
               false,
               false,
               false,
               false,
               false,
               false,
               false,
               false,
               false,
               false,
               true,
               false,
               false,
               false,
               false,
               false,
               false,
               false,
               false,
               false,
               false,
               false,
               false,
               false,
               false,
               false,
               false,
               false,
               false,
               false,
               false,
               false,
               false,
               false,
               false
              ]
             }
            ],
            "label": "-0.20",
            "method": "update"
           },
           {
            "args": [
             {
              "visible": [
               true,
               true,
               false,
               false,
               false,
               false,
               false,
               false,
               false,
               false,
               false,
               false,
               false,
               false,
               false,
               false,
               false,
               false,
               false,
               true,
               false,
               false,
               false,
               false,
               false,
               false,
               false,
               false,
               false,
               false,
               false,
               false,
               false,
               false,
               false,
               false,
               false,
               false,
               false,
               false,
               false,
               false,
               false
              ]
             }
            ],
            "label": "-0.15",
            "method": "update"
           },
           {
            "args": [
             {
              "visible": [
               true,
               true,
               false,
               false,
               false,
               false,
               false,
               false,
               false,
               false,
               false,
               false,
               false,
               false,
               false,
               false,
               false,
               false,
               false,
               false,
               true,
               false,
               false,
               false,
               false,
               false,
               false,
               false,
               false,
               false,
               false,
               false,
               false,
               false,
               false,
               false,
               false,
               false,
               false,
               false,
               false,
               false,
               false
              ]
             }
            ],
            "label": "-0.10",
            "method": "update"
           },
           {
            "args": [
             {
              "visible": [
               true,
               true,
               false,
               false,
               false,
               false,
               false,
               false,
               false,
               false,
               false,
               false,
               false,
               false,
               false,
               false,
               false,
               false,
               false,
               false,
               false,
               true,
               false,
               false,
               false,
               false,
               false,
               false,
               false,
               false,
               false,
               false,
               false,
               false,
               false,
               false,
               false,
               false,
               false,
               false,
               false,
               false,
               false
              ]
             }
            ],
            "label": "-0.05",
            "method": "update"
           },
           {
            "args": [
             {
              "visible": [
               true,
               true,
               false,
               false,
               false,
               false,
               false,
               false,
               false,
               false,
               false,
               false,
               false,
               false,
               false,
               false,
               false,
               false,
               false,
               false,
               false,
               false,
               true,
               false,
               false,
               false,
               false,
               false,
               false,
               false,
               false,
               false,
               false,
               false,
               false,
               false,
               false,
               false,
               false,
               false,
               false,
               false,
               false
              ]
             }
            ],
            "label": "0.00",
            "method": "update"
           },
           {
            "args": [
             {
              "visible": [
               true,
               true,
               false,
               false,
               false,
               false,
               false,
               false,
               false,
               false,
               false,
               false,
               false,
               false,
               false,
               false,
               false,
               false,
               false,
               false,
               false,
               false,
               false,
               true,
               false,
               false,
               false,
               false,
               false,
               false,
               false,
               false,
               false,
               false,
               false,
               false,
               false,
               false,
               false,
               false,
               false,
               false,
               false
              ]
             }
            ],
            "label": "0.05",
            "method": "update"
           },
           {
            "args": [
             {
              "visible": [
               true,
               true,
               false,
               false,
               false,
               false,
               false,
               false,
               false,
               false,
               false,
               false,
               false,
               false,
               false,
               false,
               false,
               false,
               false,
               false,
               false,
               false,
               false,
               false,
               true,
               false,
               false,
               false,
               false,
               false,
               false,
               false,
               false,
               false,
               false,
               false,
               false,
               false,
               false,
               false,
               false,
               false,
               false
              ]
             }
            ],
            "label": "0.10",
            "method": "update"
           },
           {
            "args": [
             {
              "visible": [
               true,
               true,
               false,
               false,
               false,
               false,
               false,
               false,
               false,
               false,
               false,
               false,
               false,
               false,
               false,
               false,
               false,
               false,
               false,
               false,
               false,
               false,
               false,
               false,
               false,
               true,
               false,
               false,
               false,
               false,
               false,
               false,
               false,
               false,
               false,
               false,
               false,
               false,
               false,
               false,
               false,
               false,
               false
              ]
             }
            ],
            "label": "0.15",
            "method": "update"
           },
           {
            "args": [
             {
              "visible": [
               true,
               true,
               false,
               false,
               false,
               false,
               false,
               false,
               false,
               false,
               false,
               false,
               false,
               false,
               false,
               false,
               false,
               false,
               false,
               false,
               false,
               false,
               false,
               false,
               false,
               false,
               true,
               false,
               false,
               false,
               false,
               false,
               false,
               false,
               false,
               false,
               false,
               false,
               false,
               false,
               false,
               false,
               false
              ]
             }
            ],
            "label": "0.20",
            "method": "update"
           },
           {
            "args": [
             {
              "visible": [
               true,
               true,
               false,
               false,
               false,
               false,
               false,
               false,
               false,
               false,
               false,
               false,
               false,
               false,
               false,
               false,
               false,
               false,
               false,
               false,
               false,
               false,
               false,
               false,
               false,
               false,
               false,
               true,
               false,
               false,
               false,
               false,
               false,
               false,
               false,
               false,
               false,
               false,
               false,
               false,
               false,
               false,
               false
              ]
             }
            ],
            "label": "0.25",
            "method": "update"
           },
           {
            "args": [
             {
              "visible": [
               true,
               true,
               false,
               false,
               false,
               false,
               false,
               false,
               false,
               false,
               false,
               false,
               false,
               false,
               false,
               false,
               false,
               false,
               false,
               false,
               false,
               false,
               false,
               false,
               false,
               false,
               false,
               false,
               true,
               false,
               false,
               false,
               false,
               false,
               false,
               false,
               false,
               false,
               false,
               false,
               false,
               false,
               false
              ]
             }
            ],
            "label": "0.30",
            "method": "update"
           },
           {
            "args": [
             {
              "visible": [
               true,
               true,
               false,
               false,
               false,
               false,
               false,
               false,
               false,
               false,
               false,
               false,
               false,
               false,
               false,
               false,
               false,
               false,
               false,
               false,
               false,
               false,
               false,
               false,
               false,
               false,
               false,
               false,
               false,
               true,
               false,
               false,
               false,
               false,
               false,
               false,
               false,
               false,
               false,
               false,
               false,
               false,
               false
              ]
             }
            ],
            "label": "0.35",
            "method": "update"
           },
           {
            "args": [
             {
              "visible": [
               true,
               true,
               false,
               false,
               false,
               false,
               false,
               false,
               false,
               false,
               false,
               false,
               false,
               false,
               false,
               false,
               false,
               false,
               false,
               false,
               false,
               false,
               false,
               false,
               false,
               false,
               false,
               false,
               false,
               false,
               true,
               false,
               false,
               false,
               false,
               false,
               false,
               false,
               false,
               false,
               false,
               false,
               false
              ]
             }
            ],
            "label": "0.40",
            "method": "update"
           },
           {
            "args": [
             {
              "visible": [
               true,
               true,
               false,
               false,
               false,
               false,
               false,
               false,
               false,
               false,
               false,
               false,
               false,
               false,
               false,
               false,
               false,
               false,
               false,
               false,
               false,
               false,
               false,
               false,
               false,
               false,
               false,
               false,
               false,
               false,
               false,
               true,
               false,
               false,
               false,
               false,
               false,
               false,
               false,
               false,
               false,
               false,
               false
              ]
             }
            ],
            "label": "0.45",
            "method": "update"
           },
           {
            "args": [
             {
              "visible": [
               true,
               true,
               false,
               false,
               false,
               false,
               false,
               false,
               false,
               false,
               false,
               false,
               false,
               false,
               false,
               false,
               false,
               false,
               false,
               false,
               false,
               false,
               false,
               false,
               false,
               false,
               false,
               false,
               false,
               false,
               false,
               false,
               true,
               false,
               false,
               false,
               false,
               false,
               false,
               false,
               false,
               false,
               false
              ]
             }
            ],
            "label": "0.50",
            "method": "update"
           },
           {
            "args": [
             {
              "visible": [
               true,
               true,
               false,
               false,
               false,
               false,
               false,
               false,
               false,
               false,
               false,
               false,
               false,
               false,
               false,
               false,
               false,
               false,
               false,
               false,
               false,
               false,
               false,
               false,
               false,
               false,
               false,
               false,
               false,
               false,
               false,
               false,
               false,
               true,
               false,
               false,
               false,
               false,
               false,
               false,
               false,
               false,
               false
              ]
             }
            ],
            "label": "0.55",
            "method": "update"
           },
           {
            "args": [
             {
              "visible": [
               true,
               true,
               false,
               false,
               false,
               false,
               false,
               false,
               false,
               false,
               false,
               false,
               false,
               false,
               false,
               false,
               false,
               false,
               false,
               false,
               false,
               false,
               false,
               false,
               false,
               false,
               false,
               false,
               false,
               false,
               false,
               false,
               false,
               false,
               true,
               false,
               false,
               false,
               false,
               false,
               false,
               false,
               false
              ]
             }
            ],
            "label": "0.60",
            "method": "update"
           },
           {
            "args": [
             {
              "visible": [
               true,
               true,
               false,
               false,
               false,
               false,
               false,
               false,
               false,
               false,
               false,
               false,
               false,
               false,
               false,
               false,
               false,
               false,
               false,
               false,
               false,
               false,
               false,
               false,
               false,
               false,
               false,
               false,
               false,
               false,
               false,
               false,
               false,
               false,
               false,
               true,
               false,
               false,
               false,
               false,
               false,
               false,
               false
              ]
             }
            ],
            "label": "0.65",
            "method": "update"
           },
           {
            "args": [
             {
              "visible": [
               true,
               true,
               false,
               false,
               false,
               false,
               false,
               false,
               false,
               false,
               false,
               false,
               false,
               false,
               false,
               false,
               false,
               false,
               false,
               false,
               false,
               false,
               false,
               false,
               false,
               false,
               false,
               false,
               false,
               false,
               false,
               false,
               false,
               false,
               false,
               false,
               true,
               false,
               false,
               false,
               false,
               false,
               false
              ]
             }
            ],
            "label": "0.70",
            "method": "update"
           },
           {
            "args": [
             {
              "visible": [
               true,
               true,
               false,
               false,
               false,
               false,
               false,
               false,
               false,
               false,
               false,
               false,
               false,
               false,
               false,
               false,
               false,
               false,
               false,
               false,
               false,
               false,
               false,
               false,
               false,
               false,
               false,
               false,
               false,
               false,
               false,
               false,
               false,
               false,
               false,
               false,
               false,
               true,
               false,
               false,
               false,
               false,
               false
              ]
             }
            ],
            "label": "0.75",
            "method": "update"
           },
           {
            "args": [
             {
              "visible": [
               true,
               true,
               false,
               false,
               false,
               false,
               false,
               false,
               false,
               false,
               false,
               false,
               false,
               false,
               false,
               false,
               false,
               false,
               false,
               false,
               false,
               false,
               false,
               false,
               false,
               false,
               false,
               false,
               false,
               false,
               false,
               false,
               false,
               false,
               false,
               false,
               false,
               false,
               true,
               false,
               false,
               false,
               false
              ]
             }
            ],
            "label": "0.80",
            "method": "update"
           },
           {
            "args": [
             {
              "visible": [
               true,
               true,
               false,
               false,
               false,
               false,
               false,
               false,
               false,
               false,
               false,
               false,
               false,
               false,
               false,
               false,
               false,
               false,
               false,
               false,
               false,
               false,
               false,
               false,
               false,
               false,
               false,
               false,
               false,
               false,
               false,
               false,
               false,
               false,
               false,
               false,
               false,
               false,
               false,
               true,
               false,
               false,
               false
              ]
             }
            ],
            "label": "0.85",
            "method": "update"
           },
           {
            "args": [
             {
              "visible": [
               true,
               true,
               false,
               false,
               false,
               false,
               false,
               false,
               false,
               false,
               false,
               false,
               false,
               false,
               false,
               false,
               false,
               false,
               false,
               false,
               false,
               false,
               false,
               false,
               false,
               false,
               false,
               false,
               false,
               false,
               false,
               false,
               false,
               false,
               false,
               false,
               false,
               false,
               false,
               false,
               true,
               false,
               false
              ]
             }
            ],
            "label": "0.90",
            "method": "update"
           },
           {
            "args": [
             {
              "visible": [
               true,
               true,
               false,
               false,
               false,
               false,
               false,
               false,
               false,
               false,
               false,
               false,
               false,
               false,
               false,
               false,
               false,
               false,
               false,
               false,
               false,
               false,
               false,
               false,
               false,
               false,
               false,
               false,
               false,
               false,
               false,
               false,
               false,
               false,
               false,
               false,
               false,
               false,
               false,
               false,
               false,
               true,
               false
              ]
             }
            ],
            "label": "0.95",
            "method": "update"
           },
           {
            "args": [
             {
              "visible": [
               true,
               true,
               false,
               false,
               false,
               false,
               false,
               false,
               false,
               false,
               false,
               false,
               false,
               false,
               false,
               false,
               false,
               false,
               false,
               false,
               false,
               false,
               false,
               false,
               false,
               false,
               false,
               false,
               false,
               false,
               false,
               false,
               false,
               false,
               false,
               false,
               false,
               false,
               false,
               false,
               false,
               false,
               true
              ]
             }
            ],
            "label": "1.00",
            "method": "update"
           }
          ],
          "y": 0.35
         }
        ],
        "template": {
         "data": {
          "bar": [
           {
            "error_x": {
             "color": "#2a3f5f"
            },
            "error_y": {
             "color": "#2a3f5f"
            },
            "marker": {
             "line": {
              "color": "#E5ECF6",
              "width": 0.5
             }
            },
            "type": "bar"
           }
          ],
          "barpolar": [
           {
            "marker": {
             "line": {
              "color": "#E5ECF6",
              "width": 0.5
             }
            },
            "type": "barpolar"
           }
          ],
          "carpet": [
           {
            "aaxis": {
             "endlinecolor": "#2a3f5f",
             "gridcolor": "white",
             "linecolor": "white",
             "minorgridcolor": "white",
             "startlinecolor": "#2a3f5f"
            },
            "baxis": {
             "endlinecolor": "#2a3f5f",
             "gridcolor": "white",
             "linecolor": "white",
             "minorgridcolor": "white",
             "startlinecolor": "#2a3f5f"
            },
            "type": "carpet"
           }
          ],
          "choropleth": [
           {
            "colorbar": {
             "outlinewidth": 0,
             "ticks": ""
            },
            "type": "choropleth"
           }
          ],
          "contour": [
           {
            "colorbar": {
             "outlinewidth": 0,
             "ticks": ""
            },
            "colorscale": [
             [
              0,
              "#0d0887"
             ],
             [
              0.1111111111111111,
              "#46039f"
             ],
             [
              0.2222222222222222,
              "#7201a8"
             ],
             [
              0.3333333333333333,
              "#9c179e"
             ],
             [
              0.4444444444444444,
              "#bd3786"
             ],
             [
              0.5555555555555556,
              "#d8576b"
             ],
             [
              0.6666666666666666,
              "#ed7953"
             ],
             [
              0.7777777777777778,
              "#fb9f3a"
             ],
             [
              0.8888888888888888,
              "#fdca26"
             ],
             [
              1,
              "#f0f921"
             ]
            ],
            "type": "contour"
           }
          ],
          "contourcarpet": [
           {
            "colorbar": {
             "outlinewidth": 0,
             "ticks": ""
            },
            "type": "contourcarpet"
           }
          ],
          "heatmap": [
           {
            "colorbar": {
             "outlinewidth": 0,
             "ticks": ""
            },
            "colorscale": [
             [
              0,
              "#0d0887"
             ],
             [
              0.1111111111111111,
              "#46039f"
             ],
             [
              0.2222222222222222,
              "#7201a8"
             ],
             [
              0.3333333333333333,
              "#9c179e"
             ],
             [
              0.4444444444444444,
              "#bd3786"
             ],
             [
              0.5555555555555556,
              "#d8576b"
             ],
             [
              0.6666666666666666,
              "#ed7953"
             ],
             [
              0.7777777777777778,
              "#fb9f3a"
             ],
             [
              0.8888888888888888,
              "#fdca26"
             ],
             [
              1,
              "#f0f921"
             ]
            ],
            "type": "heatmap"
           }
          ],
          "heatmapgl": [
           {
            "colorbar": {
             "outlinewidth": 0,
             "ticks": ""
            },
            "colorscale": [
             [
              0,
              "#0d0887"
             ],
             [
              0.1111111111111111,
              "#46039f"
             ],
             [
              0.2222222222222222,
              "#7201a8"
             ],
             [
              0.3333333333333333,
              "#9c179e"
             ],
             [
              0.4444444444444444,
              "#bd3786"
             ],
             [
              0.5555555555555556,
              "#d8576b"
             ],
             [
              0.6666666666666666,
              "#ed7953"
             ],
             [
              0.7777777777777778,
              "#fb9f3a"
             ],
             [
              0.8888888888888888,
              "#fdca26"
             ],
             [
              1,
              "#f0f921"
             ]
            ],
            "type": "heatmapgl"
           }
          ],
          "histogram": [
           {
            "marker": {
             "colorbar": {
              "outlinewidth": 0,
              "ticks": ""
             }
            },
            "type": "histogram"
           }
          ],
          "histogram2d": [
           {
            "colorbar": {
             "outlinewidth": 0,
             "ticks": ""
            },
            "colorscale": [
             [
              0,
              "#0d0887"
             ],
             [
              0.1111111111111111,
              "#46039f"
             ],
             [
              0.2222222222222222,
              "#7201a8"
             ],
             [
              0.3333333333333333,
              "#9c179e"
             ],
             [
              0.4444444444444444,
              "#bd3786"
             ],
             [
              0.5555555555555556,
              "#d8576b"
             ],
             [
              0.6666666666666666,
              "#ed7953"
             ],
             [
              0.7777777777777778,
              "#fb9f3a"
             ],
             [
              0.8888888888888888,
              "#fdca26"
             ],
             [
              1,
              "#f0f921"
             ]
            ],
            "type": "histogram2d"
           }
          ],
          "histogram2dcontour": [
           {
            "colorbar": {
             "outlinewidth": 0,
             "ticks": ""
            },
            "colorscale": [
             [
              0,
              "#0d0887"
             ],
             [
              0.1111111111111111,
              "#46039f"
             ],
             [
              0.2222222222222222,
              "#7201a8"
             ],
             [
              0.3333333333333333,
              "#9c179e"
             ],
             [
              0.4444444444444444,
              "#bd3786"
             ],
             [
              0.5555555555555556,
              "#d8576b"
             ],
             [
              0.6666666666666666,
              "#ed7953"
             ],
             [
              0.7777777777777778,
              "#fb9f3a"
             ],
             [
              0.8888888888888888,
              "#fdca26"
             ],
             [
              1,
              "#f0f921"
             ]
            ],
            "type": "histogram2dcontour"
           }
          ],
          "mesh3d": [
           {
            "colorbar": {
             "outlinewidth": 0,
             "ticks": ""
            },
            "type": "mesh3d"
           }
          ],
          "parcoords": [
           {
            "line": {
             "colorbar": {
              "outlinewidth": 0,
              "ticks": ""
             }
            },
            "type": "parcoords"
           }
          ],
          "pie": [
           {
            "automargin": true,
            "type": "pie"
           }
          ],
          "scatter": [
           {
            "marker": {
             "colorbar": {
              "outlinewidth": 0,
              "ticks": ""
             }
            },
            "type": "scatter"
           }
          ],
          "scatter3d": [
           {
            "line": {
             "colorbar": {
              "outlinewidth": 0,
              "ticks": ""
             }
            },
            "marker": {
             "colorbar": {
              "outlinewidth": 0,
              "ticks": ""
             }
            },
            "type": "scatter3d"
           }
          ],
          "scattercarpet": [
           {
            "marker": {
             "colorbar": {
              "outlinewidth": 0,
              "ticks": ""
             }
            },
            "type": "scattercarpet"
           }
          ],
          "scattergeo": [
           {
            "marker": {
             "colorbar": {
              "outlinewidth": 0,
              "ticks": ""
             }
            },
            "type": "scattergeo"
           }
          ],
          "scattergl": [
           {
            "marker": {
             "colorbar": {
              "outlinewidth": 0,
              "ticks": ""
             }
            },
            "type": "scattergl"
           }
          ],
          "scattermapbox": [
           {
            "marker": {
             "colorbar": {
              "outlinewidth": 0,
              "ticks": ""
             }
            },
            "type": "scattermapbox"
           }
          ],
          "scatterpolar": [
           {
            "marker": {
             "colorbar": {
              "outlinewidth": 0,
              "ticks": ""
             }
            },
            "type": "scatterpolar"
           }
          ],
          "scatterpolargl": [
           {
            "marker": {
             "colorbar": {
              "outlinewidth": 0,
              "ticks": ""
             }
            },
            "type": "scatterpolargl"
           }
          ],
          "scatterternary": [
           {
            "marker": {
             "colorbar": {
              "outlinewidth": 0,
              "ticks": ""
             }
            },
            "type": "scatterternary"
           }
          ],
          "surface": [
           {
            "colorbar": {
             "outlinewidth": 0,
             "ticks": ""
            },
            "colorscale": [
             [
              0,
              "#0d0887"
             ],
             [
              0.1111111111111111,
              "#46039f"
             ],
             [
              0.2222222222222222,
              "#7201a8"
             ],
             [
              0.3333333333333333,
              "#9c179e"
             ],
             [
              0.4444444444444444,
              "#bd3786"
             ],
             [
              0.5555555555555556,
              "#d8576b"
             ],
             [
              0.6666666666666666,
              "#ed7953"
             ],
             [
              0.7777777777777778,
              "#fb9f3a"
             ],
             [
              0.8888888888888888,
              "#fdca26"
             ],
             [
              1,
              "#f0f921"
             ]
            ],
            "type": "surface"
           }
          ],
          "table": [
           {
            "cells": {
             "fill": {
              "color": "#EBF0F8"
             },
             "line": {
              "color": "white"
             }
            },
            "header": {
             "fill": {
              "color": "#C8D4E3"
             },
             "line": {
              "color": "white"
             }
            },
            "type": "table"
           }
          ]
         },
         "layout": {
          "annotationdefaults": {
           "arrowcolor": "#2a3f5f",
           "arrowhead": 0,
           "arrowwidth": 1
          },
          "autotypenumbers": "strict",
          "coloraxis": {
           "colorbar": {
            "outlinewidth": 0,
            "ticks": ""
           }
          },
          "colorscale": {
           "diverging": [
            [
             0,
             "#8e0152"
            ],
            [
             0.1,
             "#c51b7d"
            ],
            [
             0.2,
             "#de77ae"
            ],
            [
             0.3,
             "#f1b6da"
            ],
            [
             0.4,
             "#fde0ef"
            ],
            [
             0.5,
             "#f7f7f7"
            ],
            [
             0.6,
             "#e6f5d0"
            ],
            [
             0.7,
             "#b8e186"
            ],
            [
             0.8,
             "#7fbc41"
            ],
            [
             0.9,
             "#4d9221"
            ],
            [
             1,
             "#276419"
            ]
           ],
           "sequential": [
            [
             0,
             "#0d0887"
            ],
            [
             0.1111111111111111,
             "#46039f"
            ],
            [
             0.2222222222222222,
             "#7201a8"
            ],
            [
             0.3333333333333333,
             "#9c179e"
            ],
            [
             0.4444444444444444,
             "#bd3786"
            ],
            [
             0.5555555555555556,
             "#d8576b"
            ],
            [
             0.6666666666666666,
             "#ed7953"
            ],
            [
             0.7777777777777778,
             "#fb9f3a"
            ],
            [
             0.8888888888888888,
             "#fdca26"
            ],
            [
             1,
             "#f0f921"
            ]
           ],
           "sequentialminus": [
            [
             0,
             "#0d0887"
            ],
            [
             0.1111111111111111,
             "#46039f"
            ],
            [
             0.2222222222222222,
             "#7201a8"
            ],
            [
             0.3333333333333333,
             "#9c179e"
            ],
            [
             0.4444444444444444,
             "#bd3786"
            ],
            [
             0.5555555555555556,
             "#d8576b"
            ],
            [
             0.6666666666666666,
             "#ed7953"
            ],
            [
             0.7777777777777778,
             "#fb9f3a"
            ],
            [
             0.8888888888888888,
             "#fdca26"
            ],
            [
             1,
             "#f0f921"
            ]
           ]
          },
          "colorway": [
           "#636efa",
           "#EF553B",
           "#00cc96",
           "#ab63fa",
           "#FFA15A",
           "#19d3f3",
           "#FF6692",
           "#B6E880",
           "#FF97FF",
           "#FECB52"
          ],
          "font": {
           "color": "#2a3f5f"
          },
          "geo": {
           "bgcolor": "white",
           "lakecolor": "white",
           "landcolor": "#E5ECF6",
           "showlakes": true,
           "showland": true,
           "subunitcolor": "white"
          },
          "hoverlabel": {
           "align": "left"
          },
          "hovermode": "closest",
          "mapbox": {
           "style": "light"
          },
          "paper_bgcolor": "white",
          "plot_bgcolor": "#E5ECF6",
          "polar": {
           "angularaxis": {
            "gridcolor": "white",
            "linecolor": "white",
            "ticks": ""
           },
           "bgcolor": "#E5ECF6",
           "radialaxis": {
            "gridcolor": "white",
            "linecolor": "white",
            "ticks": ""
           }
          },
          "scene": {
           "xaxis": {
            "backgroundcolor": "#E5ECF6",
            "gridcolor": "white",
            "gridwidth": 2,
            "linecolor": "white",
            "showbackground": true,
            "ticks": "",
            "zerolinecolor": "white"
           },
           "yaxis": {
            "backgroundcolor": "#E5ECF6",
            "gridcolor": "white",
            "gridwidth": 2,
            "linecolor": "white",
            "showbackground": true,
            "ticks": "",
            "zerolinecolor": "white"
           },
           "zaxis": {
            "backgroundcolor": "#E5ECF6",
            "gridcolor": "white",
            "gridwidth": 2,
            "linecolor": "white",
            "showbackground": true,
            "ticks": "",
            "zerolinecolor": "white"
           }
          },
          "shapedefaults": {
           "line": {
            "color": "#2a3f5f"
           }
          },
          "ternary": {
           "aaxis": {
            "gridcolor": "white",
            "linecolor": "white",
            "ticks": ""
           },
           "baxis": {
            "gridcolor": "white",
            "linecolor": "white",
            "ticks": ""
           },
           "bgcolor": "#E5ECF6",
           "caxis": {
            "gridcolor": "white",
            "linecolor": "white",
            "ticks": ""
           }
          },
          "title": {
           "x": 0.05
          },
          "xaxis": {
           "automargin": true,
           "gridcolor": "white",
           "linecolor": "white",
           "ticks": "",
           "title": {
            "standoff": 15
           },
           "zerolinecolor": "white",
           "zerolinewidth": 2
          },
          "yaxis": {
           "automargin": true,
           "gridcolor": "white",
           "linecolor": "white",
           "ticks": "",
           "title": {
            "standoff": 15
           },
           "zerolinecolor": "white",
           "zerolinewidth": 2
          }
         }
        },
        "title": {
         "text": "Word Usage as a Function of Ideal Point (Topic: Abortion)",
         "x": 0.5,
         "y": 0.9
        },
        "xaxis": {
         "fixedrange": true,
         "range": [
          -1.02,
          1.02
         ],
         "showgrid": false,
         "showline": false,
         "showticklabels": false,
         "title": {
          "text": "Representative ideal points (hover to see names)"
         },
         "zeroline": false
        },
        "yaxis": {
         "fixedrange": true,
         "range": [
          -0.6,
          2.5
         ],
         "showgrid": false,
         "showline": false,
         "showticklabels": false,
         "zeroline": false
        }
       }
      },
      "text/html": [
       "<div>                            <div id=\"a808bc4e-cb63-4ee7-8ca5-a0518b071bf6\" class=\"plotly-graph-div\" style=\"height:525px; width:100%;\"></div>            <script type=\"text/javascript\">                require([\"plotly\"], function(Plotly) {                    window.PLOTLYENV=window.PLOTLYENV || {};                                    if (document.getElementById(\"a808bc4e-cb63-4ee7-8ca5-a0518b071bf6\")) {                    Plotly.newPlot(                        \"a808bc4e-cb63-4ee7-8ca5-a0518b071bf6\",                        [{\"hoverinfo\": \"skip\", \"line\": {\"color\": \"black\", \"width\": 1}, \"marker\": {\"size\": 1}, \"type\": \"scatter\", \"x\": [-1.0, 1.0], \"y\": [-0.53, -0.53]}, {\"hoverinfo\": \"x+text\", \"marker\": {\"color\": [\"steelblue\", \"crimson\", \"steelblue\", \"crimson\", \"crimson\", \"steelblue\"], \"size\": 8}, \"mode\": \"markers\", \"text\": [\"Alex (D)\", \"John (R)\", \"Justicia (D)\", \"Lauren (R)\", \"Mark (R)\", \"Mona (D)\"], \"type\": \"scatter\", \"x\": [-0.789236307144165, 0.8978533148765564, -1.0066245794296265, 0.8361955285072327, 0.829914391040802, -0.9671030640602112], \"y\": [-0.53, -0.53, -0.53, -0.53, -0.53, -0.53]}, {\"base\": -0.3, \"dy\": 0.214, \"hoverinfo\": \"skip\", \"marker\": {\"color\": \"rgb(175,122,197)\"}, \"orientation\": \"h\", \"text\": [\"women\", \"rare\", \"legal\", \"bodily_autonomy\", \"rights\", \"contraception\", \"birth_control\", \"access\"], \"textposition\": \"outside\", \"type\": \"bar\", \"visible\": false, \"x\": [0.25288963317871094, 0.2606831192970276, 0.2611026465892792, 0.35001933574676514, 0.3921607732772827, 0.4020880460739136, 0.42210090160369873, 0.46070098876953125], \"y0\": 0.529}, {\"base\": -0.3, \"dy\": 0.214, \"hoverinfo\": \"skip\", \"marker\": {\"color\": \"rgb(175,122,197)\"}, \"orientation\": \"h\", \"text\": [\"rare\", \"women\", \"legal\", \"bodily_autonomy\", \"rights\", \"contraception\", \"birth_control\", \"access\"], \"textposition\": \"outside\", \"type\": \"bar\", \"visible\": false, \"x\": [0.24768942594528198, 0.24890966713428497, 0.2521551847457886, 0.3236377537250519, 0.36132362484931946, 0.36986780166625977, 0.3878245949745178, 0.42286860942840576], \"y0\": 0.529}, {\"base\": -0.3, \"dy\": 0.214, \"hoverinfo\": \"skip\", \"marker\": {\"color\": \"rgb(175,122,197)\"}, \"orientation\": \"h\", \"text\": [\"rare\", \"legal\", \"women\", \"bodily_autonomy\", \"rights\", \"contraception\", \"birth_control\", \"access\"], \"textposition\": \"outside\", \"type\": \"bar\", \"visible\": false, \"x\": [0.23538345098495483, 0.2435719072818756, 0.2450355738401413, 0.2992878556251526, 0.3329702615737915, 0.34030064940452576, 0.35640445351600647, 0.38821035623550415], \"y0\": 0.529}, {\"base\": -0.3, \"dy\": 0.214, \"hoverinfo\": \"skip\", \"marker\": {\"color\": \"rgb(175,122,197)\"}, \"orientation\": \"h\", \"text\": [\"rare\", \"legal\", \"women\", \"bodily_autonomy\", \"rights\", \"contraception\", \"birth_control\", \"access\"], \"textposition\": \"outside\", \"type\": \"bar\", \"visible\": false, \"x\": [0.22372691333293915, 0.23533642292022705, 0.24126428365707397, 0.2768101096153259, 0.30689600110054016, 0.3131626546382904, 0.3275966942310333, 0.3564545512199402], \"y0\": 0.529}, {\"base\": -0.3, \"dy\": 0.214, \"hoverinfo\": \"skip\", \"marker\": {\"color\": \"rgb(175,122,197)\"}, \"orientation\": \"h\", \"text\": [\"rare\", \"legal\", \"women\", \"bodily_autonomy\", \"rights\", \"contraception\", \"birth_control\", \"access\"], \"textposition\": \"outside\", \"type\": \"bar\", \"visible\": false, \"x\": [0.2126837521791458, 0.22743315994739532, 0.2375929355621338, 0.2560575604438782, 0.28291356563568115, 0.2882491648197174, 0.30117887258529663, 0.3273531198501587], \"y0\": 0.529}, {\"base\": -0.3, \"dy\": 0.214, \"hoverinfo\": \"skip\", \"marker\": {\"color\": \"rgb(175,122,197)\"}, \"orientation\": \"h\", \"text\": [\"choice\", \"legal\", \"women\", \"bodily_autonomy\", \"rights\", \"contraception\", \"birth_control\", \"access\"], \"textposition\": \"outside\", \"type\": \"bar\", \"visible\": false, \"x\": [0.20641830563545227, 0.21984727680683136, 0.2340187132358551, 0.2368951439857483, 0.26085129380226135, 0.2653731107711792, 0.2769479751586914, 0.30067968368530273], \"y0\": 0.529}, {\"base\": -0.3, \"dy\": 0.214, \"hoverinfo\": \"skip\", \"marker\": {\"color\": \"rgb(175,122,197)\"}, \"orientation\": \"h\", \"text\": [\"choice\", \"legal\", \"bodily_autonomy\", \"women\", \"rights\", \"contraception\", \"birth_control\", \"access\"], \"textposition\": \"outside\", \"type\": \"bar\", \"visible\": false, \"x\": [0.20284534990787506, 0.2125646322965622, 0.21919846534729004, 0.23053890466690063, 0.24055200815200806, 0.2443636953830719, 0.25471851229667664, 0.2762276530265808], \"y0\": 0.529}, {\"base\": -0.3, \"dy\": 0.214, \"hoverinfo\": \"skip\", \"marker\": {\"color\": \"rgb(175,122,197)\"}, \"orientation\": \"h\", \"text\": [\"choice\", \"bodily_autonomy\", \"legal\", \"rights\", \"contraception\", \"women\", \"birth_control\", \"access\"], \"textposition\": \"outside\", \"type\": \"bar\", \"visible\": false, \"x\": [0.19937139749526978, 0.20285314321517944, 0.20557183027267456, 0.22187158465385437, 0.22506466507911682, 0.2271508425474167, 0.23432117700576782, 0.25380808115005493], \"y0\": 0.529}, {\"base\": -0.3, \"dy\": 0.214, \"hoverinfo\": \"skip\", \"marker\": {\"color\": \"rgb(175,122,197)\"}, \"orientation\": \"h\", \"text\": [\"bodily_autonomy\", \"choice\", \"legal\", \"rights\", \"contraception\", \"birth_control\", \"women\", \"access\"], \"textposition\": \"outside\", \"type\": \"bar\", \"visible\": false, \"x\": [0.1877538561820984, 0.19599346816539764, 0.19885607063770294, 0.2046780288219452, 0.20733320713043213, 0.21560120582580566, 0.22385208308696747, 0.23324869573116302], \"y0\": 0.529}, {\"base\": -0.3, \"dy\": 0.214, \"hoverinfo\": \"skip\", \"marker\": {\"color\": \"rgb(175,122,197)\"}, \"orientation\": \"h\", \"text\": [\"bodily_autonomy\", \"rights\", \"contraception\", \"legal\", \"choice\", \"birth_control\", \"access\", \"women\"], \"textposition\": \"outside\", \"type\": \"bar\", \"visible\": false, \"x\": [0.17380359768867493, 0.18885017931461334, 0.19103868305683136, 0.19240516424179077, 0.19270867109298706, 0.19841724634170532, 0.214391827583313, 0.2206401228904724], \"y0\": 0.529}, {\"base\": -0.3, \"dy\": 0.214, \"hoverinfo\": \"skip\", \"marker\": {\"color\": \"rgb(175,122,197)\"}, \"orientation\": \"h\", \"text\": [\"bodily_autonomy\", \"rights\", \"contraception\", \"birth_control\", \"legal\", \"choice\", \"access\", \"women\"], \"textposition\": \"outside\", \"type\": \"bar\", \"visible\": false, \"x\": [0.1609131544828415, 0.17427712678909302, 0.17606157064437866, 0.1826401948928833, 0.18620756268501282, 0.18951423466205597, 0.1970936357975006, 0.2175125628709793], \"y0\": 0.529}, {\"base\": -0.3, \"dy\": 0.214, \"hoverinfo\": \"skip\", \"marker\": {\"color\": \"rgb(175,122,197)\"}, \"orientation\": \"h\", \"text\": [\"rare\", \"rights\", \"contraception\", \"birth_control\", \"legal\", \"access\", \"choice\", \"women\"], \"textposition\": \"outside\", \"type\": \"bar\", \"visible\": false, \"x\": [0.1499386876821518, 0.16085706651210785, 0.16229259967803955, 0.16815200448036194, 0.18025217950344086, 0.1812225729227066, 0.18640749156475067, 0.2144671231508255], \"y0\": 0.529}, {\"base\": -0.3, \"dy\": 0.214, \"hoverinfo\": \"skip\", \"marker\": {\"color\": \"rgb(175,122,197)\"}, \"orientation\": \"h\", \"text\": [\"rare\", \"rights\", \"contraception\", \"birth_control\", \"access\", \"legal\", \"choice\", \"women\"], \"textposition\": \"outside\", \"type\": \"bar\", \"visible\": false, \"x\": [0.1427316665649414, 0.148496612906456, 0.14963176846504211, 0.15484468638896942, 0.1666584610939026, 0.17452852427959442, 0.18338584899902344, 0.21150164306163788], \"y0\": 0.529}, {\"base\": -0.3, \"dy\": 0.214, \"hoverinfo\": \"skip\", \"marker\": {\"color\": \"rgb(175,122,197)\"}, \"orientation\": \"h\", \"text\": [\"rights\", \"heartbeat\", \"contraception\", \"birth_control\", \"access\", \"legal\", \"choice\", \"women\"], \"textposition\": \"outside\", \"type\": \"bar\", \"visible\": false, \"x\": [0.13711018860340118, 0.13722041249275208, 0.13798747956752777, 0.14261959493160248, 0.15329138934612274, 0.16902655363082886, 0.1804468184709549, 0.20861394703388214], \"y0\": 0.529}, {\"base\": -0.3, \"dy\": 0.214, \"hoverinfo\": \"skip\", \"marker\": {\"color\": \"rgb(175,122,197)\"}, \"orientation\": \"h\", \"text\": [\"rare\", \"birth_control\", \"stem\", \"heartbeat\", \"access\", \"legal\", \"choice\", \"women\"], \"textposition\": \"outside\", \"type\": \"bar\", \"visible\": false, \"x\": [0.1294061690568924, 0.13138650357723236, 0.13565315306186676, 0.14066998660564423, 0.14102089405059814, 0.1637367308139801, 0.17758795619010925, 0.20580194890499115], \"y0\": 0.529}, {\"base\": -0.3, \"dy\": 0.214, \"hoverinfo\": \"skip\", \"marker\": {\"color\": \"rgb(175,122,197)\"}, \"orientation\": \"h\", \"text\": [\"weeks\", \"late_abortion\", \"access\", \"stem\", \"heartbeat\", \"legal\", \"choice\", \"women\"], \"textposition\": \"outside\", \"type\": \"bar\", \"visible\": false, \"x\": [0.12430407851934433, 0.12782463431358337, 0.1297551393508911, 0.13908979296684265, 0.14423605799674988, 0.1586499661207199, 0.17480698227882385, 0.20306363701820374], \"y0\": 0.529}, {\"base\": -0.3, \"dy\": 0.214, \"hoverinfo\": \"skip\", \"marker\": {\"color\": \"rgb(175,122,197)\"}, \"orientation\": \"h\", \"text\": [\"access\", \"weeks\", \"late_abortion\", \"stem\", \"heartbeat\", \"legal\", \"choice\", \"women\"], \"textposition\": \"outside\", \"type\": \"bar\", \"visible\": false, \"x\": [0.11941008269786835, 0.12830406427383423, 0.1316021978855133, 0.14264915883541107, 0.1479230523109436, 0.15375755727291107, 0.17210161685943604, 0.20039710402488708], \"y0\": 0.529}, {\"base\": -0.3, \"dy\": 0.214, \"hoverinfo\": \"skip\", \"marker\": {\"color\": \"rgb(175,122,197)\"}, \"orientation\": \"h\", \"text\": [\"rare\", \"weeks\", \"late_abortion\", \"stem\", \"legal\", \"heartbeat\", \"choice\", \"women\"], \"textposition\": \"outside\", \"type\": \"bar\", \"visible\": false, \"x\": [0.11185632646083832, 0.13246166706085205, 0.13552340865135193, 0.14633618295192719, 0.1490512639284134, 0.15173563361167908, 0.1694696992635727, 0.19780045747756958], \"y0\": 0.529}, {\"base\": -0.3, \"dy\": 0.214, \"hoverinfo\": \"skip\", \"marker\": {\"color\": \"rgb(175,122,197)\"}, \"orientation\": \"h\", \"text\": [\"life\", \"weeks\", \"late_abortion\", \"legal\", \"stem\", \"heartbeat\", \"choice\", \"women\"], \"textposition\": \"outside\", \"type\": \"bar\", \"visible\": false, \"x\": [0.11436007916927338, 0.13678383827209473, 0.1395944207906723, 0.14452317357063293, 0.15015605092048645, 0.1556786149740219, 0.1669091135263443, 0.19527184963226318], \"y0\": 0.529}, {\"base\": -0.3, \"dy\": 0.214, \"hoverinfo\": \"skip\", \"marker\": {\"color\": \"rgb(175,122,197)\"}, \"orientation\": \"h\", \"text\": [\"life\", \"legal\", \"weeks\", \"late_abortion\", \"stem\", \"heartbeat\", \"choice\", \"women\"], \"textposition\": \"outside\", \"type\": \"bar\", \"visible\": true, \"x\": [0.11967632919549942, 0.140165776014328, 0.14127786457538605, 0.14382170140743256, 0.15411414206027985, 0.15975706279277802, 0.16441789269447327, 0.1928095817565918], \"y0\": 0.529}, {\"base\": -0.3, \"dy\": 0.214, \"hoverinfo\": \"skip\", \"marker\": {\"color\": \"rgb(175,122,197)\"}, \"orientation\": \"h\", \"text\": [\"life\", \"legal\", \"weeks\", \"late_abortion\", \"stem\", \"choice\", \"heartbeat\", \"women\"], \"textposition\": \"outside\", \"type\": \"bar\", \"visible\": false, \"x\": [0.12526890635490417, 0.13597187399864197, 0.14595137536525726, 0.1482120156288147, 0.15821613371372223, 0.16199401021003723, 0.16397617757320404, 0.19041194021701813], \"y0\": 0.529}, {\"base\": -0.3, \"dy\": 0.214, \"hoverinfo\": \"skip\", \"marker\": {\"color\": \"rgb(175,122,197)\"}, \"orientation\": \"h\", \"text\": [\"life\", \"legal\", \"weeks\", \"late_abortion\", \"choice\", \"stem\", \"heartbeat\", \"women\"], \"textposition\": \"outside\", \"type\": \"bar\", \"visible\": false, \"x\": [0.1311533898115158, 0.13193465769290924, 0.15081240236759186, 0.1527724266052246, 0.15963561832904816, 0.16246792674064636, 0.1683414876461029, 0.18807724118232727], \"y0\": 0.529}, {\"base\": -0.3, \"dy\": 0.214, \"hoverinfo\": \"skip\", \"marker\": {\"color\": \"rgb(175,122,197)\"}, \"orientation\": \"h\", \"text\": [\"legal\", \"life\", \"weeks\", \"choice\", \"late_abortion\", \"stem\", \"heartbeat\", \"women\"], \"textposition\": \"outside\", \"type\": \"bar\", \"visible\": false, \"x\": [0.12804755568504333, 0.1373463273048401, 0.15586933493614197, 0.1573408544063568, 0.15751035511493683, 0.1668756902217865, 0.17285870015621185, 0.18580392003059387], \"y0\": 0.529}, {\"base\": -0.3, \"dy\": 0.214, \"hoverinfo\": \"skip\", \"marker\": {\"color\": \"rgb(175,122,197)\"}, \"orientation\": \"h\", \"text\": [\"legal\", \"life\", \"choice\", \"weeks\", \"late_abortion\", \"stem\", \"heartbeat\", \"women\"], \"textposition\": \"outside\", \"type\": \"bar\", \"visible\": false, \"x\": [0.1243043765425682, 0.14386522769927979, 0.1551080048084259, 0.16113099455833435, 0.16243360936641693, 0.17144590616226196, 0.17753377556800842, 0.18359047174453735], \"y0\": 0.529}, {\"base\": -0.3, \"dy\": 0.214, \"hoverinfo\": \"skip\", \"marker\": {\"color\": \"rgb(175,122,197)\"}, \"orientation\": \"h\", \"text\": [\"legal\", \"life\", \"choice\", \"weeks\", \"late_abortion\", \"stem\", \"women\", \"heartbeat\"], \"textposition\": \"outside\", \"type\": \"bar\", \"visible\": false, \"x\": [0.12069914489984512, 0.15072868764400482, 0.15293534100055695, 0.166606605052948, 0.16755031049251556, 0.17618530988693237, 0.18143536150455475, 0.18237294256687164], \"y0\": 0.529}, {\"base\": -0.3, \"dy\": 0.214, \"hoverinfo\": \"skip\", \"marker\": {\"color\": \"rgb(175,122,197)\"}, \"orientation\": \"h\", \"text\": [\"babies\", \"choice\", \"life\", \"weeks\", \"late_abortion\", \"women\", \"stem\", \"heartbeat\"], \"textposition\": \"outside\", \"type\": \"bar\", \"visible\": false, \"x\": [0.12270934879779816, 0.15082119405269623, 0.15795640647411346, 0.1723058819770813, 0.17286904156208038, 0.17933714389801025, 0.1811010241508484, 0.18738271296024323], \"y0\": 0.529}, {\"base\": -0.3, \"dy\": 0.214, \"hoverinfo\": \"skip\", \"marker\": {\"color\": \"rgb(175,122,197)\"}, \"orientation\": \"h\", \"text\": [\"babies\", \"choice\", \"life\", \"women\", \"weeks\", \"late_abortion\", \"stem\", \"heartbeat\"], \"textposition\": \"outside\", \"type\": \"bar\", \"visible\": false, \"x\": [0.13223157823085785, 0.1487639993429184, 0.1655692756175995, 0.17729446291923523, 0.17823903262615204, 0.1783987283706665, 0.18620042502880096, 0.19256985187530518], \"y0\": 0.529}, {\"base\": -0.3, \"dy\": 0.214, \"hoverinfo\": \"skip\", \"marker\": {\"color\": \"rgb(175,122,197)\"}, \"orientation\": \"h\", \"text\": [\"babies\", \"choice\", \"life\", \"women\", \"late_abortion\", \"weeks\", \"stem\", \"heartbeat\"], \"textposition\": \"outside\", \"type\": \"bar\", \"visible\": false, \"x\": [0.14252358675003052, 0.14676222205162048, 0.1735895276069641, 0.17530596256256104, 0.18414881825447083, 0.18441671133041382, 0.19149130582809448, 0.19794143736362457], \"y0\": 0.529}, {\"base\": -0.3, \"dy\": 0.214, \"hoverinfo\": \"skip\", \"marker\": {\"color\": \"rgb(175,122,197)\"}, \"orientation\": \"h\", \"text\": [\"unborn\", \"babies\", \"women\", \"life\", \"late_abortion\", \"weeks\", \"stem\", \"heartbeat\"], \"textposition\": \"outside\", \"type\": \"bar\", \"visible\": false, \"x\": [0.1532699018716812, 0.1536499559879303, 0.17337031662464142, 0.1820407658815384, 0.1901291310787201, 0.190850168466568, 0.196981742978096, 0.20350489020347595], \"y0\": 0.529}, {\"base\": -0.3, \"dy\": 0.214, \"hoverinfo\": \"skip\", \"marker\": {\"color\": \"rgb(175,122,197)\"}, \"orientation\": \"h\", \"text\": [\"unborn\", \"babies\", \"women\", \"life\", \"late_abortion\", \"weeks\", \"stem\", \"heartbeat\"], \"textposition\": \"outside\", \"type\": \"bar\", \"visible\": false, \"x\": [0.1653854250907898, 0.16568081080913544, 0.1714862585067749, 0.19094793498516083, 0.19635005295276642, 0.19755110144615173, 0.2026802897453308, 0.20926791429519653], \"y0\": 0.529}, {\"base\": -0.3, \"dy\": 0.214, \"hoverinfo\": \"skip\", \"marker\": {\"color\": \"rgb(175,122,197)\"}, \"orientation\": \"h\", \"text\": [\"unborn_child\", \"unborn\", \"babies\", \"life\", \"late_abortion\", \"weeks\", \"stem\", \"heartbeat\"], \"textposition\": \"outside\", \"type\": \"bar\", \"visible\": false, \"x\": [0.17836686968803406, 0.178496852517128, 0.17869240045547485, 0.20033761858940125, 0.20282244682312012, 0.20453199744224548, 0.20859584212303162, 0.2152385711669922], \"y0\": 0.529}, {\"base\": -0.3, \"dy\": 0.214, \"hoverinfo\": \"skip\", \"marker\": {\"color\": \"rgb(175,122,197)\"}, \"orientation\": \"h\", \"text\": [\"unborn_child\", \"unborn\", \"babies\", \"late_abortion\", \"life\", \"weeks\", \"stem\", \"heartbeat\"], \"textposition\": \"outside\", \"type\": \"bar\", \"visible\": false, \"x\": [0.19257980585098267, 0.19268898665905, 0.19276760518550873, 0.2095576822757721, 0.21023809909820557, 0.2118057757616043, 0.21473772823810577, 0.22142530977725983], \"y0\": 0.529}, {\"base\": -0.3, \"dy\": 0.214, \"hoverinfo\": \"skip\", \"marker\": {\"color\": \"rgb(175,122,197)\"}, \"orientation\": \"h\", \"text\": [\"unborn_child\", \"babies\", \"unborn\", \"late_abortion\", \"weeks\", \"life\", \"stem\", \"heartbeat\"], \"textposition\": \"outside\", \"type\": \"bar\", \"visible\": false, \"x\": [0.20797622203826904, 0.20799651741981506, 0.2080540657043457, 0.21656769514083862, 0.21938607096672058, 0.22067926824092865, 0.22111572325229645, 0.22783689200878143], \"y0\": 0.529}, {\"base\": -0.3, \"dy\": 0.214, \"hoverinfo\": \"skip\", \"marker\": {\"color\": \"rgb(175,122,197)\"}, \"orientation\": \"h\", \"text\": [\"late_abortion\", \"babies\", \"unborn_child\", \"unborn\", \"weeks\", \"stem\", \"life\", \"heartbeat\"], \"textposition\": \"outside\", \"type\": \"bar\", \"visible\": false, \"x\": [0.22386513650417328, 0.2244771420955658, 0.2246585339307785, 0.22469238936901093, 0.22728726267814636, 0.2277400940656662, 0.23169295489788055, 0.2344825565814972], \"y0\": 0.529}, {\"base\": -0.3, \"dy\": 0.214, \"hoverinfo\": \"skip\", \"marker\": {\"color\": \"rgb(175,122,197)\"}, \"orientation\": \"h\", \"text\": [\"late_abortion\", \"stem\", \"weeks\", \"heartbeat\", \"babies\", \"unborn\", \"unborn_child\", \"life\"], \"textposition\": \"outside\", \"type\": \"bar\", \"visible\": false, \"x\": [0.23146313428878784, 0.2346215844154358, 0.23552441596984863, 0.24137189984321594, 0.2423161268234253, 0.2427133172750473, 0.24273839592933655, 0.24331308901309967], \"y0\": 0.529}, {\"base\": -0.3, \"dy\": 0.214, \"hoverinfo\": \"skip\", \"marker\": {\"color\": \"rgb(175,122,197)\"}, \"orientation\": \"h\", \"text\": [\"stem\", \"weeks\", \"murder\", \"heartbeat\", \"life\", \"babies\", \"unborn\", \"unborn_child\"], \"textposition\": \"outside\", \"type\": \"bar\", \"visible\": false, \"x\": [0.24177142977714539, 0.24411335587501526, 0.24592430889606476, 0.24851493537425995, 0.25557559728622437, 0.26162946224212646, 0.2622356712818146, 0.2623375654220581], \"y0\": 0.529}, {\"base\": -0.3, \"dy\": 0.214, \"hoverinfo\": \"skip\", \"marker\": {\"color\": \"rgb(175,122,197)\"}, \"orientation\": \"h\", \"text\": [\"stem\", \"weeks\", \"heartbeat\", \"murder\", \"life\", \"babies\", \"unborn\", \"unborn_child\"], \"textposition\": \"outside\", \"type\": \"bar\", \"visible\": false, \"x\": [0.24920149147510529, 0.2530706822872162, 0.25592225790023804, 0.26538071036338806, 0.26851868629455566, 0.2825433015823364, 0.2833889424800873, 0.28358861804008484], \"y0\": 0.529}, {\"base\": -0.3, \"dy\": 0.214, \"hoverinfo\": \"skip\", \"marker\": {\"color\": \"rgb(175,122,197)\"}, \"orientation\": \"h\", \"text\": [\"stem\", \"weeks\", \"heartbeat\", \"life\", \"murder\", \"babies\", \"unborn\", \"unborn_child\"], \"textposition\": \"outside\", \"type\": \"bar\", \"visible\": false, \"x\": [0.2569240927696228, 0.26241397857666016, 0.2636047601699829, 0.2821830213069916, 0.28643959760665894, 0.30519503355026245, 0.3063141703605652, 0.306636244058609], \"y0\": 0.529}, {\"base\": -0.3, \"dy\": 0.214, \"hoverinfo\": \"skip\", \"marker\": {\"color\": \"rgb(175,122,197)\"}, \"orientation\": \"h\", \"text\": [\"heartbeat\", \"weeks\", \"baby\", \"life\", \"murder\", \"babies\", \"unborn\", \"unborn_child\"], \"textposition\": \"outside\", \"type\": \"bar\", \"visible\": false, \"x\": [0.27157390117645264, 0.272161602973938, 0.2746557295322418, 0.29661184549331665, 0.3092377185821533, 0.329734206199646, 0.33116474747657776, 0.3316380977630615], \"y0\": 0.529}, {\"base\": -0.3, \"dy\": 0.214, \"hoverinfo\": \"skip\", \"marker\": {\"color\": \"rgb(175,122,197)\"}, \"orientation\": \"h\", \"text\": [\"heartbeat\", \"weeks\", \"baby\", \"life\", \"murder\", \"babies\", \"unborn\", \"unborn_child\"], \"textposition\": \"outside\", \"type\": \"bar\", \"visible\": false, \"x\": [0.2798417806625366, 0.2823328971862793, 0.295532763004303, 0.3118511736392975, 0.3339240252971649, 0.35632357001304626, 0.35810813307762146, 0.3587663471698761], \"y0\": 0.529}, {\"base\": -0.3, \"dy\": 0.214, \"hoverinfo\": \"skip\", \"marker\": {\"color\": \"rgb(175,122,197)\"}, \"orientation\": \"h\", \"text\": [\"heartbeat\", \"weeks\", \"baby\", \"life\", \"murder\", \"babies\", \"unborn\", \"unborn_child\"], \"textposition\": \"outside\", \"type\": \"bar\", \"visible\": false, \"x\": [0.2884209156036377, 0.29294824600219727, 0.31805741786956787, 0.32794997096061707, 0.3606605529785156, 0.385140597820282, 0.38732650876045227, 0.38820886611938477], \"y0\": 0.529}],                        {\"annotations\": [{\"font\": {\"size\": 14}, \"showarrow\": false, \"text\": \"Move slider to change ideal point\", \"x\": 0.5, \"xref\": \"paper\", \"y\": 0.255, \"yref\": \"paper\"}], \"paper_bgcolor\": \"rgba(0,0,0,0)\", \"plot_bgcolor\": \"rgba(0,0,0,0)\", \"showlegend\": false, \"sliders\": [{\"active\": 20, \"currentvalue\": {\"prefix\": \"Ideal Point: \"}, \"steps\": [{\"args\": [{\"visible\": [true, true, true, false, false, false, false, false, false, false, false, false, false, false, false, false, false, false, false, false, false, false, false, false, false, false, false, false, false, false, false, false, false, false, false, false, false, false, false, false, false, false, false]}], \"label\": \"-1.00\", \"method\": \"update\"}, {\"args\": [{\"visible\": [true, true, false, true, false, false, false, false, false, false, false, false, false, false, false, false, false, false, false, false, false, false, false, false, false, false, false, false, false, false, false, false, false, false, false, false, false, false, false, false, false, false, false]}], \"label\": \"-0.95\", \"method\": \"update\"}, {\"args\": [{\"visible\": [true, true, false, false, true, false, false, false, false, false, false, false, false, false, false, false, false, false, false, false, false, false, false, false, false, false, false, false, false, false, false, false, false, false, false, false, false, false, false, false, false, false, false]}], \"label\": \"-0.90\", \"method\": \"update\"}, {\"args\": [{\"visible\": [true, true, false, false, false, true, false, false, false, false, false, false, false, false, false, false, false, false, false, false, false, false, false, false, false, false, false, false, false, false, false, false, false, false, false, false, false, false, false, false, false, false, false]}], \"label\": \"-0.85\", \"method\": \"update\"}, {\"args\": [{\"visible\": [true, true, false, false, false, false, true, false, false, false, false, false, false, false, false, false, false, false, false, false, false, false, false, false, false, false, false, false, false, false, false, false, false, false, false, false, false, false, false, false, false, false, false]}], \"label\": \"-0.80\", \"method\": \"update\"}, {\"args\": [{\"visible\": [true, true, false, false, false, false, false, true, false, false, false, false, false, false, false, false, false, false, false, false, false, false, false, false, false, false, false, false, false, false, false, false, false, false, false, false, false, false, false, false, false, false, false]}], \"label\": \"-0.75\", \"method\": \"update\"}, {\"args\": [{\"visible\": [true, true, false, false, false, false, false, false, true, false, false, false, false, false, false, false, false, false, false, false, false, false, false, false, false, false, false, false, false, false, false, false, false, false, false, false, false, false, false, false, false, false, false]}], \"label\": \"-0.70\", \"method\": \"update\"}, {\"args\": [{\"visible\": [true, true, false, false, false, false, false, false, false, true, false, false, false, false, false, false, false, false, false, false, false, false, false, false, false, false, false, false, false, false, false, false, false, false, false, false, false, false, false, false, false, false, false]}], \"label\": \"-0.65\", \"method\": \"update\"}, {\"args\": [{\"visible\": [true, true, false, false, false, false, false, false, false, false, true, false, false, false, false, false, false, false, false, false, false, false, false, false, false, false, false, false, false, false, false, false, false, false, false, false, false, false, false, false, false, false, false]}], \"label\": \"-0.60\", \"method\": \"update\"}, {\"args\": [{\"visible\": [true, true, false, false, false, false, false, false, false, false, false, true, false, false, false, false, false, false, false, false, false, false, false, false, false, false, false, false, false, false, false, false, false, false, false, false, false, false, false, false, false, false, false]}], \"label\": \"-0.55\", \"method\": \"update\"}, {\"args\": [{\"visible\": [true, true, false, false, false, false, false, false, false, false, false, false, true, false, false, false, false, false, false, false, false, false, false, false, false, false, false, false, false, false, false, false, false, false, false, false, false, false, false, false, false, false, false]}], \"label\": \"-0.50\", \"method\": \"update\"}, {\"args\": [{\"visible\": [true, true, false, false, false, false, false, false, false, false, false, false, false, true, false, false, false, false, false, false, false, false, false, false, false, false, false, false, false, false, false, false, false, false, false, false, false, false, false, false, false, false, false]}], \"label\": \"-0.45\", \"method\": \"update\"}, {\"args\": [{\"visible\": [true, true, false, false, false, false, false, false, false, false, false, false, false, false, true, false, false, false, false, false, false, false, false, false, false, false, false, false, false, false, false, false, false, false, false, false, false, false, false, false, false, false, false]}], \"label\": \"-0.40\", \"method\": \"update\"}, {\"args\": [{\"visible\": [true, true, false, false, false, false, false, false, false, false, false, false, false, false, false, true, false, false, false, false, false, false, false, false, false, false, false, false, false, false, false, false, false, false, false, false, false, false, false, false, false, false, false]}], \"label\": \"-0.35\", \"method\": \"update\"}, {\"args\": [{\"visible\": [true, true, false, false, false, false, false, false, false, false, false, false, false, false, false, false, true, false, false, false, false, false, false, false, false, false, false, false, false, false, false, false, false, false, false, false, false, false, false, false, false, false, false]}], \"label\": \"-0.30\", \"method\": \"update\"}, {\"args\": [{\"visible\": [true, true, false, false, false, false, false, false, false, false, false, false, false, false, false, false, false, true, false, false, false, false, false, false, false, false, false, false, false, false, false, false, false, false, false, false, false, false, false, false, false, false, false]}], \"label\": \"-0.25\", \"method\": \"update\"}, {\"args\": [{\"visible\": [true, true, false, false, false, false, false, false, false, false, false, false, false, false, false, false, false, false, true, false, false, false, false, false, false, false, false, false, false, false, false, false, false, false, false, false, false, false, false, false, false, false, false]}], \"label\": \"-0.20\", \"method\": \"update\"}, {\"args\": [{\"visible\": [true, true, false, false, false, false, false, false, false, false, false, false, false, false, false, false, false, false, false, true, false, false, false, false, false, false, false, false, false, false, false, false, false, false, false, false, false, false, false, false, false, false, false]}], \"label\": \"-0.15\", \"method\": \"update\"}, {\"args\": [{\"visible\": [true, true, false, false, false, false, false, false, false, false, false, false, false, false, false, false, false, false, false, false, true, false, false, false, false, false, false, false, false, false, false, false, false, false, false, false, false, false, false, false, false, false, false]}], \"label\": \"-0.10\", \"method\": \"update\"}, {\"args\": [{\"visible\": [true, true, false, false, false, false, false, false, false, false, false, false, false, false, false, false, false, false, false, false, false, true, false, false, false, false, false, false, false, false, false, false, false, false, false, false, false, false, false, false, false, false, false]}], \"label\": \"-0.05\", \"method\": \"update\"}, {\"args\": [{\"visible\": [true, true, false, false, false, false, false, false, false, false, false, false, false, false, false, false, false, false, false, false, false, false, true, false, false, false, false, false, false, false, false, false, false, false, false, false, false, false, false, false, false, false, false]}], \"label\": \"0.00\", \"method\": \"update\"}, {\"args\": [{\"visible\": [true, true, false, false, false, false, false, false, false, false, false, false, false, false, false, false, false, false, false, false, false, false, false, true, false, false, false, false, false, false, false, false, false, false, false, false, false, false, false, false, false, false, false]}], \"label\": \"0.05\", \"method\": \"update\"}, {\"args\": [{\"visible\": [true, true, false, false, false, false, false, false, false, false, false, false, false, false, false, false, false, false, false, false, false, false, false, false, true, false, false, false, false, false, false, false, false, false, false, false, false, false, false, false, false, false, false]}], \"label\": \"0.10\", \"method\": \"update\"}, {\"args\": [{\"visible\": [true, true, false, false, false, false, false, false, false, false, false, false, false, false, false, false, false, false, false, false, false, false, false, false, false, true, false, false, false, false, false, false, false, false, false, false, false, false, false, false, false, false, false]}], \"label\": \"0.15\", \"method\": \"update\"}, {\"args\": [{\"visible\": [true, true, false, false, false, false, false, false, false, false, false, false, false, false, false, false, false, false, false, false, false, false, false, false, false, false, true, false, false, false, false, false, false, false, false, false, false, false, false, false, false, false, false]}], \"label\": \"0.20\", \"method\": \"update\"}, {\"args\": [{\"visible\": [true, true, false, false, false, false, false, false, false, false, false, false, false, false, false, false, false, false, false, false, false, false, false, false, false, false, false, true, false, false, false, false, false, false, false, false, false, false, false, false, false, false, false]}], \"label\": \"0.25\", \"method\": \"update\"}, {\"args\": [{\"visible\": [true, true, false, false, false, false, false, false, false, false, false, false, false, false, false, false, false, false, false, false, false, false, false, false, false, false, false, false, true, false, false, false, false, false, false, false, false, false, false, false, false, false, false]}], \"label\": \"0.30\", \"method\": \"update\"}, {\"args\": [{\"visible\": [true, true, false, false, false, false, false, false, false, false, false, false, false, false, false, false, false, false, false, false, false, false, false, false, false, false, false, false, false, true, false, false, false, false, false, false, false, false, false, false, false, false, false]}], \"label\": \"0.35\", \"method\": \"update\"}, {\"args\": [{\"visible\": [true, true, false, false, false, false, false, false, false, false, false, false, false, false, false, false, false, false, false, false, false, false, false, false, false, false, false, false, false, false, true, false, false, false, false, false, false, false, false, false, false, false, false]}], \"label\": \"0.40\", \"method\": \"update\"}, {\"args\": [{\"visible\": [true, true, false, false, false, false, false, false, false, false, false, false, false, false, false, false, false, false, false, false, false, false, false, false, false, false, false, false, false, false, false, true, false, false, false, false, false, false, false, false, false, false, false]}], \"label\": \"0.45\", \"method\": \"update\"}, {\"args\": [{\"visible\": [true, true, false, false, false, false, false, false, false, false, false, false, false, false, false, false, false, false, false, false, false, false, false, false, false, false, false, false, false, false, false, false, true, false, false, false, false, false, false, false, false, false, false]}], \"label\": \"0.50\", \"method\": \"update\"}, {\"args\": [{\"visible\": [true, true, false, false, false, false, false, false, false, false, false, false, false, false, false, false, false, false, false, false, false, false, false, false, false, false, false, false, false, false, false, false, false, true, false, false, false, false, false, false, false, false, false]}], \"label\": \"0.55\", \"method\": \"update\"}, {\"args\": [{\"visible\": [true, true, false, false, false, false, false, false, false, false, false, false, false, false, false, false, false, false, false, false, false, false, false, false, false, false, false, false, false, false, false, false, false, false, true, false, false, false, false, false, false, false, false]}], \"label\": \"0.60\", \"method\": \"update\"}, {\"args\": [{\"visible\": [true, true, false, false, false, false, false, false, false, false, false, false, false, false, false, false, false, false, false, false, false, false, false, false, false, false, false, false, false, false, false, false, false, false, false, true, false, false, false, false, false, false, false]}], \"label\": \"0.65\", \"method\": \"update\"}, {\"args\": [{\"visible\": [true, true, false, false, false, false, false, false, false, false, false, false, false, false, false, false, false, false, false, false, false, false, false, false, false, false, false, false, false, false, false, false, false, false, false, false, true, false, false, false, false, false, false]}], \"label\": \"0.70\", \"method\": \"update\"}, {\"args\": [{\"visible\": [true, true, false, false, false, false, false, false, false, false, false, false, false, false, false, false, false, false, false, false, false, false, false, false, false, false, false, false, false, false, false, false, false, false, false, false, false, true, false, false, false, false, false]}], \"label\": \"0.75\", \"method\": \"update\"}, {\"args\": [{\"visible\": [true, true, false, false, false, false, false, false, false, false, false, false, false, false, false, false, false, false, false, false, false, false, false, false, false, false, false, false, false, false, false, false, false, false, false, false, false, false, true, false, false, false, false]}], \"label\": \"0.80\", \"method\": \"update\"}, {\"args\": [{\"visible\": [true, true, false, false, false, false, false, false, false, false, false, false, false, false, false, false, false, false, false, false, false, false, false, false, false, false, false, false, false, false, false, false, false, false, false, false, false, false, false, true, false, false, false]}], \"label\": \"0.85\", \"method\": \"update\"}, {\"args\": [{\"visible\": [true, true, false, false, false, false, false, false, false, false, false, false, false, false, false, false, false, false, false, false, false, false, false, false, false, false, false, false, false, false, false, false, false, false, false, false, false, false, false, false, true, false, false]}], \"label\": \"0.90\", \"method\": \"update\"}, {\"args\": [{\"visible\": [true, true, false, false, false, false, false, false, false, false, false, false, false, false, false, false, false, false, false, false, false, false, false, false, false, false, false, false, false, false, false, false, false, false, false, false, false, false, false, false, false, true, false]}], \"label\": \"0.95\", \"method\": \"update\"}, {\"args\": [{\"visible\": [true, true, false, false, false, false, false, false, false, false, false, false, false, false, false, false, false, false, false, false, false, false, false, false, false, false, false, false, false, false, false, false, false, false, false, false, false, false, false, false, false, false, true]}], \"label\": \"1.00\", \"method\": \"update\"}], \"y\": 0.35}], \"template\": {\"data\": {\"bar\": [{\"error_x\": {\"color\": \"#2a3f5f\"}, \"error_y\": {\"color\": \"#2a3f5f\"}, \"marker\": {\"line\": {\"color\": \"#E5ECF6\", \"width\": 0.5}}, \"type\": \"bar\"}], \"barpolar\": [{\"marker\": {\"line\": {\"color\": \"#E5ECF6\", \"width\": 0.5}}, \"type\": \"barpolar\"}], \"carpet\": [{\"aaxis\": {\"endlinecolor\": \"#2a3f5f\", \"gridcolor\": \"white\", \"linecolor\": \"white\", \"minorgridcolor\": \"white\", \"startlinecolor\": \"#2a3f5f\"}, \"baxis\": {\"endlinecolor\": \"#2a3f5f\", \"gridcolor\": \"white\", \"linecolor\": \"white\", \"minorgridcolor\": \"white\", \"startlinecolor\": \"#2a3f5f\"}, \"type\": \"carpet\"}], \"choropleth\": [{\"colorbar\": {\"outlinewidth\": 0, \"ticks\": \"\"}, \"type\": \"choropleth\"}], \"contour\": [{\"colorbar\": {\"outlinewidth\": 0, \"ticks\": \"\"}, \"colorscale\": [[0.0, \"#0d0887\"], [0.1111111111111111, \"#46039f\"], [0.2222222222222222, \"#7201a8\"], [0.3333333333333333, \"#9c179e\"], [0.4444444444444444, \"#bd3786\"], [0.5555555555555556, \"#d8576b\"], [0.6666666666666666, \"#ed7953\"], [0.7777777777777778, \"#fb9f3a\"], [0.8888888888888888, \"#fdca26\"], [1.0, \"#f0f921\"]], \"type\": \"contour\"}], \"contourcarpet\": [{\"colorbar\": {\"outlinewidth\": 0, \"ticks\": \"\"}, \"type\": \"contourcarpet\"}], \"heatmap\": [{\"colorbar\": {\"outlinewidth\": 0, \"ticks\": \"\"}, \"colorscale\": [[0.0, \"#0d0887\"], [0.1111111111111111, \"#46039f\"], [0.2222222222222222, \"#7201a8\"], [0.3333333333333333, \"#9c179e\"], [0.4444444444444444, \"#bd3786\"], [0.5555555555555556, \"#d8576b\"], [0.6666666666666666, \"#ed7953\"], [0.7777777777777778, \"#fb9f3a\"], [0.8888888888888888, \"#fdca26\"], [1.0, \"#f0f921\"]], \"type\": \"heatmap\"}], \"heatmapgl\": [{\"colorbar\": {\"outlinewidth\": 0, \"ticks\": \"\"}, \"colorscale\": [[0.0, \"#0d0887\"], [0.1111111111111111, \"#46039f\"], [0.2222222222222222, \"#7201a8\"], [0.3333333333333333, \"#9c179e\"], [0.4444444444444444, \"#bd3786\"], [0.5555555555555556, \"#d8576b\"], [0.6666666666666666, \"#ed7953\"], [0.7777777777777778, \"#fb9f3a\"], [0.8888888888888888, \"#fdca26\"], [1.0, \"#f0f921\"]], \"type\": \"heatmapgl\"}], \"histogram\": [{\"marker\": {\"colorbar\": {\"outlinewidth\": 0, \"ticks\": \"\"}}, \"type\": \"histogram\"}], \"histogram2d\": [{\"colorbar\": {\"outlinewidth\": 0, \"ticks\": \"\"}, \"colorscale\": [[0.0, \"#0d0887\"], [0.1111111111111111, \"#46039f\"], [0.2222222222222222, \"#7201a8\"], [0.3333333333333333, \"#9c179e\"], [0.4444444444444444, \"#bd3786\"], [0.5555555555555556, \"#d8576b\"], [0.6666666666666666, \"#ed7953\"], [0.7777777777777778, \"#fb9f3a\"], [0.8888888888888888, \"#fdca26\"], [1.0, \"#f0f921\"]], \"type\": \"histogram2d\"}], \"histogram2dcontour\": [{\"colorbar\": {\"outlinewidth\": 0, \"ticks\": \"\"}, \"colorscale\": [[0.0, \"#0d0887\"], [0.1111111111111111, \"#46039f\"], [0.2222222222222222, \"#7201a8\"], [0.3333333333333333, \"#9c179e\"], [0.4444444444444444, \"#bd3786\"], [0.5555555555555556, \"#d8576b\"], [0.6666666666666666, \"#ed7953\"], [0.7777777777777778, \"#fb9f3a\"], [0.8888888888888888, \"#fdca26\"], [1.0, \"#f0f921\"]], \"type\": \"histogram2dcontour\"}], \"mesh3d\": [{\"colorbar\": {\"outlinewidth\": 0, \"ticks\": \"\"}, \"type\": \"mesh3d\"}], \"parcoords\": [{\"line\": {\"colorbar\": {\"outlinewidth\": 0, \"ticks\": \"\"}}, \"type\": \"parcoords\"}], \"pie\": [{\"automargin\": true, \"type\": \"pie\"}], \"scatter\": [{\"marker\": {\"colorbar\": {\"outlinewidth\": 0, \"ticks\": \"\"}}, \"type\": \"scatter\"}], \"scatter3d\": [{\"line\": {\"colorbar\": {\"outlinewidth\": 0, \"ticks\": \"\"}}, \"marker\": {\"colorbar\": {\"outlinewidth\": 0, \"ticks\": \"\"}}, \"type\": \"scatter3d\"}], \"scattercarpet\": [{\"marker\": {\"colorbar\": {\"outlinewidth\": 0, \"ticks\": \"\"}}, \"type\": \"scattercarpet\"}], \"scattergeo\": [{\"marker\": {\"colorbar\": {\"outlinewidth\": 0, \"ticks\": \"\"}}, \"type\": \"scattergeo\"}], \"scattergl\": [{\"marker\": {\"colorbar\": {\"outlinewidth\": 0, \"ticks\": \"\"}}, \"type\": \"scattergl\"}], \"scattermapbox\": [{\"marker\": {\"colorbar\": {\"outlinewidth\": 0, \"ticks\": \"\"}}, \"type\": \"scattermapbox\"}], \"scatterpolar\": [{\"marker\": {\"colorbar\": {\"outlinewidth\": 0, \"ticks\": \"\"}}, \"type\": \"scatterpolar\"}], \"scatterpolargl\": [{\"marker\": {\"colorbar\": {\"outlinewidth\": 0, \"ticks\": \"\"}}, \"type\": \"scatterpolargl\"}], \"scatterternary\": [{\"marker\": {\"colorbar\": {\"outlinewidth\": 0, \"ticks\": \"\"}}, \"type\": \"scatterternary\"}], \"surface\": [{\"colorbar\": {\"outlinewidth\": 0, \"ticks\": \"\"}, \"colorscale\": [[0.0, \"#0d0887\"], [0.1111111111111111, \"#46039f\"], [0.2222222222222222, \"#7201a8\"], [0.3333333333333333, \"#9c179e\"], [0.4444444444444444, \"#bd3786\"], [0.5555555555555556, \"#d8576b\"], [0.6666666666666666, \"#ed7953\"], [0.7777777777777778, \"#fb9f3a\"], [0.8888888888888888, \"#fdca26\"], [1.0, \"#f0f921\"]], \"type\": \"surface\"}], \"table\": [{\"cells\": {\"fill\": {\"color\": \"#EBF0F8\"}, \"line\": {\"color\": \"white\"}}, \"header\": {\"fill\": {\"color\": \"#C8D4E3\"}, \"line\": {\"color\": \"white\"}}, \"type\": \"table\"}]}, \"layout\": {\"annotationdefaults\": {\"arrowcolor\": \"#2a3f5f\", \"arrowhead\": 0, \"arrowwidth\": 1}, \"autotypenumbers\": \"strict\", \"coloraxis\": {\"colorbar\": {\"outlinewidth\": 0, \"ticks\": \"\"}}, \"colorscale\": {\"diverging\": [[0, \"#8e0152\"], [0.1, \"#c51b7d\"], [0.2, \"#de77ae\"], [0.3, \"#f1b6da\"], [0.4, \"#fde0ef\"], [0.5, \"#f7f7f7\"], [0.6, \"#e6f5d0\"], [0.7, \"#b8e186\"], [0.8, \"#7fbc41\"], [0.9, \"#4d9221\"], [1, \"#276419\"]], \"sequential\": [[0.0, \"#0d0887\"], [0.1111111111111111, \"#46039f\"], [0.2222222222222222, \"#7201a8\"], [0.3333333333333333, \"#9c179e\"], [0.4444444444444444, \"#bd3786\"], [0.5555555555555556, \"#d8576b\"], [0.6666666666666666, \"#ed7953\"], [0.7777777777777778, \"#fb9f3a\"], [0.8888888888888888, \"#fdca26\"], [1.0, \"#f0f921\"]], \"sequentialminus\": [[0.0, \"#0d0887\"], [0.1111111111111111, \"#46039f\"], [0.2222222222222222, \"#7201a8\"], [0.3333333333333333, \"#9c179e\"], [0.4444444444444444, \"#bd3786\"], [0.5555555555555556, \"#d8576b\"], [0.6666666666666666, \"#ed7953\"], [0.7777777777777778, \"#fb9f3a\"], [0.8888888888888888, \"#fdca26\"], [1.0, \"#f0f921\"]]}, \"colorway\": [\"#636efa\", \"#EF553B\", \"#00cc96\", \"#ab63fa\", \"#FFA15A\", \"#19d3f3\", \"#FF6692\", \"#B6E880\", \"#FF97FF\", \"#FECB52\"], \"font\": {\"color\": \"#2a3f5f\"}, \"geo\": {\"bgcolor\": \"white\", \"lakecolor\": \"white\", \"landcolor\": \"#E5ECF6\", \"showlakes\": true, \"showland\": true, \"subunitcolor\": \"white\"}, \"hoverlabel\": {\"align\": \"left\"}, \"hovermode\": \"closest\", \"mapbox\": {\"style\": \"light\"}, \"paper_bgcolor\": \"white\", \"plot_bgcolor\": \"#E5ECF6\", \"polar\": {\"angularaxis\": {\"gridcolor\": \"white\", \"linecolor\": \"white\", \"ticks\": \"\"}, \"bgcolor\": \"#E5ECF6\", \"radialaxis\": {\"gridcolor\": \"white\", \"linecolor\": \"white\", \"ticks\": \"\"}}, \"scene\": {\"xaxis\": {\"backgroundcolor\": \"#E5ECF6\", \"gridcolor\": \"white\", \"gridwidth\": 2, \"linecolor\": \"white\", \"showbackground\": true, \"ticks\": \"\", \"zerolinecolor\": \"white\"}, \"yaxis\": {\"backgroundcolor\": \"#E5ECF6\", \"gridcolor\": \"white\", \"gridwidth\": 2, \"linecolor\": \"white\", \"showbackground\": true, \"ticks\": \"\", \"zerolinecolor\": \"white\"}, \"zaxis\": {\"backgroundcolor\": \"#E5ECF6\", \"gridcolor\": \"white\", \"gridwidth\": 2, \"linecolor\": \"white\", \"showbackground\": true, \"ticks\": \"\", \"zerolinecolor\": \"white\"}}, \"shapedefaults\": {\"line\": {\"color\": \"#2a3f5f\"}}, \"ternary\": {\"aaxis\": {\"gridcolor\": \"white\", \"linecolor\": \"white\", \"ticks\": \"\"}, \"baxis\": {\"gridcolor\": \"white\", \"linecolor\": \"white\", \"ticks\": \"\"}, \"bgcolor\": \"#E5ECF6\", \"caxis\": {\"gridcolor\": \"white\", \"linecolor\": \"white\", \"ticks\": \"\"}}, \"title\": {\"x\": 0.05}, \"xaxis\": {\"automargin\": true, \"gridcolor\": \"white\", \"linecolor\": \"white\", \"ticks\": \"\", \"title\": {\"standoff\": 15}, \"zerolinecolor\": \"white\", \"zerolinewidth\": 2}, \"yaxis\": {\"automargin\": true, \"gridcolor\": \"white\", \"linecolor\": \"white\", \"ticks\": \"\", \"title\": {\"standoff\": 15}, \"zerolinecolor\": \"white\", \"zerolinewidth\": 2}}}, \"title\": {\"text\": \"Word Usage as a Function of Ideal Point (Topic: Abortion)\", \"x\": 0.5, \"y\": 0.9}, \"xaxis\": {\"fixedrange\": true, \"range\": [-1.02, 1.02], \"showgrid\": false, \"showline\": false, \"showticklabels\": false, \"title\": {\"text\": \"Representative ideal points (hover to see names)\"}, \"zeroline\": false}, \"yaxis\": {\"fixedrange\": true, \"range\": [-0.6, 2.5], \"showgrid\": false, \"showline\": false, \"showticklabels\": false, \"zeroline\": false}},                        {\"responsive\": true}                    ).then(function(){\n",
       "                            \n",
       "var gd = document.getElementById('a808bc4e-cb63-4ee7-8ca5-a0518b071bf6');\n",
       "var x = new MutationObserver(function (mutations, observer) {{\n",
       "        var display = window.getComputedStyle(gd).display;\n",
       "        if (!display || display === 'none') {{\n",
       "            console.log([gd, 'removed!']);\n",
       "            Plotly.purge(gd);\n",
       "            observer.disconnect();\n",
       "        }}\n",
       "}});\n",
       "\n",
       "// Listen for the removal of the full notebook cells\n",
       "var notebookContainer = gd.closest('#notebook-container');\n",
       "if (notebookContainer) {{\n",
       "    x.observe(notebookContainer, {childList: true});\n",
       "}}\n",
       "\n",
       "// Listen for the clearing of the current output cell\n",
       "var outputEl = gd.closest('.output');\n",
       "if (outputEl) {{\n",
       "    x.observe(outputEl, {childList: true});\n",
       "}}\n",
       "\n",
       "                        })                };                });            </script>        </div>"
      ]
     },
     "metadata": {},
     "output_type": "display_data"
    }
   ],
   "source": [
    "show_interactive(2)"
   ]
  },
  {
   "cell_type": "code",
   "execution_count": null,
   "id": "ed74d640",
   "metadata": {},
   "outputs": [],
   "source": [
    "speaker1 = 'Mark (R)' #Conservative - Extremely cons. on abortion, moderate on other two, 4 speeches on abortion and 3 on energy, 3 on immigration\n",
    "speaker2 = 'Lauren (R)' #Conservative - extreme cons. on immigration, moderate on other two, 3 speeches on abortion and 1 on energy, 4 on immigration\n",
    "speaker3 = 'John (R)' #Conservative - moderate cons. on immigration, extreme on other two, 1 speech on immigration and 3 on energy, 1 on abortion\n",
    "\n",
    "speaker4 = 'Mona (D)' #Liberal - Extremely lib. on abortion and energy, moderate on immigration, 3 speeches on abortion, 3 on energy, 3 on immigration\n",
    "speaker5 = 'Justicia (D)' #Liberal - Extremely lib. on abortion and immigration, moderate on energy, 3 speeches on abortion, 1 on energy, 3 on immigration\n",
    "speaker6 = 'Alex (D)' #Liberal - moderate on all issues, 2 speeches on abortion, 2 on energy, 2 on immigration"
   ]
  },
  {
   "cell_type": "markdown",
   "id": "7c7e7937",
   "metadata": {},
   "source": [
    "## issue-specific TBIP"
   ]
  },
  {
   "cell_type": "code",
   "execution_count": 18,
   "id": "3de180b0",
   "metadata": {},
   "outputs": [],
   "source": [
    "project_dir = os.path.abspath('/workspace/pranav/tbip/data') \n",
    "source_dir = os.path.join(project_dir, \"synthetic/\")\n",
    "\n",
    "# Load TBIP data.\n",
    "data_dir = os.path.join(source_dir, \"clean\")\n",
    "(counts, vocabulary, author_indices, \n",
    " author_map) = utils.load_text_data(data_dir)\n",
    "\n",
    "# Load TBIP parameters.\n",
    "param_dir = os.path.join(source_dir, \"tbip-pytorch-fits-issue-specific/params/\")\n",
    "(document_loc, document_scale, objective_topic_loc, objective_topic_scale, \n",
    " ideological_topic_loc, ideological_topic_scale, ideal_point_loc, \n",
    " ideal_point_scale) = utils.load_tbip_parameters(param_dir)\n",
    "\n",
    "# Compute means from variational parameters\n",
    "document_mean = np.exp(document_loc + document_scale ** 2 / 2)\n",
    "objective_topic_mean = np.exp(objective_topic_loc + \n",
    "                              objective_topic_scale ** 2 / 2)\n",
    "ideological_topic_mean = ideological_topic_loc\n",
    "ideal_point_mean = ideal_point_loc"
   ]
  },
  {
   "cell_type": "code",
   "execution_count": 19,
   "id": "65cdb667",
   "metadata": {},
   "outputs": [
    {
     "name": "stdout",
     "output_type": "stream",
     "text": [
      "(45, 3)\n",
      "(3, 60)\n",
      "(3, 60)\n",
      "(6, 3)\n"
     ]
    }
   ],
   "source": [
    "print(document_mean.shape)\n",
    "print(objective_topic_mean.shape)\n",
    "print(ideological_topic_mean.shape)\n",
    "print(ideal_point_mean.shape)"
   ]
  },
  {
   "cell_type": "code",
   "execution_count": 20,
   "id": "bc6e3697",
   "metadata": {},
   "outputs": [
    {
     "name": "stdout",
     "output_type": "stream",
     "text": [
      "['Ideal Point = -1.0, Topic = 0: clean_energy, solar, renewable, energy_efficiency, wind, crisis, pollution, global_warming, carbon_tax, climate_change, energy, jobs, oil, mine_workers, economy, hoax, coal, govt_overreach, production, china'\n",
      " 'Ideal Point = -0.5, Topic = 0: pollution, global_warming, clean_energy, climate_change, energy, carbon_tax, solar, renewable, jobs, energy_efficiency, wind, crisis, mine_workers, oil, economy, hoax, production, coal, govt_overreach, china'\n",
      " 'Ideal Point = 0.0, Topic = 0: energy, jobs, pollution, global_warming, mine_workers, oil, economy, climate_change, clean_energy, carbon_tax, production, hoax, coal, govt_overreach, china, renewable, solar, energy_efficiency, wind, crisis'\n",
      " 'Ideal Point = 0.5, Topic = 0: energy, mine_workers, jobs, economy, oil, production, hoax, coal, govt_overreach, china, pollution, global_warming, climate_change, clean_energy, carbon_tax, renewable, energy_efficiency, solar, wind, crisis'\n",
      " 'Ideal Point = 1.0, Topic = 0: production, hoax, govt_overreach, coal, economy, mine_workers, china, oil, jobs, energy, pollution, global_warming, climate_change, clean_energy, carbon_tax, renewable, energy_efficiency, wind, crisis, solar'\n",
      " '========================================================================================================================'\n",
      " 'Ideal Point = -1.0, Topic = 1: legal_immigration, america, refugees, immigrant, immigrant_rights, comprehensive_immigration_reform, dreamer, broken_system, daca, deportation, immigration, law, homeland_security, border, secure, amnesty, illegal_immigrants, enforce, wall, illegal'\n",
      " 'Ideal Point = -0.5, Topic = 1: legal_immigration, immigrant, immigrant_rights, refugees, america, comprehensive_immigration_reform, dreamer, broken_system, immigration, daca, law, homeland_security, deportation, border, secure, illegal_immigrants, illegal, enforce, wall, amnesty'\n",
      " 'Ideal Point = 0.0, Topic = 1: legal_immigration, immigrant, homeland_security, immigration, law, immigrant_rights, refugees, border, secure, america, illegal_immigrants, illegal, comprehensive_immigration_reform, dreamer, wall, enforce, daca, broken_system, amnesty, deportation'\n",
      " 'Ideal Point = 0.5, Topic = 1: homeland_security, law, immigration, border, secure, legal_immigration, immigrant, illegal_immigrants, illegal, wall, enforce, amnesty, immigrant_rights, refugees, america, dreamer, comprehensive_immigration_reform, daca, broken_system, deportation'\n",
      " 'Ideal Point = 1.0, Topic = 1: illegal_immigrants, illegal, homeland_security, secure, wall, law, enforce, border, amnesty, immigration, immigrant, legal_immigration, immigrant_rights, refugees, america, daca, broken_system, dreamer, comprehensive_immigration_reform, deportation'\n",
      " '========================================================================================================================'\n",
      " 'Ideal Point = -1.0, Topic = 2: contraception, rights, access, bodily_autonomy, birth_control, legal, rare, choice, healthcare, women, stem, heartbeat, late_abortion, weeks, life, babies, baby, murder, unborn_child, unborn'\n",
      " 'Ideal Point = -0.5, Topic = 2: choice, legal, women, contraception, rights, access, bodily_autonomy, birth_control, rare, healthcare, stem, heartbeat, late_abortion, weeks, life, babies, unborn_child, unborn, baby, murder'\n",
      " 'Ideal Point = 0.0, Topic = 2: women, choice, stem, heartbeat, legal, weeks, late_abortion, life, rare, healthcare, contraception, rights, access, birth_control, bodily_autonomy, unborn_child, babies, unborn, baby, murder'\n",
      " 'Ideal Point = 0.5, Topic = 2: stem, heartbeat, weeks, late_abortion, life, women, unborn_child, unborn, babies, murder, baby, choice, legal, rare, healthcare, contraception, rights, access, birth_control, bodily_autonomy'\n",
      " 'Ideal Point = 1.0, Topic = 2: unborn_child, unborn, babies, murder, baby, life, weeks, heartbeat, stem, late_abortion, women, choice, legal, healthcare, rare, access, contraception, rights, birth_control, bodily_autonomy'\n",
      " '========================================================================================================================']\n",
      "\n",
      "\n"
     ]
    }
   ],
   "source": [
    "utils.print_topics(objective_topic_loc, \n",
    "                   objective_topic_scale, \n",
    "                   ideological_topic_loc, \n",
    "                   ideological_topic_scale, \n",
    "                   vocabulary, \n",
    "                   20)"
   ]
  },
  {
   "cell_type": "code",
   "execution_count": 21,
   "id": "3a700ffb",
   "metadata": {},
   "outputs": [],
   "source": [
    "def get_topic_name(topic_number):\n",
    "    if topic_number == 0:\n",
    "        topic_name = \"Energy\"\n",
    "    elif topic_number == 1:\n",
    "        topic_name = \"Immigration\"\n",
    "    elif topic_number == 2:\n",
    "        topic_name = \"Abortion\"\n",
    "        \n",
    "    return topic_name"
   ]
  },
  {
   "cell_type": "code",
   "execution_count": 22,
   "id": "54894a63",
   "metadata": {},
   "outputs": [
    {
     "data": {
      "text/plain": [
       "1.0510294"
      ]
     },
     "execution_count": 22,
     "metadata": {},
     "output_type": "execute_result"
    }
   ],
   "source": [
    "np.max(ideal_point_mean)"
   ]
  },
  {
   "cell_type": "code",
   "execution_count": 23,
   "id": "0b6b42db",
   "metadata": {},
   "outputs": [
    {
     "data": {
      "text/plain": [
       "-1.1048443"
      ]
     },
     "execution_count": 23,
     "metadata": {},
     "output_type": "execute_result"
    }
   ],
   "source": [
    "np.min(ideal_point_mean)"
   ]
  },
  {
   "cell_type": "code",
   "execution_count": 24,
   "id": "2be3937d",
   "metadata": {},
   "outputs": [],
   "source": [
    "colors = np.array([\"crimson\" if '(R)' in rep else \"steelblue\" for rep in author_map])\n",
    "def get_ideological_topics(objective_topic_loc, \n",
    "                           objective_topic_scale,\n",
    "                           ideological_topic_loc, \n",
    "                           ideological_topic_scale,\n",
    "                           ideal_point):\n",
    "    ideological_topic_mean = np.exp(objective_topic_loc +\n",
    "                              ideal_point * ideological_topic_loc +\n",
    "                              (objective_topic_scale ** 2 + \n",
    "                               ideal_point ** 2 * \n",
    "                               ideological_topic_scale ** 2) / 2)\n",
    "    return ideological_topic_mean"
   ]
  },
  {
   "cell_type": "code",
   "execution_count": 25,
   "id": "7cb47899",
   "metadata": {},
   "outputs": [
    {
     "name": "stdout",
     "output_type": "stream",
     "text": [
      "(6,)\n"
     ]
    }
   ],
   "source": [
    "\n",
    "author_map = np.array(author_map)\n",
    "print(author_map.shape)\n",
    "# ideal_points = np.array(ideal_points)\n",
    "# print(ideal_points.shape)"
   ]
  },
  {
   "cell_type": "code",
   "execution_count": 26,
   "id": "b9506382",
   "metadata": {},
   "outputs": [],
   "source": [
    "def get_agg_avg_matrix(X, dic_of_inds):\n",
    "    list_of_arrays = []\n",
    "    for a in dic_of_inds:\n",
    "        inds = dic_of_inds[a]\n",
    "        list_of_arrays.append(np.mean(X[inds], 0).reshape((1, X.shape[1])))\n",
    "    return np.concatenate(list_of_arrays, 0)"
   ]
  },
  {
   "cell_type": "code",
   "execution_count": 27,
   "id": "417b9239",
   "metadata": {},
   "outputs": [
    {
     "name": "stdout",
     "output_type": "stream",
     "text": [
      "{0: [39, 40, 41, 42, 43, 44], 1: [18, 19, 20, 21, 22], 2: [32, 33, 34, 35, 36, 37, 38], 3: [10, 11, 12, 13, 14, 15, 16, 17], 4: [0, 1, 2, 3, 4, 5, 6, 7, 8, 9], 5: [23, 24, 25, 26, 27, 28, 29, 30, 31]}\n"
     ]
    }
   ],
   "source": [
    "author_to_inds = {}\n",
    "for i in range(len(author_map)):\n",
    "    author_to_inds[i] = []\n",
    "for j, a in enumerate(author_indices):\n",
    "    author_to_inds[a].append(j)\n",
    "print(author_to_inds)"
   ]
  },
  {
   "cell_type": "code",
   "execution_count": 28,
   "id": "316d906f",
   "metadata": {},
   "outputs": [
    {
     "name": "stdout",
     "output_type": "stream",
     "text": [
      "(6, 3)\n"
     ]
    }
   ],
   "source": [
    "mean_topic_props = get_agg_avg_matrix(np.array(torch.softmax(torch.from_numpy(document_mean), 1)), author_to_inds)\n",
    "print(mean_topic_props.shape)"
   ]
  },
  {
   "cell_type": "code",
   "execution_count": 29,
   "id": "e0e9f116",
   "metadata": {},
   "outputs": [],
   "source": [
    "def show_interactive(topic_number):\n",
    "    ideal_points = ideal_point_mean[:, topic_number]\n",
    "    avg_topic_props = mean_topic_props[:, topic_number]\n",
    "    try:\n",
    "        topic_name = get_topic_name(topic_number)\n",
    "    except:\n",
    "        topic_name = 'Topic ' + str(topic_number)\n",
    "    fig = go.Figure(layout = go.Layout(\n",
    "        paper_bgcolor='rgba(0,0,0,0)',\n",
    "        plot_bgcolor='rgba(0,0,0,0)'))\n",
    "    \n",
    "    y_hover = 0.0\n",
    "    \n",
    "    x_min = np.min(ideal_points) #- 0.05\n",
    "    x_max = np.max(ideal_points) #+ 0.05\n",
    "    if abs(x_min)>x_max:\n",
    "        x_max = -1*x_min\n",
    "    else:\n",
    "        x_min = -1*x_max\n",
    "    diff = 0.05\n",
    "    offset = -x_min / diff\n",
    "    scatterplot_location = -0.53\n",
    "\n",
    "    ideal_point_dict = {}\n",
    "    for i in range(int((x_max - x_min) / diff) + 1):\n",
    "        ideal_point_dict[i] = (i - offset) * diff\n",
    "\n",
    "    # Add black line.\n",
    "    fig.add_trace(go.Scatter(x=[x_min, x_max], \n",
    "                             y = [scatterplot_location, scatterplot_location],\n",
    "                             line=dict(color=\"black\", width=1),\n",
    "                             marker=dict(size=1),\n",
    "                             hoverinfo='skip'))\n",
    "\n",
    "    # Add trace for all representatives\n",
    "    fig.add_trace(go.Scatter(\n",
    "        mode=\"markers\",\n",
    "        x=ideal_points, \n",
    "        y=scatterplot_location * np.ones(len(ideal_points)), \n",
    "        text=[x + ' [' + str(round(avg_topic_props[ind], 3)) + ']' for ind, x in enumerate(author_map)], \n",
    "        hoverinfo=\"x+text\",\n",
    "        marker=dict(color=colors, size=8)))\n",
    "\n",
    "    num_top_words = 8\n",
    "\n",
    "    # Add bar plots, one for each ideal point\n",
    "    for step in np.arange(len(ideal_point_dict.keys())):\n",
    "        ideological_topic_mean = get_ideological_topics(objective_topic_loc, \n",
    "                                   objective_topic_scale,\n",
    "                                   ideological_topic_loc, \n",
    "                                   ideological_topic_scale,\n",
    "                                   ideal_point_dict[step])\n",
    "        topic_intensities = ideological_topic_mean[topic_number]/50.0\n",
    "        top_topic_intensities = np.sort(topic_intensities)[-num_top_words:]\n",
    "        top_topic_words = vocabulary[np.argsort(-topic_intensities)[:num_top_words]][::-1]\n",
    "        fig.add_trace(\n",
    "            go.Bar(\n",
    "                visible=False,\n",
    "                x=top_topic_intensities * 5,\n",
    "                orientation='h',\n",
    "                text=top_topic_words,\n",
    "                textposition='outside',\n",
    "                marker_color='rgb(175,122,197)',\n",
    "                y0=0.529,\n",
    "                dy=0.214,\n",
    "                base=-0.3,\n",
    "                hoverinfo='skip',\n",
    "            ))\n",
    "\n",
    "    fig.update_layout(go.Layout(\n",
    "    yaxis = {'showgrid': False,\n",
    "             'showline': False,\n",
    "             'zeroline': False,\n",
    "            'showticklabels': False,\n",
    "            'fixedrange': True}),\n",
    "    xaxis = {'showgrid': False,\n",
    "             'showline': False,\n",
    "             'zeroline': False,\n",
    "            'showticklabels': False,\n",
    "            'fixedrange': True})\n",
    "    fig.update_yaxes(range=[-0.60, 2.5])\n",
    "    fig.update_xaxes(range=[x_min - 0.02, x_max + 0.02])\n",
    "\n",
    "    # Set default trace\n",
    "    fig.data[len(fig.data) // 2].visible = True\n",
    "\n",
    "    # Create and add slider\n",
    "    steps = []\n",
    "    for i in range(2, len(fig.data)):\n",
    "        step = dict(\n",
    "            method=\"update\",\n",
    "            args=[{\"visible\": [True, True] + [False] * (len(fig.data) - 2)}],  \n",
    "            label=\"{:.2f}\".format(ideal_point_dict[i - 2]),\n",
    "        )\n",
    "        step[\"args\"][0][\"visible\"][i] = True  # Toggle i'th trace to \"visible\"\n",
    "        steps.append(step)\n",
    "\n",
    "    sliders = [dict(\n",
    "        active=(len(fig.data) // 2 - 1),\n",
    "        currentvalue={\"prefix\": \"Ideal Point: \"},\n",
    "        y=0.35,\n",
    "        steps=steps)]\n",
    "\n",
    "    fig.update_layout(sliders=sliders, showlegend=False, \n",
    "                      title={'text': \"Word Usage as a Function of Ideal Point (Topic: {})\".format(topic_name),\n",
    "                             'x': 0.5,\n",
    "                             'y': 0.9},\n",
    "                      xaxis_title='Representative ideal points (hover to see names)',\n",
    "                      annotations = [\n",
    "                                    dict(xref='paper',\n",
    "                                            yref='paper',\n",
    "                                            x=0.5, y=0.255,\n",
    "                                            font={'size': 14},\n",
    "                                            showarrow=False,\n",
    "                                            text ='Move slider to change ideal point')\n",
    "                      ])\n",
    "    fig.show()"
   ]
  },
  {
   "cell_type": "code",
   "execution_count": 30,
   "id": "98fc85fd",
   "metadata": {},
   "outputs": [
    {
     "data": {
      "application/vnd.plotly.v1+json": {
       "config": {
        "plotlyServerURL": "https://plot.ly"
       },
       "data": [
        {
         "hoverinfo": "skip",
         "line": {
          "color": "black",
          "width": 1
         },
         "marker": {
          "size": 1
         },
         "type": "scatter",
         "x": [
          -1.0571640729904175,
          1.0571640729904175
         ],
         "y": [
          -0.53,
          -0.53
         ]
        },
        {
         "hoverinfo": "x+text",
         "marker": {
          "color": [
           "steelblue",
           "crimson",
           "steelblue",
           "crimson",
           "crimson",
           "steelblue"
          ],
          "size": 8
         },
         "mode": "markers",
         "text": [
          "Alex (D) [0.337]",
          "John (R) [0.371]",
          "Justicia (D) [0.313]",
          "Lauren (R) [0.305]",
          "Mark (R) [0.333]",
          "Mona (D) [0.331]"
         ],
         "type": "scatter",
         "x": [
          -0.7592263221740723,
          1.0002368688583374,
          -0.6703259944915771,
          0.4688803255558014,
          0.6241500973701477,
          -1.0571640729904175
         ],
         "y": [
          -0.53,
          -0.53,
          -0.53,
          -0.53,
          -0.53,
          -0.53
         ]
        },
        {
         "base": -0.3,
         "dy": 0.214,
         "hoverinfo": "skip",
         "marker": {
          "color": "rgb(175,122,197)"
         },
         "orientation": "h",
         "text": [
          "global_warming",
          "pollution",
          "crisis",
          "wind",
          "energy_efficiency",
          "renewable",
          "clean_energy",
          "solar"
         ],
         "textposition": "outside",
         "type": "bar",
         "visible": false,
         "x": [
          0.25200846791267395,
          0.25819554924964905,
          0.2774569094181061,
          0.28630417585372925,
          0.2916231155395508,
          0.29282498359680176,
          0.2977581322193146,
          0.30474966764450073
         ],
         "y0": 0.529
        },
        {
         "base": -0.3,
         "dy": 0.214,
         "hoverinfo": "skip",
         "marker": {
          "color": "rgb(175,122,197)"
         },
         "orientation": "h",
         "text": [
          "global_warming",
          "pollution",
          "crisis",
          "wind",
          "energy_efficiency",
          "renewable",
          "solar",
          "clean_energy"
         ],
         "textposition": "outside",
         "type": "bar",
         "visible": false,
         "x": [
          0.245767742395401,
          0.25239571928977966,
          0.2577304542064667,
          0.2656431198120117,
          0.2705709934234619,
          0.27185970544815063,
          0.28221607208251953,
          0.28464365005493164
         ],
         "y0": 0.529
        },
        {
         "base": -0.3,
         "dy": 0.214,
         "hoverinfo": "skip",
         "marker": {
          "color": "rgb(175,122,197)"
         },
         "orientation": "h",
         "text": [
          "crisis",
          "global_warming",
          "wind",
          "pollution",
          "energy_efficiency",
          "renewable",
          "solar",
          "clean_energy"
         ],
         "textposition": "outside",
         "type": "bar",
         "visible": false,
         "x": [
          0.23946397006511688,
          0.23973731696605682,
          0.24654194712638855,
          0.246778205037117,
          0.25111231207847595,
          0.25246089696884155,
          0.26142042875289917,
          0.2721806764602661
         ],
         "y0": 0.529
        },
        {
         "base": -0.3,
         "dy": 0.214,
         "hoverinfo": "skip",
         "marker": {
          "color": "rgb(175,122,197)"
         },
         "orientation": "h",
         "text": [
          "crisis",
          "wind",
          "energy_efficiency",
          "global_warming",
          "renewable",
          "pollution",
          "solar",
          "clean_energy"
         ],
         "textposition": "outside",
         "type": "bar",
         "visible": false,
         "x": [
          0.22254563868045807,
          0.22887833416461945,
          0.23312152922153473,
          0.23390933871269226,
          0.23450715839862823,
          0.24133659899234772,
          0.2422238141298294,
          0.2603340744972229
         ],
         "y0": 0.529
        },
        {
         "base": -0.3,
         "dy": 0.214,
         "hoverinfo": "skip",
         "marker": {
          "color": "rgb(175,122,197)"
         },
         "orientation": "h",
         "text": [
          "wind",
          "climate_change",
          "energy_efficiency",
          "renewable",
          "solar",
          "global_warming",
          "pollution",
          "clean_energy"
         ],
         "textposition": "outside",
         "type": "bar",
         "visible": false,
         "x": [
          0.2125396579504013,
          0.2133098840713501,
          0.2164832353591919,
          0.21788673102855682,
          0.22449851036071777,
          0.22827613353729248,
          0.23606480658054352,
          0.24907074868679047
         ],
         "y0": 0.529
        },
        {
         "base": -0.3,
         "dy": 0.214,
         "hoverinfo": "skip",
         "marker": {
          "color": "rgb(175,122,197)"
         },
         "orientation": "h",
         "text": [
          "wind",
          "energy_efficiency",
          "renewable",
          "climate_change",
          "solar",
          "global_warming",
          "pollution",
          "clean_energy"
         ],
         "textposition": "outside",
         "type": "bar",
         "visible": false,
         "x": [
          0.19742251932621002,
          0.2010914832353592,
          0.20249679684638977,
          0.20706431567668915,
          0.2081274837255478,
          0.22283048927783966,
          0.23095691204071045,
          0.2383594512939453
         ],
         "y0": 0.529
        },
        {
         "base": -0.3,
         "dy": 0.214,
         "hoverinfo": "skip",
         "marker": {
          "color": "rgb(175,122,197)"
         },
         "orientation": "h",
         "text": [
          "energy_efficiency",
          "carbon_tax",
          "renewable",
          "solar",
          "climate_change",
          "global_warming",
          "pollution",
          "clean_energy"
         ],
         "textposition": "outside",
         "type": "bar",
         "visible": false,
         "x": [
          0.18684892356395721,
          0.18719449639320374,
          0.18824271857738495,
          0.1930033415555954,
          0.20104169845581055,
          0.2175653576850891,
          0.22600719332695007,
          0.22817076742649078
         ],
         "y0": 0.529
        },
        {
         "base": -0.3,
         "dy": 0.214,
         "hoverinfo": "skip",
         "marker": {
          "color": "rgb(175,122,197)"
         },
         "orientation": "h",
         "text": [
          "energy_efficiency",
          "renewable",
          "carbon_tax",
          "solar",
          "climate_change",
          "global_warming",
          "clean_energy",
          "pollution"
         ],
         "textposition": "outside",
         "type": "bar",
         "visible": false,
         "x": [
          0.1736660599708557,
          0.1750374436378479,
          0.17855805158615112,
          0.17902743816375732,
          0.19523316621780396,
          0.21247409284114838,
          0.21847692131996155,
          0.22121021151542664
         ],
         "y0": 0.529
        },
        {
         "base": -0.3,
         "dy": 0.214,
         "hoverinfo": "skip",
         "marker": {
          "color": "rgb(175,122,197)"
         },
         "orientation": "h",
         "text": [
          "energy_efficiency",
          "renewable",
          "solar",
          "carbon_tax",
          "climate_change",
          "global_warming",
          "clean_energy",
          "pollution"
         ],
         "textposition": "outside",
         "type": "bar",
         "visible": false,
         "x": [
          0.1614607572555542,
          0.16280075907707214,
          0.16610923409461975,
          0.17035627365112305,
          0.18963027000427246,
          0.20755024254322052,
          0.2092517614364624,
          0.21656078100204468
         ],
         "y0": 0.529
        },
        {
         "base": -0.3,
         "dy": 0.214,
         "hoverinfo": "skip",
         "marker": {
          "color": "rgb(175,122,197)"
         },
         "orientation": "h",
         "text": [
          "energy_efficiency",
          "renewable",
          "solar",
          "carbon_tax",
          "climate_change",
          "clean_energy",
          "global_warming",
          "pollution"
         ],
         "textposition": "outside",
         "type": "bar",
         "visible": false,
         "x": [
          0.15015728771686554,
          0.15145879983901978,
          0.15416553616523743,
          0.16256584227085114,
          0.18422487378120422,
          0.20047053694725037,
          0.20278769731521606,
          0.21205374598503113
         ],
         "y0": 0.529
        },
        {
         "base": -0.3,
         "dy": 0.214,
         "hoverinfo": "skip",
         "marker": {
          "color": "rgb(175,122,197)"
         },
         "orientation": "h",
         "text": [
          "renewable",
          "solar",
          "energy",
          "carbon_tax",
          "climate_change",
          "clean_energy",
          "global_warming",
          "pollution"
         ],
         "textposition": "outside",
         "type": "bar",
         "visible": false,
         "x": [
          0.14094358682632446,
          0.1431199610233307,
          0.1505972295999527,
          0.1551646739244461,
          0.17900925874710083,
          0.19211003184318542,
          0.19818058609962463,
          0.20768435299396515
         ],
         "y0": 0.529
        },
        {
         "base": -0.3,
         "dy": 0.214,
         "hoverinfo": "skip",
         "marker": {
          "color": "rgb(175,122,197)"
         },
         "orientation": "h",
         "text": [
          "renewable",
          "solar",
          "carbon_tax",
          "energy",
          "climate_change",
          "clean_energy",
          "global_warming",
          "pollution"
         ],
         "textposition": "outside",
         "type": "bar",
         "visible": false,
         "x": [
          0.13119244575500488,
          0.13290229439735413,
          0.14813198149204254,
          0.15343444049358368,
          0.17397597432136536,
          0.18414819240570068,
          0.19372320175170898,
          0.2034478634595871
         ],
         "y0": 0.529
        },
        {
         "base": -0.3,
         "dy": 0.214,
         "hoverinfo": "skip",
         "marker": {
          "color": "rgb(175,122,197)"
         },
         "orientation": "h",
         "text": [
          "solar",
          "jobs",
          "carbon_tax",
          "energy",
          "climate_change",
          "clean_energy",
          "global_warming",
          "pollution"
         ],
         "textposition": "outside",
         "type": "bar",
         "visible": false,
         "x": [
          0.12344802916049957,
          0.13166874647140503,
          0.14144811034202576,
          0.15635305643081665,
          0.16911792755126953,
          0.1765642762184143,
          0.18941016495227814,
          0.19933991134166718
         ],
         "y0": 0.529
        },
        {
         "base": -0.3,
         "dy": 0.214,
         "hoverinfo": "skip",
         "marker": {
          "color": "rgb(175,122,197)"
         },
         "orientation": "h",
         "text": [
          "mine_workers",
          "carbon_tax",
          "jobs",
          "energy",
          "climate_change",
          "clean_energy",
          "global_warming",
          "pollution"
         ],
         "textposition": "outside",
         "type": "bar",
         "visible": false,
         "x": [
          0.11523512005805969,
          0.13509459793567657,
          0.13515031337738037,
          0.15935571491718292,
          0.16442832350730896,
          0.1693386435508728,
          0.18523626029491425,
          0.1953560709953308
         ],
         "y0": 0.529
        },
        {
         "base": -0.3,
         "dy": 0.214,
         "hoverinfo": "skip",
         "marker": {
          "color": "rgb(175,122,197)"
         },
         "orientation": "h",
         "text": [
          "mine_workers",
          "carbon_tax",
          "jobs",
          "climate_change",
          "energy",
          "clean_energy",
          "global_warming",
          "pollution"
         ],
         "textposition": "outside",
         "type": "bar",
         "visible": false,
         "x": [
          0.11936309933662415,
          0.12905392050743103,
          0.13874991238117218,
          0.15990060567855835,
          0.16244512796401978,
          0.16245287656784058,
          0.18119648098945618,
          0.1914922297000885
         ],
         "y0": 0.529
        },
        {
         "base": -0.3,
         "dy": 0.214,
         "hoverinfo": "skip",
         "marker": {
          "color": "rgb(175,122,197)"
         },
         "orientation": "h",
         "text": [
          "carbon_tax",
          "mine_workers",
          "jobs",
          "climate_change",
          "clean_energy",
          "energy",
          "global_warming",
          "pollution"
         ],
         "textposition": "outside",
         "type": "bar",
         "visible": false,
         "x": [
          0.12330957502126694,
          0.12366746366024017,
          0.1424720585346222,
          0.15552857518196106,
          0.1558893918991089,
          0.16562403738498688,
          0.1772860884666443,
          0.18774443864822388
         ],
         "y0": 0.529
        },
        {
         "base": -0.3,
         "dy": 0.214,
         "hoverinfo": "skip",
         "marker": {
          "color": "rgb(175,122,197)"
         },
         "orientation": "h",
         "text": [
          "oil",
          "mine_workers",
          "jobs",
          "clean_energy",
          "climate_change",
          "energy",
          "global_warming",
          "pollution"
         ],
         "textposition": "outside",
         "type": "bar",
         "visible": false,
         "x": [
          0.12572021782398224,
          0.1281566023826599,
          0.14632147550582886,
          0.14963175356388092,
          0.15130625665187836,
          0.1688954085111618,
          0.17350046336650848,
          0.18410883843898773
         ],
         "y0": 0.529
        },
        {
         "base": -0.3,
         "dy": 0.214,
         "hoverinfo": "skip",
         "marker": {
          "color": "rgb(175,122,197)"
         },
         "orientation": "h",
         "text": [
          "oil",
          "mine_workers",
          "clean_energy",
          "climate_change",
          "jobs",
          "global_warming",
          "energy",
          "pollution"
         ],
         "textposition": "outside",
         "type": "bar",
         "visible": false,
         "x": [
          0.12988534569740295,
          0.13283932209014893,
          0.14366431534290314,
          0.1472279131412506,
          0.15030299127101898,
          0.1698351800441742,
          0.17226222157478333,
          0.1805817186832428
         ],
         "y0": 0.529
        },
        {
         "base": -0.3,
         "dy": 0.214,
         "hoverinfo": "skip",
         "marker": {
          "color": "rgb(175,122,197)"
         },
         "orientation": "h",
         "text": [
          "oil",
          "mine_workers",
          "clean_energy",
          "climate_change",
          "jobs",
          "global_warming",
          "energy",
          "pollution"
         ],
         "textposition": "outside",
         "type": "bar",
         "visible": false,
         "x": [
          0.13422207534313202,
          0.13772490620613098,
          0.13797232508659363,
          0.1432880461215973,
          0.15442179143428802,
          0.16628602147102356,
          0.17572760581970215,
          0.17715954780578613
         ],
         "y0": 0.529
        },
        {
         "base": -0.3,
         "dy": 0.214,
         "hoverinfo": "skip",
         "marker": {
          "color": "rgb(175,122,197)"
         },
         "orientation": "h",
         "text": [
          "clean_energy",
          "oil",
          "climate_change",
          "mine_workers",
          "jobs",
          "global_warming",
          "pollution",
          "energy"
         ],
         "textposition": "outside",
         "type": "bar",
         "visible": false,
         "x": [
          0.13254183530807495,
          0.13873831927776337,
          0.13948142528533936,
          0.14282310009002686,
          0.15868313610553741,
          0.16284894943237305,
          0.17383889853954315,
          0.17929477989673615
         ],
         "y0": 0.529
        },
        {
         "base": -0.3,
         "dy": 0.214,
         "hoverinfo": "skip",
         "marker": {
          "color": "rgb(175,122,197)"
         },
         "orientation": "h",
         "text": [
          "economy",
          "climate_change",
          "oil",
          "mine_workers",
          "global_warming",
          "jobs",
          "pollution",
          "energy"
         ],
         "textposition": "outside",
         "type": "bar",
         "visible": true,
         "x": [
          0.13027243316173553,
          0.1358030140399933,
          0.14344239234924316,
          0.1481441855430603,
          0.15952004492282867,
          0.16309262812137604,
          0.1706164926290512,
          0.18296712636947632
         ],
         "y0": 0.529
        },
        {
         "base": -0.3,
         "dy": 0.214,
         "hoverinfo": "skip",
         "marker": {
          "color": "rgb(175,122,197)"
         },
         "orientation": "h",
         "text": [
          "climate_change",
          "economy",
          "oil",
          "mine_workers",
          "global_warming",
          "pollution",
          "jobs",
          "energy"
         ],
         "textposition": "outside",
         "type": "bar",
         "visible": false,
         "x": [
          0.1322479397058487,
          0.1361985206604004,
          0.14834308624267578,
          0.15369895100593567,
          0.1562955379486084,
          0.16748912632465363,
          0.16765601933002472,
          0.18674808740615845
         ],
         "y0": 0.529
        },
        {
         "base": -0.3,
         "dy": 0.214,
         "hoverinfo": "skip",
         "marker": {
          "color": "rgb(175,122,197)"
         },
         "orientation": "h",
         "text": [
          "climate_change",
          "economy",
          "global_warming",
          "oil",
          "mine_workers",
          "pollution",
          "jobs",
          "energy"
         ],
         "textposition": "outside",
         "type": "bar",
         "visible": false,
         "x": [
          0.12881162762641907,
          0.14243267476558685,
          0.15317188203334808,
          0.15344960987567902,
          0.15949876606464386,
          0.16445380449295044,
          0.17237937450408936,
          0.19064131379127502
         ],
         "y0": 0.529
        },
        {
         "base": -0.3,
         "dy": 0.214,
         "hoverinfo": "skip",
         "marker": {
          "color": "rgb(175,122,197)"
         },
         "orientation": "h",
         "text": [
          "climate_change",
          "economy",
          "global_warming",
          "oil",
          "pollution",
          "mine_workers",
          "jobs",
          "energy"
         ],
         "textposition": "outside",
         "type": "bar",
         "visible": false,
         "x": [
          0.12548962235450745,
          0.14899250864982605,
          0.15014560520648956,
          0.15877163410186768,
          0.16150754690170288,
          0.16555562615394592,
          0.17726898193359375,
          0.1946505308151245
         ],
         "y0": 0.529
        },
        {
         "base": -0.3,
         "dy": 0.214,
         "hoverinfo": "skip",
         "marker": {
          "color": "rgb(175,122,197)"
         },
         "orientation": "h",
         "text": [
          "climate_change",
          "global_warming",
          "economy",
          "pollution",
          "oil",
          "mine_workers",
          "jobs",
          "energy"
         ],
         "textposition": "outside",
         "type": "bar",
         "visible": false,
         "x": [
          0.12227766215801239,
          0.14721335470676422,
          0.1558966040611267,
          0.1586475372314453,
          0.16431935131549835,
          0.17188213765621185,
          0.18233142793178558,
          0.19877967238426208
         ],
         "y0": 0.529
        },
        {
         "base": -0.3,
         "dy": 0.214,
         "hoverinfo": "skip",
         "marker": {
          "color": "rgb(175,122,197)"
         },
         "orientation": "h",
         "text": [
          "climate_change",
          "global_warming",
          "pollution",
          "economy",
          "oil",
          "mine_workers",
          "jobs",
          "energy"
         ],
         "textposition": "outside",
         "type": "bar",
         "visible": false,
         "x": [
          0.11917166411876678,
          0.14437197148799896,
          0.15587104856967926,
          0.16316474974155426,
          0.17010347545146942,
          0.17849154770374298,
          0.18757358193397522,
          0.2030327171087265
         ],
         "y0": 0.529
        },
        {
         "base": -0.3,
         "dy": 0.214,
         "hoverinfo": "skip",
         "marker": {
          "color": "rgb(175,122,197)"
         },
         "orientation": "h",
         "text": [
          "production",
          "global_warming",
          "pollution",
          "economy",
          "oil",
          "mine_workers",
          "jobs",
          "energy"
         ],
         "textposition": "outside",
         "type": "bar",
         "visible": false,
         "x": [
          0.11899033188819885,
          0.14161838591098785,
          0.1531754732131958,
          0.17081795632839203,
          0.17613528668880463,
          0.18539784848690033,
          0.19300253689289093,
          0.20741386711597443
         ],
         "y0": 0.529
        },
        {
         "base": -0.3,
         "dy": 0.214,
         "hoverinfo": "skip",
         "marker": {
          "color": "rgb(175,122,197)"
         },
         "orientation": "h",
         "text": [
          "production",
          "global_warming",
          "pollution",
          "economy",
          "oil",
          "mine_workers",
          "jobs",
          "energy"
         ],
         "textposition": "outside",
         "type": "bar",
         "visible": false,
         "x": [
          0.1287364810705185,
          0.1389496624469757,
          0.15055827796459198,
          0.178878515958786,
          0.1824266016483307,
          0.1926158219575882,
          0.1986258327960968,
          0.21192747354507446
         ],
         "y0": 0.529
        },
        {
         "base": -0.3,
         "dy": 0.214,
         "hoverinfo": "skip",
         "marker": {
          "color": "rgb(175,122,197)"
         },
         "orientation": "h",
         "text": [
          "global_warming",
          "production",
          "pollution",
          "economy",
          "oil",
          "mine_workers",
          "jobs",
          "energy"
         ],
         "textposition": "outside",
         "type": "bar",
         "visible": false,
         "x": [
          0.1363629698753357,
          0.1393318474292755,
          0.148017019033432,
          0.18737010657787323,
          0.18898992240428925,
          0.2001609206199646,
          0.20445123314857483,
          0.21657809615135193
         ],
         "y0": 0.529
        },
        {
         "base": -0.3,
         "dy": 0.214,
         "hoverinfo": "skip",
         "marker": {
          "color": "rgb(175,122,197)"
         },
         "orientation": "h",
         "text": [
          "hoax",
          "pollution",
          "production",
          "oil",
          "economy",
          "mine_workers",
          "jobs",
          "energy"
         ],
         "textposition": "outside",
         "type": "bar",
         "visible": false,
         "x": [
          0.14301472902297974,
          0.14554935693740845,
          0.15085437893867493,
          0.19583837687969208,
          0.1963178962469101,
          0.20804958045482635,
          0.21048688888549805,
          0.2213703840970993
         ],
         "y0": 0.529
        },
        {
         "base": -0.3,
         "dy": 0.214,
         "hoverinfo": "skip",
         "marker": {
          "color": "rgb(175,122,197)"
         },
         "orientation": "h",
         "text": [
          "coal",
          "hoax",
          "production",
          "oil",
          "economy",
          "mine_workers",
          "jobs",
          "energy"
         ],
         "textposition": "outside",
         "type": "bar",
         "visible": false,
         "x": [
          0.15236692130565643,
          0.1542789489030838,
          0.16338956356048584,
          0.20298582315444946,
          0.20574861764907837,
          0.21629901230335236,
          0.21674132347106934,
          0.22630922496318817
         ],
         "y0": 0.529
        },
        {
         "base": -0.3,
         "dy": 0.214,
         "hoverinfo": "skip",
         "marker": {
          "color": "rgb(175,122,197)"
         },
         "orientation": "h",
         "text": [
          "coal",
          "hoax",
          "production",
          "oil",
          "economy",
          "jobs",
          "mine_workers",
          "energy"
         ],
         "textposition": "outside",
         "type": "bar",
         "visible": false,
         "x": [
          0.16443057358264923,
          0.16647838056087494,
          0.1770310252904892,
          0.21044671535491943,
          0.2156907320022583,
          0.22322334349155426,
          0.22492742538452148,
          0.23139968514442444
         ],
         "y0": 0.529
        },
        {
         "base": -0.3,
         "dy": 0.214,
         "hoverinfo": "skip",
         "marker": {
          "color": "rgb(175,122,197)"
         },
         "orientation": "h",
         "text": [
          "coal",
          "hoax",
          "production",
          "oil",
          "economy",
          "jobs",
          "mine_workers",
          "energy"
         ],
         "textposition": "outside",
         "type": "bar",
         "visible": false,
         "x": [
          0.17750582098960876,
          0.179694265127182,
          0.19188159704208374,
          0.21823650598526,
          0.22617442905902863,
          0.22994229197502136,
          0.23395395278930664,
          0.23664695024490356
         ],
         "y0": 0.529
        },
        {
         "base": -0.3,
         "dy": 0.214,
         "hoverinfo": "skip",
         "marker": {
          "color": "rgb(175,122,197)"
         },
         "orientation": "h",
         "text": [
          "coal",
          "hoax",
          "production",
          "oil",
          "jobs",
          "economy",
          "energy",
          "mine_workers"
         ],
         "textposition": "outside",
         "type": "bar",
         "visible": false,
         "x": [
          0.19168169796466827,
          0.194015234708786,
          0.20805394649505615,
          0.22637121379375458,
          0.23690783977508545,
          0.23723183572292328,
          0.24205651879310608,
          0.24339886009693146
         ],
         "y0": 0.529
        },
        {
         "base": -0.3,
         "dy": 0.214,
         "hoverinfo": "skip",
         "marker": {
          "color": "rgb(175,122,197)"
         },
         "orientation": "h",
         "text": [
          "coal",
          "hoax",
          "production",
          "oil",
          "jobs",
          "energy",
          "economy",
          "mine_workers"
         ],
         "textposition": "outside",
         "type": "bar",
         "visible": false,
         "x": [
          0.20705556869506836,
          0.20953796803951263,
          0.2256719022989273,
          0.23486793041229248,
          0.24413006007671356,
          0.24763411283493042,
          0.24889713525772095,
          0.25328344106674194
         ],
         "y0": 0.529
        },
        {
         "base": -0.3,
         "dy": 0.214,
         "hoverinfo": "skip",
         "marker": {
          "color": "rgb(175,122,197)"
         },
         "orientation": "h",
         "text": [
          "coal",
          "hoax",
          "oil",
          "production",
          "jobs",
          "energy",
          "economy",
          "mine_workers"
         ],
         "textposition": "outside",
         "type": "bar",
         "visible": false,
         "x": [
          0.22373363375663757,
          0.22636789083480835,
          0.24374456703662872,
          0.24487125873565674,
          0.2516195774078369,
          0.2533855438232422,
          0.2612066864967346,
          0.26363030076026917
         ],
         "y0": 0.529
        },
        {
         "base": -0.3,
         "dy": 0.214,
         "hoverinfo": "skip",
         "marker": {
          "color": "rgb(175,122,197)"
         },
         "orientation": "h",
         "text": [
          "coal",
          "hoax",
          "oil",
          "energy",
          "jobs",
          "production",
          "economy",
          "mine_workers"
         ],
         "textposition": "outside",
         "type": "bar",
         "visible": false,
         "x": [
          0.24183198809623718,
          0.24462012946605682,
          0.2530199885368347,
          0.25931698083877563,
          0.25938743352890015,
          0.26580119132995605,
          0.2741992175579071,
          0.27446305751800537
         ],
         "y0": 0.529
        },
        {
         "base": -0.3,
         "dy": 0.214,
         "hoverinfo": "skip",
         "marker": {
          "color": "rgb(175,122,197)"
         },
         "orientation": "h",
         "text": [
          "coal",
          "oil",
          "hoax",
          "energy",
          "jobs",
          "mine_workers",
          "economy",
          "production"
         ],
         "textposition": "outside",
         "type": "bar",
         "visible": false,
         "x": [
          0.2614775598049164,
          0.26271408796310425,
          0.2644202709197998,
          0.26543474197387695,
          0.2674451768398285,
          0.28580689430236816,
          0.28791582584381104,
          0.2886255383491516
         ],
         "y0": 0.529
        },
        {
         "base": -0.3,
         "dy": 0.214,
         "hoverinfo": "skip",
         "marker": {
          "color": "rgb(175,122,197)"
         },
         "orientation": "h",
         "text": [
          "oil",
          "jobs",
          "govt_overreach",
          "coal",
          "hoax",
          "mine_workers",
          "economy",
          "production"
         ],
         "textposition": "outside",
         "type": "bar",
         "visible": false,
         "x": [
          0.27284783124923706,
          0.2758048176765442,
          0.2826650142669678,
          0.28280889987945557,
          0.28590553998947144,
          0.29768818616867065,
          0.3024004101753235,
          0.313524454832077
         ],
         "y0": 0.529
        },
        {
         "base": -0.3,
         "dy": 0.214,
         "hoverinfo": "skip",
         "marker": {
          "color": "rgb(175,122,197)"
         },
         "orientation": "h",
         "text": [
          "oil",
          "jobs",
          "coal",
          "govt_overreach",
          "hoax",
          "mine_workers",
          "economy",
          "production"
         ],
         "textposition": "outside",
         "type": "bar",
         "visible": false,
         "x": [
          0.2834434509277344,
          0.284479022026062,
          0.30597782135009766,
          0.30611899495124817,
          0.30922573804855347,
          0.3101349174976349,
          0.3176996111869812,
          0.34069597721099854
         ],
         "y0": 0.529
        },
        {
         "base": -0.3,
         "dy": 0.214,
         "hoverinfo": "skip",
         "marker": {
          "color": "rgb(175,122,197)"
         },
         "orientation": "h",
         "text": [
          "jobs",
          "oil",
          "mine_workers",
          "coal",
          "govt_overreach",
          "economy",
          "hoax",
          "production"
         ],
         "textposition": "outside",
         "type": "bar",
         "visible": false,
         "x": [
          0.2934809923171997,
          0.2945241928100586,
          0.32317662239074707,
          0.3311501443386078,
          0.3316320776939392,
          0.33386313915252686,
          0.33454450964927673,
          0.37035757303237915
         ],
         "y0": 0.529
        },
        {
         "base": -0.3,
         "dy": 0.214,
         "hoverinfo": "skip",
         "marker": {
          "color": "rgb(175,122,197)"
         },
         "orientation": "h",
         "text": [
          "oil",
          "china",
          "mine_workers",
          "economy",
          "coal",
          "govt_overreach",
          "hoax",
          "production"
         ],
         "textposition": "outside",
         "type": "bar",
         "visible": false,
         "x": [
          0.30611473321914673,
          0.3123510479927063,
          0.33684444427490234,
          0.350943922996521,
          0.35850727558135986,
          0.35939401388168335,
          0.3620407283306122,
          0.40274882316589355
         ],
         "y0": 0.529
        },
        {
         "base": -0.3,
         "dy": 0.214,
         "hoverinfo": "skip",
         "marker": {
          "color": "rgb(175,122,197)"
         },
         "orientation": "h",
         "text": [
          "oil",
          "china",
          "mine_workers",
          "economy",
          "coal",
          "govt_overreach",
          "hoax",
          "production"
         ],
         "textposition": "outside",
         "type": "bar",
         "visible": false,
         "x": [
          0.3182410001754761,
          0.33687323331832886,
          0.3511711359024048,
          0.36899834871292114,
          0.3882479965686798,
          0.3896128535270691,
          0.3919098973274231,
          0.438133180141449
         ],
         "y0": 0.529
        }
       ],
       "layout": {
        "annotations": [
         {
          "font": {
           "size": 14
          },
          "showarrow": false,
          "text": "Move slider to change ideal point",
          "x": 0.5,
          "xref": "paper",
          "y": 0.255,
          "yref": "paper"
         }
        ],
        "paper_bgcolor": "rgba(0,0,0,0)",
        "plot_bgcolor": "rgba(0,0,0,0)",
        "showlegend": false,
        "sliders": [
         {
          "active": 21,
          "currentvalue": {
           "prefix": "Ideal Point: "
          },
          "steps": [
           {
            "args": [
             {
              "visible": [
               true,
               true,
               true,
               false,
               false,
               false,
               false,
               false,
               false,
               false,
               false,
               false,
               false,
               false,
               false,
               false,
               false,
               false,
               false,
               false,
               false,
               false,
               false,
               false,
               false,
               false,
               false,
               false,
               false,
               false,
               false,
               false,
               false,
               false,
               false,
               false,
               false,
               false,
               false,
               false,
               false,
               false,
               false,
               false,
               false
              ]
             }
            ],
            "label": "-1.06",
            "method": "update"
           },
           {
            "args": [
             {
              "visible": [
               true,
               true,
               false,
               true,
               false,
               false,
               false,
               false,
               false,
               false,
               false,
               false,
               false,
               false,
               false,
               false,
               false,
               false,
               false,
               false,
               false,
               false,
               false,
               false,
               false,
               false,
               false,
               false,
               false,
               false,
               false,
               false,
               false,
               false,
               false,
               false,
               false,
               false,
               false,
               false,
               false,
               false,
               false,
               false,
               false
              ]
             }
            ],
            "label": "-1.01",
            "method": "update"
           },
           {
            "args": [
             {
              "visible": [
               true,
               true,
               false,
               false,
               true,
               false,
               false,
               false,
               false,
               false,
               false,
               false,
               false,
               false,
               false,
               false,
               false,
               false,
               false,
               false,
               false,
               false,
               false,
               false,
               false,
               false,
               false,
               false,
               false,
               false,
               false,
               false,
               false,
               false,
               false,
               false,
               false,
               false,
               false,
               false,
               false,
               false,
               false,
               false,
               false
              ]
             }
            ],
            "label": "-0.96",
            "method": "update"
           },
           {
            "args": [
             {
              "visible": [
               true,
               true,
               false,
               false,
               false,
               true,
               false,
               false,
               false,
               false,
               false,
               false,
               false,
               false,
               false,
               false,
               false,
               false,
               false,
               false,
               false,
               false,
               false,
               false,
               false,
               false,
               false,
               false,
               false,
               false,
               false,
               false,
               false,
               false,
               false,
               false,
               false,
               false,
               false,
               false,
               false,
               false,
               false,
               false,
               false
              ]
             }
            ],
            "label": "-0.91",
            "method": "update"
           },
           {
            "args": [
             {
              "visible": [
               true,
               true,
               false,
               false,
               false,
               false,
               true,
               false,
               false,
               false,
               false,
               false,
               false,
               false,
               false,
               false,
               false,
               false,
               false,
               false,
               false,
               false,
               false,
               false,
               false,
               false,
               false,
               false,
               false,
               false,
               false,
               false,
               false,
               false,
               false,
               false,
               false,
               false,
               false,
               false,
               false,
               false,
               false,
               false,
               false
              ]
             }
            ],
            "label": "-0.86",
            "method": "update"
           },
           {
            "args": [
             {
              "visible": [
               true,
               true,
               false,
               false,
               false,
               false,
               false,
               true,
               false,
               false,
               false,
               false,
               false,
               false,
               false,
               false,
               false,
               false,
               false,
               false,
               false,
               false,
               false,
               false,
               false,
               false,
               false,
               false,
               false,
               false,
               false,
               false,
               false,
               false,
               false,
               false,
               false,
               false,
               false,
               false,
               false,
               false,
               false,
               false,
               false
              ]
             }
            ],
            "label": "-0.81",
            "method": "update"
           },
           {
            "args": [
             {
              "visible": [
               true,
               true,
               false,
               false,
               false,
               false,
               false,
               false,
               true,
               false,
               false,
               false,
               false,
               false,
               false,
               false,
               false,
               false,
               false,
               false,
               false,
               false,
               false,
               false,
               false,
               false,
               false,
               false,
               false,
               false,
               false,
               false,
               false,
               false,
               false,
               false,
               false,
               false,
               false,
               false,
               false,
               false,
               false,
               false,
               false
              ]
             }
            ],
            "label": "-0.76",
            "method": "update"
           },
           {
            "args": [
             {
              "visible": [
               true,
               true,
               false,
               false,
               false,
               false,
               false,
               false,
               false,
               true,
               false,
               false,
               false,
               false,
               false,
               false,
               false,
               false,
               false,
               false,
               false,
               false,
               false,
               false,
               false,
               false,
               false,
               false,
               false,
               false,
               false,
               false,
               false,
               false,
               false,
               false,
               false,
               false,
               false,
               false,
               false,
               false,
               false,
               false,
               false
              ]
             }
            ],
            "label": "-0.71",
            "method": "update"
           },
           {
            "args": [
             {
              "visible": [
               true,
               true,
               false,
               false,
               false,
               false,
               false,
               false,
               false,
               false,
               true,
               false,
               false,
               false,
               false,
               false,
               false,
               false,
               false,
               false,
               false,
               false,
               false,
               false,
               false,
               false,
               false,
               false,
               false,
               false,
               false,
               false,
               false,
               false,
               false,
               false,
               false,
               false,
               false,
               false,
               false,
               false,
               false,
               false,
               false
              ]
             }
            ],
            "label": "-0.66",
            "method": "update"
           },
           {
            "args": [
             {
              "visible": [
               true,
               true,
               false,
               false,
               false,
               false,
               false,
               false,
               false,
               false,
               false,
               true,
               false,
               false,
               false,
               false,
               false,
               false,
               false,
               false,
               false,
               false,
               false,
               false,
               false,
               false,
               false,
               false,
               false,
               false,
               false,
               false,
               false,
               false,
               false,
               false,
               false,
               false,
               false,
               false,
               false,
               false,
               false,
               false,
               false
              ]
             }
            ],
            "label": "-0.61",
            "method": "update"
           },
           {
            "args": [
             {
              "visible": [
               true,
               true,
               false,
               false,
               false,
               false,
               false,
               false,
               false,
               false,
               false,
               false,
               true,
               false,
               false,
               false,
               false,
               false,
               false,
               false,
               false,
               false,
               false,
               false,
               false,
               false,
               false,
               false,
               false,
               false,
               false,
               false,
               false,
               false,
               false,
               false,
               false,
               false,
               false,
               false,
               false,
               false,
               false,
               false,
               false
              ]
             }
            ],
            "label": "-0.56",
            "method": "update"
           },
           {
            "args": [
             {
              "visible": [
               true,
               true,
               false,
               false,
               false,
               false,
               false,
               false,
               false,
               false,
               false,
               false,
               false,
               true,
               false,
               false,
               false,
               false,
               false,
               false,
               false,
               false,
               false,
               false,
               false,
               false,
               false,
               false,
               false,
               false,
               false,
               false,
               false,
               false,
               false,
               false,
               false,
               false,
               false,
               false,
               false,
               false,
               false,
               false,
               false
              ]
             }
            ],
            "label": "-0.51",
            "method": "update"
           },
           {
            "args": [
             {
              "visible": [
               true,
               true,
               false,
               false,
               false,
               false,
               false,
               false,
               false,
               false,
               false,
               false,
               false,
               false,
               true,
               false,
               false,
               false,
               false,
               false,
               false,
               false,
               false,
               false,
               false,
               false,
               false,
               false,
               false,
               false,
               false,
               false,
               false,
               false,
               false,
               false,
               false,
               false,
               false,
               false,
               false,
               false,
               false,
               false,
               false
              ]
             }
            ],
            "label": "-0.46",
            "method": "update"
           },
           {
            "args": [
             {
              "visible": [
               true,
               true,
               false,
               false,
               false,
               false,
               false,
               false,
               false,
               false,
               false,
               false,
               false,
               false,
               false,
               true,
               false,
               false,
               false,
               false,
               false,
               false,
               false,
               false,
               false,
               false,
               false,
               false,
               false,
               false,
               false,
               false,
               false,
               false,
               false,
               false,
               false,
               false,
               false,
               false,
               false,
               false,
               false,
               false,
               false
              ]
             }
            ],
            "label": "-0.41",
            "method": "update"
           },
           {
            "args": [
             {
              "visible": [
               true,
               true,
               false,
               false,
               false,
               false,
               false,
               false,
               false,
               false,
               false,
               false,
               false,
               false,
               false,
               false,
               true,
               false,
               false,
               false,
               false,
               false,
               false,
               false,
               false,
               false,
               false,
               false,
               false,
               false,
               false,
               false,
               false,
               false,
               false,
               false,
               false,
               false,
               false,
               false,
               false,
               false,
               false,
               false,
               false
              ]
             }
            ],
            "label": "-0.36",
            "method": "update"
           },
           {
            "args": [
             {
              "visible": [
               true,
               true,
               false,
               false,
               false,
               false,
               false,
               false,
               false,
               false,
               false,
               false,
               false,
               false,
               false,
               false,
               false,
               true,
               false,
               false,
               false,
               false,
               false,
               false,
               false,
               false,
               false,
               false,
               false,
               false,
               false,
               false,
               false,
               false,
               false,
               false,
               false,
               false,
               false,
               false,
               false,
               false,
               false,
               false,
               false
              ]
             }
            ],
            "label": "-0.31",
            "method": "update"
           },
           {
            "args": [
             {
              "visible": [
               true,
               true,
               false,
               false,
               false,
               false,
               false,
               false,
               false,
               false,
               false,
               false,
               false,
               false,
               false,
               false,
               false,
               false,
               true,
               false,
               false,
               false,
               false,
               false,
               false,
               false,
               false,
               false,
               false,
               false,
               false,
               false,
               false,
               false,
               false,
               false,
               false,
               false,
               false,
               false,
               false,
               false,
               false,
               false,
               false
              ]
             }
            ],
            "label": "-0.26",
            "method": "update"
           },
           {
            "args": [
             {
              "visible": [
               true,
               true,
               false,
               false,
               false,
               false,
               false,
               false,
               false,
               false,
               false,
               false,
               false,
               false,
               false,
               false,
               false,
               false,
               false,
               true,
               false,
               false,
               false,
               false,
               false,
               false,
               false,
               false,
               false,
               false,
               false,
               false,
               false,
               false,
               false,
               false,
               false,
               false,
               false,
               false,
               false,
               false,
               false,
               false,
               false
              ]
             }
            ],
            "label": "-0.21",
            "method": "update"
           },
           {
            "args": [
             {
              "visible": [
               true,
               true,
               false,
               false,
               false,
               false,
               false,
               false,
               false,
               false,
               false,
               false,
               false,
               false,
               false,
               false,
               false,
               false,
               false,
               false,
               true,
               false,
               false,
               false,
               false,
               false,
               false,
               false,
               false,
               false,
               false,
               false,
               false,
               false,
               false,
               false,
               false,
               false,
               false,
               false,
               false,
               false,
               false,
               false,
               false
              ]
             }
            ],
            "label": "-0.16",
            "method": "update"
           },
           {
            "args": [
             {
              "visible": [
               true,
               true,
               false,
               false,
               false,
               false,
               false,
               false,
               false,
               false,
               false,
               false,
               false,
               false,
               false,
               false,
               false,
               false,
               false,
               false,
               false,
               true,
               false,
               false,
               false,
               false,
               false,
               false,
               false,
               false,
               false,
               false,
               false,
               false,
               false,
               false,
               false,
               false,
               false,
               false,
               false,
               false,
               false,
               false,
               false
              ]
             }
            ],
            "label": "-0.11",
            "method": "update"
           },
           {
            "args": [
             {
              "visible": [
               true,
               true,
               false,
               false,
               false,
               false,
               false,
               false,
               false,
               false,
               false,
               false,
               false,
               false,
               false,
               false,
               false,
               false,
               false,
               false,
               false,
               false,
               true,
               false,
               false,
               false,
               false,
               false,
               false,
               false,
               false,
               false,
               false,
               false,
               false,
               false,
               false,
               false,
               false,
               false,
               false,
               false,
               false,
               false,
               false
              ]
             }
            ],
            "label": "-0.06",
            "method": "update"
           },
           {
            "args": [
             {
              "visible": [
               true,
               true,
               false,
               false,
               false,
               false,
               false,
               false,
               false,
               false,
               false,
               false,
               false,
               false,
               false,
               false,
               false,
               false,
               false,
               false,
               false,
               false,
               false,
               true,
               false,
               false,
               false,
               false,
               false,
               false,
               false,
               false,
               false,
               false,
               false,
               false,
               false,
               false,
               false,
               false,
               false,
               false,
               false,
               false,
               false
              ]
             }
            ],
            "label": "-0.01",
            "method": "update"
           },
           {
            "args": [
             {
              "visible": [
               true,
               true,
               false,
               false,
               false,
               false,
               false,
               false,
               false,
               false,
               false,
               false,
               false,
               false,
               false,
               false,
               false,
               false,
               false,
               false,
               false,
               false,
               false,
               false,
               true,
               false,
               false,
               false,
               false,
               false,
               false,
               false,
               false,
               false,
               false,
               false,
               false,
               false,
               false,
               false,
               false,
               false,
               false,
               false,
               false
              ]
             }
            ],
            "label": "0.04",
            "method": "update"
           },
           {
            "args": [
             {
              "visible": [
               true,
               true,
               false,
               false,
               false,
               false,
               false,
               false,
               false,
               false,
               false,
               false,
               false,
               false,
               false,
               false,
               false,
               false,
               false,
               false,
               false,
               false,
               false,
               false,
               false,
               true,
               false,
               false,
               false,
               false,
               false,
               false,
               false,
               false,
               false,
               false,
               false,
               false,
               false,
               false,
               false,
               false,
               false,
               false,
               false
              ]
             }
            ],
            "label": "0.09",
            "method": "update"
           },
           {
            "args": [
             {
              "visible": [
               true,
               true,
               false,
               false,
               false,
               false,
               false,
               false,
               false,
               false,
               false,
               false,
               false,
               false,
               false,
               false,
               false,
               false,
               false,
               false,
               false,
               false,
               false,
               false,
               false,
               false,
               true,
               false,
               false,
               false,
               false,
               false,
               false,
               false,
               false,
               false,
               false,
               false,
               false,
               false,
               false,
               false,
               false,
               false,
               false
              ]
             }
            ],
            "label": "0.14",
            "method": "update"
           },
           {
            "args": [
             {
              "visible": [
               true,
               true,
               false,
               false,
               false,
               false,
               false,
               false,
               false,
               false,
               false,
               false,
               false,
               false,
               false,
               false,
               false,
               false,
               false,
               false,
               false,
               false,
               false,
               false,
               false,
               false,
               false,
               true,
               false,
               false,
               false,
               false,
               false,
               false,
               false,
               false,
               false,
               false,
               false,
               false,
               false,
               false,
               false,
               false,
               false
              ]
             }
            ],
            "label": "0.19",
            "method": "update"
           },
           {
            "args": [
             {
              "visible": [
               true,
               true,
               false,
               false,
               false,
               false,
               false,
               false,
               false,
               false,
               false,
               false,
               false,
               false,
               false,
               false,
               false,
               false,
               false,
               false,
               false,
               false,
               false,
               false,
               false,
               false,
               false,
               false,
               true,
               false,
               false,
               false,
               false,
               false,
               false,
               false,
               false,
               false,
               false,
               false,
               false,
               false,
               false,
               false,
               false
              ]
             }
            ],
            "label": "0.24",
            "method": "update"
           },
           {
            "args": [
             {
              "visible": [
               true,
               true,
               false,
               false,
               false,
               false,
               false,
               false,
               false,
               false,
               false,
               false,
               false,
               false,
               false,
               false,
               false,
               false,
               false,
               false,
               false,
               false,
               false,
               false,
               false,
               false,
               false,
               false,
               false,
               true,
               false,
               false,
               false,
               false,
               false,
               false,
               false,
               false,
               false,
               false,
               false,
               false,
               false,
               false,
               false
              ]
             }
            ],
            "label": "0.29",
            "method": "update"
           },
           {
            "args": [
             {
              "visible": [
               true,
               true,
               false,
               false,
               false,
               false,
               false,
               false,
               false,
               false,
               false,
               false,
               false,
               false,
               false,
               false,
               false,
               false,
               false,
               false,
               false,
               false,
               false,
               false,
               false,
               false,
               false,
               false,
               false,
               false,
               true,
               false,
               false,
               false,
               false,
               false,
               false,
               false,
               false,
               false,
               false,
               false,
               false,
               false,
               false
              ]
             }
            ],
            "label": "0.34",
            "method": "update"
           },
           {
            "args": [
             {
              "visible": [
               true,
               true,
               false,
               false,
               false,
               false,
               false,
               false,
               false,
               false,
               false,
               false,
               false,
               false,
               false,
               false,
               false,
               false,
               false,
               false,
               false,
               false,
               false,
               false,
               false,
               false,
               false,
               false,
               false,
               false,
               false,
               true,
               false,
               false,
               false,
               false,
               false,
               false,
               false,
               false,
               false,
               false,
               false,
               false,
               false
              ]
             }
            ],
            "label": "0.39",
            "method": "update"
           },
           {
            "args": [
             {
              "visible": [
               true,
               true,
               false,
               false,
               false,
               false,
               false,
               false,
               false,
               false,
               false,
               false,
               false,
               false,
               false,
               false,
               false,
               false,
               false,
               false,
               false,
               false,
               false,
               false,
               false,
               false,
               false,
               false,
               false,
               false,
               false,
               false,
               true,
               false,
               false,
               false,
               false,
               false,
               false,
               false,
               false,
               false,
               false,
               false,
               false
              ]
             }
            ],
            "label": "0.44",
            "method": "update"
           },
           {
            "args": [
             {
              "visible": [
               true,
               true,
               false,
               false,
               false,
               false,
               false,
               false,
               false,
               false,
               false,
               false,
               false,
               false,
               false,
               false,
               false,
               false,
               false,
               false,
               false,
               false,
               false,
               false,
               false,
               false,
               false,
               false,
               false,
               false,
               false,
               false,
               false,
               true,
               false,
               false,
               false,
               false,
               false,
               false,
               false,
               false,
               false,
               false,
               false
              ]
             }
            ],
            "label": "0.49",
            "method": "update"
           },
           {
            "args": [
             {
              "visible": [
               true,
               true,
               false,
               false,
               false,
               false,
               false,
               false,
               false,
               false,
               false,
               false,
               false,
               false,
               false,
               false,
               false,
               false,
               false,
               false,
               false,
               false,
               false,
               false,
               false,
               false,
               false,
               false,
               false,
               false,
               false,
               false,
               false,
               false,
               true,
               false,
               false,
               false,
               false,
               false,
               false,
               false,
               false,
               false,
               false
              ]
             }
            ],
            "label": "0.54",
            "method": "update"
           },
           {
            "args": [
             {
              "visible": [
               true,
               true,
               false,
               false,
               false,
               false,
               false,
               false,
               false,
               false,
               false,
               false,
               false,
               false,
               false,
               false,
               false,
               false,
               false,
               false,
               false,
               false,
               false,
               false,
               false,
               false,
               false,
               false,
               false,
               false,
               false,
               false,
               false,
               false,
               false,
               true,
               false,
               false,
               false,
               false,
               false,
               false,
               false,
               false,
               false
              ]
             }
            ],
            "label": "0.59",
            "method": "update"
           },
           {
            "args": [
             {
              "visible": [
               true,
               true,
               false,
               false,
               false,
               false,
               false,
               false,
               false,
               false,
               false,
               false,
               false,
               false,
               false,
               false,
               false,
               false,
               false,
               false,
               false,
               false,
               false,
               false,
               false,
               false,
               false,
               false,
               false,
               false,
               false,
               false,
               false,
               false,
               false,
               false,
               true,
               false,
               false,
               false,
               false,
               false,
               false,
               false,
               false
              ]
             }
            ],
            "label": "0.64",
            "method": "update"
           },
           {
            "args": [
             {
              "visible": [
               true,
               true,
               false,
               false,
               false,
               false,
               false,
               false,
               false,
               false,
               false,
               false,
               false,
               false,
               false,
               false,
               false,
               false,
               false,
               false,
               false,
               false,
               false,
               false,
               false,
               false,
               false,
               false,
               false,
               false,
               false,
               false,
               false,
               false,
               false,
               false,
               false,
               true,
               false,
               false,
               false,
               false,
               false,
               false,
               false
              ]
             }
            ],
            "label": "0.69",
            "method": "update"
           },
           {
            "args": [
             {
              "visible": [
               true,
               true,
               false,
               false,
               false,
               false,
               false,
               false,
               false,
               false,
               false,
               false,
               false,
               false,
               false,
               false,
               false,
               false,
               false,
               false,
               false,
               false,
               false,
               false,
               false,
               false,
               false,
               false,
               false,
               false,
               false,
               false,
               false,
               false,
               false,
               false,
               false,
               false,
               true,
               false,
               false,
               false,
               false,
               false,
               false
              ]
             }
            ],
            "label": "0.74",
            "method": "update"
           },
           {
            "args": [
             {
              "visible": [
               true,
               true,
               false,
               false,
               false,
               false,
               false,
               false,
               false,
               false,
               false,
               false,
               false,
               false,
               false,
               false,
               false,
               false,
               false,
               false,
               false,
               false,
               false,
               false,
               false,
               false,
               false,
               false,
               false,
               false,
               false,
               false,
               false,
               false,
               false,
               false,
               false,
               false,
               false,
               true,
               false,
               false,
               false,
               false,
               false
              ]
             }
            ],
            "label": "0.79",
            "method": "update"
           },
           {
            "args": [
             {
              "visible": [
               true,
               true,
               false,
               false,
               false,
               false,
               false,
               false,
               false,
               false,
               false,
               false,
               false,
               false,
               false,
               false,
               false,
               false,
               false,
               false,
               false,
               false,
               false,
               false,
               false,
               false,
               false,
               false,
               false,
               false,
               false,
               false,
               false,
               false,
               false,
               false,
               false,
               false,
               false,
               false,
               true,
               false,
               false,
               false,
               false
              ]
             }
            ],
            "label": "0.84",
            "method": "update"
           },
           {
            "args": [
             {
              "visible": [
               true,
               true,
               false,
               false,
               false,
               false,
               false,
               false,
               false,
               false,
               false,
               false,
               false,
               false,
               false,
               false,
               false,
               false,
               false,
               false,
               false,
               false,
               false,
               false,
               false,
               false,
               false,
               false,
               false,
               false,
               false,
               false,
               false,
               false,
               false,
               false,
               false,
               false,
               false,
               false,
               false,
               true,
               false,
               false,
               false
              ]
             }
            ],
            "label": "0.89",
            "method": "update"
           },
           {
            "args": [
             {
              "visible": [
               true,
               true,
               false,
               false,
               false,
               false,
               false,
               false,
               false,
               false,
               false,
               false,
               false,
               false,
               false,
               false,
               false,
               false,
               false,
               false,
               false,
               false,
               false,
               false,
               false,
               false,
               false,
               false,
               false,
               false,
               false,
               false,
               false,
               false,
               false,
               false,
               false,
               false,
               false,
               false,
               false,
               false,
               true,
               false,
               false
              ]
             }
            ],
            "label": "0.94",
            "method": "update"
           },
           {
            "args": [
             {
              "visible": [
               true,
               true,
               false,
               false,
               false,
               false,
               false,
               false,
               false,
               false,
               false,
               false,
               false,
               false,
               false,
               false,
               false,
               false,
               false,
               false,
               false,
               false,
               false,
               false,
               false,
               false,
               false,
               false,
               false,
               false,
               false,
               false,
               false,
               false,
               false,
               false,
               false,
               false,
               false,
               false,
               false,
               false,
               false,
               true,
               false
              ]
             }
            ],
            "label": "0.99",
            "method": "update"
           },
           {
            "args": [
             {
              "visible": [
               true,
               true,
               false,
               false,
               false,
               false,
               false,
               false,
               false,
               false,
               false,
               false,
               false,
               false,
               false,
               false,
               false,
               false,
               false,
               false,
               false,
               false,
               false,
               false,
               false,
               false,
               false,
               false,
               false,
               false,
               false,
               false,
               false,
               false,
               false,
               false,
               false,
               false,
               false,
               false,
               false,
               false,
               false,
               false,
               true
              ]
             }
            ],
            "label": "1.04",
            "method": "update"
           }
          ],
          "y": 0.35
         }
        ],
        "template": {
         "data": {
          "bar": [
           {
            "error_x": {
             "color": "#2a3f5f"
            },
            "error_y": {
             "color": "#2a3f5f"
            },
            "marker": {
             "line": {
              "color": "#E5ECF6",
              "width": 0.5
             }
            },
            "type": "bar"
           }
          ],
          "barpolar": [
           {
            "marker": {
             "line": {
              "color": "#E5ECF6",
              "width": 0.5
             }
            },
            "type": "barpolar"
           }
          ],
          "carpet": [
           {
            "aaxis": {
             "endlinecolor": "#2a3f5f",
             "gridcolor": "white",
             "linecolor": "white",
             "minorgridcolor": "white",
             "startlinecolor": "#2a3f5f"
            },
            "baxis": {
             "endlinecolor": "#2a3f5f",
             "gridcolor": "white",
             "linecolor": "white",
             "minorgridcolor": "white",
             "startlinecolor": "#2a3f5f"
            },
            "type": "carpet"
           }
          ],
          "choropleth": [
           {
            "colorbar": {
             "outlinewidth": 0,
             "ticks": ""
            },
            "type": "choropleth"
           }
          ],
          "contour": [
           {
            "colorbar": {
             "outlinewidth": 0,
             "ticks": ""
            },
            "colorscale": [
             [
              0,
              "#0d0887"
             ],
             [
              0.1111111111111111,
              "#46039f"
             ],
             [
              0.2222222222222222,
              "#7201a8"
             ],
             [
              0.3333333333333333,
              "#9c179e"
             ],
             [
              0.4444444444444444,
              "#bd3786"
             ],
             [
              0.5555555555555556,
              "#d8576b"
             ],
             [
              0.6666666666666666,
              "#ed7953"
             ],
             [
              0.7777777777777778,
              "#fb9f3a"
             ],
             [
              0.8888888888888888,
              "#fdca26"
             ],
             [
              1,
              "#f0f921"
             ]
            ],
            "type": "contour"
           }
          ],
          "contourcarpet": [
           {
            "colorbar": {
             "outlinewidth": 0,
             "ticks": ""
            },
            "type": "contourcarpet"
           }
          ],
          "heatmap": [
           {
            "colorbar": {
             "outlinewidth": 0,
             "ticks": ""
            },
            "colorscale": [
             [
              0,
              "#0d0887"
             ],
             [
              0.1111111111111111,
              "#46039f"
             ],
             [
              0.2222222222222222,
              "#7201a8"
             ],
             [
              0.3333333333333333,
              "#9c179e"
             ],
             [
              0.4444444444444444,
              "#bd3786"
             ],
             [
              0.5555555555555556,
              "#d8576b"
             ],
             [
              0.6666666666666666,
              "#ed7953"
             ],
             [
              0.7777777777777778,
              "#fb9f3a"
             ],
             [
              0.8888888888888888,
              "#fdca26"
             ],
             [
              1,
              "#f0f921"
             ]
            ],
            "type": "heatmap"
           }
          ],
          "heatmapgl": [
           {
            "colorbar": {
             "outlinewidth": 0,
             "ticks": ""
            },
            "colorscale": [
             [
              0,
              "#0d0887"
             ],
             [
              0.1111111111111111,
              "#46039f"
             ],
             [
              0.2222222222222222,
              "#7201a8"
             ],
             [
              0.3333333333333333,
              "#9c179e"
             ],
             [
              0.4444444444444444,
              "#bd3786"
             ],
             [
              0.5555555555555556,
              "#d8576b"
             ],
             [
              0.6666666666666666,
              "#ed7953"
             ],
             [
              0.7777777777777778,
              "#fb9f3a"
             ],
             [
              0.8888888888888888,
              "#fdca26"
             ],
             [
              1,
              "#f0f921"
             ]
            ],
            "type": "heatmapgl"
           }
          ],
          "histogram": [
           {
            "marker": {
             "colorbar": {
              "outlinewidth": 0,
              "ticks": ""
             }
            },
            "type": "histogram"
           }
          ],
          "histogram2d": [
           {
            "colorbar": {
             "outlinewidth": 0,
             "ticks": ""
            },
            "colorscale": [
             [
              0,
              "#0d0887"
             ],
             [
              0.1111111111111111,
              "#46039f"
             ],
             [
              0.2222222222222222,
              "#7201a8"
             ],
             [
              0.3333333333333333,
              "#9c179e"
             ],
             [
              0.4444444444444444,
              "#bd3786"
             ],
             [
              0.5555555555555556,
              "#d8576b"
             ],
             [
              0.6666666666666666,
              "#ed7953"
             ],
             [
              0.7777777777777778,
              "#fb9f3a"
             ],
             [
              0.8888888888888888,
              "#fdca26"
             ],
             [
              1,
              "#f0f921"
             ]
            ],
            "type": "histogram2d"
           }
          ],
          "histogram2dcontour": [
           {
            "colorbar": {
             "outlinewidth": 0,
             "ticks": ""
            },
            "colorscale": [
             [
              0,
              "#0d0887"
             ],
             [
              0.1111111111111111,
              "#46039f"
             ],
             [
              0.2222222222222222,
              "#7201a8"
             ],
             [
              0.3333333333333333,
              "#9c179e"
             ],
             [
              0.4444444444444444,
              "#bd3786"
             ],
             [
              0.5555555555555556,
              "#d8576b"
             ],
             [
              0.6666666666666666,
              "#ed7953"
             ],
             [
              0.7777777777777778,
              "#fb9f3a"
             ],
             [
              0.8888888888888888,
              "#fdca26"
             ],
             [
              1,
              "#f0f921"
             ]
            ],
            "type": "histogram2dcontour"
           }
          ],
          "mesh3d": [
           {
            "colorbar": {
             "outlinewidth": 0,
             "ticks": ""
            },
            "type": "mesh3d"
           }
          ],
          "parcoords": [
           {
            "line": {
             "colorbar": {
              "outlinewidth": 0,
              "ticks": ""
             }
            },
            "type": "parcoords"
           }
          ],
          "pie": [
           {
            "automargin": true,
            "type": "pie"
           }
          ],
          "scatter": [
           {
            "marker": {
             "colorbar": {
              "outlinewidth": 0,
              "ticks": ""
             }
            },
            "type": "scatter"
           }
          ],
          "scatter3d": [
           {
            "line": {
             "colorbar": {
              "outlinewidth": 0,
              "ticks": ""
             }
            },
            "marker": {
             "colorbar": {
              "outlinewidth": 0,
              "ticks": ""
             }
            },
            "type": "scatter3d"
           }
          ],
          "scattercarpet": [
           {
            "marker": {
             "colorbar": {
              "outlinewidth": 0,
              "ticks": ""
             }
            },
            "type": "scattercarpet"
           }
          ],
          "scattergeo": [
           {
            "marker": {
             "colorbar": {
              "outlinewidth": 0,
              "ticks": ""
             }
            },
            "type": "scattergeo"
           }
          ],
          "scattergl": [
           {
            "marker": {
             "colorbar": {
              "outlinewidth": 0,
              "ticks": ""
             }
            },
            "type": "scattergl"
           }
          ],
          "scattermapbox": [
           {
            "marker": {
             "colorbar": {
              "outlinewidth": 0,
              "ticks": ""
             }
            },
            "type": "scattermapbox"
           }
          ],
          "scatterpolar": [
           {
            "marker": {
             "colorbar": {
              "outlinewidth": 0,
              "ticks": ""
             }
            },
            "type": "scatterpolar"
           }
          ],
          "scatterpolargl": [
           {
            "marker": {
             "colorbar": {
              "outlinewidth": 0,
              "ticks": ""
             }
            },
            "type": "scatterpolargl"
           }
          ],
          "scatterternary": [
           {
            "marker": {
             "colorbar": {
              "outlinewidth": 0,
              "ticks": ""
             }
            },
            "type": "scatterternary"
           }
          ],
          "surface": [
           {
            "colorbar": {
             "outlinewidth": 0,
             "ticks": ""
            },
            "colorscale": [
             [
              0,
              "#0d0887"
             ],
             [
              0.1111111111111111,
              "#46039f"
             ],
             [
              0.2222222222222222,
              "#7201a8"
             ],
             [
              0.3333333333333333,
              "#9c179e"
             ],
             [
              0.4444444444444444,
              "#bd3786"
             ],
             [
              0.5555555555555556,
              "#d8576b"
             ],
             [
              0.6666666666666666,
              "#ed7953"
             ],
             [
              0.7777777777777778,
              "#fb9f3a"
             ],
             [
              0.8888888888888888,
              "#fdca26"
             ],
             [
              1,
              "#f0f921"
             ]
            ],
            "type": "surface"
           }
          ],
          "table": [
           {
            "cells": {
             "fill": {
              "color": "#EBF0F8"
             },
             "line": {
              "color": "white"
             }
            },
            "header": {
             "fill": {
              "color": "#C8D4E3"
             },
             "line": {
              "color": "white"
             }
            },
            "type": "table"
           }
          ]
         },
         "layout": {
          "annotationdefaults": {
           "arrowcolor": "#2a3f5f",
           "arrowhead": 0,
           "arrowwidth": 1
          },
          "autotypenumbers": "strict",
          "coloraxis": {
           "colorbar": {
            "outlinewidth": 0,
            "ticks": ""
           }
          },
          "colorscale": {
           "diverging": [
            [
             0,
             "#8e0152"
            ],
            [
             0.1,
             "#c51b7d"
            ],
            [
             0.2,
             "#de77ae"
            ],
            [
             0.3,
             "#f1b6da"
            ],
            [
             0.4,
             "#fde0ef"
            ],
            [
             0.5,
             "#f7f7f7"
            ],
            [
             0.6,
             "#e6f5d0"
            ],
            [
             0.7,
             "#b8e186"
            ],
            [
             0.8,
             "#7fbc41"
            ],
            [
             0.9,
             "#4d9221"
            ],
            [
             1,
             "#276419"
            ]
           ],
           "sequential": [
            [
             0,
             "#0d0887"
            ],
            [
             0.1111111111111111,
             "#46039f"
            ],
            [
             0.2222222222222222,
             "#7201a8"
            ],
            [
             0.3333333333333333,
             "#9c179e"
            ],
            [
             0.4444444444444444,
             "#bd3786"
            ],
            [
             0.5555555555555556,
             "#d8576b"
            ],
            [
             0.6666666666666666,
             "#ed7953"
            ],
            [
             0.7777777777777778,
             "#fb9f3a"
            ],
            [
             0.8888888888888888,
             "#fdca26"
            ],
            [
             1,
             "#f0f921"
            ]
           ],
           "sequentialminus": [
            [
             0,
             "#0d0887"
            ],
            [
             0.1111111111111111,
             "#46039f"
            ],
            [
             0.2222222222222222,
             "#7201a8"
            ],
            [
             0.3333333333333333,
             "#9c179e"
            ],
            [
             0.4444444444444444,
             "#bd3786"
            ],
            [
             0.5555555555555556,
             "#d8576b"
            ],
            [
             0.6666666666666666,
             "#ed7953"
            ],
            [
             0.7777777777777778,
             "#fb9f3a"
            ],
            [
             0.8888888888888888,
             "#fdca26"
            ],
            [
             1,
             "#f0f921"
            ]
           ]
          },
          "colorway": [
           "#636efa",
           "#EF553B",
           "#00cc96",
           "#ab63fa",
           "#FFA15A",
           "#19d3f3",
           "#FF6692",
           "#B6E880",
           "#FF97FF",
           "#FECB52"
          ],
          "font": {
           "color": "#2a3f5f"
          },
          "geo": {
           "bgcolor": "white",
           "lakecolor": "white",
           "landcolor": "#E5ECF6",
           "showlakes": true,
           "showland": true,
           "subunitcolor": "white"
          },
          "hoverlabel": {
           "align": "left"
          },
          "hovermode": "closest",
          "mapbox": {
           "style": "light"
          },
          "paper_bgcolor": "white",
          "plot_bgcolor": "#E5ECF6",
          "polar": {
           "angularaxis": {
            "gridcolor": "white",
            "linecolor": "white",
            "ticks": ""
           },
           "bgcolor": "#E5ECF6",
           "radialaxis": {
            "gridcolor": "white",
            "linecolor": "white",
            "ticks": ""
           }
          },
          "scene": {
           "xaxis": {
            "backgroundcolor": "#E5ECF6",
            "gridcolor": "white",
            "gridwidth": 2,
            "linecolor": "white",
            "showbackground": true,
            "ticks": "",
            "zerolinecolor": "white"
           },
           "yaxis": {
            "backgroundcolor": "#E5ECF6",
            "gridcolor": "white",
            "gridwidth": 2,
            "linecolor": "white",
            "showbackground": true,
            "ticks": "",
            "zerolinecolor": "white"
           },
           "zaxis": {
            "backgroundcolor": "#E5ECF6",
            "gridcolor": "white",
            "gridwidth": 2,
            "linecolor": "white",
            "showbackground": true,
            "ticks": "",
            "zerolinecolor": "white"
           }
          },
          "shapedefaults": {
           "line": {
            "color": "#2a3f5f"
           }
          },
          "ternary": {
           "aaxis": {
            "gridcolor": "white",
            "linecolor": "white",
            "ticks": ""
           },
           "baxis": {
            "gridcolor": "white",
            "linecolor": "white",
            "ticks": ""
           },
           "bgcolor": "#E5ECF6",
           "caxis": {
            "gridcolor": "white",
            "linecolor": "white",
            "ticks": ""
           }
          },
          "title": {
           "x": 0.05
          },
          "xaxis": {
           "automargin": true,
           "gridcolor": "white",
           "linecolor": "white",
           "ticks": "",
           "title": {
            "standoff": 15
           },
           "zerolinecolor": "white",
           "zerolinewidth": 2
          },
          "yaxis": {
           "automargin": true,
           "gridcolor": "white",
           "linecolor": "white",
           "ticks": "",
           "title": {
            "standoff": 15
           },
           "zerolinecolor": "white",
           "zerolinewidth": 2
          }
         }
        },
        "title": {
         "text": "Word Usage as a Function of Ideal Point (Topic: Energy)",
         "x": 0.5,
         "y": 0.9
        },
        "xaxis": {
         "fixedrange": true,
         "range": [
          -1.0771640729904175,
          1.0771640729904175
         ],
         "showgrid": false,
         "showline": false,
         "showticklabels": false,
         "title": {
          "text": "Representative ideal points (hover to see names)"
         },
         "zeroline": false
        },
        "yaxis": {
         "fixedrange": true,
         "range": [
          -0.6,
          2.5
         ],
         "showgrid": false,
         "showline": false,
         "showticklabels": false,
         "zeroline": false
        }
       }
      },
      "text/html": [
       "<div>                            <div id=\"30ca6020-d737-4012-ad84-18ec1dd6efcb\" class=\"plotly-graph-div\" style=\"height:525px; width:100%;\"></div>            <script type=\"text/javascript\">                require([\"plotly\"], function(Plotly) {                    window.PLOTLYENV=window.PLOTLYENV || {};                                    if (document.getElementById(\"30ca6020-d737-4012-ad84-18ec1dd6efcb\")) {                    Plotly.newPlot(                        \"30ca6020-d737-4012-ad84-18ec1dd6efcb\",                        [{\"hoverinfo\": \"skip\", \"line\": {\"color\": \"black\", \"width\": 1}, \"marker\": {\"size\": 1}, \"type\": \"scatter\", \"x\": [-1.0571640729904175, 1.0571640729904175], \"y\": [-0.53, -0.53]}, {\"hoverinfo\": \"x+text\", \"marker\": {\"color\": [\"steelblue\", \"crimson\", \"steelblue\", \"crimson\", \"crimson\", \"steelblue\"], \"size\": 8}, \"mode\": \"markers\", \"text\": [\"Alex (D) [0.337]\", \"John (R) [0.371]\", \"Justicia (D) [0.313]\", \"Lauren (R) [0.305]\", \"Mark (R) [0.333]\", \"Mona (D) [0.331]\"], \"type\": \"scatter\", \"x\": [-0.7592263221740723, 1.0002368688583374, -0.6703259944915771, 0.4688803255558014, 0.6241500973701477, -1.0571640729904175], \"y\": [-0.53, -0.53, -0.53, -0.53, -0.53, -0.53]}, {\"base\": -0.3, \"dy\": 0.214, \"hoverinfo\": \"skip\", \"marker\": {\"color\": \"rgb(175,122,197)\"}, \"orientation\": \"h\", \"text\": [\"global_warming\", \"pollution\", \"crisis\", \"wind\", \"energy_efficiency\", \"renewable\", \"clean_energy\", \"solar\"], \"textposition\": \"outside\", \"type\": \"bar\", \"visible\": false, \"x\": [0.25200846791267395, 0.25819554924964905, 0.2774569094181061, 0.28630417585372925, 0.2916231155395508, 0.29282498359680176, 0.2977581322193146, 0.30474966764450073], \"y0\": 0.529}, {\"base\": -0.3, \"dy\": 0.214, \"hoverinfo\": \"skip\", \"marker\": {\"color\": \"rgb(175,122,197)\"}, \"orientation\": \"h\", \"text\": [\"global_warming\", \"pollution\", \"crisis\", \"wind\", \"energy_efficiency\", \"renewable\", \"solar\", \"clean_energy\"], \"textposition\": \"outside\", \"type\": \"bar\", \"visible\": false, \"x\": [0.245767742395401, 0.25239571928977966, 0.2577304542064667, 0.2656431198120117, 0.2705709934234619, 0.27185970544815063, 0.28221607208251953, 0.28464365005493164], \"y0\": 0.529}, {\"base\": -0.3, \"dy\": 0.214, \"hoverinfo\": \"skip\", \"marker\": {\"color\": \"rgb(175,122,197)\"}, \"orientation\": \"h\", \"text\": [\"crisis\", \"global_warming\", \"wind\", \"pollution\", \"energy_efficiency\", \"renewable\", \"solar\", \"clean_energy\"], \"textposition\": \"outside\", \"type\": \"bar\", \"visible\": false, \"x\": [0.23946397006511688, 0.23973731696605682, 0.24654194712638855, 0.246778205037117, 0.25111231207847595, 0.25246089696884155, 0.26142042875289917, 0.2721806764602661], \"y0\": 0.529}, {\"base\": -0.3, \"dy\": 0.214, \"hoverinfo\": \"skip\", \"marker\": {\"color\": \"rgb(175,122,197)\"}, \"orientation\": \"h\", \"text\": [\"crisis\", \"wind\", \"energy_efficiency\", \"global_warming\", \"renewable\", \"pollution\", \"solar\", \"clean_energy\"], \"textposition\": \"outside\", \"type\": \"bar\", \"visible\": false, \"x\": [0.22254563868045807, 0.22887833416461945, 0.23312152922153473, 0.23390933871269226, 0.23450715839862823, 0.24133659899234772, 0.2422238141298294, 0.2603340744972229], \"y0\": 0.529}, {\"base\": -0.3, \"dy\": 0.214, \"hoverinfo\": \"skip\", \"marker\": {\"color\": \"rgb(175,122,197)\"}, \"orientation\": \"h\", \"text\": [\"wind\", \"climate_change\", \"energy_efficiency\", \"renewable\", \"solar\", \"global_warming\", \"pollution\", \"clean_energy\"], \"textposition\": \"outside\", \"type\": \"bar\", \"visible\": false, \"x\": [0.2125396579504013, 0.2133098840713501, 0.2164832353591919, 0.21788673102855682, 0.22449851036071777, 0.22827613353729248, 0.23606480658054352, 0.24907074868679047], \"y0\": 0.529}, {\"base\": -0.3, \"dy\": 0.214, \"hoverinfo\": \"skip\", \"marker\": {\"color\": \"rgb(175,122,197)\"}, \"orientation\": \"h\", \"text\": [\"wind\", \"energy_efficiency\", \"renewable\", \"climate_change\", \"solar\", \"global_warming\", \"pollution\", \"clean_energy\"], \"textposition\": \"outside\", \"type\": \"bar\", \"visible\": false, \"x\": [0.19742251932621002, 0.2010914832353592, 0.20249679684638977, 0.20706431567668915, 0.2081274837255478, 0.22283048927783966, 0.23095691204071045, 0.2383594512939453], \"y0\": 0.529}, {\"base\": -0.3, \"dy\": 0.214, \"hoverinfo\": \"skip\", \"marker\": {\"color\": \"rgb(175,122,197)\"}, \"orientation\": \"h\", \"text\": [\"energy_efficiency\", \"carbon_tax\", \"renewable\", \"solar\", \"climate_change\", \"global_warming\", \"pollution\", \"clean_energy\"], \"textposition\": \"outside\", \"type\": \"bar\", \"visible\": false, \"x\": [0.18684892356395721, 0.18719449639320374, 0.18824271857738495, 0.1930033415555954, 0.20104169845581055, 0.2175653576850891, 0.22600719332695007, 0.22817076742649078], \"y0\": 0.529}, {\"base\": -0.3, \"dy\": 0.214, \"hoverinfo\": \"skip\", \"marker\": {\"color\": \"rgb(175,122,197)\"}, \"orientation\": \"h\", \"text\": [\"energy_efficiency\", \"renewable\", \"carbon_tax\", \"solar\", \"climate_change\", \"global_warming\", \"clean_energy\", \"pollution\"], \"textposition\": \"outside\", \"type\": \"bar\", \"visible\": false, \"x\": [0.1736660599708557, 0.1750374436378479, 0.17855805158615112, 0.17902743816375732, 0.19523316621780396, 0.21247409284114838, 0.21847692131996155, 0.22121021151542664], \"y0\": 0.529}, {\"base\": -0.3, \"dy\": 0.214, \"hoverinfo\": \"skip\", \"marker\": {\"color\": \"rgb(175,122,197)\"}, \"orientation\": \"h\", \"text\": [\"energy_efficiency\", \"renewable\", \"solar\", \"carbon_tax\", \"climate_change\", \"global_warming\", \"clean_energy\", \"pollution\"], \"textposition\": \"outside\", \"type\": \"bar\", \"visible\": false, \"x\": [0.1614607572555542, 0.16280075907707214, 0.16610923409461975, 0.17035627365112305, 0.18963027000427246, 0.20755024254322052, 0.2092517614364624, 0.21656078100204468], \"y0\": 0.529}, {\"base\": -0.3, \"dy\": 0.214, \"hoverinfo\": \"skip\", \"marker\": {\"color\": \"rgb(175,122,197)\"}, \"orientation\": \"h\", \"text\": [\"energy_efficiency\", \"renewable\", \"solar\", \"carbon_tax\", \"climate_change\", \"clean_energy\", \"global_warming\", \"pollution\"], \"textposition\": \"outside\", \"type\": \"bar\", \"visible\": false, \"x\": [0.15015728771686554, 0.15145879983901978, 0.15416553616523743, 0.16256584227085114, 0.18422487378120422, 0.20047053694725037, 0.20278769731521606, 0.21205374598503113], \"y0\": 0.529}, {\"base\": -0.3, \"dy\": 0.214, \"hoverinfo\": \"skip\", \"marker\": {\"color\": \"rgb(175,122,197)\"}, \"orientation\": \"h\", \"text\": [\"renewable\", \"solar\", \"energy\", \"carbon_tax\", \"climate_change\", \"clean_energy\", \"global_warming\", \"pollution\"], \"textposition\": \"outside\", \"type\": \"bar\", \"visible\": false, \"x\": [0.14094358682632446, 0.1431199610233307, 0.1505972295999527, 0.1551646739244461, 0.17900925874710083, 0.19211003184318542, 0.19818058609962463, 0.20768435299396515], \"y0\": 0.529}, {\"base\": -0.3, \"dy\": 0.214, \"hoverinfo\": \"skip\", \"marker\": {\"color\": \"rgb(175,122,197)\"}, \"orientation\": \"h\", \"text\": [\"renewable\", \"solar\", \"carbon_tax\", \"energy\", \"climate_change\", \"clean_energy\", \"global_warming\", \"pollution\"], \"textposition\": \"outside\", \"type\": \"bar\", \"visible\": false, \"x\": [0.13119244575500488, 0.13290229439735413, 0.14813198149204254, 0.15343444049358368, 0.17397597432136536, 0.18414819240570068, 0.19372320175170898, 0.2034478634595871], \"y0\": 0.529}, {\"base\": -0.3, \"dy\": 0.214, \"hoverinfo\": \"skip\", \"marker\": {\"color\": \"rgb(175,122,197)\"}, \"orientation\": \"h\", \"text\": [\"solar\", \"jobs\", \"carbon_tax\", \"energy\", \"climate_change\", \"clean_energy\", \"global_warming\", \"pollution\"], \"textposition\": \"outside\", \"type\": \"bar\", \"visible\": false, \"x\": [0.12344802916049957, 0.13166874647140503, 0.14144811034202576, 0.15635305643081665, 0.16911792755126953, 0.1765642762184143, 0.18941016495227814, 0.19933991134166718], \"y0\": 0.529}, {\"base\": -0.3, \"dy\": 0.214, \"hoverinfo\": \"skip\", \"marker\": {\"color\": \"rgb(175,122,197)\"}, \"orientation\": \"h\", \"text\": [\"mine_workers\", \"carbon_tax\", \"jobs\", \"energy\", \"climate_change\", \"clean_energy\", \"global_warming\", \"pollution\"], \"textposition\": \"outside\", \"type\": \"bar\", \"visible\": false, \"x\": [0.11523512005805969, 0.13509459793567657, 0.13515031337738037, 0.15935571491718292, 0.16442832350730896, 0.1693386435508728, 0.18523626029491425, 0.1953560709953308], \"y0\": 0.529}, {\"base\": -0.3, \"dy\": 0.214, \"hoverinfo\": \"skip\", \"marker\": {\"color\": \"rgb(175,122,197)\"}, \"orientation\": \"h\", \"text\": [\"mine_workers\", \"carbon_tax\", \"jobs\", \"climate_change\", \"energy\", \"clean_energy\", \"global_warming\", \"pollution\"], \"textposition\": \"outside\", \"type\": \"bar\", \"visible\": false, \"x\": [0.11936309933662415, 0.12905392050743103, 0.13874991238117218, 0.15990060567855835, 0.16244512796401978, 0.16245287656784058, 0.18119648098945618, 0.1914922297000885], \"y0\": 0.529}, {\"base\": -0.3, \"dy\": 0.214, \"hoverinfo\": \"skip\", \"marker\": {\"color\": \"rgb(175,122,197)\"}, \"orientation\": \"h\", \"text\": [\"carbon_tax\", \"mine_workers\", \"jobs\", \"climate_change\", \"clean_energy\", \"energy\", \"global_warming\", \"pollution\"], \"textposition\": \"outside\", \"type\": \"bar\", \"visible\": false, \"x\": [0.12330957502126694, 0.12366746366024017, 0.1424720585346222, 0.15552857518196106, 0.1558893918991089, 0.16562403738498688, 0.1772860884666443, 0.18774443864822388], \"y0\": 0.529}, {\"base\": -0.3, \"dy\": 0.214, \"hoverinfo\": \"skip\", \"marker\": {\"color\": \"rgb(175,122,197)\"}, \"orientation\": \"h\", \"text\": [\"oil\", \"mine_workers\", \"jobs\", \"clean_energy\", \"climate_change\", \"energy\", \"global_warming\", \"pollution\"], \"textposition\": \"outside\", \"type\": \"bar\", \"visible\": false, \"x\": [0.12572021782398224, 0.1281566023826599, 0.14632147550582886, 0.14963175356388092, 0.15130625665187836, 0.1688954085111618, 0.17350046336650848, 0.18410883843898773], \"y0\": 0.529}, {\"base\": -0.3, \"dy\": 0.214, \"hoverinfo\": \"skip\", \"marker\": {\"color\": \"rgb(175,122,197)\"}, \"orientation\": \"h\", \"text\": [\"oil\", \"mine_workers\", \"clean_energy\", \"climate_change\", \"jobs\", \"global_warming\", \"energy\", \"pollution\"], \"textposition\": \"outside\", \"type\": \"bar\", \"visible\": false, \"x\": [0.12988534569740295, 0.13283932209014893, 0.14366431534290314, 0.1472279131412506, 0.15030299127101898, 0.1698351800441742, 0.17226222157478333, 0.1805817186832428], \"y0\": 0.529}, {\"base\": -0.3, \"dy\": 0.214, \"hoverinfo\": \"skip\", \"marker\": {\"color\": \"rgb(175,122,197)\"}, \"orientation\": \"h\", \"text\": [\"oil\", \"mine_workers\", \"clean_energy\", \"climate_change\", \"jobs\", \"global_warming\", \"energy\", \"pollution\"], \"textposition\": \"outside\", \"type\": \"bar\", \"visible\": false, \"x\": [0.13422207534313202, 0.13772490620613098, 0.13797232508659363, 0.1432880461215973, 0.15442179143428802, 0.16628602147102356, 0.17572760581970215, 0.17715954780578613], \"y0\": 0.529}, {\"base\": -0.3, \"dy\": 0.214, \"hoverinfo\": \"skip\", \"marker\": {\"color\": \"rgb(175,122,197)\"}, \"orientation\": \"h\", \"text\": [\"clean_energy\", \"oil\", \"climate_change\", \"mine_workers\", \"jobs\", \"global_warming\", \"pollution\", \"energy\"], \"textposition\": \"outside\", \"type\": \"bar\", \"visible\": false, \"x\": [0.13254183530807495, 0.13873831927776337, 0.13948142528533936, 0.14282310009002686, 0.15868313610553741, 0.16284894943237305, 0.17383889853954315, 0.17929477989673615], \"y0\": 0.529}, {\"base\": -0.3, \"dy\": 0.214, \"hoverinfo\": \"skip\", \"marker\": {\"color\": \"rgb(175,122,197)\"}, \"orientation\": \"h\", \"text\": [\"economy\", \"climate_change\", \"oil\", \"mine_workers\", \"global_warming\", \"jobs\", \"pollution\", \"energy\"], \"textposition\": \"outside\", \"type\": \"bar\", \"visible\": true, \"x\": [0.13027243316173553, 0.1358030140399933, 0.14344239234924316, 0.1481441855430603, 0.15952004492282867, 0.16309262812137604, 0.1706164926290512, 0.18296712636947632], \"y0\": 0.529}, {\"base\": -0.3, \"dy\": 0.214, \"hoverinfo\": \"skip\", \"marker\": {\"color\": \"rgb(175,122,197)\"}, \"orientation\": \"h\", \"text\": [\"climate_change\", \"economy\", \"oil\", \"mine_workers\", \"global_warming\", \"pollution\", \"jobs\", \"energy\"], \"textposition\": \"outside\", \"type\": \"bar\", \"visible\": false, \"x\": [0.1322479397058487, 0.1361985206604004, 0.14834308624267578, 0.15369895100593567, 0.1562955379486084, 0.16748912632465363, 0.16765601933002472, 0.18674808740615845], \"y0\": 0.529}, {\"base\": -0.3, \"dy\": 0.214, \"hoverinfo\": \"skip\", \"marker\": {\"color\": \"rgb(175,122,197)\"}, \"orientation\": \"h\", \"text\": [\"climate_change\", \"economy\", \"global_warming\", \"oil\", \"mine_workers\", \"pollution\", \"jobs\", \"energy\"], \"textposition\": \"outside\", \"type\": \"bar\", \"visible\": false, \"x\": [0.12881162762641907, 0.14243267476558685, 0.15317188203334808, 0.15344960987567902, 0.15949876606464386, 0.16445380449295044, 0.17237937450408936, 0.19064131379127502], \"y0\": 0.529}, {\"base\": -0.3, \"dy\": 0.214, \"hoverinfo\": \"skip\", \"marker\": {\"color\": \"rgb(175,122,197)\"}, \"orientation\": \"h\", \"text\": [\"climate_change\", \"economy\", \"global_warming\", \"oil\", \"pollution\", \"mine_workers\", \"jobs\", \"energy\"], \"textposition\": \"outside\", \"type\": \"bar\", \"visible\": false, \"x\": [0.12548962235450745, 0.14899250864982605, 0.15014560520648956, 0.15877163410186768, 0.16150754690170288, 0.16555562615394592, 0.17726898193359375, 0.1946505308151245], \"y0\": 0.529}, {\"base\": -0.3, \"dy\": 0.214, \"hoverinfo\": \"skip\", \"marker\": {\"color\": \"rgb(175,122,197)\"}, \"orientation\": \"h\", \"text\": [\"climate_change\", \"global_warming\", \"economy\", \"pollution\", \"oil\", \"mine_workers\", \"jobs\", \"energy\"], \"textposition\": \"outside\", \"type\": \"bar\", \"visible\": false, \"x\": [0.12227766215801239, 0.14721335470676422, 0.1558966040611267, 0.1586475372314453, 0.16431935131549835, 0.17188213765621185, 0.18233142793178558, 0.19877967238426208], \"y0\": 0.529}, {\"base\": -0.3, \"dy\": 0.214, \"hoverinfo\": \"skip\", \"marker\": {\"color\": \"rgb(175,122,197)\"}, \"orientation\": \"h\", \"text\": [\"climate_change\", \"global_warming\", \"pollution\", \"economy\", \"oil\", \"mine_workers\", \"jobs\", \"energy\"], \"textposition\": \"outside\", \"type\": \"bar\", \"visible\": false, \"x\": [0.11917166411876678, 0.14437197148799896, 0.15587104856967926, 0.16316474974155426, 0.17010347545146942, 0.17849154770374298, 0.18757358193397522, 0.2030327171087265], \"y0\": 0.529}, {\"base\": -0.3, \"dy\": 0.214, \"hoverinfo\": \"skip\", \"marker\": {\"color\": \"rgb(175,122,197)\"}, \"orientation\": \"h\", \"text\": [\"production\", \"global_warming\", \"pollution\", \"economy\", \"oil\", \"mine_workers\", \"jobs\", \"energy\"], \"textposition\": \"outside\", \"type\": \"bar\", \"visible\": false, \"x\": [0.11899033188819885, 0.14161838591098785, 0.1531754732131958, 0.17081795632839203, 0.17613528668880463, 0.18539784848690033, 0.19300253689289093, 0.20741386711597443], \"y0\": 0.529}, {\"base\": -0.3, \"dy\": 0.214, \"hoverinfo\": \"skip\", \"marker\": {\"color\": \"rgb(175,122,197)\"}, \"orientation\": \"h\", \"text\": [\"production\", \"global_warming\", \"pollution\", \"economy\", \"oil\", \"mine_workers\", \"jobs\", \"energy\"], \"textposition\": \"outside\", \"type\": \"bar\", \"visible\": false, \"x\": [0.1287364810705185, 0.1389496624469757, 0.15055827796459198, 0.178878515958786, 0.1824266016483307, 0.1926158219575882, 0.1986258327960968, 0.21192747354507446], \"y0\": 0.529}, {\"base\": -0.3, \"dy\": 0.214, \"hoverinfo\": \"skip\", \"marker\": {\"color\": \"rgb(175,122,197)\"}, \"orientation\": \"h\", \"text\": [\"global_warming\", \"production\", \"pollution\", \"economy\", \"oil\", \"mine_workers\", \"jobs\", \"energy\"], \"textposition\": \"outside\", \"type\": \"bar\", \"visible\": false, \"x\": [0.1363629698753357, 0.1393318474292755, 0.148017019033432, 0.18737010657787323, 0.18898992240428925, 0.2001609206199646, 0.20445123314857483, 0.21657809615135193], \"y0\": 0.529}, {\"base\": -0.3, \"dy\": 0.214, \"hoverinfo\": \"skip\", \"marker\": {\"color\": \"rgb(175,122,197)\"}, \"orientation\": \"h\", \"text\": [\"hoax\", \"pollution\", \"production\", \"oil\", \"economy\", \"mine_workers\", \"jobs\", \"energy\"], \"textposition\": \"outside\", \"type\": \"bar\", \"visible\": false, \"x\": [0.14301472902297974, 0.14554935693740845, 0.15085437893867493, 0.19583837687969208, 0.1963178962469101, 0.20804958045482635, 0.21048688888549805, 0.2213703840970993], \"y0\": 0.529}, {\"base\": -0.3, \"dy\": 0.214, \"hoverinfo\": \"skip\", \"marker\": {\"color\": \"rgb(175,122,197)\"}, \"orientation\": \"h\", \"text\": [\"coal\", \"hoax\", \"production\", \"oil\", \"economy\", \"mine_workers\", \"jobs\", \"energy\"], \"textposition\": \"outside\", \"type\": \"bar\", \"visible\": false, \"x\": [0.15236692130565643, 0.1542789489030838, 0.16338956356048584, 0.20298582315444946, 0.20574861764907837, 0.21629901230335236, 0.21674132347106934, 0.22630922496318817], \"y0\": 0.529}, {\"base\": -0.3, \"dy\": 0.214, \"hoverinfo\": \"skip\", \"marker\": {\"color\": \"rgb(175,122,197)\"}, \"orientation\": \"h\", \"text\": [\"coal\", \"hoax\", \"production\", \"oil\", \"economy\", \"jobs\", \"mine_workers\", \"energy\"], \"textposition\": \"outside\", \"type\": \"bar\", \"visible\": false, \"x\": [0.16443057358264923, 0.16647838056087494, 0.1770310252904892, 0.21044671535491943, 0.2156907320022583, 0.22322334349155426, 0.22492742538452148, 0.23139968514442444], \"y0\": 0.529}, {\"base\": -0.3, \"dy\": 0.214, \"hoverinfo\": \"skip\", \"marker\": {\"color\": \"rgb(175,122,197)\"}, \"orientation\": \"h\", \"text\": [\"coal\", \"hoax\", \"production\", \"oil\", \"economy\", \"jobs\", \"mine_workers\", \"energy\"], \"textposition\": \"outside\", \"type\": \"bar\", \"visible\": false, \"x\": [0.17750582098960876, 0.179694265127182, 0.19188159704208374, 0.21823650598526, 0.22617442905902863, 0.22994229197502136, 0.23395395278930664, 0.23664695024490356], \"y0\": 0.529}, {\"base\": -0.3, \"dy\": 0.214, \"hoverinfo\": \"skip\", \"marker\": {\"color\": \"rgb(175,122,197)\"}, \"orientation\": \"h\", \"text\": [\"coal\", \"hoax\", \"production\", \"oil\", \"jobs\", \"economy\", \"energy\", \"mine_workers\"], \"textposition\": \"outside\", \"type\": \"bar\", \"visible\": false, \"x\": [0.19168169796466827, 0.194015234708786, 0.20805394649505615, 0.22637121379375458, 0.23690783977508545, 0.23723183572292328, 0.24205651879310608, 0.24339886009693146], \"y0\": 0.529}, {\"base\": -0.3, \"dy\": 0.214, \"hoverinfo\": \"skip\", \"marker\": {\"color\": \"rgb(175,122,197)\"}, \"orientation\": \"h\", \"text\": [\"coal\", \"hoax\", \"production\", \"oil\", \"jobs\", \"energy\", \"economy\", \"mine_workers\"], \"textposition\": \"outside\", \"type\": \"bar\", \"visible\": false, \"x\": [0.20705556869506836, 0.20953796803951263, 0.2256719022989273, 0.23486793041229248, 0.24413006007671356, 0.24763411283493042, 0.24889713525772095, 0.25328344106674194], \"y0\": 0.529}, {\"base\": -0.3, \"dy\": 0.214, \"hoverinfo\": \"skip\", \"marker\": {\"color\": \"rgb(175,122,197)\"}, \"orientation\": \"h\", \"text\": [\"coal\", \"hoax\", \"oil\", \"production\", \"jobs\", \"energy\", \"economy\", \"mine_workers\"], \"textposition\": \"outside\", \"type\": \"bar\", \"visible\": false, \"x\": [0.22373363375663757, 0.22636789083480835, 0.24374456703662872, 0.24487125873565674, 0.2516195774078369, 0.2533855438232422, 0.2612066864967346, 0.26363030076026917], \"y0\": 0.529}, {\"base\": -0.3, \"dy\": 0.214, \"hoverinfo\": \"skip\", \"marker\": {\"color\": \"rgb(175,122,197)\"}, \"orientation\": \"h\", \"text\": [\"coal\", \"hoax\", \"oil\", \"energy\", \"jobs\", \"production\", \"economy\", \"mine_workers\"], \"textposition\": \"outside\", \"type\": \"bar\", \"visible\": false, \"x\": [0.24183198809623718, 0.24462012946605682, 0.2530199885368347, 0.25931698083877563, 0.25938743352890015, 0.26580119132995605, 0.2741992175579071, 0.27446305751800537], \"y0\": 0.529}, {\"base\": -0.3, \"dy\": 0.214, \"hoverinfo\": \"skip\", \"marker\": {\"color\": \"rgb(175,122,197)\"}, \"orientation\": \"h\", \"text\": [\"coal\", \"oil\", \"hoax\", \"energy\", \"jobs\", \"mine_workers\", \"economy\", \"production\"], \"textposition\": \"outside\", \"type\": \"bar\", \"visible\": false, \"x\": [0.2614775598049164, 0.26271408796310425, 0.2644202709197998, 0.26543474197387695, 0.2674451768398285, 0.28580689430236816, 0.28791582584381104, 0.2886255383491516], \"y0\": 0.529}, {\"base\": -0.3, \"dy\": 0.214, \"hoverinfo\": \"skip\", \"marker\": {\"color\": \"rgb(175,122,197)\"}, \"orientation\": \"h\", \"text\": [\"oil\", \"jobs\", \"govt_overreach\", \"coal\", \"hoax\", \"mine_workers\", \"economy\", \"production\"], \"textposition\": \"outside\", \"type\": \"bar\", \"visible\": false, \"x\": [0.27284783124923706, 0.2758048176765442, 0.2826650142669678, 0.28280889987945557, 0.28590553998947144, 0.29768818616867065, 0.3024004101753235, 0.313524454832077], \"y0\": 0.529}, {\"base\": -0.3, \"dy\": 0.214, \"hoverinfo\": \"skip\", \"marker\": {\"color\": \"rgb(175,122,197)\"}, \"orientation\": \"h\", \"text\": [\"oil\", \"jobs\", \"coal\", \"govt_overreach\", \"hoax\", \"mine_workers\", \"economy\", \"production\"], \"textposition\": \"outside\", \"type\": \"bar\", \"visible\": false, \"x\": [0.2834434509277344, 0.284479022026062, 0.30597782135009766, 0.30611899495124817, 0.30922573804855347, 0.3101349174976349, 0.3176996111869812, 0.34069597721099854], \"y0\": 0.529}, {\"base\": -0.3, \"dy\": 0.214, \"hoverinfo\": \"skip\", \"marker\": {\"color\": \"rgb(175,122,197)\"}, \"orientation\": \"h\", \"text\": [\"jobs\", \"oil\", \"mine_workers\", \"coal\", \"govt_overreach\", \"economy\", \"hoax\", \"production\"], \"textposition\": \"outside\", \"type\": \"bar\", \"visible\": false, \"x\": [0.2934809923171997, 0.2945241928100586, 0.32317662239074707, 0.3311501443386078, 0.3316320776939392, 0.33386313915252686, 0.33454450964927673, 0.37035757303237915], \"y0\": 0.529}, {\"base\": -0.3, \"dy\": 0.214, \"hoverinfo\": \"skip\", \"marker\": {\"color\": \"rgb(175,122,197)\"}, \"orientation\": \"h\", \"text\": [\"oil\", \"china\", \"mine_workers\", \"economy\", \"coal\", \"govt_overreach\", \"hoax\", \"production\"], \"textposition\": \"outside\", \"type\": \"bar\", \"visible\": false, \"x\": [0.30611473321914673, 0.3123510479927063, 0.33684444427490234, 0.350943922996521, 0.35850727558135986, 0.35939401388168335, 0.3620407283306122, 0.40274882316589355], \"y0\": 0.529}, {\"base\": -0.3, \"dy\": 0.214, \"hoverinfo\": \"skip\", \"marker\": {\"color\": \"rgb(175,122,197)\"}, \"orientation\": \"h\", \"text\": [\"oil\", \"china\", \"mine_workers\", \"economy\", \"coal\", \"govt_overreach\", \"hoax\", \"production\"], \"textposition\": \"outside\", \"type\": \"bar\", \"visible\": false, \"x\": [0.3182410001754761, 0.33687323331832886, 0.3511711359024048, 0.36899834871292114, 0.3882479965686798, 0.3896128535270691, 0.3919098973274231, 0.438133180141449], \"y0\": 0.529}],                        {\"annotations\": [{\"font\": {\"size\": 14}, \"showarrow\": false, \"text\": \"Move slider to change ideal point\", \"x\": 0.5, \"xref\": \"paper\", \"y\": 0.255, \"yref\": \"paper\"}], \"paper_bgcolor\": \"rgba(0,0,0,0)\", \"plot_bgcolor\": \"rgba(0,0,0,0)\", \"showlegend\": false, \"sliders\": [{\"active\": 21, \"currentvalue\": {\"prefix\": \"Ideal Point: \"}, \"steps\": [{\"args\": [{\"visible\": [true, true, true, false, false, false, false, false, false, false, false, false, false, false, false, false, false, false, false, false, false, false, false, false, false, false, false, false, false, false, false, false, false, false, false, false, false, false, false, false, false, false, false, false, false]}], \"label\": \"-1.06\", \"method\": \"update\"}, {\"args\": [{\"visible\": [true, true, false, true, false, false, false, false, false, false, false, false, false, false, false, false, false, false, false, false, false, false, false, false, false, false, false, false, false, false, false, false, false, false, false, false, false, false, false, false, false, false, false, false, false]}], \"label\": \"-1.01\", \"method\": \"update\"}, {\"args\": [{\"visible\": [true, true, false, false, true, false, false, false, false, false, false, false, false, false, false, false, false, false, false, false, false, false, false, false, false, false, false, false, false, false, false, false, false, false, false, false, false, false, false, false, false, false, false, false, false]}], \"label\": \"-0.96\", \"method\": \"update\"}, {\"args\": [{\"visible\": [true, true, false, false, false, true, false, false, false, false, false, false, false, false, false, false, false, false, false, false, false, false, false, false, false, false, false, false, false, false, false, false, false, false, false, false, false, false, false, false, false, false, false, false, false]}], \"label\": \"-0.91\", \"method\": \"update\"}, {\"args\": [{\"visible\": [true, true, false, false, false, false, true, false, false, false, false, false, false, false, false, false, false, false, false, false, false, false, false, false, false, false, false, false, false, false, false, false, false, false, false, false, false, false, false, false, false, false, false, false, false]}], \"label\": \"-0.86\", \"method\": \"update\"}, {\"args\": [{\"visible\": [true, true, false, false, false, false, false, true, false, false, false, false, false, false, false, false, false, false, false, false, false, false, false, false, false, false, false, false, false, false, false, false, false, false, false, false, false, false, false, false, false, false, false, false, false]}], \"label\": \"-0.81\", \"method\": \"update\"}, {\"args\": [{\"visible\": [true, true, false, false, false, false, false, false, true, false, false, false, false, false, false, false, false, false, false, false, false, false, false, false, false, false, false, false, false, false, false, false, false, false, false, false, false, false, false, false, false, false, false, false, false]}], \"label\": \"-0.76\", \"method\": \"update\"}, {\"args\": [{\"visible\": [true, true, false, false, false, false, false, false, false, true, false, false, false, false, false, false, false, false, false, false, false, false, false, false, false, false, false, false, false, false, false, false, false, false, false, false, false, false, false, false, false, false, false, false, false]}], \"label\": \"-0.71\", \"method\": \"update\"}, {\"args\": [{\"visible\": [true, true, false, false, false, false, false, false, false, false, true, false, false, false, false, false, false, false, false, false, false, false, false, false, false, false, false, false, false, false, false, false, false, false, false, false, false, false, false, false, false, false, false, false, false]}], \"label\": \"-0.66\", \"method\": \"update\"}, {\"args\": [{\"visible\": [true, true, false, false, false, false, false, false, false, false, false, true, false, false, false, false, false, false, false, false, false, false, false, false, false, false, false, false, false, false, false, false, false, false, false, false, false, false, false, false, false, false, false, false, false]}], \"label\": \"-0.61\", \"method\": \"update\"}, {\"args\": [{\"visible\": [true, true, false, false, false, false, false, false, false, false, false, false, true, false, false, false, false, false, false, false, false, false, false, false, false, false, false, false, false, false, false, false, false, false, false, false, false, false, false, false, false, false, false, false, false]}], \"label\": \"-0.56\", \"method\": \"update\"}, {\"args\": [{\"visible\": [true, true, false, false, false, false, false, false, false, false, false, false, false, true, false, false, false, false, false, false, false, false, false, false, false, false, false, false, false, false, false, false, false, false, false, false, false, false, false, false, false, false, false, false, false]}], \"label\": \"-0.51\", \"method\": \"update\"}, {\"args\": [{\"visible\": [true, true, false, false, false, false, false, false, false, false, false, false, false, false, true, false, false, false, false, false, false, false, false, false, false, false, false, false, false, false, false, false, false, false, false, false, false, false, false, false, false, false, false, false, false]}], \"label\": \"-0.46\", \"method\": \"update\"}, {\"args\": [{\"visible\": [true, true, false, false, false, false, false, false, false, false, false, false, false, false, false, true, false, false, false, false, false, false, false, false, false, false, false, false, false, false, false, false, false, false, false, false, false, false, false, false, false, false, false, false, false]}], \"label\": \"-0.41\", \"method\": \"update\"}, {\"args\": [{\"visible\": [true, true, false, false, false, false, false, false, false, false, false, false, false, false, false, false, true, false, false, false, false, false, false, false, false, false, false, false, false, false, false, false, false, false, false, false, false, false, false, false, false, false, false, false, false]}], \"label\": \"-0.36\", \"method\": \"update\"}, {\"args\": [{\"visible\": [true, true, false, false, false, false, false, false, false, false, false, false, false, false, false, false, false, true, false, false, false, false, false, false, false, false, false, false, false, false, false, false, false, false, false, false, false, false, false, false, false, false, false, false, false]}], \"label\": \"-0.31\", \"method\": \"update\"}, {\"args\": [{\"visible\": [true, true, false, false, false, false, false, false, false, false, false, false, false, false, false, false, false, false, true, false, false, false, false, false, false, false, false, false, false, false, false, false, false, false, false, false, false, false, false, false, false, false, false, false, false]}], \"label\": \"-0.26\", \"method\": \"update\"}, {\"args\": [{\"visible\": [true, true, false, false, false, false, false, false, false, false, false, false, false, false, false, false, false, false, false, true, false, false, false, false, false, false, false, false, false, false, false, false, false, false, false, false, false, false, false, false, false, false, false, false, false]}], \"label\": \"-0.21\", \"method\": \"update\"}, {\"args\": [{\"visible\": [true, true, false, false, false, false, false, false, false, false, false, false, false, false, false, false, false, false, false, false, true, false, false, false, false, false, false, false, false, false, false, false, false, false, false, false, false, false, false, false, false, false, false, false, false]}], \"label\": \"-0.16\", \"method\": \"update\"}, {\"args\": [{\"visible\": [true, true, false, false, false, false, false, false, false, false, false, false, false, false, false, false, false, false, false, false, false, true, false, false, false, false, false, false, false, false, false, false, false, false, false, false, false, false, false, false, false, false, false, false, false]}], \"label\": \"-0.11\", \"method\": \"update\"}, {\"args\": [{\"visible\": [true, true, false, false, false, false, false, false, false, false, false, false, false, false, false, false, false, false, false, false, false, false, true, false, false, false, false, false, false, false, false, false, false, false, false, false, false, false, false, false, false, false, false, false, false]}], \"label\": \"-0.06\", \"method\": \"update\"}, {\"args\": [{\"visible\": [true, true, false, false, false, false, false, false, false, false, false, false, false, false, false, false, false, false, false, false, false, false, false, true, false, false, false, false, false, false, false, false, false, false, false, false, false, false, false, false, false, false, false, false, false]}], \"label\": \"-0.01\", \"method\": \"update\"}, {\"args\": [{\"visible\": [true, true, false, false, false, false, false, false, false, false, false, false, false, false, false, false, false, false, false, false, false, false, false, false, true, false, false, false, false, false, false, false, false, false, false, false, false, false, false, false, false, false, false, false, false]}], \"label\": \"0.04\", \"method\": \"update\"}, {\"args\": [{\"visible\": [true, true, false, false, false, false, false, false, false, false, false, false, false, false, false, false, false, false, false, false, false, false, false, false, false, true, false, false, false, false, false, false, false, false, false, false, false, false, false, false, false, false, false, false, false]}], \"label\": \"0.09\", \"method\": \"update\"}, {\"args\": [{\"visible\": [true, true, false, false, false, false, false, false, false, false, false, false, false, false, false, false, false, false, false, false, false, false, false, false, false, false, true, false, false, false, false, false, false, false, false, false, false, false, false, false, false, false, false, false, false]}], \"label\": \"0.14\", \"method\": \"update\"}, {\"args\": [{\"visible\": [true, true, false, false, false, false, false, false, false, false, false, false, false, false, false, false, false, false, false, false, false, false, false, false, false, false, false, true, false, false, false, false, false, false, false, false, false, false, false, false, false, false, false, false, false]}], \"label\": \"0.19\", \"method\": \"update\"}, {\"args\": [{\"visible\": [true, true, false, false, false, false, false, false, false, false, false, false, false, false, false, false, false, false, false, false, false, false, false, false, false, false, false, false, true, false, false, false, false, false, false, false, false, false, false, false, false, false, false, false, false]}], \"label\": \"0.24\", \"method\": \"update\"}, {\"args\": [{\"visible\": [true, true, false, false, false, false, false, false, false, false, false, false, false, false, false, false, false, false, false, false, false, false, false, false, false, false, false, false, false, true, false, false, false, false, false, false, false, false, false, false, false, false, false, false, false]}], \"label\": \"0.29\", \"method\": \"update\"}, {\"args\": [{\"visible\": [true, true, false, false, false, false, false, false, false, false, false, false, false, false, false, false, false, false, false, false, false, false, false, false, false, false, false, false, false, false, true, false, false, false, false, false, false, false, false, false, false, false, false, false, false]}], \"label\": \"0.34\", \"method\": \"update\"}, {\"args\": [{\"visible\": [true, true, false, false, false, false, false, false, false, false, false, false, false, false, false, false, false, false, false, false, false, false, false, false, false, false, false, false, false, false, false, true, false, false, false, false, false, false, false, false, false, false, false, false, false]}], \"label\": \"0.39\", \"method\": \"update\"}, {\"args\": [{\"visible\": [true, true, false, false, false, false, false, false, false, false, false, false, false, false, false, false, false, false, false, false, false, false, false, false, false, false, false, false, false, false, false, false, true, false, false, false, false, false, false, false, false, false, false, false, false]}], \"label\": \"0.44\", \"method\": \"update\"}, {\"args\": [{\"visible\": [true, true, false, false, false, false, false, false, false, false, false, false, false, false, false, false, false, false, false, false, false, false, false, false, false, false, false, false, false, false, false, false, false, true, false, false, false, false, false, false, false, false, false, false, false]}], \"label\": \"0.49\", \"method\": \"update\"}, {\"args\": [{\"visible\": [true, true, false, false, false, false, false, false, false, false, false, false, false, false, false, false, false, false, false, false, false, false, false, false, false, false, false, false, false, false, false, false, false, false, true, false, false, false, false, false, false, false, false, false, false]}], \"label\": \"0.54\", \"method\": \"update\"}, {\"args\": [{\"visible\": [true, true, false, false, false, false, false, false, false, false, false, false, false, false, false, false, false, false, false, false, false, false, false, false, false, false, false, false, false, false, false, false, false, false, false, true, false, false, false, false, false, false, false, false, false]}], \"label\": \"0.59\", \"method\": \"update\"}, {\"args\": [{\"visible\": [true, true, false, false, false, false, false, false, false, false, false, false, false, false, false, false, false, false, false, false, false, false, false, false, false, false, false, false, false, false, false, false, false, false, false, false, true, false, false, false, false, false, false, false, false]}], \"label\": \"0.64\", \"method\": \"update\"}, {\"args\": [{\"visible\": [true, true, false, false, false, false, false, false, false, false, false, false, false, false, false, false, false, false, false, false, false, false, false, false, false, false, false, false, false, false, false, false, false, false, false, false, false, true, false, false, false, false, false, false, false]}], \"label\": \"0.69\", \"method\": \"update\"}, {\"args\": [{\"visible\": [true, true, false, false, false, false, false, false, false, false, false, false, false, false, false, false, false, false, false, false, false, false, false, false, false, false, false, false, false, false, false, false, false, false, false, false, false, false, true, false, false, false, false, false, false]}], \"label\": \"0.74\", \"method\": \"update\"}, {\"args\": [{\"visible\": [true, true, false, false, false, false, false, false, false, false, false, false, false, false, false, false, false, false, false, false, false, false, false, false, false, false, false, false, false, false, false, false, false, false, false, false, false, false, false, true, false, false, false, false, false]}], \"label\": \"0.79\", \"method\": \"update\"}, {\"args\": [{\"visible\": [true, true, false, false, false, false, false, false, false, false, false, false, false, false, false, false, false, false, false, false, false, false, false, false, false, false, false, false, false, false, false, false, false, false, false, false, false, false, false, false, true, false, false, false, false]}], \"label\": \"0.84\", \"method\": \"update\"}, {\"args\": [{\"visible\": [true, true, false, false, false, false, false, false, false, false, false, false, false, false, false, false, false, false, false, false, false, false, false, false, false, false, false, false, false, false, false, false, false, false, false, false, false, false, false, false, false, true, false, false, false]}], \"label\": \"0.89\", \"method\": \"update\"}, {\"args\": [{\"visible\": [true, true, false, false, false, false, false, false, false, false, false, false, false, false, false, false, false, false, false, false, false, false, false, false, false, false, false, false, false, false, false, false, false, false, false, false, false, false, false, false, false, false, true, false, false]}], \"label\": \"0.94\", \"method\": \"update\"}, {\"args\": [{\"visible\": [true, true, false, false, false, false, false, false, false, false, false, false, false, false, false, false, false, false, false, false, false, false, false, false, false, false, false, false, false, false, false, false, false, false, false, false, false, false, false, false, false, false, false, true, false]}], \"label\": \"0.99\", \"method\": \"update\"}, {\"args\": [{\"visible\": [true, true, false, false, false, false, false, false, false, false, false, false, false, false, false, false, false, false, false, false, false, false, false, false, false, false, false, false, false, false, false, false, false, false, false, false, false, false, false, false, false, false, false, false, true]}], \"label\": \"1.04\", \"method\": \"update\"}], \"y\": 0.35}], \"template\": {\"data\": {\"bar\": [{\"error_x\": {\"color\": \"#2a3f5f\"}, \"error_y\": {\"color\": \"#2a3f5f\"}, \"marker\": {\"line\": {\"color\": \"#E5ECF6\", \"width\": 0.5}}, \"type\": \"bar\"}], \"barpolar\": [{\"marker\": {\"line\": {\"color\": \"#E5ECF6\", \"width\": 0.5}}, \"type\": \"barpolar\"}], \"carpet\": [{\"aaxis\": {\"endlinecolor\": \"#2a3f5f\", \"gridcolor\": \"white\", \"linecolor\": \"white\", \"minorgridcolor\": \"white\", \"startlinecolor\": \"#2a3f5f\"}, \"baxis\": {\"endlinecolor\": \"#2a3f5f\", \"gridcolor\": \"white\", \"linecolor\": \"white\", \"minorgridcolor\": \"white\", \"startlinecolor\": \"#2a3f5f\"}, \"type\": \"carpet\"}], \"choropleth\": [{\"colorbar\": {\"outlinewidth\": 0, \"ticks\": \"\"}, \"type\": \"choropleth\"}], \"contour\": [{\"colorbar\": {\"outlinewidth\": 0, \"ticks\": \"\"}, \"colorscale\": [[0.0, \"#0d0887\"], [0.1111111111111111, \"#46039f\"], [0.2222222222222222, \"#7201a8\"], [0.3333333333333333, \"#9c179e\"], [0.4444444444444444, \"#bd3786\"], [0.5555555555555556, \"#d8576b\"], [0.6666666666666666, \"#ed7953\"], [0.7777777777777778, \"#fb9f3a\"], [0.8888888888888888, \"#fdca26\"], [1.0, \"#f0f921\"]], \"type\": \"contour\"}], \"contourcarpet\": [{\"colorbar\": {\"outlinewidth\": 0, \"ticks\": \"\"}, \"type\": \"contourcarpet\"}], \"heatmap\": [{\"colorbar\": {\"outlinewidth\": 0, \"ticks\": \"\"}, \"colorscale\": [[0.0, \"#0d0887\"], [0.1111111111111111, \"#46039f\"], [0.2222222222222222, \"#7201a8\"], [0.3333333333333333, \"#9c179e\"], [0.4444444444444444, \"#bd3786\"], [0.5555555555555556, \"#d8576b\"], [0.6666666666666666, \"#ed7953\"], [0.7777777777777778, \"#fb9f3a\"], [0.8888888888888888, \"#fdca26\"], [1.0, \"#f0f921\"]], \"type\": \"heatmap\"}], \"heatmapgl\": [{\"colorbar\": {\"outlinewidth\": 0, \"ticks\": \"\"}, \"colorscale\": [[0.0, \"#0d0887\"], [0.1111111111111111, \"#46039f\"], [0.2222222222222222, \"#7201a8\"], [0.3333333333333333, \"#9c179e\"], [0.4444444444444444, \"#bd3786\"], [0.5555555555555556, \"#d8576b\"], [0.6666666666666666, \"#ed7953\"], [0.7777777777777778, \"#fb9f3a\"], [0.8888888888888888, \"#fdca26\"], [1.0, \"#f0f921\"]], \"type\": \"heatmapgl\"}], \"histogram\": [{\"marker\": {\"colorbar\": {\"outlinewidth\": 0, \"ticks\": \"\"}}, \"type\": \"histogram\"}], \"histogram2d\": [{\"colorbar\": {\"outlinewidth\": 0, \"ticks\": \"\"}, \"colorscale\": [[0.0, \"#0d0887\"], [0.1111111111111111, \"#46039f\"], [0.2222222222222222, \"#7201a8\"], [0.3333333333333333, \"#9c179e\"], [0.4444444444444444, \"#bd3786\"], [0.5555555555555556, \"#d8576b\"], [0.6666666666666666, \"#ed7953\"], [0.7777777777777778, \"#fb9f3a\"], [0.8888888888888888, \"#fdca26\"], [1.0, \"#f0f921\"]], \"type\": \"histogram2d\"}], \"histogram2dcontour\": [{\"colorbar\": {\"outlinewidth\": 0, \"ticks\": \"\"}, \"colorscale\": [[0.0, \"#0d0887\"], [0.1111111111111111, \"#46039f\"], [0.2222222222222222, \"#7201a8\"], [0.3333333333333333, \"#9c179e\"], [0.4444444444444444, \"#bd3786\"], [0.5555555555555556, \"#d8576b\"], [0.6666666666666666, \"#ed7953\"], [0.7777777777777778, \"#fb9f3a\"], [0.8888888888888888, \"#fdca26\"], [1.0, \"#f0f921\"]], \"type\": \"histogram2dcontour\"}], \"mesh3d\": [{\"colorbar\": {\"outlinewidth\": 0, \"ticks\": \"\"}, \"type\": \"mesh3d\"}], \"parcoords\": [{\"line\": {\"colorbar\": {\"outlinewidth\": 0, \"ticks\": \"\"}}, \"type\": \"parcoords\"}], \"pie\": [{\"automargin\": true, \"type\": \"pie\"}], \"scatter\": [{\"marker\": {\"colorbar\": {\"outlinewidth\": 0, \"ticks\": \"\"}}, \"type\": \"scatter\"}], \"scatter3d\": [{\"line\": {\"colorbar\": {\"outlinewidth\": 0, \"ticks\": \"\"}}, \"marker\": {\"colorbar\": {\"outlinewidth\": 0, \"ticks\": \"\"}}, \"type\": \"scatter3d\"}], \"scattercarpet\": [{\"marker\": {\"colorbar\": {\"outlinewidth\": 0, \"ticks\": \"\"}}, \"type\": \"scattercarpet\"}], \"scattergeo\": [{\"marker\": {\"colorbar\": {\"outlinewidth\": 0, \"ticks\": \"\"}}, \"type\": \"scattergeo\"}], \"scattergl\": [{\"marker\": {\"colorbar\": {\"outlinewidth\": 0, \"ticks\": \"\"}}, \"type\": \"scattergl\"}], \"scattermapbox\": [{\"marker\": {\"colorbar\": {\"outlinewidth\": 0, \"ticks\": \"\"}}, \"type\": \"scattermapbox\"}], \"scatterpolar\": [{\"marker\": {\"colorbar\": {\"outlinewidth\": 0, \"ticks\": \"\"}}, \"type\": \"scatterpolar\"}], \"scatterpolargl\": [{\"marker\": {\"colorbar\": {\"outlinewidth\": 0, \"ticks\": \"\"}}, \"type\": \"scatterpolargl\"}], \"scatterternary\": [{\"marker\": {\"colorbar\": {\"outlinewidth\": 0, \"ticks\": \"\"}}, \"type\": \"scatterternary\"}], \"surface\": [{\"colorbar\": {\"outlinewidth\": 0, \"ticks\": \"\"}, \"colorscale\": [[0.0, \"#0d0887\"], [0.1111111111111111, \"#46039f\"], [0.2222222222222222, \"#7201a8\"], [0.3333333333333333, \"#9c179e\"], [0.4444444444444444, \"#bd3786\"], [0.5555555555555556, \"#d8576b\"], [0.6666666666666666, \"#ed7953\"], [0.7777777777777778, \"#fb9f3a\"], [0.8888888888888888, \"#fdca26\"], [1.0, \"#f0f921\"]], \"type\": \"surface\"}], \"table\": [{\"cells\": {\"fill\": {\"color\": \"#EBF0F8\"}, \"line\": {\"color\": \"white\"}}, \"header\": {\"fill\": {\"color\": \"#C8D4E3\"}, \"line\": {\"color\": \"white\"}}, \"type\": \"table\"}]}, \"layout\": {\"annotationdefaults\": {\"arrowcolor\": \"#2a3f5f\", \"arrowhead\": 0, \"arrowwidth\": 1}, \"autotypenumbers\": \"strict\", \"coloraxis\": {\"colorbar\": {\"outlinewidth\": 0, \"ticks\": \"\"}}, \"colorscale\": {\"diverging\": [[0, \"#8e0152\"], [0.1, \"#c51b7d\"], [0.2, \"#de77ae\"], [0.3, \"#f1b6da\"], [0.4, \"#fde0ef\"], [0.5, \"#f7f7f7\"], [0.6, \"#e6f5d0\"], [0.7, \"#b8e186\"], [0.8, \"#7fbc41\"], [0.9, \"#4d9221\"], [1, \"#276419\"]], \"sequential\": [[0.0, \"#0d0887\"], [0.1111111111111111, \"#46039f\"], [0.2222222222222222, \"#7201a8\"], [0.3333333333333333, \"#9c179e\"], [0.4444444444444444, \"#bd3786\"], [0.5555555555555556, \"#d8576b\"], [0.6666666666666666, \"#ed7953\"], [0.7777777777777778, \"#fb9f3a\"], [0.8888888888888888, \"#fdca26\"], [1.0, \"#f0f921\"]], \"sequentialminus\": [[0.0, \"#0d0887\"], [0.1111111111111111, \"#46039f\"], [0.2222222222222222, \"#7201a8\"], [0.3333333333333333, \"#9c179e\"], [0.4444444444444444, \"#bd3786\"], [0.5555555555555556, \"#d8576b\"], [0.6666666666666666, \"#ed7953\"], [0.7777777777777778, \"#fb9f3a\"], [0.8888888888888888, \"#fdca26\"], [1.0, \"#f0f921\"]]}, \"colorway\": [\"#636efa\", \"#EF553B\", \"#00cc96\", \"#ab63fa\", \"#FFA15A\", \"#19d3f3\", \"#FF6692\", \"#B6E880\", \"#FF97FF\", \"#FECB52\"], \"font\": {\"color\": \"#2a3f5f\"}, \"geo\": {\"bgcolor\": \"white\", \"lakecolor\": \"white\", \"landcolor\": \"#E5ECF6\", \"showlakes\": true, \"showland\": true, \"subunitcolor\": \"white\"}, \"hoverlabel\": {\"align\": \"left\"}, \"hovermode\": \"closest\", \"mapbox\": {\"style\": \"light\"}, \"paper_bgcolor\": \"white\", \"plot_bgcolor\": \"#E5ECF6\", \"polar\": {\"angularaxis\": {\"gridcolor\": \"white\", \"linecolor\": \"white\", \"ticks\": \"\"}, \"bgcolor\": \"#E5ECF6\", \"radialaxis\": {\"gridcolor\": \"white\", \"linecolor\": \"white\", \"ticks\": \"\"}}, \"scene\": {\"xaxis\": {\"backgroundcolor\": \"#E5ECF6\", \"gridcolor\": \"white\", \"gridwidth\": 2, \"linecolor\": \"white\", \"showbackground\": true, \"ticks\": \"\", \"zerolinecolor\": \"white\"}, \"yaxis\": {\"backgroundcolor\": \"#E5ECF6\", \"gridcolor\": \"white\", \"gridwidth\": 2, \"linecolor\": \"white\", \"showbackground\": true, \"ticks\": \"\", \"zerolinecolor\": \"white\"}, \"zaxis\": {\"backgroundcolor\": \"#E5ECF6\", \"gridcolor\": \"white\", \"gridwidth\": 2, \"linecolor\": \"white\", \"showbackground\": true, \"ticks\": \"\", \"zerolinecolor\": \"white\"}}, \"shapedefaults\": {\"line\": {\"color\": \"#2a3f5f\"}}, \"ternary\": {\"aaxis\": {\"gridcolor\": \"white\", \"linecolor\": \"white\", \"ticks\": \"\"}, \"baxis\": {\"gridcolor\": \"white\", \"linecolor\": \"white\", \"ticks\": \"\"}, \"bgcolor\": \"#E5ECF6\", \"caxis\": {\"gridcolor\": \"white\", \"linecolor\": \"white\", \"ticks\": \"\"}}, \"title\": {\"x\": 0.05}, \"xaxis\": {\"automargin\": true, \"gridcolor\": \"white\", \"linecolor\": \"white\", \"ticks\": \"\", \"title\": {\"standoff\": 15}, \"zerolinecolor\": \"white\", \"zerolinewidth\": 2}, \"yaxis\": {\"automargin\": true, \"gridcolor\": \"white\", \"linecolor\": \"white\", \"ticks\": \"\", \"title\": {\"standoff\": 15}, \"zerolinecolor\": \"white\", \"zerolinewidth\": 2}}}, \"title\": {\"text\": \"Word Usage as a Function of Ideal Point (Topic: Energy)\", \"x\": 0.5, \"y\": 0.9}, \"xaxis\": {\"fixedrange\": true, \"range\": [-1.0771640729904175, 1.0771640729904175], \"showgrid\": false, \"showline\": false, \"showticklabels\": false, \"title\": {\"text\": \"Representative ideal points (hover to see names)\"}, \"zeroline\": false}, \"yaxis\": {\"fixedrange\": true, \"range\": [-0.6, 2.5], \"showgrid\": false, \"showline\": false, \"showticklabels\": false, \"zeroline\": false}},                        {\"responsive\": true}                    ).then(function(){\n",
       "                            \n",
       "var gd = document.getElementById('30ca6020-d737-4012-ad84-18ec1dd6efcb');\n",
       "var x = new MutationObserver(function (mutations, observer) {{\n",
       "        var display = window.getComputedStyle(gd).display;\n",
       "        if (!display || display === 'none') {{\n",
       "            console.log([gd, 'removed!']);\n",
       "            Plotly.purge(gd);\n",
       "            observer.disconnect();\n",
       "        }}\n",
       "}});\n",
       "\n",
       "// Listen for the removal of the full notebook cells\n",
       "var notebookContainer = gd.closest('#notebook-container');\n",
       "if (notebookContainer) {{\n",
       "    x.observe(notebookContainer, {childList: true});\n",
       "}}\n",
       "\n",
       "// Listen for the clearing of the current output cell\n",
       "var outputEl = gd.closest('.output');\n",
       "if (outputEl) {{\n",
       "    x.observe(outputEl, {childList: true});\n",
       "}}\n",
       "\n",
       "                        })                };                });            </script>        </div>"
      ]
     },
     "metadata": {},
     "output_type": "display_data"
    }
   ],
   "source": [
    "show_interactive(0)"
   ]
  },
  {
   "cell_type": "code",
   "execution_count": 31,
   "id": "3df06897",
   "metadata": {},
   "outputs": [
    {
     "data": {
      "application/vnd.plotly.v1+json": {
       "config": {
        "plotlyServerURL": "https://plot.ly"
       },
       "data": [
        {
         "hoverinfo": "skip",
         "line": {
          "color": "black",
          "width": 1
         },
         "marker": {
          "size": 1
         },
         "type": "scatter",
         "x": [
          -1.104844331741333,
          1.104844331741333
         ],
         "y": [
          -0.53,
          -0.53
         ]
        },
        {
         "hoverinfo": "x+text",
         "marker": {
          "color": [
           "steelblue",
           "crimson",
           "steelblue",
           "crimson",
           "crimson",
           "steelblue"
          ],
          "size": 8
         },
         "mode": "markers",
         "text": [
          "Alex (D) [0.328]",
          "John (R) [0.317]",
          "Justicia (D) [0.341]",
          "Lauren (R) [0.347]",
          "Mark (R) [0.332]",
          "Mona (D) [0.343]"
         ],
         "type": "scatter",
         "x": [
          -0.8348434567451477,
          0.5391733050346375,
          -1.104844331741333,
          1.0451111793518066,
          0.6700037717819214,
          -0.8104890584945679
         ],
         "y": [
          -0.53,
          -0.53,
          -0.53,
          -0.53,
          -0.53,
          -0.53
         ]
        },
        {
         "base": -0.3,
         "dy": 0.214,
         "hoverinfo": "skip",
         "marker": {
          "color": "rgb(175,122,197)"
         },
         "orientation": "h",
         "text": [
          "daca",
          "immigrant",
          "broken_system",
          "dreamer",
          "legal_immigration",
          "comprehensive_immigration_reform",
          "refugees",
          "america"
         ],
         "textposition": "outside",
         "type": "bar",
         "visible": false,
         "x": [
          0.33907487988471985,
          0.33908629417419434,
          0.34757065773010254,
          0.36208367347717285,
          0.3687308728694916,
          0.36978715658187866,
          0.3701278567314148,
          0.3885694742202759
         ],
         "y0": 0.529
        },
        {
         "base": -0.3,
         "dy": 0.214,
         "hoverinfo": "skip",
         "marker": {
          "color": "rgb(175,122,197)"
         },
         "orientation": "h",
         "text": [
          "broken_system",
          "immigrant_rights",
          "immigrant",
          "dreamer",
          "comprehensive_immigration_reform",
          "refugees",
          "legal_immigration",
          "america"
         ],
         "textposition": "outside",
         "type": "bar",
         "visible": false,
         "x": [
          0.3213402032852173,
          0.32658037543296814,
          0.3304256200790405,
          0.334572434425354,
          0.34158989787101746,
          0.3542134165763855,
          0.3586048185825348,
          0.36728325486183167
         ],
         "y0": 0.529
        },
        {
         "base": -0.3,
         "dy": 0.214,
         "hoverinfo": "skip",
         "marker": {
          "color": "rgb(175,122,197)"
         },
         "orientation": "h",
         "text": [
          "broken_system",
          "dreamer",
          "immigrant_rights",
          "comprehensive_immigration_reform",
          "immigrant",
          "refugees",
          "america",
          "legal_immigration"
         ],
         "textposition": "outside",
         "type": "bar",
         "visible": false,
         "x": [
          0.2971741855144501,
          0.3092333972454071,
          0.31532377004623413,
          0.31561577320098877,
          0.32203420996665955,
          0.339058518409729,
          0.34723132848739624,
          0.3488086462020874
         ],
         "y0": 0.529
        },
        {
         "base": -0.3,
         "dy": 0.214,
         "hoverinfo": "skip",
         "marker": {
          "color": "rgb(175,122,197)"
         },
         "orientation": "h",
         "text": [
          "broken_system",
          "dreamer",
          "comprehensive_immigration_reform",
          "immigrant_rights",
          "immigrant",
          "refugees",
          "america",
          "legal_immigration"
         ],
         "textposition": "outside",
         "type": "bar",
         "visible": false,
         "x": [
          0.2749040424823761,
          0.28588926792144775,
          0.29168421030044556,
          0.30451300740242004,
          0.31390294432640076,
          0.32462430000305176,
          0.3283386826515198,
          0.33933040499687195
         ],
         "y0": 0.529
        },
        {
         "base": -0.3,
         "dy": 0.214,
         "hoverinfo": "skip",
         "marker": {
          "color": "rgb(175,122,197)"
         },
         "orientation": "h",
         "text": [
          "broken_system",
          "dreamer",
          "comprehensive_immigration_reform",
          "immigrant_rights",
          "immigrant",
          "america",
          "refugees",
          "legal_immigration"
         ],
         "textposition": "outside",
         "type": "bar",
         "visible": false,
         "x": [
          0.25437551736831665,
          0.2643774747848511,
          0.26962968707084656,
          0.2941288352012634,
          0.3060227632522583,
          0.31053489446640015,
          0.31087350845336914,
          0.33015862107276917
         ],
         "y0": 0.529
        },
        {
         "base": -0.3,
         "dy": 0.214,
         "hoverinfo": "skip",
         "marker": {
          "color": "rgb(175,122,197)"
         },
         "orientation": "h",
         "text": [
          "broken_system",
          "dreamer",
          "comprehensive_immigration_reform",
          "immigrant_rights",
          "america",
          "refugees",
          "immigrant",
          "legal_immigration"
         ],
         "textposition": "outside",
         "type": "bar",
         "visible": false,
         "x": [
          0.23544727265834808,
          0.24454914033412933,
          0.24930043518543243,
          0.28415271639823914,
          0.29375410079956055,
          0.2977714240550995,
          0.29838496446609497,
          0.32128244638442993
         ],
         "y0": 0.529
        },
        {
         "base": -0.3,
         "dy": 0.214,
         "hoverinfo": "skip",
         "marker": {
          "color": "rgb(175,122,197)"
         },
         "orientation": "h",
         "text": [
          "broken_system",
          "dreamer",
          "comprehensive_immigration_reform",
          "immigrant_rights",
          "america",
          "refugees",
          "immigrant",
          "legal_immigration"
         ],
         "textposition": "outside",
         "type": "bar",
         "visible": false,
         "x": [
          0.2179897427558899,
          0.22626790404319763,
          0.23055726289749146,
          0.274567186832428,
          0.2779347896575928,
          0.28528496623039246,
          0.29098138213157654,
          0.31269121170043945
         ],
         "y0": 0.529
        },
        {
         "base": -0.3,
         "dy": 0.214,
         "hoverinfo": "skip",
         "marker": {
          "color": "rgb(175,122,197)"
         },
         "orientation": "h",
         "text": [
          "broken_system",
          "dreamer",
          "comprehensive_immigration_reform",
          "america",
          "immigrant_rights",
          "refugees",
          "immigrant",
          "legal_immigration"
         ],
         "textposition": "outside",
         "type": "bar",
         "visible": false,
         "x": [
          0.20188432931900024,
          0.20940877497196198,
          0.21327272057533264,
          0.26301896572113037,
          0.2653554379940033,
          0.2733828127384186,
          0.28380393981933594,
          0.3043748736381531
         ],
         "y0": 0.529
        },
        {
         "base": -0.3,
         "dy": 0.214,
         "hoverinfo": "skip",
         "marker": {
          "color": "rgb(175,122,197)"
         },
         "orientation": "h",
         "text": [
          "broken_system",
          "dreamer",
          "comprehensive_immigration_reform",
          "america",
          "immigrant_rights",
          "refugees",
          "immigrant",
          "legal_immigration"
         ],
         "textposition": "outside",
         "type": "bar",
         "visible": false,
         "x": [
          0.18702222406864166,
          0.19385723769664764,
          0.1973295956850052,
          0.24895252287387848,
          0.2565014958381653,
          0.26203545928001404,
          0.2768450379371643,
          0.29632365703582764
         ],
         "y0": 0.529
        },
        {
         "base": -0.3,
         "dy": 0.214,
         "hoverinfo": "skip",
         "marker": {
          "color": "rgb(175,122,197)"
         },
         "orientation": "h",
         "text": [
          "broken_system",
          "dreamer",
          "comprehensive_immigration_reform",
          "america",
          "immigrant_rights",
          "refugees",
          "immigrant",
          "legal_immigration"
         ],
         "textposition": "outside",
         "type": "bar",
         "visible": false,
         "x": [
          0.1733037680387497,
          0.17950817942619324,
          0.182620570063591,
          0.23568466305732727,
          0.24799013137817383,
          0.2512149214744568,
          0.2700970768928528,
          0.2885282635688782
         ],
         "y0": 0.529
        },
        {
         "base": -0.3,
         "dy": 0.214,
         "hoverinfo": "skip",
         "marker": {
          "color": "rgb(175,122,197)"
         },
         "orientation": "h",
         "text": [
          "broken_system",
          "dreamer",
          "comprehensive_immigration_reform",
          "america",
          "immigrant_rights",
          "refugees",
          "immigrant",
          "legal_immigration"
         ],
         "textposition": "outside",
         "type": "bar",
         "visible": false,
         "x": [
          0.16063746809959412,
          0.16626527905464172,
          0.16904710233211517,
          0.22316768765449524,
          0.23980671167373657,
          0.24089471995830536,
          0.26355308294296265,
          0.28097954392433167
         ],
         "y0": 0.529
        },
        {
         "base": -0.3,
         "dy": 0.214,
         "hoverinfo": "skip",
         "marker": {
          "color": "rgb(175,122,197)"
         },
         "orientation": "h",
         "text": [
          "broken_system",
          "dreamer",
          "comprehensive_immigration_reform",
          "america",
          "refugees",
          "immigrant_rights",
          "immigrant",
          "legal_immigration"
         ],
         "textposition": "outside",
         "type": "bar",
         "visible": false,
         "x": [
          0.14893946051597595,
          0.15404018759727478,
          0.15651869773864746,
          0.2113569974899292,
          0.23104988038539886,
          0.2319374829530716,
          0.2572060525417328,
          0.27366894483566284
         ],
         "y0": 0.529
        },
        {
         "base": -0.3,
         "dy": 0.214,
         "hoverinfo": "skip",
         "marker": {
          "color": "rgb(175,122,197)"
         },
         "orientation": "h",
         "text": [
          "broken_system",
          "dreamer",
          "comprehensive_immigration_reform",
          "america",
          "refugees",
          "immigrant_rights",
          "immigrant",
          "legal_immigration"
         ],
         "textposition": "outside",
         "type": "bar",
         "visible": false,
         "x": [
          0.13813281059265137,
          0.1427518129348755,
          0.14495237171649933,
          0.20021066069602966,
          0.22165657579898834,
          0.2243690937757492,
          0.2510494887828827,
          0.2665880620479584
         ],
         "y0": 0.529
        },
        {
         "base": -0.3,
         "dy": 0.214,
         "hoverinfo": "skip",
         "marker": {
          "color": "rgb(175,122,197)"
         },
         "orientation": "h",
         "text": [
          "comprehensive_immigration_reform",
          "law",
          "immigration",
          "america",
          "refugees",
          "immigrant_rights",
          "immigrant",
          "legal_immigration"
         ],
         "textposition": "outside",
         "type": "bar",
         "visible": false,
         "x": [
          0.13427184522151947,
          0.1354203224182129,
          0.13933447003364563,
          0.18968939781188965,
          0.21269245445728302,
          0.21708890795707703,
          0.24507692456245422,
          0.25972887873649597
         ],
         "y0": 0.529
        },
        {
         "base": -0.3,
         "dy": 0.214,
         "hoverinfo": "skip",
         "marker": {
          "color": "rgb(175,122,197)"
         },
         "orientation": "h",
         "text": [
          "homeland_security",
          "law",
          "immigration",
          "america",
          "refugees",
          "immigrant_rights",
          "immigrant",
          "legal_immigration"
         ],
         "textposition": "outside",
         "type": "bar",
         "visible": false,
         "x": [
          0.13719694316387177,
          0.13873101770877838,
          0.14245304465293884,
          0.17975634336471558,
          0.2041362226009369,
          0.21008490025997162,
          0.2392822504043579,
          0.2530837655067444
         ],
         "y0": 0.529
        },
        {
         "base": -0.3,
         "dy": 0.214,
         "hoverinfo": "skip",
         "marker": {
          "color": "rgb(175,122,197)"
         },
         "orientation": "h",
         "text": [
          "homeland_security",
          "law",
          "immigration",
          "america",
          "refugees",
          "immigrant_rights",
          "immigrant",
          "legal_immigration"
         ],
         "textposition": "outside",
         "type": "bar",
         "visible": false,
         "x": [
          0.14114251732826233,
          0.14215068519115448,
          0.14566363394260406,
          0.17037686705589294,
          0.19596770405769348,
          0.20334550738334656,
          0.233659565448761,
          0.24664519727230072
         ],
         "y0": 0.529
        },
        {
         "base": -0.3,
         "dy": 0.214,
         "hoverinfo": "skip",
         "marker": {
          "color": "rgb(175,122,197)"
         },
         "orientation": "h",
         "text": [
          "homeland_security",
          "law",
          "immigration",
          "america",
          "refugees",
          "immigrant_rights",
          "immigrant",
          "legal_immigration"
         ],
         "textposition": "outside",
         "type": "bar",
         "visible": false,
         "x": [
          0.14522872865200043,
          0.1456833779811859,
          0.14896924793720245,
          0.16151851415634155,
          0.18816791474819183,
          0.1968597173690796,
          0.22820310294628143,
          0.2404060810804367
         ],
         "y0": 0.529
        },
        {
         "base": -0.3,
         "dy": 0.214,
         "hoverinfo": "skip",
         "marker": {
          "color": "rgb(175,122,197)"
         },
         "orientation": "h",
         "text": [
          "law",
          "homeland_security",
          "immigration",
          "america",
          "refugees",
          "immigrant_rights",
          "immigrant",
          "legal_immigration"
         ],
         "textposition": "outside",
         "type": "bar",
         "visible": false,
         "x": [
          0.14933331310749054,
          0.14946120977401733,
          0.15237310528755188,
          0.15315081179141998,
          0.18071867525577545,
          0.19061702489852905,
          0.2229074239730835,
          0.23435957729816437
         ],
         "y0": 0.529
        },
        {
         "base": -0.3,
         "dy": 0.214,
         "hoverinfo": "skip",
         "marker": {
          "color": "rgb(175,122,197)"
         },
         "orientation": "h",
         "text": [
          "america",
          "law",
          "homeland_security",
          "immigration",
          "refugees",
          "immigrant_rights",
          "immigrant",
          "legal_immigration"
         ],
         "textposition": "outside",
         "type": "bar",
         "visible": false,
         "x": [
          0.14524511992931366,
          0.15310487151145935,
          0.153845876455307,
          0.1558784544467926,
          0.17360293865203857,
          0.1846073865890503,
          0.21776720881462097,
          0.22849901020526886
         ],
         "y0": 0.529
        },
        {
         "base": -0.3,
         "dy": 0.214,
         "hoverinfo": "skip",
         "marker": {
          "color": "rgb(175,122,197)"
         },
         "orientation": "h",
         "text": [
          "america",
          "law",
          "homeland_security",
          "immigration",
          "refugees",
          "immigrant_rights",
          "immigrant",
          "legal_immigration"
         ],
         "textposition": "outside",
         "type": "bar",
         "visible": false,
         "x": [
          0.13777458667755127,
          0.15700265765190125,
          0.15838879346847534,
          0.1594887673854828,
          0.1668044626712799,
          0.17882120609283447,
          0.21277737617492676,
          0.2228180319070816
         ],
         "y0": 0.529
        },
        {
         "base": -0.3,
         "dy": 0.214,
         "hoverinfo": "skip",
         "marker": {
          "color": "rgb(175,122,197)"
         },
         "orientation": "h",
         "text": [
          "border",
          "refugees",
          "law",
          "homeland_security",
          "immigration",
          "immigrant_rights",
          "immigrant",
          "legal_immigration"
         ],
         "textposition": "outside",
         "type": "bar",
         "visible": false,
         "x": [
          0.13632847368717194,
          0.16030782461166382,
          0.16103142499923706,
          0.16309641301631927,
          0.16320756077766418,
          0.1732492744922638,
          0.2079329490661621,
          0.21731054782867432
         ],
         "y0": 0.529
        },
        {
         "base": -0.3,
         "dy": 0.214,
         "hoverinfo": "skip",
         "marker": {
          "color": "rgb(175,122,197)"
         },
         "orientation": "h",
         "text": [
          "border",
          "refugees",
          "law",
          "immigration",
          "immigrant_rights",
          "homeland_security",
          "immigrant",
          "legal_immigration"
         ],
         "textposition": "outside",
         "type": "bar",
         "visible": true,
         "x": [
          0.14069122076034546,
          0.1540984809398651,
          0.16519613564014435,
          0.16703850030899048,
          0.16788288950920105,
          0.16797536611557007,
          0.20322926342487335,
          0.21197062730789185
         ],
         "y0": 0.529
        },
        {
         "base": -0.3,
         "dy": 0.214,
         "hoverinfo": "skip",
         "marker": {
          "color": "rgb(175,122,197)"
         },
         "orientation": "h",
         "text": [
          "border",
          "refugees",
          "immigrant_rights",
          "law",
          "immigration",
          "homeland_security",
          "immigrant",
          "legal_immigration"
         ],
         "textposition": "outside",
         "type": "bar",
         "visible": false,
         "x": [
          0.14521710574626923,
          0.14816254377365112,
          0.1627136617898941,
          0.16950199007987976,
          0.1709854006767273,
          0.1730327010154724,
          0.1986616849899292,
          0.20679257810115814
         ],
         "y0": 0.529
        },
        {
         "base": -0.3,
         "dy": 0.214,
         "hoverinfo": "skip",
         "marker": {
          "color": "rgb(175,122,197)"
         },
         "orientation": "h",
         "text": [
          "refugees",
          "border",
          "immigrant_rights",
          "law",
          "immigration",
          "homeland_security",
          "immigrant",
          "legal_immigration"
         ],
         "textposition": "outside",
         "type": "bar",
         "visible": false,
         "x": [
          0.14248694479465485,
          0.14991290867328644,
          0.15773357450962067,
          0.17395438253879547,
          0.1750522255897522,
          0.17827564477920532,
          0.19422583281993866,
          0.20177093148231506
         ],
         "y0": 0.529
        },
        {
         "base": -0.3,
         "dy": 0.214,
         "hoverinfo": "skip",
         "marker": {
          "color": "rgb(175,122,197)"
         },
         "orientation": "h",
         "text": [
          "refugees",
          "immigrant_rights",
          "border",
          "law",
          "immigration",
          "homeland_security",
          "immigrant",
          "legal_immigration"
         ],
         "textposition": "outside",
         "type": "bar",
         "visible": false,
         "x": [
          0.13705921173095703,
          0.1529349684715271,
          0.1547856330871582,
          0.17855894565582275,
          0.1792430877685547,
          0.18371182680130005,
          0.1899174004793167,
          0.19690044224262238
         ],
         "y0": 0.529
        },
        {
         "base": -0.3,
         "dy": 0.214,
         "hoverinfo": "skip",
         "marker": {
          "color": "rgb(175,122,197)"
         },
         "orientation": "h",
         "text": [
          "secure",
          "immigrant_rights",
          "border",
          "law",
          "immigration",
          "immigrant",
          "homeland_security",
          "legal_immigration"
         ],
         "textposition": "outside",
         "type": "bar",
         "visible": false,
         "x": [
          0.1346559226512909,
          0.14831052720546722,
          0.15984265506267548,
          0.1833215206861496,
          0.1835622638463974,
          0.18573233485221863,
          0.1893492341041565,
          0.19217601418495178
         ],
         "y0": 0.529
        },
        {
         "base": -0.3,
         "dy": 0.214,
         "hoverinfo": "skip",
         "marker": {
          "color": "rgb(175,122,197)"
         },
         "orientation": "h",
         "text": [
          "secure",
          "immigrant_rights",
          "border",
          "immigrant",
          "legal_immigration",
          "immigration",
          "law",
          "homeland_security"
         ],
         "textposition": "outside",
         "type": "bar",
         "visible": false,
         "x": [
          0.14117269217967987,
          0.14385326206684113,
          0.16509167850017548,
          0.18166668713092804,
          0.1875927746295929,
          0.18801413476467133,
          0.18824823200702667,
          0.19519618153572083
         ],
         "y0": 0.529
        },
        {
         "base": -0.3,
         "dy": 0.214,
         "hoverinfo": "skip",
         "marker": {
          "color": "rgb(175,122,197)"
         },
         "orientation": "h",
         "text": [
          "immigrant_rights",
          "secure",
          "border",
          "immigrant",
          "legal_immigration",
          "immigration",
          "law",
          "homeland_security"
         ],
         "textposition": "outside",
         "type": "bar",
         "visible": false,
         "x": [
          0.13955648243427277,
          0.14803612232208252,
          0.1705406904220581,
          0.17771662771701813,
          0.18314598500728607,
          0.19260331988334656,
          0.19334548711776733,
          0.20126135647296906
         ],
         "y0": 0.529
        },
        {
         "base": -0.3,
         "dy": 0.214,
         "hoverinfo": "skip",
         "marker": {
          "color": "rgb(175,122,197)"
         },
         "orientation": "h",
         "text": [
          "immigrant_rights",
          "secure",
          "immigrant",
          "border",
          "legal_immigration",
          "immigration",
          "law",
          "homeland_security"
         ],
         "textposition": "outside",
         "type": "bar",
         "visible": false,
         "x": [
          0.1354137808084488,
          0.15526601672172546,
          0.17387844622135162,
          0.17619816958904266,
          0.17883113026618958,
          0.19733457267284393,
          0.19861993193626404,
          0.20755381882190704
         ],
         "y0": 0.529
        },
        {
         "base": -0.3,
         "dy": 0.214,
         "hoverinfo": "skip",
         "marker": {
          "color": "rgb(175,122,197)"
         },
         "orientation": "h",
         "text": [
          "immigrant_rights",
          "secure",
          "immigrant",
          "legal_immigration",
          "border",
          "immigration",
          "law",
          "homeland_security"
         ],
         "textposition": "outside",
         "type": "bar",
         "visible": false,
         "x": [
          0.13141903281211853,
          0.16288341581821442,
          0.17014862596988678,
          0.17464381456375122,
          0.18207280337810516,
          0.202212855219841,
          0.20407849550247192,
          0.21408310532569885
         ],
         "y0": 0.529
        },
        {
         "base": -0.3,
         "dy": 0.214,
         "hoverinfo": "skip",
         "marker": {
          "color": "rgb(175,122,197)"
         },
         "orientation": "h",
         "text": [
          "illegal_immigrants",
          "immigrant",
          "legal_immigration",
          "secure",
          "border",
          "immigration",
          "law",
          "homeland_security"
         ],
         "textposition": "outside",
         "type": "bar",
         "visible": false,
         "x": [
          0.12771037220954895,
          0.166523739695549,
          0.17057986557483673,
          0.17091064155101776,
          0.1881738305091858,
          0.20724329352378845,
          0.2097284197807312,
          0.2208591252565384
         ],
         "y0": 0.529
        },
        {
         "base": -0.3,
         "dy": 0.214,
         "hoverinfo": "skip",
         "marker": {
          "color": "rgb(175,122,197)"
         },
         "orientation": "h",
         "text": [
          "illegal_immigrants",
          "immigrant",
          "legal_immigration",
          "secure",
          "border",
          "immigration",
          "law",
          "homeland_security"
         ],
         "textposition": "outside",
         "type": "bar",
         "visible": false,
         "x": [
          0.1381552666425705,
          0.1630004346370697,
          0.1666351854801178,
          0.17937135696411133,
          0.1945108324289322,
          0.21243126690387726,
          0.21557730436325073,
          0.22789230942726135
         ],
         "y0": 0.529
        },
        {
         "base": -0.3,
         "dy": 0.214,
         "hoverinfo": "skip",
         "marker": {
          "color": "rgb(175,122,197)"
         },
         "orientation": "h",
         "text": [
          "illegal_immigrants",
          "immigrant",
          "legal_immigration",
          "secure",
          "border",
          "immigration",
          "law",
          "homeland_security"
         ],
         "textposition": "outside",
         "type": "bar",
         "visible": false,
         "x": [
          0.1494932621717453,
          0.15957556664943695,
          0.16280585527420044,
          0.18829065561294556,
          0.2010938674211502,
          0.21778225898742676,
          0.22163300216197968,
          0.2351934313774109
         ],
         "y0": 0.529
        },
        {
         "base": -0.3,
         "dy": 0.214,
         "hoverinfo": "skip",
         "marker": {
          "color": "rgb(175,122,197)"
         },
         "orientation": "h",
         "text": [
          "legal_immigration",
          "illegal",
          "illegal_immigrants",
          "secure",
          "border",
          "immigration",
          "law",
          "homeland_security"
         ],
         "textposition": "outside",
         "type": "bar",
         "visible": false,
         "x": [
          0.1590881496667862,
          0.15940821170806885,
          0.16180381178855896,
          0.19769525527954102,
          0.20793336629867554,
          0.22330206632614136,
          0.22790372371673584,
          0.24277395009994507
         ],
         "y0": 0.529
        },
        {
         "base": -0.3,
         "dy": 0.214,
         "hoverinfo": "skip",
         "marker": {
          "color": "rgb(175,122,197)"
         },
         "orientation": "h",
         "text": [
          "wall",
          "illegal",
          "illegal_immigrants",
          "secure",
          "border",
          "immigration",
          "law",
          "homeland_security"
         ],
         "textposition": "outside",
         "type": "bar",
         "visible": false,
         "x": [
          0.1631736010313034,
          0.17240522801876068,
          0.17517365515232086,
          0.20761342346668243,
          0.21504037082195282,
          0.2289966344833374,
          0.23439808189868927,
          0.2506456971168518
         ],
         "y0": 0.529
        },
        {
         "base": -0.3,
         "dy": 0.214,
         "hoverinfo": "skip",
         "marker": {
          "color": "rgb(175,122,197)"
         },
         "orientation": "h",
         "text": [
          "wall",
          "illegal",
          "illegal_immigrants",
          "secure",
          "border",
          "immigration",
          "law",
          "homeland_security"
         ],
         "textposition": "outside",
         "type": "bar",
         "visible": false,
         "x": [
          0.17617985606193542,
          0.18649815022945404,
          0.18969756364822388,
          0.218075230717659,
          0.2224263697862625,
          0.2348722219467163,
          0.24112506210803986,
          0.25882112979888916
         ],
         "y0": 0.529
        },
        {
         "base": -0.3,
         "dy": 0.214,
         "hoverinfo": "skip",
         "marker": {
          "color": "rgb(175,122,197)"
         },
         "orientation": "h",
         "text": [
          "wall",
          "illegal",
          "illegal_immigrants",
          "secure",
          "border",
          "immigration",
          "law",
          "homeland_security"
         ],
         "textposition": "outside",
         "type": "bar",
         "visible": false,
         "x": [
          0.1902591437101364,
          0.20178231596946716,
          0.20547911524772644,
          0.2291126251220703,
          0.23010335862636566,
          0.24093525111675262,
          0.24809403717517853,
          0.26731327176094055
         ],
         "y0": 0.529
        },
        {
         "base": -0.3,
         "dy": 0.214,
         "hoverinfo": "skip",
         "marker": {
          "color": "rgb(175,122,197)"
         },
         "orientation": "h",
         "text": [
          "wall",
          "illegal",
          "illegal_immigrants",
          "border",
          "secure",
          "immigration",
          "law",
          "homeland_security"
         ],
         "textposition": "outside",
         "type": "bar",
         "visible": false,
         "x": [
          0.20550282299518585,
          0.2183615267276764,
          0.22263145446777344,
          0.2380838841199875,
          0.24075952172279358,
          0.24719247221946716,
          0.25531476736068726,
          0.27613571286201477
         ],
         "y0": 0.529
        },
        {
         "base": -0.3,
         "dy": 0.214,
         "hoverinfo": "skip",
         "marker": {
          "color": "rgb(175,122,197)"
         },
         "orientation": "h",
         "text": [
          "wall",
          "illegal",
          "illegal_immigrants",
          "border",
          "secure",
          "immigration",
          "law",
          "homeland_security"
         ],
         "textposition": "outside",
         "type": "bar",
         "visible": false,
         "x": [
          0.22201013565063477,
          0.23634882271289825,
          0.2412782609462738,
          0.24638116359710693,
          0.2530519366264343,
          0.25365081429481506,
          0.26279741525650024,
          0.2853027582168579
         ],
         "y0": 0.529
        },
        {
         "base": -0.3,
         "dy": 0.214,
         "hoverinfo": "skip",
         "marker": {
          "color": "rgb(175,122,197)"
         },
         "orientation": "h",
         "text": [
          "wall",
          "border",
          "illegal",
          "immigration",
          "illegal_immigrants",
          "secure",
          "law",
          "homeland_security"
         ],
         "textposition": "outside",
         "type": "bar",
         "visible": false,
         "x": [
          0.23988930881023407,
          0.2550089657306671,
          0.255867600440979,
          0.2603175640106201,
          0.2615549564361572,
          0.26602810621261597,
          0.27055275440216064,
          0.2948293387889862
         ],
         "y0": 0.529
        },
        {
         "base": -0.3,
         "dy": 0.214,
         "hoverinfo": "skip",
         "marker": {
          "color": "rgb(175,122,197)"
         },
         "orientation": "h",
         "text": [
          "wall",
          "border",
          "immigration",
          "illegal",
          "law",
          "secure",
          "illegal_immigrants",
          "homeland_security"
         ],
         "textposition": "outside",
         "type": "bar",
         "visible": false,
         "x": [
          0.25925779342651367,
          0.2639816403388977,
          0.26720020174980164,
          0.2770521640777588,
          0.27859193086624146,
          0.27972882986068726,
          0.2836093604564667,
          0.3047310411930084
         ],
         "y0": 0.529
        },
        {
         "base": -0.3,
         "dy": 0.214,
         "hoverinfo": "skip",
         "marker": {
          "color": "rgb(175,122,197)"
         },
         "orientation": "h",
         "text": [
          "border",
          "immigration",
          "wall",
          "law",
          "secure",
          "illegal",
          "illegal_immigrants",
          "homeland_security"
         ],
         "textposition": "outside",
         "type": "bar",
         "visible": false,
         "x": [
          0.27331438660621643,
          0.27430662512779236,
          0.28024357557296753,
          0.2869265377521515,
          0.2941972613334656,
          0.3000490069389343,
          0.3076033890247345,
          0.3150242865085602
         ],
         "y0": 0.529
        },
        {
         "base": -0.3,
         "dy": 0.214,
         "hoverinfo": "skip",
         "marker": {
          "color": "rgb(175,122,197)"
         },
         "orientation": "h",
         "text": [
          "border",
          "enforce",
          "law",
          "wall",
          "secure",
          "illegal",
          "homeland_security",
          "illegal_immigrants"
         ],
         "textposition": "outside",
         "type": "bar",
         "visible": false,
         "x": [
          0.283022940158844,
          0.29239919781684875,
          0.2955687642097473,
          0.30298593640327454,
          0.30947941541671753,
          0.32501786947250366,
          0.32572615146636963,
          0.3337141275405884
         ],
         "y0": 0.529
        },
        {
         "base": -0.3,
         "dy": 0.214,
         "hoverinfo": "skip",
         "marker": {
          "color": "rgb(175,122,197)"
         },
         "orientation": "h",
         "text": [
          "amnesty",
          "law",
          "enforce",
          "secure",
          "wall",
          "homeland_security",
          "illegal",
          "illegal_immigrants"
         ],
         "textposition": "outside",
         "type": "bar",
         "visible": false,
         "x": [
          0.30379724502563477,
          0.3045313060283661,
          0.31573307514190674,
          0.3256241977214813,
          0.3276364207267761,
          0.33685457706451416,
          0.35213303565979004,
          0.3621353209018707
         ],
         "y0": 0.529
        },
        {
         "base": -0.3,
         "dy": 0.214,
         "hoverinfo": "skip",
         "marker": {
          "color": "rgb(175,122,197)"
         },
         "orientation": "h",
         "text": [
          "law",
          "amnesty",
          "enforce",
          "secure",
          "homeland_security",
          "wall",
          "illegal",
          "illegal_immigrants"
         ],
         "textposition": "outside",
         "type": "bar",
         "visible": false,
         "x": [
          0.3138275742530823,
          0.3278575837612152,
          0.34098970890045166,
          0.3426836133003235,
          0.34842851758003235,
          0.35436007380485535,
          0.381584495306015,
          0.39307937026023865
         ],
         "y0": 0.529
        }
       ],
       "layout": {
        "annotations": [
         {
          "font": {
           "size": 14
          },
          "showarrow": false,
          "text": "Move slider to change ideal point",
          "x": 0.5,
          "xref": "paper",
          "y": 0.255,
          "yref": "paper"
         }
        ],
        "paper_bgcolor": "rgba(0,0,0,0)",
        "plot_bgcolor": "rgba(0,0,0,0)",
        "showlegend": false,
        "sliders": [
         {
          "active": 22,
          "currentvalue": {
           "prefix": "Ideal Point: "
          },
          "steps": [
           {
            "args": [
             {
              "visible": [
               true,
               true,
               true,
               false,
               false,
               false,
               false,
               false,
               false,
               false,
               false,
               false,
               false,
               false,
               false,
               false,
               false,
               false,
               false,
               false,
               false,
               false,
               false,
               false,
               false,
               false,
               false,
               false,
               false,
               false,
               false,
               false,
               false,
               false,
               false,
               false,
               false,
               false,
               false,
               false,
               false,
               false,
               false,
               false,
               false,
               false,
               false
              ]
             }
            ],
            "label": "-1.10",
            "method": "update"
           },
           {
            "args": [
             {
              "visible": [
               true,
               true,
               false,
               true,
               false,
               false,
               false,
               false,
               false,
               false,
               false,
               false,
               false,
               false,
               false,
               false,
               false,
               false,
               false,
               false,
               false,
               false,
               false,
               false,
               false,
               false,
               false,
               false,
               false,
               false,
               false,
               false,
               false,
               false,
               false,
               false,
               false,
               false,
               false,
               false,
               false,
               false,
               false,
               false,
               false,
               false,
               false
              ]
             }
            ],
            "label": "-1.05",
            "method": "update"
           },
           {
            "args": [
             {
              "visible": [
               true,
               true,
               false,
               false,
               true,
               false,
               false,
               false,
               false,
               false,
               false,
               false,
               false,
               false,
               false,
               false,
               false,
               false,
               false,
               false,
               false,
               false,
               false,
               false,
               false,
               false,
               false,
               false,
               false,
               false,
               false,
               false,
               false,
               false,
               false,
               false,
               false,
               false,
               false,
               false,
               false,
               false,
               false,
               false,
               false,
               false,
               false
              ]
             }
            ],
            "label": "-1.00",
            "method": "update"
           },
           {
            "args": [
             {
              "visible": [
               true,
               true,
               false,
               false,
               false,
               true,
               false,
               false,
               false,
               false,
               false,
               false,
               false,
               false,
               false,
               false,
               false,
               false,
               false,
               false,
               false,
               false,
               false,
               false,
               false,
               false,
               false,
               false,
               false,
               false,
               false,
               false,
               false,
               false,
               false,
               false,
               false,
               false,
               false,
               false,
               false,
               false,
               false,
               false,
               false,
               false,
               false
              ]
             }
            ],
            "label": "-0.95",
            "method": "update"
           },
           {
            "args": [
             {
              "visible": [
               true,
               true,
               false,
               false,
               false,
               false,
               true,
               false,
               false,
               false,
               false,
               false,
               false,
               false,
               false,
               false,
               false,
               false,
               false,
               false,
               false,
               false,
               false,
               false,
               false,
               false,
               false,
               false,
               false,
               false,
               false,
               false,
               false,
               false,
               false,
               false,
               false,
               false,
               false,
               false,
               false,
               false,
               false,
               false,
               false,
               false,
               false
              ]
             }
            ],
            "label": "-0.90",
            "method": "update"
           },
           {
            "args": [
             {
              "visible": [
               true,
               true,
               false,
               false,
               false,
               false,
               false,
               true,
               false,
               false,
               false,
               false,
               false,
               false,
               false,
               false,
               false,
               false,
               false,
               false,
               false,
               false,
               false,
               false,
               false,
               false,
               false,
               false,
               false,
               false,
               false,
               false,
               false,
               false,
               false,
               false,
               false,
               false,
               false,
               false,
               false,
               false,
               false,
               false,
               false,
               false,
               false
              ]
             }
            ],
            "label": "-0.85",
            "method": "update"
           },
           {
            "args": [
             {
              "visible": [
               true,
               true,
               false,
               false,
               false,
               false,
               false,
               false,
               true,
               false,
               false,
               false,
               false,
               false,
               false,
               false,
               false,
               false,
               false,
               false,
               false,
               false,
               false,
               false,
               false,
               false,
               false,
               false,
               false,
               false,
               false,
               false,
               false,
               false,
               false,
               false,
               false,
               false,
               false,
               false,
               false,
               false,
               false,
               false,
               false,
               false,
               false
              ]
             }
            ],
            "label": "-0.80",
            "method": "update"
           },
           {
            "args": [
             {
              "visible": [
               true,
               true,
               false,
               false,
               false,
               false,
               false,
               false,
               false,
               true,
               false,
               false,
               false,
               false,
               false,
               false,
               false,
               false,
               false,
               false,
               false,
               false,
               false,
               false,
               false,
               false,
               false,
               false,
               false,
               false,
               false,
               false,
               false,
               false,
               false,
               false,
               false,
               false,
               false,
               false,
               false,
               false,
               false,
               false,
               false,
               false,
               false
              ]
             }
            ],
            "label": "-0.75",
            "method": "update"
           },
           {
            "args": [
             {
              "visible": [
               true,
               true,
               false,
               false,
               false,
               false,
               false,
               false,
               false,
               false,
               true,
               false,
               false,
               false,
               false,
               false,
               false,
               false,
               false,
               false,
               false,
               false,
               false,
               false,
               false,
               false,
               false,
               false,
               false,
               false,
               false,
               false,
               false,
               false,
               false,
               false,
               false,
               false,
               false,
               false,
               false,
               false,
               false,
               false,
               false,
               false,
               false
              ]
             }
            ],
            "label": "-0.70",
            "method": "update"
           },
           {
            "args": [
             {
              "visible": [
               true,
               true,
               false,
               false,
               false,
               false,
               false,
               false,
               false,
               false,
               false,
               true,
               false,
               false,
               false,
               false,
               false,
               false,
               false,
               false,
               false,
               false,
               false,
               false,
               false,
               false,
               false,
               false,
               false,
               false,
               false,
               false,
               false,
               false,
               false,
               false,
               false,
               false,
               false,
               false,
               false,
               false,
               false,
               false,
               false,
               false,
               false
              ]
             }
            ],
            "label": "-0.65",
            "method": "update"
           },
           {
            "args": [
             {
              "visible": [
               true,
               true,
               false,
               false,
               false,
               false,
               false,
               false,
               false,
               false,
               false,
               false,
               true,
               false,
               false,
               false,
               false,
               false,
               false,
               false,
               false,
               false,
               false,
               false,
               false,
               false,
               false,
               false,
               false,
               false,
               false,
               false,
               false,
               false,
               false,
               false,
               false,
               false,
               false,
               false,
               false,
               false,
               false,
               false,
               false,
               false,
               false
              ]
             }
            ],
            "label": "-0.60",
            "method": "update"
           },
           {
            "args": [
             {
              "visible": [
               true,
               true,
               false,
               false,
               false,
               false,
               false,
               false,
               false,
               false,
               false,
               false,
               false,
               true,
               false,
               false,
               false,
               false,
               false,
               false,
               false,
               false,
               false,
               false,
               false,
               false,
               false,
               false,
               false,
               false,
               false,
               false,
               false,
               false,
               false,
               false,
               false,
               false,
               false,
               false,
               false,
               false,
               false,
               false,
               false,
               false,
               false
              ]
             }
            ],
            "label": "-0.55",
            "method": "update"
           },
           {
            "args": [
             {
              "visible": [
               true,
               true,
               false,
               false,
               false,
               false,
               false,
               false,
               false,
               false,
               false,
               false,
               false,
               false,
               true,
               false,
               false,
               false,
               false,
               false,
               false,
               false,
               false,
               false,
               false,
               false,
               false,
               false,
               false,
               false,
               false,
               false,
               false,
               false,
               false,
               false,
               false,
               false,
               false,
               false,
               false,
               false,
               false,
               false,
               false,
               false,
               false
              ]
             }
            ],
            "label": "-0.50",
            "method": "update"
           },
           {
            "args": [
             {
              "visible": [
               true,
               true,
               false,
               false,
               false,
               false,
               false,
               false,
               false,
               false,
               false,
               false,
               false,
               false,
               false,
               true,
               false,
               false,
               false,
               false,
               false,
               false,
               false,
               false,
               false,
               false,
               false,
               false,
               false,
               false,
               false,
               false,
               false,
               false,
               false,
               false,
               false,
               false,
               false,
               false,
               false,
               false,
               false,
               false,
               false,
               false,
               false
              ]
             }
            ],
            "label": "-0.45",
            "method": "update"
           },
           {
            "args": [
             {
              "visible": [
               true,
               true,
               false,
               false,
               false,
               false,
               false,
               false,
               false,
               false,
               false,
               false,
               false,
               false,
               false,
               false,
               true,
               false,
               false,
               false,
               false,
               false,
               false,
               false,
               false,
               false,
               false,
               false,
               false,
               false,
               false,
               false,
               false,
               false,
               false,
               false,
               false,
               false,
               false,
               false,
               false,
               false,
               false,
               false,
               false,
               false,
               false
              ]
             }
            ],
            "label": "-0.40",
            "method": "update"
           },
           {
            "args": [
             {
              "visible": [
               true,
               true,
               false,
               false,
               false,
               false,
               false,
               false,
               false,
               false,
               false,
               false,
               false,
               false,
               false,
               false,
               false,
               true,
               false,
               false,
               false,
               false,
               false,
               false,
               false,
               false,
               false,
               false,
               false,
               false,
               false,
               false,
               false,
               false,
               false,
               false,
               false,
               false,
               false,
               false,
               false,
               false,
               false,
               false,
               false,
               false,
               false
              ]
             }
            ],
            "label": "-0.35",
            "method": "update"
           },
           {
            "args": [
             {
              "visible": [
               true,
               true,
               false,
               false,
               false,
               false,
               false,
               false,
               false,
               false,
               false,
               false,
               false,
               false,
               false,
               false,
               false,
               false,
               true,
               false,
               false,
               false,
               false,
               false,
               false,
               false,
               false,
               false,
               false,
               false,
               false,
               false,
               false,
               false,
               false,
               false,
               false,
               false,
               false,
               false,
               false,
               false,
               false,
               false,
               false,
               false,
               false
              ]
             }
            ],
            "label": "-0.30",
            "method": "update"
           },
           {
            "args": [
             {
              "visible": [
               true,
               true,
               false,
               false,
               false,
               false,
               false,
               false,
               false,
               false,
               false,
               false,
               false,
               false,
               false,
               false,
               false,
               false,
               false,
               true,
               false,
               false,
               false,
               false,
               false,
               false,
               false,
               false,
               false,
               false,
               false,
               false,
               false,
               false,
               false,
               false,
               false,
               false,
               false,
               false,
               false,
               false,
               false,
               false,
               false,
               false,
               false
              ]
             }
            ],
            "label": "-0.25",
            "method": "update"
           },
           {
            "args": [
             {
              "visible": [
               true,
               true,
               false,
               false,
               false,
               false,
               false,
               false,
               false,
               false,
               false,
               false,
               false,
               false,
               false,
               false,
               false,
               false,
               false,
               false,
               true,
               false,
               false,
               false,
               false,
               false,
               false,
               false,
               false,
               false,
               false,
               false,
               false,
               false,
               false,
               false,
               false,
               false,
               false,
               false,
               false,
               false,
               false,
               false,
               false,
               false,
               false
              ]
             }
            ],
            "label": "-0.20",
            "method": "update"
           },
           {
            "args": [
             {
              "visible": [
               true,
               true,
               false,
               false,
               false,
               false,
               false,
               false,
               false,
               false,
               false,
               false,
               false,
               false,
               false,
               false,
               false,
               false,
               false,
               false,
               false,
               true,
               false,
               false,
               false,
               false,
               false,
               false,
               false,
               false,
               false,
               false,
               false,
               false,
               false,
               false,
               false,
               false,
               false,
               false,
               false,
               false,
               false,
               false,
               false,
               false,
               false
              ]
             }
            ],
            "label": "-0.15",
            "method": "update"
           },
           {
            "args": [
             {
              "visible": [
               true,
               true,
               false,
               false,
               false,
               false,
               false,
               false,
               false,
               false,
               false,
               false,
               false,
               false,
               false,
               false,
               false,
               false,
               false,
               false,
               false,
               false,
               true,
               false,
               false,
               false,
               false,
               false,
               false,
               false,
               false,
               false,
               false,
               false,
               false,
               false,
               false,
               false,
               false,
               false,
               false,
               false,
               false,
               false,
               false,
               false,
               false
              ]
             }
            ],
            "label": "-0.10",
            "method": "update"
           },
           {
            "args": [
             {
              "visible": [
               true,
               true,
               false,
               false,
               false,
               false,
               false,
               false,
               false,
               false,
               false,
               false,
               false,
               false,
               false,
               false,
               false,
               false,
               false,
               false,
               false,
               false,
               false,
               true,
               false,
               false,
               false,
               false,
               false,
               false,
               false,
               false,
               false,
               false,
               false,
               false,
               false,
               false,
               false,
               false,
               false,
               false,
               false,
               false,
               false,
               false,
               false
              ]
             }
            ],
            "label": "-0.05",
            "method": "update"
           },
           {
            "args": [
             {
              "visible": [
               true,
               true,
               false,
               false,
               false,
               false,
               false,
               false,
               false,
               false,
               false,
               false,
               false,
               false,
               false,
               false,
               false,
               false,
               false,
               false,
               false,
               false,
               false,
               false,
               true,
               false,
               false,
               false,
               false,
               false,
               false,
               false,
               false,
               false,
               false,
               false,
               false,
               false,
               false,
               false,
               false,
               false,
               false,
               false,
               false,
               false,
               false
              ]
             }
            ],
            "label": "-0.00",
            "method": "update"
           },
           {
            "args": [
             {
              "visible": [
               true,
               true,
               false,
               false,
               false,
               false,
               false,
               false,
               false,
               false,
               false,
               false,
               false,
               false,
               false,
               false,
               false,
               false,
               false,
               false,
               false,
               false,
               false,
               false,
               false,
               true,
               false,
               false,
               false,
               false,
               false,
               false,
               false,
               false,
               false,
               false,
               false,
               false,
               false,
               false,
               false,
               false,
               false,
               false,
               false,
               false,
               false
              ]
             }
            ],
            "label": "0.05",
            "method": "update"
           },
           {
            "args": [
             {
              "visible": [
               true,
               true,
               false,
               false,
               false,
               false,
               false,
               false,
               false,
               false,
               false,
               false,
               false,
               false,
               false,
               false,
               false,
               false,
               false,
               false,
               false,
               false,
               false,
               false,
               false,
               false,
               true,
               false,
               false,
               false,
               false,
               false,
               false,
               false,
               false,
               false,
               false,
               false,
               false,
               false,
               false,
               false,
               false,
               false,
               false,
               false,
               false
              ]
             }
            ],
            "label": "0.10",
            "method": "update"
           },
           {
            "args": [
             {
              "visible": [
               true,
               true,
               false,
               false,
               false,
               false,
               false,
               false,
               false,
               false,
               false,
               false,
               false,
               false,
               false,
               false,
               false,
               false,
               false,
               false,
               false,
               false,
               false,
               false,
               false,
               false,
               false,
               true,
               false,
               false,
               false,
               false,
               false,
               false,
               false,
               false,
               false,
               false,
               false,
               false,
               false,
               false,
               false,
               false,
               false,
               false,
               false
              ]
             }
            ],
            "label": "0.15",
            "method": "update"
           },
           {
            "args": [
             {
              "visible": [
               true,
               true,
               false,
               false,
               false,
               false,
               false,
               false,
               false,
               false,
               false,
               false,
               false,
               false,
               false,
               false,
               false,
               false,
               false,
               false,
               false,
               false,
               false,
               false,
               false,
               false,
               false,
               false,
               true,
               false,
               false,
               false,
               false,
               false,
               false,
               false,
               false,
               false,
               false,
               false,
               false,
               false,
               false,
               false,
               false,
               false,
               false
              ]
             }
            ],
            "label": "0.20",
            "method": "update"
           },
           {
            "args": [
             {
              "visible": [
               true,
               true,
               false,
               false,
               false,
               false,
               false,
               false,
               false,
               false,
               false,
               false,
               false,
               false,
               false,
               false,
               false,
               false,
               false,
               false,
               false,
               false,
               false,
               false,
               false,
               false,
               false,
               false,
               false,
               true,
               false,
               false,
               false,
               false,
               false,
               false,
               false,
               false,
               false,
               false,
               false,
               false,
               false,
               false,
               false,
               false,
               false
              ]
             }
            ],
            "label": "0.25",
            "method": "update"
           },
           {
            "args": [
             {
              "visible": [
               true,
               true,
               false,
               false,
               false,
               false,
               false,
               false,
               false,
               false,
               false,
               false,
               false,
               false,
               false,
               false,
               false,
               false,
               false,
               false,
               false,
               false,
               false,
               false,
               false,
               false,
               false,
               false,
               false,
               false,
               true,
               false,
               false,
               false,
               false,
               false,
               false,
               false,
               false,
               false,
               false,
               false,
               false,
               false,
               false,
               false,
               false
              ]
             }
            ],
            "label": "0.30",
            "method": "update"
           },
           {
            "args": [
             {
              "visible": [
               true,
               true,
               false,
               false,
               false,
               false,
               false,
               false,
               false,
               false,
               false,
               false,
               false,
               false,
               false,
               false,
               false,
               false,
               false,
               false,
               false,
               false,
               false,
               false,
               false,
               false,
               false,
               false,
               false,
               false,
               false,
               true,
               false,
               false,
               false,
               false,
               false,
               false,
               false,
               false,
               false,
               false,
               false,
               false,
               false,
               false,
               false
              ]
             }
            ],
            "label": "0.35",
            "method": "update"
           },
           {
            "args": [
             {
              "visible": [
               true,
               true,
               false,
               false,
               false,
               false,
               false,
               false,
               false,
               false,
               false,
               false,
               false,
               false,
               false,
               false,
               false,
               false,
               false,
               false,
               false,
               false,
               false,
               false,
               false,
               false,
               false,
               false,
               false,
               false,
               false,
               false,
               true,
               false,
               false,
               false,
               false,
               false,
               false,
               false,
               false,
               false,
               false,
               false,
               false,
               false,
               false
              ]
             }
            ],
            "label": "0.40",
            "method": "update"
           },
           {
            "args": [
             {
              "visible": [
               true,
               true,
               false,
               false,
               false,
               false,
               false,
               false,
               false,
               false,
               false,
               false,
               false,
               false,
               false,
               false,
               false,
               false,
               false,
               false,
               false,
               false,
               false,
               false,
               false,
               false,
               false,
               false,
               false,
               false,
               false,
               false,
               false,
               true,
               false,
               false,
               false,
               false,
               false,
               false,
               false,
               false,
               false,
               false,
               false,
               false,
               false
              ]
             }
            ],
            "label": "0.45",
            "method": "update"
           },
           {
            "args": [
             {
              "visible": [
               true,
               true,
               false,
               false,
               false,
               false,
               false,
               false,
               false,
               false,
               false,
               false,
               false,
               false,
               false,
               false,
               false,
               false,
               false,
               false,
               false,
               false,
               false,
               false,
               false,
               false,
               false,
               false,
               false,
               false,
               false,
               false,
               false,
               false,
               true,
               false,
               false,
               false,
               false,
               false,
               false,
               false,
               false,
               false,
               false,
               false,
               false
              ]
             }
            ],
            "label": "0.50",
            "method": "update"
           },
           {
            "args": [
             {
              "visible": [
               true,
               true,
               false,
               false,
               false,
               false,
               false,
               false,
               false,
               false,
               false,
               false,
               false,
               false,
               false,
               false,
               false,
               false,
               false,
               false,
               false,
               false,
               false,
               false,
               false,
               false,
               false,
               false,
               false,
               false,
               false,
               false,
               false,
               false,
               false,
               true,
               false,
               false,
               false,
               false,
               false,
               false,
               false,
               false,
               false,
               false,
               false
              ]
             }
            ],
            "label": "0.55",
            "method": "update"
           },
           {
            "args": [
             {
              "visible": [
               true,
               true,
               false,
               false,
               false,
               false,
               false,
               false,
               false,
               false,
               false,
               false,
               false,
               false,
               false,
               false,
               false,
               false,
               false,
               false,
               false,
               false,
               false,
               false,
               false,
               false,
               false,
               false,
               false,
               false,
               false,
               false,
               false,
               false,
               false,
               false,
               true,
               false,
               false,
               false,
               false,
               false,
               false,
               false,
               false,
               false,
               false
              ]
             }
            ],
            "label": "0.60",
            "method": "update"
           },
           {
            "args": [
             {
              "visible": [
               true,
               true,
               false,
               false,
               false,
               false,
               false,
               false,
               false,
               false,
               false,
               false,
               false,
               false,
               false,
               false,
               false,
               false,
               false,
               false,
               false,
               false,
               false,
               false,
               false,
               false,
               false,
               false,
               false,
               false,
               false,
               false,
               false,
               false,
               false,
               false,
               false,
               true,
               false,
               false,
               false,
               false,
               false,
               false,
               false,
               false,
               false
              ]
             }
            ],
            "label": "0.65",
            "method": "update"
           },
           {
            "args": [
             {
              "visible": [
               true,
               true,
               false,
               false,
               false,
               false,
               false,
               false,
               false,
               false,
               false,
               false,
               false,
               false,
               false,
               false,
               false,
               false,
               false,
               false,
               false,
               false,
               false,
               false,
               false,
               false,
               false,
               false,
               false,
               false,
               false,
               false,
               false,
               false,
               false,
               false,
               false,
               false,
               true,
               false,
               false,
               false,
               false,
               false,
               false,
               false,
               false
              ]
             }
            ],
            "label": "0.70",
            "method": "update"
           },
           {
            "args": [
             {
              "visible": [
               true,
               true,
               false,
               false,
               false,
               false,
               false,
               false,
               false,
               false,
               false,
               false,
               false,
               false,
               false,
               false,
               false,
               false,
               false,
               false,
               false,
               false,
               false,
               false,
               false,
               false,
               false,
               false,
               false,
               false,
               false,
               false,
               false,
               false,
               false,
               false,
               false,
               false,
               false,
               true,
               false,
               false,
               false,
               false,
               false,
               false,
               false
              ]
             }
            ],
            "label": "0.75",
            "method": "update"
           },
           {
            "args": [
             {
              "visible": [
               true,
               true,
               false,
               false,
               false,
               false,
               false,
               false,
               false,
               false,
               false,
               false,
               false,
               false,
               false,
               false,
               false,
               false,
               false,
               false,
               false,
               false,
               false,
               false,
               false,
               false,
               false,
               false,
               false,
               false,
               false,
               false,
               false,
               false,
               false,
               false,
               false,
               false,
               false,
               false,
               true,
               false,
               false,
               false,
               false,
               false,
               false
              ]
             }
            ],
            "label": "0.80",
            "method": "update"
           },
           {
            "args": [
             {
              "visible": [
               true,
               true,
               false,
               false,
               false,
               false,
               false,
               false,
               false,
               false,
               false,
               false,
               false,
               false,
               false,
               false,
               false,
               false,
               false,
               false,
               false,
               false,
               false,
               false,
               false,
               false,
               false,
               false,
               false,
               false,
               false,
               false,
               false,
               false,
               false,
               false,
               false,
               false,
               false,
               false,
               false,
               true,
               false,
               false,
               false,
               false,
               false
              ]
             }
            ],
            "label": "0.85",
            "method": "update"
           },
           {
            "args": [
             {
              "visible": [
               true,
               true,
               false,
               false,
               false,
               false,
               false,
               false,
               false,
               false,
               false,
               false,
               false,
               false,
               false,
               false,
               false,
               false,
               false,
               false,
               false,
               false,
               false,
               false,
               false,
               false,
               false,
               false,
               false,
               false,
               false,
               false,
               false,
               false,
               false,
               false,
               false,
               false,
               false,
               false,
               false,
               false,
               true,
               false,
               false,
               false,
               false
              ]
             }
            ],
            "label": "0.90",
            "method": "update"
           },
           {
            "args": [
             {
              "visible": [
               true,
               true,
               false,
               false,
               false,
               false,
               false,
               false,
               false,
               false,
               false,
               false,
               false,
               false,
               false,
               false,
               false,
               false,
               false,
               false,
               false,
               false,
               false,
               false,
               false,
               false,
               false,
               false,
               false,
               false,
               false,
               false,
               false,
               false,
               false,
               false,
               false,
               false,
               false,
               false,
               false,
               false,
               false,
               true,
               false,
               false,
               false
              ]
             }
            ],
            "label": "0.95",
            "method": "update"
           },
           {
            "args": [
             {
              "visible": [
               true,
               true,
               false,
               false,
               false,
               false,
               false,
               false,
               false,
               false,
               false,
               false,
               false,
               false,
               false,
               false,
               false,
               false,
               false,
               false,
               false,
               false,
               false,
               false,
               false,
               false,
               false,
               false,
               false,
               false,
               false,
               false,
               false,
               false,
               false,
               false,
               false,
               false,
               false,
               false,
               false,
               false,
               false,
               false,
               true,
               false,
               false
              ]
             }
            ],
            "label": "1.00",
            "method": "update"
           },
           {
            "args": [
             {
              "visible": [
               true,
               true,
               false,
               false,
               false,
               false,
               false,
               false,
               false,
               false,
               false,
               false,
               false,
               false,
               false,
               false,
               false,
               false,
               false,
               false,
               false,
               false,
               false,
               false,
               false,
               false,
               false,
               false,
               false,
               false,
               false,
               false,
               false,
               false,
               false,
               false,
               false,
               false,
               false,
               false,
               false,
               false,
               false,
               false,
               false,
               true,
               false
              ]
             }
            ],
            "label": "1.05",
            "method": "update"
           },
           {
            "args": [
             {
              "visible": [
               true,
               true,
               false,
               false,
               false,
               false,
               false,
               false,
               false,
               false,
               false,
               false,
               false,
               false,
               false,
               false,
               false,
               false,
               false,
               false,
               false,
               false,
               false,
               false,
               false,
               false,
               false,
               false,
               false,
               false,
               false,
               false,
               false,
               false,
               false,
               false,
               false,
               false,
               false,
               false,
               false,
               false,
               false,
               false,
               false,
               false,
               true
              ]
             }
            ],
            "label": "1.10",
            "method": "update"
           }
          ],
          "y": 0.35
         }
        ],
        "template": {
         "data": {
          "bar": [
           {
            "error_x": {
             "color": "#2a3f5f"
            },
            "error_y": {
             "color": "#2a3f5f"
            },
            "marker": {
             "line": {
              "color": "#E5ECF6",
              "width": 0.5
             }
            },
            "type": "bar"
           }
          ],
          "barpolar": [
           {
            "marker": {
             "line": {
              "color": "#E5ECF6",
              "width": 0.5
             }
            },
            "type": "barpolar"
           }
          ],
          "carpet": [
           {
            "aaxis": {
             "endlinecolor": "#2a3f5f",
             "gridcolor": "white",
             "linecolor": "white",
             "minorgridcolor": "white",
             "startlinecolor": "#2a3f5f"
            },
            "baxis": {
             "endlinecolor": "#2a3f5f",
             "gridcolor": "white",
             "linecolor": "white",
             "minorgridcolor": "white",
             "startlinecolor": "#2a3f5f"
            },
            "type": "carpet"
           }
          ],
          "choropleth": [
           {
            "colorbar": {
             "outlinewidth": 0,
             "ticks": ""
            },
            "type": "choropleth"
           }
          ],
          "contour": [
           {
            "colorbar": {
             "outlinewidth": 0,
             "ticks": ""
            },
            "colorscale": [
             [
              0,
              "#0d0887"
             ],
             [
              0.1111111111111111,
              "#46039f"
             ],
             [
              0.2222222222222222,
              "#7201a8"
             ],
             [
              0.3333333333333333,
              "#9c179e"
             ],
             [
              0.4444444444444444,
              "#bd3786"
             ],
             [
              0.5555555555555556,
              "#d8576b"
             ],
             [
              0.6666666666666666,
              "#ed7953"
             ],
             [
              0.7777777777777778,
              "#fb9f3a"
             ],
             [
              0.8888888888888888,
              "#fdca26"
             ],
             [
              1,
              "#f0f921"
             ]
            ],
            "type": "contour"
           }
          ],
          "contourcarpet": [
           {
            "colorbar": {
             "outlinewidth": 0,
             "ticks": ""
            },
            "type": "contourcarpet"
           }
          ],
          "heatmap": [
           {
            "colorbar": {
             "outlinewidth": 0,
             "ticks": ""
            },
            "colorscale": [
             [
              0,
              "#0d0887"
             ],
             [
              0.1111111111111111,
              "#46039f"
             ],
             [
              0.2222222222222222,
              "#7201a8"
             ],
             [
              0.3333333333333333,
              "#9c179e"
             ],
             [
              0.4444444444444444,
              "#bd3786"
             ],
             [
              0.5555555555555556,
              "#d8576b"
             ],
             [
              0.6666666666666666,
              "#ed7953"
             ],
             [
              0.7777777777777778,
              "#fb9f3a"
             ],
             [
              0.8888888888888888,
              "#fdca26"
             ],
             [
              1,
              "#f0f921"
             ]
            ],
            "type": "heatmap"
           }
          ],
          "heatmapgl": [
           {
            "colorbar": {
             "outlinewidth": 0,
             "ticks": ""
            },
            "colorscale": [
             [
              0,
              "#0d0887"
             ],
             [
              0.1111111111111111,
              "#46039f"
             ],
             [
              0.2222222222222222,
              "#7201a8"
             ],
             [
              0.3333333333333333,
              "#9c179e"
             ],
             [
              0.4444444444444444,
              "#bd3786"
             ],
             [
              0.5555555555555556,
              "#d8576b"
             ],
             [
              0.6666666666666666,
              "#ed7953"
             ],
             [
              0.7777777777777778,
              "#fb9f3a"
             ],
             [
              0.8888888888888888,
              "#fdca26"
             ],
             [
              1,
              "#f0f921"
             ]
            ],
            "type": "heatmapgl"
           }
          ],
          "histogram": [
           {
            "marker": {
             "colorbar": {
              "outlinewidth": 0,
              "ticks": ""
             }
            },
            "type": "histogram"
           }
          ],
          "histogram2d": [
           {
            "colorbar": {
             "outlinewidth": 0,
             "ticks": ""
            },
            "colorscale": [
             [
              0,
              "#0d0887"
             ],
             [
              0.1111111111111111,
              "#46039f"
             ],
             [
              0.2222222222222222,
              "#7201a8"
             ],
             [
              0.3333333333333333,
              "#9c179e"
             ],
             [
              0.4444444444444444,
              "#bd3786"
             ],
             [
              0.5555555555555556,
              "#d8576b"
             ],
             [
              0.6666666666666666,
              "#ed7953"
             ],
             [
              0.7777777777777778,
              "#fb9f3a"
             ],
             [
              0.8888888888888888,
              "#fdca26"
             ],
             [
              1,
              "#f0f921"
             ]
            ],
            "type": "histogram2d"
           }
          ],
          "histogram2dcontour": [
           {
            "colorbar": {
             "outlinewidth": 0,
             "ticks": ""
            },
            "colorscale": [
             [
              0,
              "#0d0887"
             ],
             [
              0.1111111111111111,
              "#46039f"
             ],
             [
              0.2222222222222222,
              "#7201a8"
             ],
             [
              0.3333333333333333,
              "#9c179e"
             ],
             [
              0.4444444444444444,
              "#bd3786"
             ],
             [
              0.5555555555555556,
              "#d8576b"
             ],
             [
              0.6666666666666666,
              "#ed7953"
             ],
             [
              0.7777777777777778,
              "#fb9f3a"
             ],
             [
              0.8888888888888888,
              "#fdca26"
             ],
             [
              1,
              "#f0f921"
             ]
            ],
            "type": "histogram2dcontour"
           }
          ],
          "mesh3d": [
           {
            "colorbar": {
             "outlinewidth": 0,
             "ticks": ""
            },
            "type": "mesh3d"
           }
          ],
          "parcoords": [
           {
            "line": {
             "colorbar": {
              "outlinewidth": 0,
              "ticks": ""
             }
            },
            "type": "parcoords"
           }
          ],
          "pie": [
           {
            "automargin": true,
            "type": "pie"
           }
          ],
          "scatter": [
           {
            "marker": {
             "colorbar": {
              "outlinewidth": 0,
              "ticks": ""
             }
            },
            "type": "scatter"
           }
          ],
          "scatter3d": [
           {
            "line": {
             "colorbar": {
              "outlinewidth": 0,
              "ticks": ""
             }
            },
            "marker": {
             "colorbar": {
              "outlinewidth": 0,
              "ticks": ""
             }
            },
            "type": "scatter3d"
           }
          ],
          "scattercarpet": [
           {
            "marker": {
             "colorbar": {
              "outlinewidth": 0,
              "ticks": ""
             }
            },
            "type": "scattercarpet"
           }
          ],
          "scattergeo": [
           {
            "marker": {
             "colorbar": {
              "outlinewidth": 0,
              "ticks": ""
             }
            },
            "type": "scattergeo"
           }
          ],
          "scattergl": [
           {
            "marker": {
             "colorbar": {
              "outlinewidth": 0,
              "ticks": ""
             }
            },
            "type": "scattergl"
           }
          ],
          "scattermapbox": [
           {
            "marker": {
             "colorbar": {
              "outlinewidth": 0,
              "ticks": ""
             }
            },
            "type": "scattermapbox"
           }
          ],
          "scatterpolar": [
           {
            "marker": {
             "colorbar": {
              "outlinewidth": 0,
              "ticks": ""
             }
            },
            "type": "scatterpolar"
           }
          ],
          "scatterpolargl": [
           {
            "marker": {
             "colorbar": {
              "outlinewidth": 0,
              "ticks": ""
             }
            },
            "type": "scatterpolargl"
           }
          ],
          "scatterternary": [
           {
            "marker": {
             "colorbar": {
              "outlinewidth": 0,
              "ticks": ""
             }
            },
            "type": "scatterternary"
           }
          ],
          "surface": [
           {
            "colorbar": {
             "outlinewidth": 0,
             "ticks": ""
            },
            "colorscale": [
             [
              0,
              "#0d0887"
             ],
             [
              0.1111111111111111,
              "#46039f"
             ],
             [
              0.2222222222222222,
              "#7201a8"
             ],
             [
              0.3333333333333333,
              "#9c179e"
             ],
             [
              0.4444444444444444,
              "#bd3786"
             ],
             [
              0.5555555555555556,
              "#d8576b"
             ],
             [
              0.6666666666666666,
              "#ed7953"
             ],
             [
              0.7777777777777778,
              "#fb9f3a"
             ],
             [
              0.8888888888888888,
              "#fdca26"
             ],
             [
              1,
              "#f0f921"
             ]
            ],
            "type": "surface"
           }
          ],
          "table": [
           {
            "cells": {
             "fill": {
              "color": "#EBF0F8"
             },
             "line": {
              "color": "white"
             }
            },
            "header": {
             "fill": {
              "color": "#C8D4E3"
             },
             "line": {
              "color": "white"
             }
            },
            "type": "table"
           }
          ]
         },
         "layout": {
          "annotationdefaults": {
           "arrowcolor": "#2a3f5f",
           "arrowhead": 0,
           "arrowwidth": 1
          },
          "autotypenumbers": "strict",
          "coloraxis": {
           "colorbar": {
            "outlinewidth": 0,
            "ticks": ""
           }
          },
          "colorscale": {
           "diverging": [
            [
             0,
             "#8e0152"
            ],
            [
             0.1,
             "#c51b7d"
            ],
            [
             0.2,
             "#de77ae"
            ],
            [
             0.3,
             "#f1b6da"
            ],
            [
             0.4,
             "#fde0ef"
            ],
            [
             0.5,
             "#f7f7f7"
            ],
            [
             0.6,
             "#e6f5d0"
            ],
            [
             0.7,
             "#b8e186"
            ],
            [
             0.8,
             "#7fbc41"
            ],
            [
             0.9,
             "#4d9221"
            ],
            [
             1,
             "#276419"
            ]
           ],
           "sequential": [
            [
             0,
             "#0d0887"
            ],
            [
             0.1111111111111111,
             "#46039f"
            ],
            [
             0.2222222222222222,
             "#7201a8"
            ],
            [
             0.3333333333333333,
             "#9c179e"
            ],
            [
             0.4444444444444444,
             "#bd3786"
            ],
            [
             0.5555555555555556,
             "#d8576b"
            ],
            [
             0.6666666666666666,
             "#ed7953"
            ],
            [
             0.7777777777777778,
             "#fb9f3a"
            ],
            [
             0.8888888888888888,
             "#fdca26"
            ],
            [
             1,
             "#f0f921"
            ]
           ],
           "sequentialminus": [
            [
             0,
             "#0d0887"
            ],
            [
             0.1111111111111111,
             "#46039f"
            ],
            [
             0.2222222222222222,
             "#7201a8"
            ],
            [
             0.3333333333333333,
             "#9c179e"
            ],
            [
             0.4444444444444444,
             "#bd3786"
            ],
            [
             0.5555555555555556,
             "#d8576b"
            ],
            [
             0.6666666666666666,
             "#ed7953"
            ],
            [
             0.7777777777777778,
             "#fb9f3a"
            ],
            [
             0.8888888888888888,
             "#fdca26"
            ],
            [
             1,
             "#f0f921"
            ]
           ]
          },
          "colorway": [
           "#636efa",
           "#EF553B",
           "#00cc96",
           "#ab63fa",
           "#FFA15A",
           "#19d3f3",
           "#FF6692",
           "#B6E880",
           "#FF97FF",
           "#FECB52"
          ],
          "font": {
           "color": "#2a3f5f"
          },
          "geo": {
           "bgcolor": "white",
           "lakecolor": "white",
           "landcolor": "#E5ECF6",
           "showlakes": true,
           "showland": true,
           "subunitcolor": "white"
          },
          "hoverlabel": {
           "align": "left"
          },
          "hovermode": "closest",
          "mapbox": {
           "style": "light"
          },
          "paper_bgcolor": "white",
          "plot_bgcolor": "#E5ECF6",
          "polar": {
           "angularaxis": {
            "gridcolor": "white",
            "linecolor": "white",
            "ticks": ""
           },
           "bgcolor": "#E5ECF6",
           "radialaxis": {
            "gridcolor": "white",
            "linecolor": "white",
            "ticks": ""
           }
          },
          "scene": {
           "xaxis": {
            "backgroundcolor": "#E5ECF6",
            "gridcolor": "white",
            "gridwidth": 2,
            "linecolor": "white",
            "showbackground": true,
            "ticks": "",
            "zerolinecolor": "white"
           },
           "yaxis": {
            "backgroundcolor": "#E5ECF6",
            "gridcolor": "white",
            "gridwidth": 2,
            "linecolor": "white",
            "showbackground": true,
            "ticks": "",
            "zerolinecolor": "white"
           },
           "zaxis": {
            "backgroundcolor": "#E5ECF6",
            "gridcolor": "white",
            "gridwidth": 2,
            "linecolor": "white",
            "showbackground": true,
            "ticks": "",
            "zerolinecolor": "white"
           }
          },
          "shapedefaults": {
           "line": {
            "color": "#2a3f5f"
           }
          },
          "ternary": {
           "aaxis": {
            "gridcolor": "white",
            "linecolor": "white",
            "ticks": ""
           },
           "baxis": {
            "gridcolor": "white",
            "linecolor": "white",
            "ticks": ""
           },
           "bgcolor": "#E5ECF6",
           "caxis": {
            "gridcolor": "white",
            "linecolor": "white",
            "ticks": ""
           }
          },
          "title": {
           "x": 0.05
          },
          "xaxis": {
           "automargin": true,
           "gridcolor": "white",
           "linecolor": "white",
           "ticks": "",
           "title": {
            "standoff": 15
           },
           "zerolinecolor": "white",
           "zerolinewidth": 2
          },
          "yaxis": {
           "automargin": true,
           "gridcolor": "white",
           "linecolor": "white",
           "ticks": "",
           "title": {
            "standoff": 15
           },
           "zerolinecolor": "white",
           "zerolinewidth": 2
          }
         }
        },
        "title": {
         "text": "Word Usage as a Function of Ideal Point (Topic: Immigration)",
         "x": 0.5,
         "y": 0.9
        },
        "xaxis": {
         "fixedrange": true,
         "range": [
          -1.124844331741333,
          1.124844331741333
         ],
         "showgrid": false,
         "showline": false,
         "showticklabels": false,
         "title": {
          "text": "Representative ideal points (hover to see names)"
         },
         "zeroline": false
        },
        "yaxis": {
         "fixedrange": true,
         "range": [
          -0.6,
          2.5
         ],
         "showgrid": false,
         "showline": false,
         "showticklabels": false,
         "zeroline": false
        }
       }
      },
      "text/html": [
       "<div>                            <div id=\"e8874742-5c3d-41a9-9fea-b23958e82a43\" class=\"plotly-graph-div\" style=\"height:525px; width:100%;\"></div>            <script type=\"text/javascript\">                require([\"plotly\"], function(Plotly) {                    window.PLOTLYENV=window.PLOTLYENV || {};                                    if (document.getElementById(\"e8874742-5c3d-41a9-9fea-b23958e82a43\")) {                    Plotly.newPlot(                        \"e8874742-5c3d-41a9-9fea-b23958e82a43\",                        [{\"hoverinfo\": \"skip\", \"line\": {\"color\": \"black\", \"width\": 1}, \"marker\": {\"size\": 1}, \"type\": \"scatter\", \"x\": [-1.104844331741333, 1.104844331741333], \"y\": [-0.53, -0.53]}, {\"hoverinfo\": \"x+text\", \"marker\": {\"color\": [\"steelblue\", \"crimson\", \"steelblue\", \"crimson\", \"crimson\", \"steelblue\"], \"size\": 8}, \"mode\": \"markers\", \"text\": [\"Alex (D) [0.328]\", \"John (R) [0.317]\", \"Justicia (D) [0.341]\", \"Lauren (R) [0.347]\", \"Mark (R) [0.332]\", \"Mona (D) [0.343]\"], \"type\": \"scatter\", \"x\": [-0.8348434567451477, 0.5391733050346375, -1.104844331741333, 1.0451111793518066, 0.6700037717819214, -0.8104890584945679], \"y\": [-0.53, -0.53, -0.53, -0.53, -0.53, -0.53]}, {\"base\": -0.3, \"dy\": 0.214, \"hoverinfo\": \"skip\", \"marker\": {\"color\": \"rgb(175,122,197)\"}, \"orientation\": \"h\", \"text\": [\"daca\", \"immigrant\", \"broken_system\", \"dreamer\", \"legal_immigration\", \"comprehensive_immigration_reform\", \"refugees\", \"america\"], \"textposition\": \"outside\", \"type\": \"bar\", \"visible\": false, \"x\": [0.33907487988471985, 0.33908629417419434, 0.34757065773010254, 0.36208367347717285, 0.3687308728694916, 0.36978715658187866, 0.3701278567314148, 0.3885694742202759], \"y0\": 0.529}, {\"base\": -0.3, \"dy\": 0.214, \"hoverinfo\": \"skip\", \"marker\": {\"color\": \"rgb(175,122,197)\"}, \"orientation\": \"h\", \"text\": [\"broken_system\", \"immigrant_rights\", \"immigrant\", \"dreamer\", \"comprehensive_immigration_reform\", \"refugees\", \"legal_immigration\", \"america\"], \"textposition\": \"outside\", \"type\": \"bar\", \"visible\": false, \"x\": [0.3213402032852173, 0.32658037543296814, 0.3304256200790405, 0.334572434425354, 0.34158989787101746, 0.3542134165763855, 0.3586048185825348, 0.36728325486183167], \"y0\": 0.529}, {\"base\": -0.3, \"dy\": 0.214, \"hoverinfo\": \"skip\", \"marker\": {\"color\": \"rgb(175,122,197)\"}, \"orientation\": \"h\", \"text\": [\"broken_system\", \"dreamer\", \"immigrant_rights\", \"comprehensive_immigration_reform\", \"immigrant\", \"refugees\", \"america\", \"legal_immigration\"], \"textposition\": \"outside\", \"type\": \"bar\", \"visible\": false, \"x\": [0.2971741855144501, 0.3092333972454071, 0.31532377004623413, 0.31561577320098877, 0.32203420996665955, 0.339058518409729, 0.34723132848739624, 0.3488086462020874], \"y0\": 0.529}, {\"base\": -0.3, \"dy\": 0.214, \"hoverinfo\": \"skip\", \"marker\": {\"color\": \"rgb(175,122,197)\"}, \"orientation\": \"h\", \"text\": [\"broken_system\", \"dreamer\", \"comprehensive_immigration_reform\", \"immigrant_rights\", \"immigrant\", \"refugees\", \"america\", \"legal_immigration\"], \"textposition\": \"outside\", \"type\": \"bar\", \"visible\": false, \"x\": [0.2749040424823761, 0.28588926792144775, 0.29168421030044556, 0.30451300740242004, 0.31390294432640076, 0.32462430000305176, 0.3283386826515198, 0.33933040499687195], \"y0\": 0.529}, {\"base\": -0.3, \"dy\": 0.214, \"hoverinfo\": \"skip\", \"marker\": {\"color\": \"rgb(175,122,197)\"}, \"orientation\": \"h\", \"text\": [\"broken_system\", \"dreamer\", \"comprehensive_immigration_reform\", \"immigrant_rights\", \"immigrant\", \"america\", \"refugees\", \"legal_immigration\"], \"textposition\": \"outside\", \"type\": \"bar\", \"visible\": false, \"x\": [0.25437551736831665, 0.2643774747848511, 0.26962968707084656, 0.2941288352012634, 0.3060227632522583, 0.31053489446640015, 0.31087350845336914, 0.33015862107276917], \"y0\": 0.529}, {\"base\": -0.3, \"dy\": 0.214, \"hoverinfo\": \"skip\", \"marker\": {\"color\": \"rgb(175,122,197)\"}, \"orientation\": \"h\", \"text\": [\"broken_system\", \"dreamer\", \"comprehensive_immigration_reform\", \"immigrant_rights\", \"america\", \"refugees\", \"immigrant\", \"legal_immigration\"], \"textposition\": \"outside\", \"type\": \"bar\", \"visible\": false, \"x\": [0.23544727265834808, 0.24454914033412933, 0.24930043518543243, 0.28415271639823914, 0.29375410079956055, 0.2977714240550995, 0.29838496446609497, 0.32128244638442993], \"y0\": 0.529}, {\"base\": -0.3, \"dy\": 0.214, \"hoverinfo\": \"skip\", \"marker\": {\"color\": \"rgb(175,122,197)\"}, \"orientation\": \"h\", \"text\": [\"broken_system\", \"dreamer\", \"comprehensive_immigration_reform\", \"immigrant_rights\", \"america\", \"refugees\", \"immigrant\", \"legal_immigration\"], \"textposition\": \"outside\", \"type\": \"bar\", \"visible\": false, \"x\": [0.2179897427558899, 0.22626790404319763, 0.23055726289749146, 0.274567186832428, 0.2779347896575928, 0.28528496623039246, 0.29098138213157654, 0.31269121170043945], \"y0\": 0.529}, {\"base\": -0.3, \"dy\": 0.214, \"hoverinfo\": \"skip\", \"marker\": {\"color\": \"rgb(175,122,197)\"}, \"orientation\": \"h\", \"text\": [\"broken_system\", \"dreamer\", \"comprehensive_immigration_reform\", \"america\", \"immigrant_rights\", \"refugees\", \"immigrant\", \"legal_immigration\"], \"textposition\": \"outside\", \"type\": \"bar\", \"visible\": false, \"x\": [0.20188432931900024, 0.20940877497196198, 0.21327272057533264, 0.26301896572113037, 0.2653554379940033, 0.2733828127384186, 0.28380393981933594, 0.3043748736381531], \"y0\": 0.529}, {\"base\": -0.3, \"dy\": 0.214, \"hoverinfo\": \"skip\", \"marker\": {\"color\": \"rgb(175,122,197)\"}, \"orientation\": \"h\", \"text\": [\"broken_system\", \"dreamer\", \"comprehensive_immigration_reform\", \"america\", \"immigrant_rights\", \"refugees\", \"immigrant\", \"legal_immigration\"], \"textposition\": \"outside\", \"type\": \"bar\", \"visible\": false, \"x\": [0.18702222406864166, 0.19385723769664764, 0.1973295956850052, 0.24895252287387848, 0.2565014958381653, 0.26203545928001404, 0.2768450379371643, 0.29632365703582764], \"y0\": 0.529}, {\"base\": -0.3, \"dy\": 0.214, \"hoverinfo\": \"skip\", \"marker\": {\"color\": \"rgb(175,122,197)\"}, \"orientation\": \"h\", \"text\": [\"broken_system\", \"dreamer\", \"comprehensive_immigration_reform\", \"america\", \"immigrant_rights\", \"refugees\", \"immigrant\", \"legal_immigration\"], \"textposition\": \"outside\", \"type\": \"bar\", \"visible\": false, \"x\": [0.1733037680387497, 0.17950817942619324, 0.182620570063591, 0.23568466305732727, 0.24799013137817383, 0.2512149214744568, 0.2700970768928528, 0.2885282635688782], \"y0\": 0.529}, {\"base\": -0.3, \"dy\": 0.214, \"hoverinfo\": \"skip\", \"marker\": {\"color\": \"rgb(175,122,197)\"}, \"orientation\": \"h\", \"text\": [\"broken_system\", \"dreamer\", \"comprehensive_immigration_reform\", \"america\", \"immigrant_rights\", \"refugees\", \"immigrant\", \"legal_immigration\"], \"textposition\": \"outside\", \"type\": \"bar\", \"visible\": false, \"x\": [0.16063746809959412, 0.16626527905464172, 0.16904710233211517, 0.22316768765449524, 0.23980671167373657, 0.24089471995830536, 0.26355308294296265, 0.28097954392433167], \"y0\": 0.529}, {\"base\": -0.3, \"dy\": 0.214, \"hoverinfo\": \"skip\", \"marker\": {\"color\": \"rgb(175,122,197)\"}, \"orientation\": \"h\", \"text\": [\"broken_system\", \"dreamer\", \"comprehensive_immigration_reform\", \"america\", \"refugees\", \"immigrant_rights\", \"immigrant\", \"legal_immigration\"], \"textposition\": \"outside\", \"type\": \"bar\", \"visible\": false, \"x\": [0.14893946051597595, 0.15404018759727478, 0.15651869773864746, 0.2113569974899292, 0.23104988038539886, 0.2319374829530716, 0.2572060525417328, 0.27366894483566284], \"y0\": 0.529}, {\"base\": -0.3, \"dy\": 0.214, \"hoverinfo\": \"skip\", \"marker\": {\"color\": \"rgb(175,122,197)\"}, \"orientation\": \"h\", \"text\": [\"broken_system\", \"dreamer\", \"comprehensive_immigration_reform\", \"america\", \"refugees\", \"immigrant_rights\", \"immigrant\", \"legal_immigration\"], \"textposition\": \"outside\", \"type\": \"bar\", \"visible\": false, \"x\": [0.13813281059265137, 0.1427518129348755, 0.14495237171649933, 0.20021066069602966, 0.22165657579898834, 0.2243690937757492, 0.2510494887828827, 0.2665880620479584], \"y0\": 0.529}, {\"base\": -0.3, \"dy\": 0.214, \"hoverinfo\": \"skip\", \"marker\": {\"color\": \"rgb(175,122,197)\"}, \"orientation\": \"h\", \"text\": [\"comprehensive_immigration_reform\", \"law\", \"immigration\", \"america\", \"refugees\", \"immigrant_rights\", \"immigrant\", \"legal_immigration\"], \"textposition\": \"outside\", \"type\": \"bar\", \"visible\": false, \"x\": [0.13427184522151947, 0.1354203224182129, 0.13933447003364563, 0.18968939781188965, 0.21269245445728302, 0.21708890795707703, 0.24507692456245422, 0.25972887873649597], \"y0\": 0.529}, {\"base\": -0.3, \"dy\": 0.214, \"hoverinfo\": \"skip\", \"marker\": {\"color\": \"rgb(175,122,197)\"}, \"orientation\": \"h\", \"text\": [\"homeland_security\", \"law\", \"immigration\", \"america\", \"refugees\", \"immigrant_rights\", \"immigrant\", \"legal_immigration\"], \"textposition\": \"outside\", \"type\": \"bar\", \"visible\": false, \"x\": [0.13719694316387177, 0.13873101770877838, 0.14245304465293884, 0.17975634336471558, 0.2041362226009369, 0.21008490025997162, 0.2392822504043579, 0.2530837655067444], \"y0\": 0.529}, {\"base\": -0.3, \"dy\": 0.214, \"hoverinfo\": \"skip\", \"marker\": {\"color\": \"rgb(175,122,197)\"}, \"orientation\": \"h\", \"text\": [\"homeland_security\", \"law\", \"immigration\", \"america\", \"refugees\", \"immigrant_rights\", \"immigrant\", \"legal_immigration\"], \"textposition\": \"outside\", \"type\": \"bar\", \"visible\": false, \"x\": [0.14114251732826233, 0.14215068519115448, 0.14566363394260406, 0.17037686705589294, 0.19596770405769348, 0.20334550738334656, 0.233659565448761, 0.24664519727230072], \"y0\": 0.529}, {\"base\": -0.3, \"dy\": 0.214, \"hoverinfo\": \"skip\", \"marker\": {\"color\": \"rgb(175,122,197)\"}, \"orientation\": \"h\", \"text\": [\"homeland_security\", \"law\", \"immigration\", \"america\", \"refugees\", \"immigrant_rights\", \"immigrant\", \"legal_immigration\"], \"textposition\": \"outside\", \"type\": \"bar\", \"visible\": false, \"x\": [0.14522872865200043, 0.1456833779811859, 0.14896924793720245, 0.16151851415634155, 0.18816791474819183, 0.1968597173690796, 0.22820310294628143, 0.2404060810804367], \"y0\": 0.529}, {\"base\": -0.3, \"dy\": 0.214, \"hoverinfo\": \"skip\", \"marker\": {\"color\": \"rgb(175,122,197)\"}, \"orientation\": \"h\", \"text\": [\"law\", \"homeland_security\", \"immigration\", \"america\", \"refugees\", \"immigrant_rights\", \"immigrant\", \"legal_immigration\"], \"textposition\": \"outside\", \"type\": \"bar\", \"visible\": false, \"x\": [0.14933331310749054, 0.14946120977401733, 0.15237310528755188, 0.15315081179141998, 0.18071867525577545, 0.19061702489852905, 0.2229074239730835, 0.23435957729816437], \"y0\": 0.529}, {\"base\": -0.3, \"dy\": 0.214, \"hoverinfo\": \"skip\", \"marker\": {\"color\": \"rgb(175,122,197)\"}, \"orientation\": \"h\", \"text\": [\"america\", \"law\", \"homeland_security\", \"immigration\", \"refugees\", \"immigrant_rights\", \"immigrant\", \"legal_immigration\"], \"textposition\": \"outside\", \"type\": \"bar\", \"visible\": false, \"x\": [0.14524511992931366, 0.15310487151145935, 0.153845876455307, 0.1558784544467926, 0.17360293865203857, 0.1846073865890503, 0.21776720881462097, 0.22849901020526886], \"y0\": 0.529}, {\"base\": -0.3, \"dy\": 0.214, \"hoverinfo\": \"skip\", \"marker\": {\"color\": \"rgb(175,122,197)\"}, \"orientation\": \"h\", \"text\": [\"america\", \"law\", \"homeland_security\", \"immigration\", \"refugees\", \"immigrant_rights\", \"immigrant\", \"legal_immigration\"], \"textposition\": \"outside\", \"type\": \"bar\", \"visible\": false, \"x\": [0.13777458667755127, 0.15700265765190125, 0.15838879346847534, 0.1594887673854828, 0.1668044626712799, 0.17882120609283447, 0.21277737617492676, 0.2228180319070816], \"y0\": 0.529}, {\"base\": -0.3, \"dy\": 0.214, \"hoverinfo\": \"skip\", \"marker\": {\"color\": \"rgb(175,122,197)\"}, \"orientation\": \"h\", \"text\": [\"border\", \"refugees\", \"law\", \"homeland_security\", \"immigration\", \"immigrant_rights\", \"immigrant\", \"legal_immigration\"], \"textposition\": \"outside\", \"type\": \"bar\", \"visible\": false, \"x\": [0.13632847368717194, 0.16030782461166382, 0.16103142499923706, 0.16309641301631927, 0.16320756077766418, 0.1732492744922638, 0.2079329490661621, 0.21731054782867432], \"y0\": 0.529}, {\"base\": -0.3, \"dy\": 0.214, \"hoverinfo\": \"skip\", \"marker\": {\"color\": \"rgb(175,122,197)\"}, \"orientation\": \"h\", \"text\": [\"border\", \"refugees\", \"law\", \"immigration\", \"immigrant_rights\", \"homeland_security\", \"immigrant\", \"legal_immigration\"], \"textposition\": \"outside\", \"type\": \"bar\", \"visible\": true, \"x\": [0.14069122076034546, 0.1540984809398651, 0.16519613564014435, 0.16703850030899048, 0.16788288950920105, 0.16797536611557007, 0.20322926342487335, 0.21197062730789185], \"y0\": 0.529}, {\"base\": -0.3, \"dy\": 0.214, \"hoverinfo\": \"skip\", \"marker\": {\"color\": \"rgb(175,122,197)\"}, \"orientation\": \"h\", \"text\": [\"border\", \"refugees\", \"immigrant_rights\", \"law\", \"immigration\", \"homeland_security\", \"immigrant\", \"legal_immigration\"], \"textposition\": \"outside\", \"type\": \"bar\", \"visible\": false, \"x\": [0.14521710574626923, 0.14816254377365112, 0.1627136617898941, 0.16950199007987976, 0.1709854006767273, 0.1730327010154724, 0.1986616849899292, 0.20679257810115814], \"y0\": 0.529}, {\"base\": -0.3, \"dy\": 0.214, \"hoverinfo\": \"skip\", \"marker\": {\"color\": \"rgb(175,122,197)\"}, \"orientation\": \"h\", \"text\": [\"refugees\", \"border\", \"immigrant_rights\", \"law\", \"immigration\", \"homeland_security\", \"immigrant\", \"legal_immigration\"], \"textposition\": \"outside\", \"type\": \"bar\", \"visible\": false, \"x\": [0.14248694479465485, 0.14991290867328644, 0.15773357450962067, 0.17395438253879547, 0.1750522255897522, 0.17827564477920532, 0.19422583281993866, 0.20177093148231506], \"y0\": 0.529}, {\"base\": -0.3, \"dy\": 0.214, \"hoverinfo\": \"skip\", \"marker\": {\"color\": \"rgb(175,122,197)\"}, \"orientation\": \"h\", \"text\": [\"refugees\", \"immigrant_rights\", \"border\", \"law\", \"immigration\", \"homeland_security\", \"immigrant\", \"legal_immigration\"], \"textposition\": \"outside\", \"type\": \"bar\", \"visible\": false, \"x\": [0.13705921173095703, 0.1529349684715271, 0.1547856330871582, 0.17855894565582275, 0.1792430877685547, 0.18371182680130005, 0.1899174004793167, 0.19690044224262238], \"y0\": 0.529}, {\"base\": -0.3, \"dy\": 0.214, \"hoverinfo\": \"skip\", \"marker\": {\"color\": \"rgb(175,122,197)\"}, \"orientation\": \"h\", \"text\": [\"secure\", \"immigrant_rights\", \"border\", \"law\", \"immigration\", \"immigrant\", \"homeland_security\", \"legal_immigration\"], \"textposition\": \"outside\", \"type\": \"bar\", \"visible\": false, \"x\": [0.1346559226512909, 0.14831052720546722, 0.15984265506267548, 0.1833215206861496, 0.1835622638463974, 0.18573233485221863, 0.1893492341041565, 0.19217601418495178], \"y0\": 0.529}, {\"base\": -0.3, \"dy\": 0.214, \"hoverinfo\": \"skip\", \"marker\": {\"color\": \"rgb(175,122,197)\"}, \"orientation\": \"h\", \"text\": [\"secure\", \"immigrant_rights\", \"border\", \"immigrant\", \"legal_immigration\", \"immigration\", \"law\", \"homeland_security\"], \"textposition\": \"outside\", \"type\": \"bar\", \"visible\": false, \"x\": [0.14117269217967987, 0.14385326206684113, 0.16509167850017548, 0.18166668713092804, 0.1875927746295929, 0.18801413476467133, 0.18824823200702667, 0.19519618153572083], \"y0\": 0.529}, {\"base\": -0.3, \"dy\": 0.214, \"hoverinfo\": \"skip\", \"marker\": {\"color\": \"rgb(175,122,197)\"}, \"orientation\": \"h\", \"text\": [\"immigrant_rights\", \"secure\", \"border\", \"immigrant\", \"legal_immigration\", \"immigration\", \"law\", \"homeland_security\"], \"textposition\": \"outside\", \"type\": \"bar\", \"visible\": false, \"x\": [0.13955648243427277, 0.14803612232208252, 0.1705406904220581, 0.17771662771701813, 0.18314598500728607, 0.19260331988334656, 0.19334548711776733, 0.20126135647296906], \"y0\": 0.529}, {\"base\": -0.3, \"dy\": 0.214, \"hoverinfo\": \"skip\", \"marker\": {\"color\": \"rgb(175,122,197)\"}, \"orientation\": \"h\", \"text\": [\"immigrant_rights\", \"secure\", \"immigrant\", \"border\", \"legal_immigration\", \"immigration\", \"law\", \"homeland_security\"], \"textposition\": \"outside\", \"type\": \"bar\", \"visible\": false, \"x\": [0.1354137808084488, 0.15526601672172546, 0.17387844622135162, 0.17619816958904266, 0.17883113026618958, 0.19733457267284393, 0.19861993193626404, 0.20755381882190704], \"y0\": 0.529}, {\"base\": -0.3, \"dy\": 0.214, \"hoverinfo\": \"skip\", \"marker\": {\"color\": \"rgb(175,122,197)\"}, \"orientation\": \"h\", \"text\": [\"immigrant_rights\", \"secure\", \"immigrant\", \"legal_immigration\", \"border\", \"immigration\", \"law\", \"homeland_security\"], \"textposition\": \"outside\", \"type\": \"bar\", \"visible\": false, \"x\": [0.13141903281211853, 0.16288341581821442, 0.17014862596988678, 0.17464381456375122, 0.18207280337810516, 0.202212855219841, 0.20407849550247192, 0.21408310532569885], \"y0\": 0.529}, {\"base\": -0.3, \"dy\": 0.214, \"hoverinfo\": \"skip\", \"marker\": {\"color\": \"rgb(175,122,197)\"}, \"orientation\": \"h\", \"text\": [\"illegal_immigrants\", \"immigrant\", \"legal_immigration\", \"secure\", \"border\", \"immigration\", \"law\", \"homeland_security\"], \"textposition\": \"outside\", \"type\": \"bar\", \"visible\": false, \"x\": [0.12771037220954895, 0.166523739695549, 0.17057986557483673, 0.17091064155101776, 0.1881738305091858, 0.20724329352378845, 0.2097284197807312, 0.2208591252565384], \"y0\": 0.529}, {\"base\": -0.3, \"dy\": 0.214, \"hoverinfo\": \"skip\", \"marker\": {\"color\": \"rgb(175,122,197)\"}, \"orientation\": \"h\", \"text\": [\"illegal_immigrants\", \"immigrant\", \"legal_immigration\", \"secure\", \"border\", \"immigration\", \"law\", \"homeland_security\"], \"textposition\": \"outside\", \"type\": \"bar\", \"visible\": false, \"x\": [0.1381552666425705, 0.1630004346370697, 0.1666351854801178, 0.17937135696411133, 0.1945108324289322, 0.21243126690387726, 0.21557730436325073, 0.22789230942726135], \"y0\": 0.529}, {\"base\": -0.3, \"dy\": 0.214, \"hoverinfo\": \"skip\", \"marker\": {\"color\": \"rgb(175,122,197)\"}, \"orientation\": \"h\", \"text\": [\"illegal_immigrants\", \"immigrant\", \"legal_immigration\", \"secure\", \"border\", \"immigration\", \"law\", \"homeland_security\"], \"textposition\": \"outside\", \"type\": \"bar\", \"visible\": false, \"x\": [0.1494932621717453, 0.15957556664943695, 0.16280585527420044, 0.18829065561294556, 0.2010938674211502, 0.21778225898742676, 0.22163300216197968, 0.2351934313774109], \"y0\": 0.529}, {\"base\": -0.3, \"dy\": 0.214, \"hoverinfo\": \"skip\", \"marker\": {\"color\": \"rgb(175,122,197)\"}, \"orientation\": \"h\", \"text\": [\"legal_immigration\", \"illegal\", \"illegal_immigrants\", \"secure\", \"border\", \"immigration\", \"law\", \"homeland_security\"], \"textposition\": \"outside\", \"type\": \"bar\", \"visible\": false, \"x\": [0.1590881496667862, 0.15940821170806885, 0.16180381178855896, 0.19769525527954102, 0.20793336629867554, 0.22330206632614136, 0.22790372371673584, 0.24277395009994507], \"y0\": 0.529}, {\"base\": -0.3, \"dy\": 0.214, \"hoverinfo\": \"skip\", \"marker\": {\"color\": \"rgb(175,122,197)\"}, \"orientation\": \"h\", \"text\": [\"wall\", \"illegal\", \"illegal_immigrants\", \"secure\", \"border\", \"immigration\", \"law\", \"homeland_security\"], \"textposition\": \"outside\", \"type\": \"bar\", \"visible\": false, \"x\": [0.1631736010313034, 0.17240522801876068, 0.17517365515232086, 0.20761342346668243, 0.21504037082195282, 0.2289966344833374, 0.23439808189868927, 0.2506456971168518], \"y0\": 0.529}, {\"base\": -0.3, \"dy\": 0.214, \"hoverinfo\": \"skip\", \"marker\": {\"color\": \"rgb(175,122,197)\"}, \"orientation\": \"h\", \"text\": [\"wall\", \"illegal\", \"illegal_immigrants\", \"secure\", \"border\", \"immigration\", \"law\", \"homeland_security\"], \"textposition\": \"outside\", \"type\": \"bar\", \"visible\": false, \"x\": [0.17617985606193542, 0.18649815022945404, 0.18969756364822388, 0.218075230717659, 0.2224263697862625, 0.2348722219467163, 0.24112506210803986, 0.25882112979888916], \"y0\": 0.529}, {\"base\": -0.3, \"dy\": 0.214, \"hoverinfo\": \"skip\", \"marker\": {\"color\": \"rgb(175,122,197)\"}, \"orientation\": \"h\", \"text\": [\"wall\", \"illegal\", \"illegal_immigrants\", \"secure\", \"border\", \"immigration\", \"law\", \"homeland_security\"], \"textposition\": \"outside\", \"type\": \"bar\", \"visible\": false, \"x\": [0.1902591437101364, 0.20178231596946716, 0.20547911524772644, 0.2291126251220703, 0.23010335862636566, 0.24093525111675262, 0.24809403717517853, 0.26731327176094055], \"y0\": 0.529}, {\"base\": -0.3, \"dy\": 0.214, \"hoverinfo\": \"skip\", \"marker\": {\"color\": \"rgb(175,122,197)\"}, \"orientation\": \"h\", \"text\": [\"wall\", \"illegal\", \"illegal_immigrants\", \"border\", \"secure\", \"immigration\", \"law\", \"homeland_security\"], \"textposition\": \"outside\", \"type\": \"bar\", \"visible\": false, \"x\": [0.20550282299518585, 0.2183615267276764, 0.22263145446777344, 0.2380838841199875, 0.24075952172279358, 0.24719247221946716, 0.25531476736068726, 0.27613571286201477], \"y0\": 0.529}, {\"base\": -0.3, \"dy\": 0.214, \"hoverinfo\": \"skip\", \"marker\": {\"color\": \"rgb(175,122,197)\"}, \"orientation\": \"h\", \"text\": [\"wall\", \"illegal\", \"illegal_immigrants\", \"border\", \"secure\", \"immigration\", \"law\", \"homeland_security\"], \"textposition\": \"outside\", \"type\": \"bar\", \"visible\": false, \"x\": [0.22201013565063477, 0.23634882271289825, 0.2412782609462738, 0.24638116359710693, 0.2530519366264343, 0.25365081429481506, 0.26279741525650024, 0.2853027582168579], \"y0\": 0.529}, {\"base\": -0.3, \"dy\": 0.214, \"hoverinfo\": \"skip\", \"marker\": {\"color\": \"rgb(175,122,197)\"}, \"orientation\": \"h\", \"text\": [\"wall\", \"border\", \"illegal\", \"immigration\", \"illegal_immigrants\", \"secure\", \"law\", \"homeland_security\"], \"textposition\": \"outside\", \"type\": \"bar\", \"visible\": false, \"x\": [0.23988930881023407, 0.2550089657306671, 0.255867600440979, 0.2603175640106201, 0.2615549564361572, 0.26602810621261597, 0.27055275440216064, 0.2948293387889862], \"y0\": 0.529}, {\"base\": -0.3, \"dy\": 0.214, \"hoverinfo\": \"skip\", \"marker\": {\"color\": \"rgb(175,122,197)\"}, \"orientation\": \"h\", \"text\": [\"wall\", \"border\", \"immigration\", \"illegal\", \"law\", \"secure\", \"illegal_immigrants\", \"homeland_security\"], \"textposition\": \"outside\", \"type\": \"bar\", \"visible\": false, \"x\": [0.25925779342651367, 0.2639816403388977, 0.26720020174980164, 0.2770521640777588, 0.27859193086624146, 0.27972882986068726, 0.2836093604564667, 0.3047310411930084], \"y0\": 0.529}, {\"base\": -0.3, \"dy\": 0.214, \"hoverinfo\": \"skip\", \"marker\": {\"color\": \"rgb(175,122,197)\"}, \"orientation\": \"h\", \"text\": [\"border\", \"immigration\", \"wall\", \"law\", \"secure\", \"illegal\", \"illegal_immigrants\", \"homeland_security\"], \"textposition\": \"outside\", \"type\": \"bar\", \"visible\": false, \"x\": [0.27331438660621643, 0.27430662512779236, 0.28024357557296753, 0.2869265377521515, 0.2941972613334656, 0.3000490069389343, 0.3076033890247345, 0.3150242865085602], \"y0\": 0.529}, {\"base\": -0.3, \"dy\": 0.214, \"hoverinfo\": \"skip\", \"marker\": {\"color\": \"rgb(175,122,197)\"}, \"orientation\": \"h\", \"text\": [\"border\", \"enforce\", \"law\", \"wall\", \"secure\", \"illegal\", \"homeland_security\", \"illegal_immigrants\"], \"textposition\": \"outside\", \"type\": \"bar\", \"visible\": false, \"x\": [0.283022940158844, 0.29239919781684875, 0.2955687642097473, 0.30298593640327454, 0.30947941541671753, 0.32501786947250366, 0.32572615146636963, 0.3337141275405884], \"y0\": 0.529}, {\"base\": -0.3, \"dy\": 0.214, \"hoverinfo\": \"skip\", \"marker\": {\"color\": \"rgb(175,122,197)\"}, \"orientation\": \"h\", \"text\": [\"amnesty\", \"law\", \"enforce\", \"secure\", \"wall\", \"homeland_security\", \"illegal\", \"illegal_immigrants\"], \"textposition\": \"outside\", \"type\": \"bar\", \"visible\": false, \"x\": [0.30379724502563477, 0.3045313060283661, 0.31573307514190674, 0.3256241977214813, 0.3276364207267761, 0.33685457706451416, 0.35213303565979004, 0.3621353209018707], \"y0\": 0.529}, {\"base\": -0.3, \"dy\": 0.214, \"hoverinfo\": \"skip\", \"marker\": {\"color\": \"rgb(175,122,197)\"}, \"orientation\": \"h\", \"text\": [\"law\", \"amnesty\", \"enforce\", \"secure\", \"homeland_security\", \"wall\", \"illegal\", \"illegal_immigrants\"], \"textposition\": \"outside\", \"type\": \"bar\", \"visible\": false, \"x\": [0.3138275742530823, 0.3278575837612152, 0.34098970890045166, 0.3426836133003235, 0.34842851758003235, 0.35436007380485535, 0.381584495306015, 0.39307937026023865], \"y0\": 0.529}],                        {\"annotations\": [{\"font\": {\"size\": 14}, \"showarrow\": false, \"text\": \"Move slider to change ideal point\", \"x\": 0.5, \"xref\": \"paper\", \"y\": 0.255, \"yref\": \"paper\"}], \"paper_bgcolor\": \"rgba(0,0,0,0)\", \"plot_bgcolor\": \"rgba(0,0,0,0)\", \"showlegend\": false, \"sliders\": [{\"active\": 22, \"currentvalue\": {\"prefix\": \"Ideal Point: \"}, \"steps\": [{\"args\": [{\"visible\": [true, true, true, false, false, false, false, false, false, false, false, false, false, false, false, false, false, false, false, false, false, false, false, false, false, false, false, false, false, false, false, false, false, false, false, false, false, false, false, false, false, false, false, false, false, false, false]}], \"label\": \"-1.10\", \"method\": \"update\"}, {\"args\": [{\"visible\": [true, true, false, true, false, false, false, false, false, false, false, false, false, false, false, false, false, false, false, false, false, false, false, false, false, false, false, false, false, false, false, false, false, false, false, false, false, false, false, false, false, false, false, false, false, false, false]}], \"label\": \"-1.05\", \"method\": \"update\"}, {\"args\": [{\"visible\": [true, true, false, false, true, false, false, false, false, false, false, false, false, false, false, false, false, false, false, false, false, false, false, false, false, false, false, false, false, false, false, false, false, false, false, false, false, false, false, false, false, false, false, false, false, false, false]}], \"label\": \"-1.00\", \"method\": \"update\"}, {\"args\": [{\"visible\": [true, true, false, false, false, true, false, false, false, false, false, false, false, false, false, false, false, false, false, false, false, false, false, false, false, false, false, false, false, false, false, false, false, false, false, false, false, false, false, false, false, false, false, false, false, false, false]}], \"label\": \"-0.95\", \"method\": \"update\"}, {\"args\": [{\"visible\": [true, true, false, false, false, false, true, false, false, false, false, false, false, false, false, false, false, false, false, false, false, false, false, false, false, false, false, false, false, false, false, false, false, false, false, false, false, false, false, false, false, false, false, false, false, false, false]}], \"label\": \"-0.90\", \"method\": \"update\"}, {\"args\": [{\"visible\": [true, true, false, false, false, false, false, true, false, false, false, false, false, false, false, false, false, false, false, false, false, false, false, false, false, false, false, false, false, false, false, false, false, false, false, false, false, false, false, false, false, false, false, false, false, false, false]}], \"label\": \"-0.85\", \"method\": \"update\"}, {\"args\": [{\"visible\": [true, true, false, false, false, false, false, false, true, false, false, false, false, false, false, false, false, false, false, false, false, false, false, false, false, false, false, false, false, false, false, false, false, false, false, false, false, false, false, false, false, false, false, false, false, false, false]}], \"label\": \"-0.80\", \"method\": \"update\"}, {\"args\": [{\"visible\": [true, true, false, false, false, false, false, false, false, true, false, false, false, false, false, false, false, false, false, false, false, false, false, false, false, false, false, false, false, false, false, false, false, false, false, false, false, false, false, false, false, false, false, false, false, false, false]}], \"label\": \"-0.75\", \"method\": \"update\"}, {\"args\": [{\"visible\": [true, true, false, false, false, false, false, false, false, false, true, false, false, false, false, false, false, false, false, false, false, false, false, false, false, false, false, false, false, false, false, false, false, false, false, false, false, false, false, false, false, false, false, false, false, false, false]}], \"label\": \"-0.70\", \"method\": \"update\"}, {\"args\": [{\"visible\": [true, true, false, false, false, false, false, false, false, false, false, true, false, false, false, false, false, false, false, false, false, false, false, false, false, false, false, false, false, false, false, false, false, false, false, false, false, false, false, false, false, false, false, false, false, false, false]}], \"label\": \"-0.65\", \"method\": \"update\"}, {\"args\": [{\"visible\": [true, true, false, false, false, false, false, false, false, false, false, false, true, false, false, false, false, false, false, false, false, false, false, false, false, false, false, false, false, false, false, false, false, false, false, false, false, false, false, false, false, false, false, false, false, false, false]}], \"label\": \"-0.60\", \"method\": \"update\"}, {\"args\": [{\"visible\": [true, true, false, false, false, false, false, false, false, false, false, false, false, true, false, false, false, false, false, false, false, false, false, false, false, false, false, false, false, false, false, false, false, false, false, false, false, false, false, false, false, false, false, false, false, false, false]}], \"label\": \"-0.55\", \"method\": \"update\"}, {\"args\": [{\"visible\": [true, true, false, false, false, false, false, false, false, false, false, false, false, false, true, false, false, false, false, false, false, false, false, false, false, false, false, false, false, false, false, false, false, false, false, false, false, false, false, false, false, false, false, false, false, false, false]}], \"label\": \"-0.50\", \"method\": \"update\"}, {\"args\": [{\"visible\": [true, true, false, false, false, false, false, false, false, false, false, false, false, false, false, true, false, false, false, false, false, false, false, false, false, false, false, false, false, false, false, false, false, false, false, false, false, false, false, false, false, false, false, false, false, false, false]}], \"label\": \"-0.45\", \"method\": \"update\"}, {\"args\": [{\"visible\": [true, true, false, false, false, false, false, false, false, false, false, false, false, false, false, false, true, false, false, false, false, false, false, false, false, false, false, false, false, false, false, false, false, false, false, false, false, false, false, false, false, false, false, false, false, false, false]}], \"label\": \"-0.40\", \"method\": \"update\"}, {\"args\": [{\"visible\": [true, true, false, false, false, false, false, false, false, false, false, false, false, false, false, false, false, true, false, false, false, false, false, false, false, false, false, false, false, false, false, false, false, false, false, false, false, false, false, false, false, false, false, false, false, false, false]}], \"label\": \"-0.35\", \"method\": \"update\"}, {\"args\": [{\"visible\": [true, true, false, false, false, false, false, false, false, false, false, false, false, false, false, false, false, false, true, false, false, false, false, false, false, false, false, false, false, false, false, false, false, false, false, false, false, false, false, false, false, false, false, false, false, false, false]}], \"label\": \"-0.30\", \"method\": \"update\"}, {\"args\": [{\"visible\": [true, true, false, false, false, false, false, false, false, false, false, false, false, false, false, false, false, false, false, true, false, false, false, false, false, false, false, false, false, false, false, false, false, false, false, false, false, false, false, false, false, false, false, false, false, false, false]}], \"label\": \"-0.25\", \"method\": \"update\"}, {\"args\": [{\"visible\": [true, true, false, false, false, false, false, false, false, false, false, false, false, false, false, false, false, false, false, false, true, false, false, false, false, false, false, false, false, false, false, false, false, false, false, false, false, false, false, false, false, false, false, false, false, false, false]}], \"label\": \"-0.20\", \"method\": \"update\"}, {\"args\": [{\"visible\": [true, true, false, false, false, false, false, false, false, false, false, false, false, false, false, false, false, false, false, false, false, true, false, false, false, false, false, false, false, false, false, false, false, false, false, false, false, false, false, false, false, false, false, false, false, false, false]}], \"label\": \"-0.15\", \"method\": \"update\"}, {\"args\": [{\"visible\": [true, true, false, false, false, false, false, false, false, false, false, false, false, false, false, false, false, false, false, false, false, false, true, false, false, false, false, false, false, false, false, false, false, false, false, false, false, false, false, false, false, false, false, false, false, false, false]}], \"label\": \"-0.10\", \"method\": \"update\"}, {\"args\": [{\"visible\": [true, true, false, false, false, false, false, false, false, false, false, false, false, false, false, false, false, false, false, false, false, false, false, true, false, false, false, false, false, false, false, false, false, false, false, false, false, false, false, false, false, false, false, false, false, false, false]}], \"label\": \"-0.05\", \"method\": \"update\"}, {\"args\": [{\"visible\": [true, true, false, false, false, false, false, false, false, false, false, false, false, false, false, false, false, false, false, false, false, false, false, false, true, false, false, false, false, false, false, false, false, false, false, false, false, false, false, false, false, false, false, false, false, false, false]}], \"label\": \"-0.00\", \"method\": \"update\"}, {\"args\": [{\"visible\": [true, true, false, false, false, false, false, false, false, false, false, false, false, false, false, false, false, false, false, false, false, false, false, false, false, true, false, false, false, false, false, false, false, false, false, false, false, false, false, false, false, false, false, false, false, false, false]}], \"label\": \"0.05\", \"method\": \"update\"}, {\"args\": [{\"visible\": [true, true, false, false, false, false, false, false, false, false, false, false, false, false, false, false, false, false, false, false, false, false, false, false, false, false, true, false, false, false, false, false, false, false, false, false, false, false, false, false, false, false, false, false, false, false, false]}], \"label\": \"0.10\", \"method\": \"update\"}, {\"args\": [{\"visible\": [true, true, false, false, false, false, false, false, false, false, false, false, false, false, false, false, false, false, false, false, false, false, false, false, false, false, false, true, false, false, false, false, false, false, false, false, false, false, false, false, false, false, false, false, false, false, false]}], \"label\": \"0.15\", \"method\": \"update\"}, {\"args\": [{\"visible\": [true, true, false, false, false, false, false, false, false, false, false, false, false, false, false, false, false, false, false, false, false, false, false, false, false, false, false, false, true, false, false, false, false, false, false, false, false, false, false, false, false, false, false, false, false, false, false]}], \"label\": \"0.20\", \"method\": \"update\"}, {\"args\": [{\"visible\": [true, true, false, false, false, false, false, false, false, false, false, false, false, false, false, false, false, false, false, false, false, false, false, false, false, false, false, false, false, true, false, false, false, false, false, false, false, false, false, false, false, false, false, false, false, false, false]}], \"label\": \"0.25\", \"method\": \"update\"}, {\"args\": [{\"visible\": [true, true, false, false, false, false, false, false, false, false, false, false, false, false, false, false, false, false, false, false, false, false, false, false, false, false, false, false, false, false, true, false, false, false, false, false, false, false, false, false, false, false, false, false, false, false, false]}], \"label\": \"0.30\", \"method\": \"update\"}, {\"args\": [{\"visible\": [true, true, false, false, false, false, false, false, false, false, false, false, false, false, false, false, false, false, false, false, false, false, false, false, false, false, false, false, false, false, false, true, false, false, false, false, false, false, false, false, false, false, false, false, false, false, false]}], \"label\": \"0.35\", \"method\": \"update\"}, {\"args\": [{\"visible\": [true, true, false, false, false, false, false, false, false, false, false, false, false, false, false, false, false, false, false, false, false, false, false, false, false, false, false, false, false, false, false, false, true, false, false, false, false, false, false, false, false, false, false, false, false, false, false]}], \"label\": \"0.40\", \"method\": \"update\"}, {\"args\": [{\"visible\": [true, true, false, false, false, false, false, false, false, false, false, false, false, false, false, false, false, false, false, false, false, false, false, false, false, false, false, false, false, false, false, false, false, true, false, false, false, false, false, false, false, false, false, false, false, false, false]}], \"label\": \"0.45\", \"method\": \"update\"}, {\"args\": [{\"visible\": [true, true, false, false, false, false, false, false, false, false, false, false, false, false, false, false, false, false, false, false, false, false, false, false, false, false, false, false, false, false, false, false, false, false, true, false, false, false, false, false, false, false, false, false, false, false, false]}], \"label\": \"0.50\", \"method\": \"update\"}, {\"args\": [{\"visible\": [true, true, false, false, false, false, false, false, false, false, false, false, false, false, false, false, false, false, false, false, false, false, false, false, false, false, false, false, false, false, false, false, false, false, false, true, false, false, false, false, false, false, false, false, false, false, false]}], \"label\": \"0.55\", \"method\": \"update\"}, {\"args\": [{\"visible\": [true, true, false, false, false, false, false, false, false, false, false, false, false, false, false, false, false, false, false, false, false, false, false, false, false, false, false, false, false, false, false, false, false, false, false, false, true, false, false, false, false, false, false, false, false, false, false]}], \"label\": \"0.60\", \"method\": \"update\"}, {\"args\": [{\"visible\": [true, true, false, false, false, false, false, false, false, false, false, false, false, false, false, false, false, false, false, false, false, false, false, false, false, false, false, false, false, false, false, false, false, false, false, false, false, true, false, false, false, false, false, false, false, false, false]}], \"label\": \"0.65\", \"method\": \"update\"}, {\"args\": [{\"visible\": [true, true, false, false, false, false, false, false, false, false, false, false, false, false, false, false, false, false, false, false, false, false, false, false, false, false, false, false, false, false, false, false, false, false, false, false, false, false, true, false, false, false, false, false, false, false, false]}], \"label\": \"0.70\", \"method\": \"update\"}, {\"args\": [{\"visible\": [true, true, false, false, false, false, false, false, false, false, false, false, false, false, false, false, false, false, false, false, false, false, false, false, false, false, false, false, false, false, false, false, false, false, false, false, false, false, false, true, false, false, false, false, false, false, false]}], \"label\": \"0.75\", \"method\": \"update\"}, {\"args\": [{\"visible\": [true, true, false, false, false, false, false, false, false, false, false, false, false, false, false, false, false, false, false, false, false, false, false, false, false, false, false, false, false, false, false, false, false, false, false, false, false, false, false, false, true, false, false, false, false, false, false]}], \"label\": \"0.80\", \"method\": \"update\"}, {\"args\": [{\"visible\": [true, true, false, false, false, false, false, false, false, false, false, false, false, false, false, false, false, false, false, false, false, false, false, false, false, false, false, false, false, false, false, false, false, false, false, false, false, false, false, false, false, true, false, false, false, false, false]}], \"label\": \"0.85\", \"method\": \"update\"}, {\"args\": [{\"visible\": [true, true, false, false, false, false, false, false, false, false, false, false, false, false, false, false, false, false, false, false, false, false, false, false, false, false, false, false, false, false, false, false, false, false, false, false, false, false, false, false, false, false, true, false, false, false, false]}], \"label\": \"0.90\", \"method\": \"update\"}, {\"args\": [{\"visible\": [true, true, false, false, false, false, false, false, false, false, false, false, false, false, false, false, false, false, false, false, false, false, false, false, false, false, false, false, false, false, false, false, false, false, false, false, false, false, false, false, false, false, false, true, false, false, false]}], \"label\": \"0.95\", \"method\": \"update\"}, {\"args\": [{\"visible\": [true, true, false, false, false, false, false, false, false, false, false, false, false, false, false, false, false, false, false, false, false, false, false, false, false, false, false, false, false, false, false, false, false, false, false, false, false, false, false, false, false, false, false, false, true, false, false]}], \"label\": \"1.00\", \"method\": \"update\"}, {\"args\": [{\"visible\": [true, true, false, false, false, false, false, false, false, false, false, false, false, false, false, false, false, false, false, false, false, false, false, false, false, false, false, false, false, false, false, false, false, false, false, false, false, false, false, false, false, false, false, false, false, true, false]}], \"label\": \"1.05\", \"method\": \"update\"}, {\"args\": [{\"visible\": [true, true, false, false, false, false, false, false, false, false, false, false, false, false, false, false, false, false, false, false, false, false, false, false, false, false, false, false, false, false, false, false, false, false, false, false, false, false, false, false, false, false, false, false, false, false, true]}], \"label\": \"1.10\", \"method\": \"update\"}], \"y\": 0.35}], \"template\": {\"data\": {\"bar\": [{\"error_x\": {\"color\": \"#2a3f5f\"}, \"error_y\": {\"color\": \"#2a3f5f\"}, \"marker\": {\"line\": {\"color\": \"#E5ECF6\", \"width\": 0.5}}, \"type\": \"bar\"}], \"barpolar\": [{\"marker\": {\"line\": {\"color\": \"#E5ECF6\", \"width\": 0.5}}, \"type\": \"barpolar\"}], \"carpet\": [{\"aaxis\": {\"endlinecolor\": \"#2a3f5f\", \"gridcolor\": \"white\", \"linecolor\": \"white\", \"minorgridcolor\": \"white\", \"startlinecolor\": \"#2a3f5f\"}, \"baxis\": {\"endlinecolor\": \"#2a3f5f\", \"gridcolor\": \"white\", \"linecolor\": \"white\", \"minorgridcolor\": \"white\", \"startlinecolor\": \"#2a3f5f\"}, \"type\": \"carpet\"}], \"choropleth\": [{\"colorbar\": {\"outlinewidth\": 0, \"ticks\": \"\"}, \"type\": \"choropleth\"}], \"contour\": [{\"colorbar\": {\"outlinewidth\": 0, \"ticks\": \"\"}, \"colorscale\": [[0.0, \"#0d0887\"], [0.1111111111111111, \"#46039f\"], [0.2222222222222222, \"#7201a8\"], [0.3333333333333333, \"#9c179e\"], [0.4444444444444444, \"#bd3786\"], [0.5555555555555556, \"#d8576b\"], [0.6666666666666666, \"#ed7953\"], [0.7777777777777778, \"#fb9f3a\"], [0.8888888888888888, \"#fdca26\"], [1.0, \"#f0f921\"]], \"type\": \"contour\"}], \"contourcarpet\": [{\"colorbar\": {\"outlinewidth\": 0, \"ticks\": \"\"}, \"type\": \"contourcarpet\"}], \"heatmap\": [{\"colorbar\": {\"outlinewidth\": 0, \"ticks\": \"\"}, \"colorscale\": [[0.0, \"#0d0887\"], [0.1111111111111111, \"#46039f\"], [0.2222222222222222, \"#7201a8\"], [0.3333333333333333, \"#9c179e\"], [0.4444444444444444, \"#bd3786\"], [0.5555555555555556, \"#d8576b\"], [0.6666666666666666, \"#ed7953\"], [0.7777777777777778, \"#fb9f3a\"], [0.8888888888888888, \"#fdca26\"], [1.0, \"#f0f921\"]], \"type\": \"heatmap\"}], \"heatmapgl\": [{\"colorbar\": {\"outlinewidth\": 0, \"ticks\": \"\"}, \"colorscale\": [[0.0, \"#0d0887\"], [0.1111111111111111, \"#46039f\"], [0.2222222222222222, \"#7201a8\"], [0.3333333333333333, \"#9c179e\"], [0.4444444444444444, \"#bd3786\"], [0.5555555555555556, \"#d8576b\"], [0.6666666666666666, \"#ed7953\"], [0.7777777777777778, \"#fb9f3a\"], [0.8888888888888888, \"#fdca26\"], [1.0, \"#f0f921\"]], \"type\": \"heatmapgl\"}], \"histogram\": [{\"marker\": {\"colorbar\": {\"outlinewidth\": 0, \"ticks\": \"\"}}, \"type\": \"histogram\"}], \"histogram2d\": [{\"colorbar\": {\"outlinewidth\": 0, \"ticks\": \"\"}, \"colorscale\": [[0.0, \"#0d0887\"], [0.1111111111111111, \"#46039f\"], [0.2222222222222222, \"#7201a8\"], [0.3333333333333333, \"#9c179e\"], [0.4444444444444444, \"#bd3786\"], [0.5555555555555556, \"#d8576b\"], [0.6666666666666666, \"#ed7953\"], [0.7777777777777778, \"#fb9f3a\"], [0.8888888888888888, \"#fdca26\"], [1.0, \"#f0f921\"]], \"type\": \"histogram2d\"}], \"histogram2dcontour\": [{\"colorbar\": {\"outlinewidth\": 0, \"ticks\": \"\"}, \"colorscale\": [[0.0, \"#0d0887\"], [0.1111111111111111, \"#46039f\"], [0.2222222222222222, \"#7201a8\"], [0.3333333333333333, \"#9c179e\"], [0.4444444444444444, \"#bd3786\"], [0.5555555555555556, \"#d8576b\"], [0.6666666666666666, \"#ed7953\"], [0.7777777777777778, \"#fb9f3a\"], [0.8888888888888888, \"#fdca26\"], [1.0, \"#f0f921\"]], \"type\": \"histogram2dcontour\"}], \"mesh3d\": [{\"colorbar\": {\"outlinewidth\": 0, \"ticks\": \"\"}, \"type\": \"mesh3d\"}], \"parcoords\": [{\"line\": {\"colorbar\": {\"outlinewidth\": 0, \"ticks\": \"\"}}, \"type\": \"parcoords\"}], \"pie\": [{\"automargin\": true, \"type\": \"pie\"}], \"scatter\": [{\"marker\": {\"colorbar\": {\"outlinewidth\": 0, \"ticks\": \"\"}}, \"type\": \"scatter\"}], \"scatter3d\": [{\"line\": {\"colorbar\": {\"outlinewidth\": 0, \"ticks\": \"\"}}, \"marker\": {\"colorbar\": {\"outlinewidth\": 0, \"ticks\": \"\"}}, \"type\": \"scatter3d\"}], \"scattercarpet\": [{\"marker\": {\"colorbar\": {\"outlinewidth\": 0, \"ticks\": \"\"}}, \"type\": \"scattercarpet\"}], \"scattergeo\": [{\"marker\": {\"colorbar\": {\"outlinewidth\": 0, \"ticks\": \"\"}}, \"type\": \"scattergeo\"}], \"scattergl\": [{\"marker\": {\"colorbar\": {\"outlinewidth\": 0, \"ticks\": \"\"}}, \"type\": \"scattergl\"}], \"scattermapbox\": [{\"marker\": {\"colorbar\": {\"outlinewidth\": 0, \"ticks\": \"\"}}, \"type\": \"scattermapbox\"}], \"scatterpolar\": [{\"marker\": {\"colorbar\": {\"outlinewidth\": 0, \"ticks\": \"\"}}, \"type\": \"scatterpolar\"}], \"scatterpolargl\": [{\"marker\": {\"colorbar\": {\"outlinewidth\": 0, \"ticks\": \"\"}}, \"type\": \"scatterpolargl\"}], \"scatterternary\": [{\"marker\": {\"colorbar\": {\"outlinewidth\": 0, \"ticks\": \"\"}}, \"type\": \"scatterternary\"}], \"surface\": [{\"colorbar\": {\"outlinewidth\": 0, \"ticks\": \"\"}, \"colorscale\": [[0.0, \"#0d0887\"], [0.1111111111111111, \"#46039f\"], [0.2222222222222222, \"#7201a8\"], [0.3333333333333333, \"#9c179e\"], [0.4444444444444444, \"#bd3786\"], [0.5555555555555556, \"#d8576b\"], [0.6666666666666666, \"#ed7953\"], [0.7777777777777778, \"#fb9f3a\"], [0.8888888888888888, \"#fdca26\"], [1.0, \"#f0f921\"]], \"type\": \"surface\"}], \"table\": [{\"cells\": {\"fill\": {\"color\": \"#EBF0F8\"}, \"line\": {\"color\": \"white\"}}, \"header\": {\"fill\": {\"color\": \"#C8D4E3\"}, \"line\": {\"color\": \"white\"}}, \"type\": \"table\"}]}, \"layout\": {\"annotationdefaults\": {\"arrowcolor\": \"#2a3f5f\", \"arrowhead\": 0, \"arrowwidth\": 1}, \"autotypenumbers\": \"strict\", \"coloraxis\": {\"colorbar\": {\"outlinewidth\": 0, \"ticks\": \"\"}}, \"colorscale\": {\"diverging\": [[0, \"#8e0152\"], [0.1, \"#c51b7d\"], [0.2, \"#de77ae\"], [0.3, \"#f1b6da\"], [0.4, \"#fde0ef\"], [0.5, \"#f7f7f7\"], [0.6, \"#e6f5d0\"], [0.7, \"#b8e186\"], [0.8, \"#7fbc41\"], [0.9, \"#4d9221\"], [1, \"#276419\"]], \"sequential\": [[0.0, \"#0d0887\"], [0.1111111111111111, \"#46039f\"], [0.2222222222222222, \"#7201a8\"], [0.3333333333333333, \"#9c179e\"], [0.4444444444444444, \"#bd3786\"], [0.5555555555555556, \"#d8576b\"], [0.6666666666666666, \"#ed7953\"], [0.7777777777777778, \"#fb9f3a\"], [0.8888888888888888, \"#fdca26\"], [1.0, \"#f0f921\"]], \"sequentialminus\": [[0.0, \"#0d0887\"], [0.1111111111111111, \"#46039f\"], [0.2222222222222222, \"#7201a8\"], [0.3333333333333333, \"#9c179e\"], [0.4444444444444444, \"#bd3786\"], [0.5555555555555556, \"#d8576b\"], [0.6666666666666666, \"#ed7953\"], [0.7777777777777778, \"#fb9f3a\"], [0.8888888888888888, \"#fdca26\"], [1.0, \"#f0f921\"]]}, \"colorway\": [\"#636efa\", \"#EF553B\", \"#00cc96\", \"#ab63fa\", \"#FFA15A\", \"#19d3f3\", \"#FF6692\", \"#B6E880\", \"#FF97FF\", \"#FECB52\"], \"font\": {\"color\": \"#2a3f5f\"}, \"geo\": {\"bgcolor\": \"white\", \"lakecolor\": \"white\", \"landcolor\": \"#E5ECF6\", \"showlakes\": true, \"showland\": true, \"subunitcolor\": \"white\"}, \"hoverlabel\": {\"align\": \"left\"}, \"hovermode\": \"closest\", \"mapbox\": {\"style\": \"light\"}, \"paper_bgcolor\": \"white\", \"plot_bgcolor\": \"#E5ECF6\", \"polar\": {\"angularaxis\": {\"gridcolor\": \"white\", \"linecolor\": \"white\", \"ticks\": \"\"}, \"bgcolor\": \"#E5ECF6\", \"radialaxis\": {\"gridcolor\": \"white\", \"linecolor\": \"white\", \"ticks\": \"\"}}, \"scene\": {\"xaxis\": {\"backgroundcolor\": \"#E5ECF6\", \"gridcolor\": \"white\", \"gridwidth\": 2, \"linecolor\": \"white\", \"showbackground\": true, \"ticks\": \"\", \"zerolinecolor\": \"white\"}, \"yaxis\": {\"backgroundcolor\": \"#E5ECF6\", \"gridcolor\": \"white\", \"gridwidth\": 2, \"linecolor\": \"white\", \"showbackground\": true, \"ticks\": \"\", \"zerolinecolor\": \"white\"}, \"zaxis\": {\"backgroundcolor\": \"#E5ECF6\", \"gridcolor\": \"white\", \"gridwidth\": 2, \"linecolor\": \"white\", \"showbackground\": true, \"ticks\": \"\", \"zerolinecolor\": \"white\"}}, \"shapedefaults\": {\"line\": {\"color\": \"#2a3f5f\"}}, \"ternary\": {\"aaxis\": {\"gridcolor\": \"white\", \"linecolor\": \"white\", \"ticks\": \"\"}, \"baxis\": {\"gridcolor\": \"white\", \"linecolor\": \"white\", \"ticks\": \"\"}, \"bgcolor\": \"#E5ECF6\", \"caxis\": {\"gridcolor\": \"white\", \"linecolor\": \"white\", \"ticks\": \"\"}}, \"title\": {\"x\": 0.05}, \"xaxis\": {\"automargin\": true, \"gridcolor\": \"white\", \"linecolor\": \"white\", \"ticks\": \"\", \"title\": {\"standoff\": 15}, \"zerolinecolor\": \"white\", \"zerolinewidth\": 2}, \"yaxis\": {\"automargin\": true, \"gridcolor\": \"white\", \"linecolor\": \"white\", \"ticks\": \"\", \"title\": {\"standoff\": 15}, \"zerolinecolor\": \"white\", \"zerolinewidth\": 2}}}, \"title\": {\"text\": \"Word Usage as a Function of Ideal Point (Topic: Immigration)\", \"x\": 0.5, \"y\": 0.9}, \"xaxis\": {\"fixedrange\": true, \"range\": [-1.124844331741333, 1.124844331741333], \"showgrid\": false, \"showline\": false, \"showticklabels\": false, \"title\": {\"text\": \"Representative ideal points (hover to see names)\"}, \"zeroline\": false}, \"yaxis\": {\"fixedrange\": true, \"range\": [-0.6, 2.5], \"showgrid\": false, \"showline\": false, \"showticklabels\": false, \"zeroline\": false}},                        {\"responsive\": true}                    ).then(function(){\n",
       "                            \n",
       "var gd = document.getElementById('e8874742-5c3d-41a9-9fea-b23958e82a43');\n",
       "var x = new MutationObserver(function (mutations, observer) {{\n",
       "        var display = window.getComputedStyle(gd).display;\n",
       "        if (!display || display === 'none') {{\n",
       "            console.log([gd, 'removed!']);\n",
       "            Plotly.purge(gd);\n",
       "            observer.disconnect();\n",
       "        }}\n",
       "}});\n",
       "\n",
       "// Listen for the removal of the full notebook cells\n",
       "var notebookContainer = gd.closest('#notebook-container');\n",
       "if (notebookContainer) {{\n",
       "    x.observe(notebookContainer, {childList: true});\n",
       "}}\n",
       "\n",
       "// Listen for the clearing of the current output cell\n",
       "var outputEl = gd.closest('.output');\n",
       "if (outputEl) {{\n",
       "    x.observe(outputEl, {childList: true});\n",
       "}}\n",
       "\n",
       "                        })                };                });            </script>        </div>"
      ]
     },
     "metadata": {},
     "output_type": "display_data"
    }
   ],
   "source": [
    "show_interactive(1)"
   ]
  },
  {
   "cell_type": "code",
   "execution_count": 32,
   "id": "d7760d1f",
   "metadata": {},
   "outputs": [
    {
     "data": {
      "application/vnd.plotly.v1+json": {
       "config": {
        "plotlyServerURL": "https://plot.ly"
       },
       "data": [
        {
         "hoverinfo": "skip",
         "line": {
          "color": "black",
          "width": 1
         },
         "marker": {
          "size": 1
         },
         "type": "scatter",
         "x": [
          -1.0510294437408447,
          1.0510294437408447
         ],
         "y": [
          -0.53,
          -0.53
         ]
        },
        {
         "hoverinfo": "x+text",
         "marker": {
          "color": [
           "steelblue",
           "crimson",
           "steelblue",
           "crimson",
           "crimson",
           "steelblue"
          ],
          "size": 8
         },
         "mode": "markers",
         "text": [
          "Alex (D) [0.335]",
          "John (R) [0.311]",
          "Justicia (D) [0.346]",
          "Lauren (R) [0.349]",
          "Mark (R) [0.335]",
          "Mona (D) [0.326]"
         ],
         "type": "scatter",
         "x": [
          -0.5957480072975159,
          0.9244451522827148,
          -0.9976649284362793,
          0.6676518321037292,
          1.0510294437408447,
          -0.9289417266845703
         ],
         "y": [
          -0.53,
          -0.53,
          -0.53,
          -0.53,
          -0.53,
          -0.53
         ]
        },
        {
         "base": -0.3,
         "dy": 0.214,
         "hoverinfo": "skip",
         "marker": {
          "color": "rgb(175,122,197)"
         },
         "orientation": "h",
         "text": [
          "choice",
          "rare",
          "legal",
          "birth_control",
          "bodily_autonomy",
          "access",
          "rights",
          "contraception"
         ],
         "textposition": "outside",
         "type": "bar",
         "visible": false,
         "x": [
          0.26041048765182495,
          0.27668696641921997,
          0.3030559718608856,
          0.4115324914455414,
          0.43028131127357483,
          0.4339632987976074,
          0.4625251293182373,
          0.4737517237663269
         ],
         "y0": 0.529
        },
        {
         "base": -0.3,
         "dy": 0.214,
         "hoverinfo": "skip",
         "marker": {
          "color": "rgb(175,122,197)"
         },
         "orientation": "h",
         "text": [
          "choice",
          "rare",
          "legal",
          "birth_control",
          "bodily_autonomy",
          "access",
          "rights",
          "contraception"
         ],
         "textposition": "outside",
         "type": "bar",
         "visible": false,
         "x": [
          0.2547025978565216,
          0.2633581757545471,
          0.2921300530433655,
          0.38009196519851685,
          0.3962987959384918,
          0.4001457989215851,
          0.4257151484489441,
          0.4356234669685364
         ],
         "y0": 0.529
        },
        {
         "base": -0.3,
         "dy": 0.214,
         "hoverinfo": "skip",
         "marker": {
          "color": "rgb(175,122,197)"
         },
         "orientation": "h",
         "text": [
          "choice",
          "rare",
          "legal",
          "birth_control",
          "bodily_autonomy",
          "access",
          "rights",
          "contraception"
         ],
         "textposition": "outside",
         "type": "bar",
         "visible": false,
         "x": [
          0.24916081130504608,
          0.2507261633872986,
          0.2816721498966217,
          0.3511086106300354,
          0.3650704026222229,
          0.36903855204582214,
          0.3919156789779663,
          0.4006562829017639
         ],
         "y0": 0.529
        },
        {
         "base": -0.3,
         "dy": 0.214,
         "hoverinfo": "skip",
         "marker": {
          "color": "rgb(175,122,197)"
         },
         "orientation": "h",
         "text": [
          "rare",
          "choice",
          "legal",
          "birth_control",
          "bodily_autonomy",
          "access",
          "rights",
          "contraception"
         ],
         "textposition": "outside",
         "type": "bar",
         "visible": false,
         "x": [
          0.23875221610069275,
          0.24377979338169098,
          0.2716602683067322,
          0.3243862986564636,
          0.336367666721344,
          0.34041884541511536,
          0.3608742654323578,
          0.36858123540878296
         ],
         "y0": 0.529
        },
        {
         "base": -0.3,
         "dy": 0.214,
         "hoverinfo": "skip",
         "marker": {
          "color": "rgb(175,122,197)"
         },
         "orientation": "h",
         "text": [
          "rare",
          "choice",
          "legal",
          "birth_control",
          "bodily_autonomy",
          "access",
          "rights",
          "contraception"
         ],
         "textposition": "outside",
         "type": "bar",
         "visible": false,
         "x": [
          0.2273997813463211,
          0.23855429887771606,
          0.262073278427124,
          0.29974478483200073,
          0.3099812865257263,
          0.31408238410949707,
          0.3323601186275482,
          0.33915233612060547
         ],
         "y0": 0.529
        },
        {
         "base": -0.3,
         "dy": 0.214,
         "hoverinfo": "skip",
         "marker": {
          "color": "rgb(175,122,197)"
         },
         "orientation": "h",
         "text": [
          "women",
          "choice",
          "legal",
          "birth_control",
          "bodily_autonomy",
          "access",
          "rights",
          "contraception"
         ],
         "textposition": "outside",
         "type": "bar",
         "visible": false,
         "x": [
          0.21951302886009216,
          0.23347920179367065,
          0.2528911828994751,
          0.2770186960697174,
          0.28571975231170654,
          0.289842426776886,
          0.3061622083187103,
          0.3121453821659088
         ],
         "y0": 0.529
        },
        {
         "base": -0.3,
         "dy": 0.214,
         "hoverinfo": "skip",
         "marker": {
          "color": "rgb(175,122,197)"
         },
         "orientation": "h",
         "text": [
          "women",
          "choice",
          "legal",
          "birth_control",
          "bodily_autonomy",
          "access",
          "rights",
          "contraception"
         ],
         "textposition": "outside",
         "type": "bar",
         "visible": false,
         "x": [
          0.21676702797412872,
          0.22854971885681152,
          0.2440951019525528,
          0.2560558319091797,
          0.2634078860282898,
          0.26752763986587524,
          0.28208765387535095,
          0.2873554229736328
         ],
         "y0": 0.529
        },
        {
         "base": -0.3,
         "dy": 0.214,
         "hoverinfo": "skip",
         "marker": {
          "color": "rgb(175,122,197)"
         },
         "orientation": "h",
         "text": [
          "women",
          "choice",
          "legal",
          "birth_control",
          "bodily_autonomy",
          "access",
          "rights",
          "contraception"
         ],
         "textposition": "outside",
         "type": "bar",
         "visible": false,
         "x": [
          0.21409288048744202,
          0.2237612009048462,
          0.23566706478595734,
          0.23671650886535645,
          0.24288508296012878,
          0.24698102474212646,
          0.2599598467350006,
          0.2645953893661499
         ],
         "y0": 0.529
        },
        {
         "base": -0.3,
         "dy": 0.214,
         "hoverinfo": "skip",
         "marker": {
          "color": "rgb(175,122,197)"
         },
         "orientation": "h",
         "text": [
          "women",
          "birth_control",
          "choice",
          "bodily_autonomy",
          "legal",
          "access",
          "rights",
          "contraception"
         ],
         "textposition": "outside",
         "type": "bar",
         "visible": false,
         "x": [
          0.2114887535572052,
          0.21887220442295074,
          0.21910911798477173,
          0.22400447726249695,
          0.2275899350643158,
          0.22805877029895782,
          0.23961731791496277,
          0.24369442462921143
         ],
         "y0": 0.529
        },
        {
         "base": -0.3,
         "dy": 0.214,
         "hoverinfo": "skip",
         "marker": {
          "color": "rgb(175,122,197)"
         },
         "orientation": "h",
         "text": [
          "birth_control",
          "bodily_autonomy",
          "women",
          "access",
          "choice",
          "legal",
          "rights",
          "contraception"
         ],
         "textposition": "outside",
         "type": "bar",
         "visible": false,
         "x": [
          0.20240487158298492,
          0.20663130283355713,
          0.2089528739452362,
          0.21062903106212616,
          0.21458901464939117,
          0.21984755992889404,
          0.22091232240200043,
          0.22449636459350586
         ],
         "y0": 0.529
        },
        {
         "base": -0.3,
         "dy": 0.214,
         "hoverinfo": "skip",
         "marker": {
          "color": "rgb(175,122,197)"
         },
         "orientation": "h",
         "text": [
          "birth_control",
          "bodily_autonomy",
          "access",
          "rights",
          "women",
          "contraception",
          "choice",
          "legal"
         ],
         "textposition": "outside",
         "type": "bar",
         "visible": false,
         "x": [
          0.18720585107803345,
          0.19064223766326904,
          0.19457094371318817,
          0.20370952785015106,
          0.20648358762264252,
          0.2068585753440857,
          0.210196852684021,
          0.21242448687553406
         ],
         "y0": 0.529
        },
        {
         "base": -0.3,
         "dy": 0.214,
         "hoverinfo": "skip",
         "marker": {
          "color": "rgb(175,122,197)"
         },
         "orientation": "h",
         "text": [
          "birth_control",
          "bodily_autonomy",
          "access",
          "rights",
          "contraception",
          "women",
          "legal",
          "choice"
         ],
         "textposition": "outside",
         "type": "bar",
         "visible": false,
         "x": [
          0.1731754094362259,
          0.17592430114746094,
          0.17977364361286163,
          0.18788518011569977,
          0.1906505525112152,
          0.20407921075820923,
          0.20530614256858826,
          0.20592845976352692
         ],
         "y0": 0.529
        },
        {
         "base": -0.3,
         "dy": 0.214,
         "hoverinfo": "skip",
         "marker": {
          "color": "rgb(175,122,197)"
         },
         "orientation": "h",
         "text": [
          "birth_control",
          "bodily_autonomy",
          "access",
          "rights",
          "contraception",
          "legal",
          "women",
          "choice"
         ],
         "textposition": "outside",
         "type": "bar",
         "visible": false,
         "x": [
          0.1602216213941574,
          0.1623738706111908,
          0.1661354899406433,
          0.17332589626312256,
          0.1757531464099884,
          0.19847863912582397,
          0.2017381489276886,
          0.2017800211906433
         ],
         "y0": 0.529
        },
        {
         "base": -0.3,
         "dy": 0.214,
         "hoverinfo": "skip",
         "marker": {
          "color": "rgb(175,122,197)"
         },
         "orientation": "h",
         "text": [
          "birth_control",
          "bodily_autonomy",
          "access",
          "rights",
          "contraception",
          "legal",
          "choice",
          "women"
         ],
         "textposition": "outside",
         "type": "bar",
         "visible": false,
         "x": [
          0.14826011657714844,
          0.1498960256576538,
          0.15356314182281494,
          0.1599278450012207,
          0.16205726563930511,
          0.1919286847114563,
          0.19774766266345978,
          0.19945889711380005
         ],
         "y0": 0.529
        },
        {
         "base": -0.3,
         "dy": 0.214,
         "hoverinfo": "skip",
         "marker": {
          "color": "rgb(175,122,197)"
         },
         "orientation": "h",
         "text": [
          "rare",
          "access",
          "stem",
          "rights",
          "contraception",
          "legal",
          "choice",
          "women"
         ],
         "textposition": "outside",
         "type": "bar",
         "visible": false,
         "x": [
          0.14139464497566223,
          0.14197105169296265,
          0.14530667662620544,
          0.14759597182273865,
          0.1494632363319397,
          0.18564382195472717,
          0.19382783770561218,
          0.1972399353981018
         ],
         "y0": 0.529
        },
        {
         "base": -0.3,
         "dy": 0.214,
         "hoverinfo": "skip",
         "marker": {
          "color": "rgb(175,122,197)"
         },
         "orientation": "h",
         "text": [
          "rare",
          "rights",
          "contraception",
          "heartbeat",
          "stem",
          "legal",
          "choice",
          "women"
         ],
         "textposition": "outside",
         "type": "bar",
         "visible": false,
         "x": [
          0.13499540090560913,
          0.13624313473701477,
          0.13787980377674103,
          0.1440681368112564,
          0.14836964011192322,
          0.17961205542087555,
          0.1900169998407364,
          0.19507981836795807
         ],
         "y0": 0.529
        },
        {
         "base": -0.3,
         "dy": 0.214,
         "hoverinfo": "skip",
         "marker": {
          "color": "rgb(175,122,197)"
         },
         "orientation": "h",
         "text": [
          "weeks",
          "late_abortion",
          "rare",
          "heartbeat",
          "stem",
          "legal",
          "choice",
          "women"
         ],
         "textposition": "outside",
         "type": "bar",
         "visible": false,
         "x": [
          0.12736079096794128,
          0.12848986685276031,
          0.12891390919685364,
          0.14737354218959808,
          0.15152589976787567,
          0.17382203042507172,
          0.1863117814064026,
          0.1929771602153778
         ],
         "y0": 0.529
        },
        {
         "base": -0.3,
         "dy": 0.214,
         "hoverinfo": "skip",
         "marker": {
          "color": "rgb(175,122,197)"
         },
         "orientation": "h",
         "text": [
          "rare",
          "weeks",
          "late_abortion",
          "heartbeat",
          "stem",
          "legal",
          "choice",
          "women"
         ],
         "textposition": "outside",
         "type": "bar",
         "visible": false,
         "x": [
          0.12313328683376312,
          0.13113991916179657,
          0.13199517130851746,
          0.15078377723693848,
          0.1547786295413971,
          0.1682630032300949,
          0.18270888924598694,
          0.19093060493469238
         ],
         "y0": 0.529
        },
        {
         "base": -0.3,
         "dy": 0.214,
         "hoverinfo": "skip",
         "marker": {
          "color": "rgb(175,122,197)"
         },
         "orientation": "h",
         "text": [
          "rare",
          "weeks",
          "late_abortion",
          "heartbeat",
          "stem",
          "legal",
          "choice",
          "women"
         ],
         "textposition": "outside",
         "type": "bar",
         "visible": false,
         "x": [
          0.11763755977153778,
          0.13505974411964417,
          0.13562124967575073,
          0.15430258214473724,
          0.15813113749027252,
          0.162924662232399,
          0.17920517921447754,
          0.18893884122371674
         ],
         "y0": 0.529
        },
        {
         "base": -0.3,
         "dy": 0.214,
         "hoverinfo": "skip",
         "marker": {
          "color": "rgb(175,122,197)"
         },
         "orientation": "h",
         "text": [
          "life",
          "weeks",
          "late_abortion",
          "legal",
          "heartbeat",
          "stem",
          "choice",
          "women"
         ],
         "textposition": "outside",
         "type": "bar",
         "visible": false,
         "x": [
          0.11840794235467911,
          0.13912615180015564,
          0.1393728107213974,
          0.1577972173690796,
          0.15793389081954956,
          0.1615869253873825,
          0.17579762637615204,
          0.18700061738491058
         ],
         "y0": 0.529
        },
        {
         "base": -0.3,
         "dy": 0.214,
         "hoverinfo": "skip",
         "marker": {
          "color": "rgb(175,122,197)"
         },
         "orientation": "h",
         "text": [
          "life",
          "late_abortion",
          "weeks",
          "legal",
          "heartbeat",
          "stem",
          "choice",
          "women"
         ],
         "textposition": "outside",
         "type": "bar",
         "visible": true,
         "x": [
          0.12307004630565643,
          0.14325472712516785,
          0.14334534108638763,
          0.15287144482135773,
          0.16168171167373657,
          0.1651494950056076,
          0.17248326539993286,
          0.18511466681957245
         ],
         "y0": 0.529
        },
        {
         "base": -0.3,
         "dy": 0.214,
         "hoverinfo": "skip",
         "marker": {
          "color": "rgb(175,122,197)"
         },
         "orientation": "h",
         "text": [
          "life",
          "late_abortion",
          "weeks",
          "legal",
          "heartbeat",
          "stem",
          "choice",
          "women"
         ],
         "textposition": "outside",
         "type": "bar",
         "visible": false,
         "x": [
          0.12794195115566254,
          0.14727208018302917,
          0.1477237194776535,
          0.14813843369483948,
          0.1655503213405609,
          0.16882263123989105,
          0.16925929486751556,
          0.1832798421382904
         ],
         "y0": 0.529
        },
        {
         "base": -0.3,
         "dy": 0.214,
         "hoverinfo": "skip",
         "marker": {
          "color": "rgb(175,122,197)"
         },
         "orientation": "h",
         "text": [
          "life",
          "legal",
          "late_abortion",
          "weeks",
          "choice",
          "heartbeat",
          "stem",
          "women"
         ],
         "textposition": "outside",
         "type": "bar",
         "visible": false,
         "x": [
          0.13303397595882416,
          0.14358976483345032,
          0.15143020451068878,
          0.15226806700229645,
          0.1661229133605957,
          0.1695440709590912,
          0.17261014878749847,
          0.18149501085281372
         ],
         "y0": 0.529
        },
        {
         "base": -0.3,
         "dy": 0.214,
         "hoverinfo": "skip",
         "marker": {
          "color": "rgb(175,122,197)"
         },
         "orientation": "h",
         "text": [
          "life",
          "legal",
          "late_abortion",
          "weeks",
          "choice",
          "heartbeat",
          "stem",
          "women"
         ],
         "textposition": "outside",
         "type": "bar",
         "visible": false,
         "x": [
          0.1383570283651352,
          0.13921745121479034,
          0.15573462843894958,
          0.15698538720607758,
          0.16307151317596436,
          0.17366757988929749,
          0.1765161156654358,
          0.17975904047489166
         ],
         "y0": 0.529
        },
        {
         "base": -0.3,
         "dy": 0.214,
         "hoverinfo": "skip",
         "marker": {
          "color": "rgb(175,122,197)"
         },
         "orientation": "h",
         "text": [
          "legal",
          "life",
          "choice",
          "late_abortion",
          "weeks",
          "heartbeat",
          "women",
          "stem"
         ],
         "textposition": "outside",
         "type": "bar",
         "visible": false,
         "x": [
          0.13501383364200592,
          0.1439225822687149,
          0.16010253131389618,
          0.1601911187171936,
          0.16188311576843262,
          0.17792555689811707,
          0.17807084321975708,
          0.1805446743965149
         ],
         "y0": 0.529
        },
        {
         "base": -0.3,
         "dy": 0.214,
         "hoverinfo": "skip",
         "marker": {
          "color": "rgb(175,122,197)"
         },
         "orientation": "h",
         "text": [
          "legal",
          "life",
          "choice",
          "late_abortion",
          "weeks",
          "women",
          "heartbeat",
          "stem"
         ],
         "textposition": "outside",
         "type": "bar",
         "visible": false,
         "x": [
          0.13097162544727325,
          0.14974269270896912,
          0.157213494181633,
          0.16480572521686554,
          0.16696898639202118,
          0.17642942070960999,
          0.18232300877571106,
          0.18470020592212677
         ],
         "y0": 0.529
        },
        {
         "base": -0.3,
         "dy": 0.214,
         "hoverinfo": "skip",
         "marker": {
          "color": "rgb(175,122,197)"
         },
         "orientation": "h",
         "text": [
          "legal",
          "choice",
          "life",
          "late_abortion",
          "weeks",
          "women",
          "heartbeat",
          "stem"
         ],
         "textposition": "outside",
         "type": "bar",
         "visible": false,
         "x": [
          0.1270839273929596,
          0.1544020026922226,
          0.15583011507987976,
          0.1695847362279892,
          0.17225104570388794,
          0.17483371496200562,
          0.18686506152153015,
          0.18898718059062958
         ],
         "y0": 0.529
        },
        {
         "base": -0.3,
         "dy": 0.214,
         "hoverinfo": "skip",
         "marker": {
          "color": "rgb(175,122,197)"
         },
         "orientation": "h",
         "text": [
          "legal",
          "choice",
          "life",
          "women",
          "late_abortion",
          "weeks",
          "heartbeat",
          "stem"
         ],
         "textposition": "outside",
         "type": "bar",
         "visible": false,
         "x": [
          0.12334410101175308,
          0.1516657918691635,
          0.1621982604265213,
          0.17328283190727234,
          0.17453469336032867,
          0.17773783206939697,
          0.19155709445476532,
          0.19341029226779938
         ],
         "y0": 0.529
        },
        {
         "base": -0.3,
         "dy": 0.214,
         "hoverinfo": "skip",
         "marker": {
          "color": "rgb(175,122,197)"
         },
         "orientation": "h",
         "text": [
          "unborn_child",
          "choice",
          "life",
          "women",
          "late_abortion",
          "weeks",
          "heartbeat",
          "stem"
         ],
         "textposition": "outside",
         "type": "bar",
         "visible": false,
         "x": [
          0.13135692477226257,
          0.14900259673595428,
          0.1688612699508667,
          0.17177575826644897,
          0.17966248095035553,
          0.18343818187713623,
          0.19640469551086426,
          0.19797447323799133
         ],
         "y0": 0.529
        },
        {
         "base": -0.3,
         "dy": 0.214,
         "hoverinfo": "skip",
         "marker": {
          "color": "rgb(175,122,197)"
         },
         "orientation": "h",
         "text": [
          "unborn_child",
          "choice",
          "women",
          "life",
          "late_abortion",
          "weeks",
          "heartbeat",
          "stem"
         ],
         "textposition": "outside",
         "type": "bar",
         "visible": false,
         "x": [
          0.1419067084789276,
          0.1464102864265442,
          0.17031164467334747,
          0.17583400011062622,
          0.1849752515554428,
          0.18936142325401306,
          0.20141370594501495,
          0.20268477499485016
         ],
         "y0": 0.529
        },
        {
         "base": -0.3,
         "dy": 0.214,
         "hoverinfo": "skip",
         "marker": {
          "color": "rgb(175,122,197)"
         },
         "orientation": "h",
         "text": [
          "unborn",
          "unborn_child",
          "women",
          "life",
          "late_abortion",
          "weeks",
          "heartbeat",
          "stem"
         ],
         "textposition": "outside",
         "type": "bar",
         "visible": false,
         "x": [
          0.14864130318164825,
          0.1533285230398178,
          0.16888955235481262,
          0.18313223123550415,
          0.19048047065734863,
          0.19551727175712585,
          0.2065901756286621,
          0.20754647254943848
         ],
         "y0": 0.529
        },
        {
         "base": -0.3,
         "dy": 0.214,
         "hoverinfo": "skip",
         "marker": {
          "color": "rgb(175,122,197)"
         },
         "orientation": "h",
         "text": [
          "unborn",
          "unborn_child",
          "women",
          "life",
          "late_abortion",
          "weeks",
          "heartbeat",
          "stem"
         ],
         "textposition": "outside",
         "type": "bar",
         "visible": false,
         "x": [
          0.1604931652545929,
          0.16569636762142181,
          0.16750870645046234,
          0.19077248871326447,
          0.19618593156337738,
          0.20191597938537598,
          0.21194040775299072,
          0.212565079331398
         ],
         "y0": 0.529
        },
        {
         "base": -0.3,
         "dy": 0.214,
         "hoverinfo": "skip",
         "marker": {
          "color": "rgb(175,122,197)"
         },
         "orientation": "h",
         "text": [
          "babies",
          "unborn",
          "unborn_child",
          "life",
          "late_abortion",
          "weeks",
          "heartbeat",
          "stem"
         ],
         "textposition": "outside",
         "type": "bar",
         "visible": false,
         "x": [
          0.1720140278339386,
          0.17332029342651367,
          0.17909064888954163,
          0.19877223670482635,
          0.20209980010986328,
          0.20856821537017822,
          0.21747104823589325,
          0.2177463173866272
         ],
         "y0": 0.529
        },
        {
         "base": -0.3,
         "dy": 0.214,
         "hoverinfo": "skip",
         "marker": {
          "color": "rgb(175,122,197)"
         },
         "orientation": "h",
         "text": [
          "babies",
          "unborn",
          "unborn_child",
          "life",
          "late_abortion",
          "weeks",
          "stem",
          "heartbeat"
         ],
         "textposition": "outside",
         "type": "bar",
         "visible": false,
         "x": [
          0.18545179069042206,
          0.18720528483390808,
          0.1935988813638687,
          0.20714989304542542,
          0.20823054015636444,
          0.21548517048358917,
          0.2230960875749588,
          0.22318890690803528
         ],
         "y0": 0.529
        },
        {
         "base": -0.3,
         "dy": 0.214,
         "hoverinfo": "skip",
         "marker": {
          "color": "rgb(175,122,197)"
         },
         "orientation": "h",
         "text": [
          "babies",
          "unborn",
          "unborn_child",
          "late_abortion",
          "life",
          "weeks",
          "stem",
          "heartbeat"
         ],
         "textposition": "outside",
         "type": "bar",
         "visible": false,
         "x": [
          0.19997340440750122,
          0.20223796367645264,
          0.2093161642551422,
          0.21458712220191956,
          0.21592490375041962,
          0.22267866134643555,
          0.22862064838409424,
          0.22910112142562866
         ],
         "y0": 0.529
        },
        {
         "base": -0.3,
         "dy": 0.214,
         "hoverinfo": "skip",
         "marker": {
          "color": "rgb(175,122,197)"
         },
         "orientation": "h",
         "text": [
          "babies",
          "unborn",
          "late_abortion",
          "life",
          "unborn_child",
          "weeks",
          "stem",
          "heartbeat"
         ],
         "textposition": "outside",
         "type": "bar",
         "visible": false,
         "x": [
          0.21566882729530334,
          0.21851593255996704,
          0.22117877006530762,
          0.22511780261993408,
          0.22634589672088623,
          0.23016095161437988,
          0.23432645201683044,
          0.2352152019739151
         ],
         "y0": 0.529
        },
        {
         "base": -0.3,
         "dy": 0.214,
         "hoverinfo": "skip",
         "marker": {
          "color": "rgb(175,122,197)"
         },
         "orientation": "h",
         "text": [
          "late_abortion",
          "babies",
          "life",
          "unborn",
          "weeks",
          "stem",
          "heartbeat",
          "unborn_child"
         ],
         "textposition": "outside",
         "type": "bar",
         "visible": false,
         "x": [
          0.22801519930362701,
          0.23263579607009888,
          0.2347501963376999,
          0.23614540696144104,
          0.23794500529766083,
          0.24022015929222107,
          0.2415388822555542,
          0.2448006123304367
         ],
         "y0": 0.529
        },
        {
         "base": -0.3,
         "dy": 0.214,
         "hoverinfo": "skip",
         "marker": {
          "color": "rgb(175,122,197)"
         },
         "orientation": "h",
         "text": [
          "late_abortion",
          "life",
          "weeks",
          "stem",
          "heartbeat",
          "babies",
          "unborn",
          "unborn_child"
         ],
         "textposition": "outside",
         "type": "bar",
         "visible": false,
         "x": [
          0.23510658740997314,
          0.2448449283838272,
          0.24604438245296478,
          0.24630877375602722,
          0.2480802685022354,
          0.2509802281856537,
          0.255241721868515,
          0.2648026645183563
         ],
         "y0": 0.529
        },
        {
         "base": -0.3,
         "dy": 0.214,
         "hoverinfo": "skip",
         "marker": {
          "color": "rgb(175,122,197)"
         },
         "orientation": "h",
         "text": [
          "late_abortion",
          "stem",
          "weeks",
          "heartbeat",
          "life",
          "babies",
          "unborn",
          "unborn_child"
         ],
         "textposition": "outside",
         "type": "bar",
         "visible": false,
         "x": [
          0.24246346950531006,
          0.2525995969772339,
          0.2544732689857483,
          0.25484782457351685,
          0.2554261088371277,
          0.2708173990249634,
          0.2759304940700531,
          0.2864851951599121
         ],
         "y0": 0.529
        },
        {
         "base": -0.3,
         "dy": 0.214,
         "hoverinfo": "skip",
         "marker": {
          "color": "rgb(175,122,197)"
         },
         "orientation": "h",
         "text": [
          "stem",
          "murder",
          "heartbeat",
          "weeks",
          "life",
          "babies",
          "unborn",
          "unborn_child"
         ],
         "textposition": "outside",
         "type": "bar",
         "visible": false,
         "x": [
          0.25910016894340515,
          0.26068058609962463,
          0.2618502974510193,
          0.26324662566185,
          0.2665192186832428,
          0.2922722399234772,
          0.2983483076095581,
          0.30999305844306946
         ],
         "y0": 0.529
        },
        {
         "base": -0.3,
         "dy": 0.214,
         "hoverinfo": "skip",
         "marker": {
          "color": "rgb(175,122,197)"
         },
         "orientation": "h",
         "text": [
          "heartbeat",
          "weeks",
          "baby",
          "life",
          "murder",
          "babies",
          "unborn",
          "unborn_child"
         ],
         "textposition": "outside",
         "type": "bar",
         "visible": false,
         "x": [
          0.2690969407558441,
          0.2723800539970398,
          0.2778607904911041,
          0.27815109491348267,
          0.28080856800079346,
          0.3154805898666382,
          0.32264381647109985,
          0.33548396825790405
         ],
         "y0": 0.529
        },
        {
         "base": -0.3,
         "dy": 0.214,
         "hoverinfo": "skip",
         "marker": {
          "color": "rgb(175,122,197)"
         },
         "orientation": "h",
         "text": [
          "heartbeat",
          "weeks",
          "life",
          "baby",
          "murder",
          "babies",
          "unborn",
          "unborn_child"
         ],
         "textposition": "outside",
         "type": "bar",
         "visible": false,
         "x": [
          0.2765973210334778,
          0.28189000487327576,
          0.29035016894340515,
          0.2991245985031128,
          0.3025398850440979,
          0.3405897617340088,
          0.3489786982536316,
          0.3631294369697571
         ],
         "y0": 0.529
        },
        {
         "base": -0.3,
         "dy": 0.214,
         "hoverinfo": "skip",
         "marker": {
          "color": "rgb(175,122,197)"
         },
         "orientation": "h",
         "text": [
          "heartbeat",
          "weeks",
          "life",
          "baby",
          "murder",
          "babies",
          "unborn",
          "unborn_child"
         ],
         "textposition": "outside",
         "type": "bar",
         "visible": false,
         "x": [
          0.28436142206192017,
          0.29179370403289795,
          0.3031463921070099,
          0.32206758856773376,
          0.32600605487823486,
          0.36776003241539,
          0.3775290846824646,
          0.39311644434928894
         ],
         "y0": 0.529
        }
       ],
       "layout": {
        "annotations": [
         {
          "font": {
           "size": 14
          },
          "showarrow": false,
          "text": "Move slider to change ideal point",
          "x": 0.5,
          "xref": "paper",
          "y": 0.255,
          "yref": "paper"
         }
        ],
        "paper_bgcolor": "rgba(0,0,0,0)",
        "plot_bgcolor": "rgba(0,0,0,0)",
        "showlegend": false,
        "sliders": [
         {
          "active": 21,
          "currentvalue": {
           "prefix": "Ideal Point: "
          },
          "steps": [
           {
            "args": [
             {
              "visible": [
               true,
               true,
               true,
               false,
               false,
               false,
               false,
               false,
               false,
               false,
               false,
               false,
               false,
               false,
               false,
               false,
               false,
               false,
               false,
               false,
               false,
               false,
               false,
               false,
               false,
               false,
               false,
               false,
               false,
               false,
               false,
               false,
               false,
               false,
               false,
               false,
               false,
               false,
               false,
               false,
               false,
               false,
               false,
               false,
               false
              ]
             }
            ],
            "label": "-1.05",
            "method": "update"
           },
           {
            "args": [
             {
              "visible": [
               true,
               true,
               false,
               true,
               false,
               false,
               false,
               false,
               false,
               false,
               false,
               false,
               false,
               false,
               false,
               false,
               false,
               false,
               false,
               false,
               false,
               false,
               false,
               false,
               false,
               false,
               false,
               false,
               false,
               false,
               false,
               false,
               false,
               false,
               false,
               false,
               false,
               false,
               false,
               false,
               false,
               false,
               false,
               false,
               false
              ]
             }
            ],
            "label": "-1.00",
            "method": "update"
           },
           {
            "args": [
             {
              "visible": [
               true,
               true,
               false,
               false,
               true,
               false,
               false,
               false,
               false,
               false,
               false,
               false,
               false,
               false,
               false,
               false,
               false,
               false,
               false,
               false,
               false,
               false,
               false,
               false,
               false,
               false,
               false,
               false,
               false,
               false,
               false,
               false,
               false,
               false,
               false,
               false,
               false,
               false,
               false,
               false,
               false,
               false,
               false,
               false,
               false
              ]
             }
            ],
            "label": "-0.95",
            "method": "update"
           },
           {
            "args": [
             {
              "visible": [
               true,
               true,
               false,
               false,
               false,
               true,
               false,
               false,
               false,
               false,
               false,
               false,
               false,
               false,
               false,
               false,
               false,
               false,
               false,
               false,
               false,
               false,
               false,
               false,
               false,
               false,
               false,
               false,
               false,
               false,
               false,
               false,
               false,
               false,
               false,
               false,
               false,
               false,
               false,
               false,
               false,
               false,
               false,
               false,
               false
              ]
             }
            ],
            "label": "-0.90",
            "method": "update"
           },
           {
            "args": [
             {
              "visible": [
               true,
               true,
               false,
               false,
               false,
               false,
               true,
               false,
               false,
               false,
               false,
               false,
               false,
               false,
               false,
               false,
               false,
               false,
               false,
               false,
               false,
               false,
               false,
               false,
               false,
               false,
               false,
               false,
               false,
               false,
               false,
               false,
               false,
               false,
               false,
               false,
               false,
               false,
               false,
               false,
               false,
               false,
               false,
               false,
               false
              ]
             }
            ],
            "label": "-0.85",
            "method": "update"
           },
           {
            "args": [
             {
              "visible": [
               true,
               true,
               false,
               false,
               false,
               false,
               false,
               true,
               false,
               false,
               false,
               false,
               false,
               false,
               false,
               false,
               false,
               false,
               false,
               false,
               false,
               false,
               false,
               false,
               false,
               false,
               false,
               false,
               false,
               false,
               false,
               false,
               false,
               false,
               false,
               false,
               false,
               false,
               false,
               false,
               false,
               false,
               false,
               false,
               false
              ]
             }
            ],
            "label": "-0.80",
            "method": "update"
           },
           {
            "args": [
             {
              "visible": [
               true,
               true,
               false,
               false,
               false,
               false,
               false,
               false,
               true,
               false,
               false,
               false,
               false,
               false,
               false,
               false,
               false,
               false,
               false,
               false,
               false,
               false,
               false,
               false,
               false,
               false,
               false,
               false,
               false,
               false,
               false,
               false,
               false,
               false,
               false,
               false,
               false,
               false,
               false,
               false,
               false,
               false,
               false,
               false,
               false
              ]
             }
            ],
            "label": "-0.75",
            "method": "update"
           },
           {
            "args": [
             {
              "visible": [
               true,
               true,
               false,
               false,
               false,
               false,
               false,
               false,
               false,
               true,
               false,
               false,
               false,
               false,
               false,
               false,
               false,
               false,
               false,
               false,
               false,
               false,
               false,
               false,
               false,
               false,
               false,
               false,
               false,
               false,
               false,
               false,
               false,
               false,
               false,
               false,
               false,
               false,
               false,
               false,
               false,
               false,
               false,
               false,
               false
              ]
             }
            ],
            "label": "-0.70",
            "method": "update"
           },
           {
            "args": [
             {
              "visible": [
               true,
               true,
               false,
               false,
               false,
               false,
               false,
               false,
               false,
               false,
               true,
               false,
               false,
               false,
               false,
               false,
               false,
               false,
               false,
               false,
               false,
               false,
               false,
               false,
               false,
               false,
               false,
               false,
               false,
               false,
               false,
               false,
               false,
               false,
               false,
               false,
               false,
               false,
               false,
               false,
               false,
               false,
               false,
               false,
               false
              ]
             }
            ],
            "label": "-0.65",
            "method": "update"
           },
           {
            "args": [
             {
              "visible": [
               true,
               true,
               false,
               false,
               false,
               false,
               false,
               false,
               false,
               false,
               false,
               true,
               false,
               false,
               false,
               false,
               false,
               false,
               false,
               false,
               false,
               false,
               false,
               false,
               false,
               false,
               false,
               false,
               false,
               false,
               false,
               false,
               false,
               false,
               false,
               false,
               false,
               false,
               false,
               false,
               false,
               false,
               false,
               false,
               false
              ]
             }
            ],
            "label": "-0.60",
            "method": "update"
           },
           {
            "args": [
             {
              "visible": [
               true,
               true,
               false,
               false,
               false,
               false,
               false,
               false,
               false,
               false,
               false,
               false,
               true,
               false,
               false,
               false,
               false,
               false,
               false,
               false,
               false,
               false,
               false,
               false,
               false,
               false,
               false,
               false,
               false,
               false,
               false,
               false,
               false,
               false,
               false,
               false,
               false,
               false,
               false,
               false,
               false,
               false,
               false,
               false,
               false
              ]
             }
            ],
            "label": "-0.55",
            "method": "update"
           },
           {
            "args": [
             {
              "visible": [
               true,
               true,
               false,
               false,
               false,
               false,
               false,
               false,
               false,
               false,
               false,
               false,
               false,
               true,
               false,
               false,
               false,
               false,
               false,
               false,
               false,
               false,
               false,
               false,
               false,
               false,
               false,
               false,
               false,
               false,
               false,
               false,
               false,
               false,
               false,
               false,
               false,
               false,
               false,
               false,
               false,
               false,
               false,
               false,
               false
              ]
             }
            ],
            "label": "-0.50",
            "method": "update"
           },
           {
            "args": [
             {
              "visible": [
               true,
               true,
               false,
               false,
               false,
               false,
               false,
               false,
               false,
               false,
               false,
               false,
               false,
               false,
               true,
               false,
               false,
               false,
               false,
               false,
               false,
               false,
               false,
               false,
               false,
               false,
               false,
               false,
               false,
               false,
               false,
               false,
               false,
               false,
               false,
               false,
               false,
               false,
               false,
               false,
               false,
               false,
               false,
               false,
               false
              ]
             }
            ],
            "label": "-0.45",
            "method": "update"
           },
           {
            "args": [
             {
              "visible": [
               true,
               true,
               false,
               false,
               false,
               false,
               false,
               false,
               false,
               false,
               false,
               false,
               false,
               false,
               false,
               true,
               false,
               false,
               false,
               false,
               false,
               false,
               false,
               false,
               false,
               false,
               false,
               false,
               false,
               false,
               false,
               false,
               false,
               false,
               false,
               false,
               false,
               false,
               false,
               false,
               false,
               false,
               false,
               false,
               false
              ]
             }
            ],
            "label": "-0.40",
            "method": "update"
           },
           {
            "args": [
             {
              "visible": [
               true,
               true,
               false,
               false,
               false,
               false,
               false,
               false,
               false,
               false,
               false,
               false,
               false,
               false,
               false,
               false,
               true,
               false,
               false,
               false,
               false,
               false,
               false,
               false,
               false,
               false,
               false,
               false,
               false,
               false,
               false,
               false,
               false,
               false,
               false,
               false,
               false,
               false,
               false,
               false,
               false,
               false,
               false,
               false,
               false
              ]
             }
            ],
            "label": "-0.35",
            "method": "update"
           },
           {
            "args": [
             {
              "visible": [
               true,
               true,
               false,
               false,
               false,
               false,
               false,
               false,
               false,
               false,
               false,
               false,
               false,
               false,
               false,
               false,
               false,
               true,
               false,
               false,
               false,
               false,
               false,
               false,
               false,
               false,
               false,
               false,
               false,
               false,
               false,
               false,
               false,
               false,
               false,
               false,
               false,
               false,
               false,
               false,
               false,
               false,
               false,
               false,
               false
              ]
             }
            ],
            "label": "-0.30",
            "method": "update"
           },
           {
            "args": [
             {
              "visible": [
               true,
               true,
               false,
               false,
               false,
               false,
               false,
               false,
               false,
               false,
               false,
               false,
               false,
               false,
               false,
               false,
               false,
               false,
               true,
               false,
               false,
               false,
               false,
               false,
               false,
               false,
               false,
               false,
               false,
               false,
               false,
               false,
               false,
               false,
               false,
               false,
               false,
               false,
               false,
               false,
               false,
               false,
               false,
               false,
               false
              ]
             }
            ],
            "label": "-0.25",
            "method": "update"
           },
           {
            "args": [
             {
              "visible": [
               true,
               true,
               false,
               false,
               false,
               false,
               false,
               false,
               false,
               false,
               false,
               false,
               false,
               false,
               false,
               false,
               false,
               false,
               false,
               true,
               false,
               false,
               false,
               false,
               false,
               false,
               false,
               false,
               false,
               false,
               false,
               false,
               false,
               false,
               false,
               false,
               false,
               false,
               false,
               false,
               false,
               false,
               false,
               false,
               false
              ]
             }
            ],
            "label": "-0.20",
            "method": "update"
           },
           {
            "args": [
             {
              "visible": [
               true,
               true,
               false,
               false,
               false,
               false,
               false,
               false,
               false,
               false,
               false,
               false,
               false,
               false,
               false,
               false,
               false,
               false,
               false,
               false,
               true,
               false,
               false,
               false,
               false,
               false,
               false,
               false,
               false,
               false,
               false,
               false,
               false,
               false,
               false,
               false,
               false,
               false,
               false,
               false,
               false,
               false,
               false,
               false,
               false
              ]
             }
            ],
            "label": "-0.15",
            "method": "update"
           },
           {
            "args": [
             {
              "visible": [
               true,
               true,
               false,
               false,
               false,
               false,
               false,
               false,
               false,
               false,
               false,
               false,
               false,
               false,
               false,
               false,
               false,
               false,
               false,
               false,
               false,
               true,
               false,
               false,
               false,
               false,
               false,
               false,
               false,
               false,
               false,
               false,
               false,
               false,
               false,
               false,
               false,
               false,
               false,
               false,
               false,
               false,
               false,
               false,
               false
              ]
             }
            ],
            "label": "-0.10",
            "method": "update"
           },
           {
            "args": [
             {
              "visible": [
               true,
               true,
               false,
               false,
               false,
               false,
               false,
               false,
               false,
               false,
               false,
               false,
               false,
               false,
               false,
               false,
               false,
               false,
               false,
               false,
               false,
               false,
               true,
               false,
               false,
               false,
               false,
               false,
               false,
               false,
               false,
               false,
               false,
               false,
               false,
               false,
               false,
               false,
               false,
               false,
               false,
               false,
               false,
               false,
               false
              ]
             }
            ],
            "label": "-0.05",
            "method": "update"
           },
           {
            "args": [
             {
              "visible": [
               true,
               true,
               false,
               false,
               false,
               false,
               false,
               false,
               false,
               false,
               false,
               false,
               false,
               false,
               false,
               false,
               false,
               false,
               false,
               false,
               false,
               false,
               false,
               true,
               false,
               false,
               false,
               false,
               false,
               false,
               false,
               false,
               false,
               false,
               false,
               false,
               false,
               false,
               false,
               false,
               false,
               false,
               false,
               false,
               false
              ]
             }
            ],
            "label": "-0.00",
            "method": "update"
           },
           {
            "args": [
             {
              "visible": [
               true,
               true,
               false,
               false,
               false,
               false,
               false,
               false,
               false,
               false,
               false,
               false,
               false,
               false,
               false,
               false,
               false,
               false,
               false,
               false,
               false,
               false,
               false,
               false,
               true,
               false,
               false,
               false,
               false,
               false,
               false,
               false,
               false,
               false,
               false,
               false,
               false,
               false,
               false,
               false,
               false,
               false,
               false,
               false,
               false
              ]
             }
            ],
            "label": "0.05",
            "method": "update"
           },
           {
            "args": [
             {
              "visible": [
               true,
               true,
               false,
               false,
               false,
               false,
               false,
               false,
               false,
               false,
               false,
               false,
               false,
               false,
               false,
               false,
               false,
               false,
               false,
               false,
               false,
               false,
               false,
               false,
               false,
               true,
               false,
               false,
               false,
               false,
               false,
               false,
               false,
               false,
               false,
               false,
               false,
               false,
               false,
               false,
               false,
               false,
               false,
               false,
               false
              ]
             }
            ],
            "label": "0.10",
            "method": "update"
           },
           {
            "args": [
             {
              "visible": [
               true,
               true,
               false,
               false,
               false,
               false,
               false,
               false,
               false,
               false,
               false,
               false,
               false,
               false,
               false,
               false,
               false,
               false,
               false,
               false,
               false,
               false,
               false,
               false,
               false,
               false,
               true,
               false,
               false,
               false,
               false,
               false,
               false,
               false,
               false,
               false,
               false,
               false,
               false,
               false,
               false,
               false,
               false,
               false,
               false
              ]
             }
            ],
            "label": "0.15",
            "method": "update"
           },
           {
            "args": [
             {
              "visible": [
               true,
               true,
               false,
               false,
               false,
               false,
               false,
               false,
               false,
               false,
               false,
               false,
               false,
               false,
               false,
               false,
               false,
               false,
               false,
               false,
               false,
               false,
               false,
               false,
               false,
               false,
               false,
               true,
               false,
               false,
               false,
               false,
               false,
               false,
               false,
               false,
               false,
               false,
               false,
               false,
               false,
               false,
               false,
               false,
               false
              ]
             }
            ],
            "label": "0.20",
            "method": "update"
           },
           {
            "args": [
             {
              "visible": [
               true,
               true,
               false,
               false,
               false,
               false,
               false,
               false,
               false,
               false,
               false,
               false,
               false,
               false,
               false,
               false,
               false,
               false,
               false,
               false,
               false,
               false,
               false,
               false,
               false,
               false,
               false,
               false,
               true,
               false,
               false,
               false,
               false,
               false,
               false,
               false,
               false,
               false,
               false,
               false,
               false,
               false,
               false,
               false,
               false
              ]
             }
            ],
            "label": "0.25",
            "method": "update"
           },
           {
            "args": [
             {
              "visible": [
               true,
               true,
               false,
               false,
               false,
               false,
               false,
               false,
               false,
               false,
               false,
               false,
               false,
               false,
               false,
               false,
               false,
               false,
               false,
               false,
               false,
               false,
               false,
               false,
               false,
               false,
               false,
               false,
               false,
               true,
               false,
               false,
               false,
               false,
               false,
               false,
               false,
               false,
               false,
               false,
               false,
               false,
               false,
               false,
               false
              ]
             }
            ],
            "label": "0.30",
            "method": "update"
           },
           {
            "args": [
             {
              "visible": [
               true,
               true,
               false,
               false,
               false,
               false,
               false,
               false,
               false,
               false,
               false,
               false,
               false,
               false,
               false,
               false,
               false,
               false,
               false,
               false,
               false,
               false,
               false,
               false,
               false,
               false,
               false,
               false,
               false,
               false,
               true,
               false,
               false,
               false,
               false,
               false,
               false,
               false,
               false,
               false,
               false,
               false,
               false,
               false,
               false
              ]
             }
            ],
            "label": "0.35",
            "method": "update"
           },
           {
            "args": [
             {
              "visible": [
               true,
               true,
               false,
               false,
               false,
               false,
               false,
               false,
               false,
               false,
               false,
               false,
               false,
               false,
               false,
               false,
               false,
               false,
               false,
               false,
               false,
               false,
               false,
               false,
               false,
               false,
               false,
               false,
               false,
               false,
               false,
               true,
               false,
               false,
               false,
               false,
               false,
               false,
               false,
               false,
               false,
               false,
               false,
               false,
               false
              ]
             }
            ],
            "label": "0.40",
            "method": "update"
           },
           {
            "args": [
             {
              "visible": [
               true,
               true,
               false,
               false,
               false,
               false,
               false,
               false,
               false,
               false,
               false,
               false,
               false,
               false,
               false,
               false,
               false,
               false,
               false,
               false,
               false,
               false,
               false,
               false,
               false,
               false,
               false,
               false,
               false,
               false,
               false,
               false,
               true,
               false,
               false,
               false,
               false,
               false,
               false,
               false,
               false,
               false,
               false,
               false,
               false
              ]
             }
            ],
            "label": "0.45",
            "method": "update"
           },
           {
            "args": [
             {
              "visible": [
               true,
               true,
               false,
               false,
               false,
               false,
               false,
               false,
               false,
               false,
               false,
               false,
               false,
               false,
               false,
               false,
               false,
               false,
               false,
               false,
               false,
               false,
               false,
               false,
               false,
               false,
               false,
               false,
               false,
               false,
               false,
               false,
               false,
               true,
               false,
               false,
               false,
               false,
               false,
               false,
               false,
               false,
               false,
               false,
               false
              ]
             }
            ],
            "label": "0.50",
            "method": "update"
           },
           {
            "args": [
             {
              "visible": [
               true,
               true,
               false,
               false,
               false,
               false,
               false,
               false,
               false,
               false,
               false,
               false,
               false,
               false,
               false,
               false,
               false,
               false,
               false,
               false,
               false,
               false,
               false,
               false,
               false,
               false,
               false,
               false,
               false,
               false,
               false,
               false,
               false,
               false,
               true,
               false,
               false,
               false,
               false,
               false,
               false,
               false,
               false,
               false,
               false
              ]
             }
            ],
            "label": "0.55",
            "method": "update"
           },
           {
            "args": [
             {
              "visible": [
               true,
               true,
               false,
               false,
               false,
               false,
               false,
               false,
               false,
               false,
               false,
               false,
               false,
               false,
               false,
               false,
               false,
               false,
               false,
               false,
               false,
               false,
               false,
               false,
               false,
               false,
               false,
               false,
               false,
               false,
               false,
               false,
               false,
               false,
               false,
               true,
               false,
               false,
               false,
               false,
               false,
               false,
               false,
               false,
               false
              ]
             }
            ],
            "label": "0.60",
            "method": "update"
           },
           {
            "args": [
             {
              "visible": [
               true,
               true,
               false,
               false,
               false,
               false,
               false,
               false,
               false,
               false,
               false,
               false,
               false,
               false,
               false,
               false,
               false,
               false,
               false,
               false,
               false,
               false,
               false,
               false,
               false,
               false,
               false,
               false,
               false,
               false,
               false,
               false,
               false,
               false,
               false,
               false,
               true,
               false,
               false,
               false,
               false,
               false,
               false,
               false,
               false
              ]
             }
            ],
            "label": "0.65",
            "method": "update"
           },
           {
            "args": [
             {
              "visible": [
               true,
               true,
               false,
               false,
               false,
               false,
               false,
               false,
               false,
               false,
               false,
               false,
               false,
               false,
               false,
               false,
               false,
               false,
               false,
               false,
               false,
               false,
               false,
               false,
               false,
               false,
               false,
               false,
               false,
               false,
               false,
               false,
               false,
               false,
               false,
               false,
               false,
               true,
               false,
               false,
               false,
               false,
               false,
               false,
               false
              ]
             }
            ],
            "label": "0.70",
            "method": "update"
           },
           {
            "args": [
             {
              "visible": [
               true,
               true,
               false,
               false,
               false,
               false,
               false,
               false,
               false,
               false,
               false,
               false,
               false,
               false,
               false,
               false,
               false,
               false,
               false,
               false,
               false,
               false,
               false,
               false,
               false,
               false,
               false,
               false,
               false,
               false,
               false,
               false,
               false,
               false,
               false,
               false,
               false,
               false,
               true,
               false,
               false,
               false,
               false,
               false,
               false
              ]
             }
            ],
            "label": "0.75",
            "method": "update"
           },
           {
            "args": [
             {
              "visible": [
               true,
               true,
               false,
               false,
               false,
               false,
               false,
               false,
               false,
               false,
               false,
               false,
               false,
               false,
               false,
               false,
               false,
               false,
               false,
               false,
               false,
               false,
               false,
               false,
               false,
               false,
               false,
               false,
               false,
               false,
               false,
               false,
               false,
               false,
               false,
               false,
               false,
               false,
               false,
               true,
               false,
               false,
               false,
               false,
               false
              ]
             }
            ],
            "label": "0.80",
            "method": "update"
           },
           {
            "args": [
             {
              "visible": [
               true,
               true,
               false,
               false,
               false,
               false,
               false,
               false,
               false,
               false,
               false,
               false,
               false,
               false,
               false,
               false,
               false,
               false,
               false,
               false,
               false,
               false,
               false,
               false,
               false,
               false,
               false,
               false,
               false,
               false,
               false,
               false,
               false,
               false,
               false,
               false,
               false,
               false,
               false,
               false,
               true,
               false,
               false,
               false,
               false
              ]
             }
            ],
            "label": "0.85",
            "method": "update"
           },
           {
            "args": [
             {
              "visible": [
               true,
               true,
               false,
               false,
               false,
               false,
               false,
               false,
               false,
               false,
               false,
               false,
               false,
               false,
               false,
               false,
               false,
               false,
               false,
               false,
               false,
               false,
               false,
               false,
               false,
               false,
               false,
               false,
               false,
               false,
               false,
               false,
               false,
               false,
               false,
               false,
               false,
               false,
               false,
               false,
               false,
               true,
               false,
               false,
               false
              ]
             }
            ],
            "label": "0.90",
            "method": "update"
           },
           {
            "args": [
             {
              "visible": [
               true,
               true,
               false,
               false,
               false,
               false,
               false,
               false,
               false,
               false,
               false,
               false,
               false,
               false,
               false,
               false,
               false,
               false,
               false,
               false,
               false,
               false,
               false,
               false,
               false,
               false,
               false,
               false,
               false,
               false,
               false,
               false,
               false,
               false,
               false,
               false,
               false,
               false,
               false,
               false,
               false,
               false,
               true,
               false,
               false
              ]
             }
            ],
            "label": "0.95",
            "method": "update"
           },
           {
            "args": [
             {
              "visible": [
               true,
               true,
               false,
               false,
               false,
               false,
               false,
               false,
               false,
               false,
               false,
               false,
               false,
               false,
               false,
               false,
               false,
               false,
               false,
               false,
               false,
               false,
               false,
               false,
               false,
               false,
               false,
               false,
               false,
               false,
               false,
               false,
               false,
               false,
               false,
               false,
               false,
               false,
               false,
               false,
               false,
               false,
               false,
               true,
               false
              ]
             }
            ],
            "label": "1.00",
            "method": "update"
           },
           {
            "args": [
             {
              "visible": [
               true,
               true,
               false,
               false,
               false,
               false,
               false,
               false,
               false,
               false,
               false,
               false,
               false,
               false,
               false,
               false,
               false,
               false,
               false,
               false,
               false,
               false,
               false,
               false,
               false,
               false,
               false,
               false,
               false,
               false,
               false,
               false,
               false,
               false,
               false,
               false,
               false,
               false,
               false,
               false,
               false,
               false,
               false,
               false,
               true
              ]
             }
            ],
            "label": "1.05",
            "method": "update"
           }
          ],
          "y": 0.35
         }
        ],
        "template": {
         "data": {
          "bar": [
           {
            "error_x": {
             "color": "#2a3f5f"
            },
            "error_y": {
             "color": "#2a3f5f"
            },
            "marker": {
             "line": {
              "color": "#E5ECF6",
              "width": 0.5
             }
            },
            "type": "bar"
           }
          ],
          "barpolar": [
           {
            "marker": {
             "line": {
              "color": "#E5ECF6",
              "width": 0.5
             }
            },
            "type": "barpolar"
           }
          ],
          "carpet": [
           {
            "aaxis": {
             "endlinecolor": "#2a3f5f",
             "gridcolor": "white",
             "linecolor": "white",
             "minorgridcolor": "white",
             "startlinecolor": "#2a3f5f"
            },
            "baxis": {
             "endlinecolor": "#2a3f5f",
             "gridcolor": "white",
             "linecolor": "white",
             "minorgridcolor": "white",
             "startlinecolor": "#2a3f5f"
            },
            "type": "carpet"
           }
          ],
          "choropleth": [
           {
            "colorbar": {
             "outlinewidth": 0,
             "ticks": ""
            },
            "type": "choropleth"
           }
          ],
          "contour": [
           {
            "colorbar": {
             "outlinewidth": 0,
             "ticks": ""
            },
            "colorscale": [
             [
              0,
              "#0d0887"
             ],
             [
              0.1111111111111111,
              "#46039f"
             ],
             [
              0.2222222222222222,
              "#7201a8"
             ],
             [
              0.3333333333333333,
              "#9c179e"
             ],
             [
              0.4444444444444444,
              "#bd3786"
             ],
             [
              0.5555555555555556,
              "#d8576b"
             ],
             [
              0.6666666666666666,
              "#ed7953"
             ],
             [
              0.7777777777777778,
              "#fb9f3a"
             ],
             [
              0.8888888888888888,
              "#fdca26"
             ],
             [
              1,
              "#f0f921"
             ]
            ],
            "type": "contour"
           }
          ],
          "contourcarpet": [
           {
            "colorbar": {
             "outlinewidth": 0,
             "ticks": ""
            },
            "type": "contourcarpet"
           }
          ],
          "heatmap": [
           {
            "colorbar": {
             "outlinewidth": 0,
             "ticks": ""
            },
            "colorscale": [
             [
              0,
              "#0d0887"
             ],
             [
              0.1111111111111111,
              "#46039f"
             ],
             [
              0.2222222222222222,
              "#7201a8"
             ],
             [
              0.3333333333333333,
              "#9c179e"
             ],
             [
              0.4444444444444444,
              "#bd3786"
             ],
             [
              0.5555555555555556,
              "#d8576b"
             ],
             [
              0.6666666666666666,
              "#ed7953"
             ],
             [
              0.7777777777777778,
              "#fb9f3a"
             ],
             [
              0.8888888888888888,
              "#fdca26"
             ],
             [
              1,
              "#f0f921"
             ]
            ],
            "type": "heatmap"
           }
          ],
          "heatmapgl": [
           {
            "colorbar": {
             "outlinewidth": 0,
             "ticks": ""
            },
            "colorscale": [
             [
              0,
              "#0d0887"
             ],
             [
              0.1111111111111111,
              "#46039f"
             ],
             [
              0.2222222222222222,
              "#7201a8"
             ],
             [
              0.3333333333333333,
              "#9c179e"
             ],
             [
              0.4444444444444444,
              "#bd3786"
             ],
             [
              0.5555555555555556,
              "#d8576b"
             ],
             [
              0.6666666666666666,
              "#ed7953"
             ],
             [
              0.7777777777777778,
              "#fb9f3a"
             ],
             [
              0.8888888888888888,
              "#fdca26"
             ],
             [
              1,
              "#f0f921"
             ]
            ],
            "type": "heatmapgl"
           }
          ],
          "histogram": [
           {
            "marker": {
             "colorbar": {
              "outlinewidth": 0,
              "ticks": ""
             }
            },
            "type": "histogram"
           }
          ],
          "histogram2d": [
           {
            "colorbar": {
             "outlinewidth": 0,
             "ticks": ""
            },
            "colorscale": [
             [
              0,
              "#0d0887"
             ],
             [
              0.1111111111111111,
              "#46039f"
             ],
             [
              0.2222222222222222,
              "#7201a8"
             ],
             [
              0.3333333333333333,
              "#9c179e"
             ],
             [
              0.4444444444444444,
              "#bd3786"
             ],
             [
              0.5555555555555556,
              "#d8576b"
             ],
             [
              0.6666666666666666,
              "#ed7953"
             ],
             [
              0.7777777777777778,
              "#fb9f3a"
             ],
             [
              0.8888888888888888,
              "#fdca26"
             ],
             [
              1,
              "#f0f921"
             ]
            ],
            "type": "histogram2d"
           }
          ],
          "histogram2dcontour": [
           {
            "colorbar": {
             "outlinewidth": 0,
             "ticks": ""
            },
            "colorscale": [
             [
              0,
              "#0d0887"
             ],
             [
              0.1111111111111111,
              "#46039f"
             ],
             [
              0.2222222222222222,
              "#7201a8"
             ],
             [
              0.3333333333333333,
              "#9c179e"
             ],
             [
              0.4444444444444444,
              "#bd3786"
             ],
             [
              0.5555555555555556,
              "#d8576b"
             ],
             [
              0.6666666666666666,
              "#ed7953"
             ],
             [
              0.7777777777777778,
              "#fb9f3a"
             ],
             [
              0.8888888888888888,
              "#fdca26"
             ],
             [
              1,
              "#f0f921"
             ]
            ],
            "type": "histogram2dcontour"
           }
          ],
          "mesh3d": [
           {
            "colorbar": {
             "outlinewidth": 0,
             "ticks": ""
            },
            "type": "mesh3d"
           }
          ],
          "parcoords": [
           {
            "line": {
             "colorbar": {
              "outlinewidth": 0,
              "ticks": ""
             }
            },
            "type": "parcoords"
           }
          ],
          "pie": [
           {
            "automargin": true,
            "type": "pie"
           }
          ],
          "scatter": [
           {
            "marker": {
             "colorbar": {
              "outlinewidth": 0,
              "ticks": ""
             }
            },
            "type": "scatter"
           }
          ],
          "scatter3d": [
           {
            "line": {
             "colorbar": {
              "outlinewidth": 0,
              "ticks": ""
             }
            },
            "marker": {
             "colorbar": {
              "outlinewidth": 0,
              "ticks": ""
             }
            },
            "type": "scatter3d"
           }
          ],
          "scattercarpet": [
           {
            "marker": {
             "colorbar": {
              "outlinewidth": 0,
              "ticks": ""
             }
            },
            "type": "scattercarpet"
           }
          ],
          "scattergeo": [
           {
            "marker": {
             "colorbar": {
              "outlinewidth": 0,
              "ticks": ""
             }
            },
            "type": "scattergeo"
           }
          ],
          "scattergl": [
           {
            "marker": {
             "colorbar": {
              "outlinewidth": 0,
              "ticks": ""
             }
            },
            "type": "scattergl"
           }
          ],
          "scattermapbox": [
           {
            "marker": {
             "colorbar": {
              "outlinewidth": 0,
              "ticks": ""
             }
            },
            "type": "scattermapbox"
           }
          ],
          "scatterpolar": [
           {
            "marker": {
             "colorbar": {
              "outlinewidth": 0,
              "ticks": ""
             }
            },
            "type": "scatterpolar"
           }
          ],
          "scatterpolargl": [
           {
            "marker": {
             "colorbar": {
              "outlinewidth": 0,
              "ticks": ""
             }
            },
            "type": "scatterpolargl"
           }
          ],
          "scatterternary": [
           {
            "marker": {
             "colorbar": {
              "outlinewidth": 0,
              "ticks": ""
             }
            },
            "type": "scatterternary"
           }
          ],
          "surface": [
           {
            "colorbar": {
             "outlinewidth": 0,
             "ticks": ""
            },
            "colorscale": [
             [
              0,
              "#0d0887"
             ],
             [
              0.1111111111111111,
              "#46039f"
             ],
             [
              0.2222222222222222,
              "#7201a8"
             ],
             [
              0.3333333333333333,
              "#9c179e"
             ],
             [
              0.4444444444444444,
              "#bd3786"
             ],
             [
              0.5555555555555556,
              "#d8576b"
             ],
             [
              0.6666666666666666,
              "#ed7953"
             ],
             [
              0.7777777777777778,
              "#fb9f3a"
             ],
             [
              0.8888888888888888,
              "#fdca26"
             ],
             [
              1,
              "#f0f921"
             ]
            ],
            "type": "surface"
           }
          ],
          "table": [
           {
            "cells": {
             "fill": {
              "color": "#EBF0F8"
             },
             "line": {
              "color": "white"
             }
            },
            "header": {
             "fill": {
              "color": "#C8D4E3"
             },
             "line": {
              "color": "white"
             }
            },
            "type": "table"
           }
          ]
         },
         "layout": {
          "annotationdefaults": {
           "arrowcolor": "#2a3f5f",
           "arrowhead": 0,
           "arrowwidth": 1
          },
          "autotypenumbers": "strict",
          "coloraxis": {
           "colorbar": {
            "outlinewidth": 0,
            "ticks": ""
           }
          },
          "colorscale": {
           "diverging": [
            [
             0,
             "#8e0152"
            ],
            [
             0.1,
             "#c51b7d"
            ],
            [
             0.2,
             "#de77ae"
            ],
            [
             0.3,
             "#f1b6da"
            ],
            [
             0.4,
             "#fde0ef"
            ],
            [
             0.5,
             "#f7f7f7"
            ],
            [
             0.6,
             "#e6f5d0"
            ],
            [
             0.7,
             "#b8e186"
            ],
            [
             0.8,
             "#7fbc41"
            ],
            [
             0.9,
             "#4d9221"
            ],
            [
             1,
             "#276419"
            ]
           ],
           "sequential": [
            [
             0,
             "#0d0887"
            ],
            [
             0.1111111111111111,
             "#46039f"
            ],
            [
             0.2222222222222222,
             "#7201a8"
            ],
            [
             0.3333333333333333,
             "#9c179e"
            ],
            [
             0.4444444444444444,
             "#bd3786"
            ],
            [
             0.5555555555555556,
             "#d8576b"
            ],
            [
             0.6666666666666666,
             "#ed7953"
            ],
            [
             0.7777777777777778,
             "#fb9f3a"
            ],
            [
             0.8888888888888888,
             "#fdca26"
            ],
            [
             1,
             "#f0f921"
            ]
           ],
           "sequentialminus": [
            [
             0,
             "#0d0887"
            ],
            [
             0.1111111111111111,
             "#46039f"
            ],
            [
             0.2222222222222222,
             "#7201a8"
            ],
            [
             0.3333333333333333,
             "#9c179e"
            ],
            [
             0.4444444444444444,
             "#bd3786"
            ],
            [
             0.5555555555555556,
             "#d8576b"
            ],
            [
             0.6666666666666666,
             "#ed7953"
            ],
            [
             0.7777777777777778,
             "#fb9f3a"
            ],
            [
             0.8888888888888888,
             "#fdca26"
            ],
            [
             1,
             "#f0f921"
            ]
           ]
          },
          "colorway": [
           "#636efa",
           "#EF553B",
           "#00cc96",
           "#ab63fa",
           "#FFA15A",
           "#19d3f3",
           "#FF6692",
           "#B6E880",
           "#FF97FF",
           "#FECB52"
          ],
          "font": {
           "color": "#2a3f5f"
          },
          "geo": {
           "bgcolor": "white",
           "lakecolor": "white",
           "landcolor": "#E5ECF6",
           "showlakes": true,
           "showland": true,
           "subunitcolor": "white"
          },
          "hoverlabel": {
           "align": "left"
          },
          "hovermode": "closest",
          "mapbox": {
           "style": "light"
          },
          "paper_bgcolor": "white",
          "plot_bgcolor": "#E5ECF6",
          "polar": {
           "angularaxis": {
            "gridcolor": "white",
            "linecolor": "white",
            "ticks": ""
           },
           "bgcolor": "#E5ECF6",
           "radialaxis": {
            "gridcolor": "white",
            "linecolor": "white",
            "ticks": ""
           }
          },
          "scene": {
           "xaxis": {
            "backgroundcolor": "#E5ECF6",
            "gridcolor": "white",
            "gridwidth": 2,
            "linecolor": "white",
            "showbackground": true,
            "ticks": "",
            "zerolinecolor": "white"
           },
           "yaxis": {
            "backgroundcolor": "#E5ECF6",
            "gridcolor": "white",
            "gridwidth": 2,
            "linecolor": "white",
            "showbackground": true,
            "ticks": "",
            "zerolinecolor": "white"
           },
           "zaxis": {
            "backgroundcolor": "#E5ECF6",
            "gridcolor": "white",
            "gridwidth": 2,
            "linecolor": "white",
            "showbackground": true,
            "ticks": "",
            "zerolinecolor": "white"
           }
          },
          "shapedefaults": {
           "line": {
            "color": "#2a3f5f"
           }
          },
          "ternary": {
           "aaxis": {
            "gridcolor": "white",
            "linecolor": "white",
            "ticks": ""
           },
           "baxis": {
            "gridcolor": "white",
            "linecolor": "white",
            "ticks": ""
           },
           "bgcolor": "#E5ECF6",
           "caxis": {
            "gridcolor": "white",
            "linecolor": "white",
            "ticks": ""
           }
          },
          "title": {
           "x": 0.05
          },
          "xaxis": {
           "automargin": true,
           "gridcolor": "white",
           "linecolor": "white",
           "ticks": "",
           "title": {
            "standoff": 15
           },
           "zerolinecolor": "white",
           "zerolinewidth": 2
          },
          "yaxis": {
           "automargin": true,
           "gridcolor": "white",
           "linecolor": "white",
           "ticks": "",
           "title": {
            "standoff": 15
           },
           "zerolinecolor": "white",
           "zerolinewidth": 2
          }
         }
        },
        "title": {
         "text": "Word Usage as a Function of Ideal Point (Topic: Abortion)",
         "x": 0.5,
         "y": 0.9
        },
        "xaxis": {
         "fixedrange": true,
         "range": [
          -1.0710294437408447,
          1.0710294437408447
         ],
         "showgrid": false,
         "showline": false,
         "showticklabels": false,
         "title": {
          "text": "Representative ideal points (hover to see names)"
         },
         "zeroline": false
        },
        "yaxis": {
         "fixedrange": true,
         "range": [
          -0.6,
          2.5
         ],
         "showgrid": false,
         "showline": false,
         "showticklabels": false,
         "zeroline": false
        }
       }
      },
      "text/html": [
       "<div>                            <div id=\"6bdf183b-81d8-45cc-8e1f-342c73e0c104\" class=\"plotly-graph-div\" style=\"height:525px; width:100%;\"></div>            <script type=\"text/javascript\">                require([\"plotly\"], function(Plotly) {                    window.PLOTLYENV=window.PLOTLYENV || {};                                    if (document.getElementById(\"6bdf183b-81d8-45cc-8e1f-342c73e0c104\")) {                    Plotly.newPlot(                        \"6bdf183b-81d8-45cc-8e1f-342c73e0c104\",                        [{\"hoverinfo\": \"skip\", \"line\": {\"color\": \"black\", \"width\": 1}, \"marker\": {\"size\": 1}, \"type\": \"scatter\", \"x\": [-1.0510294437408447, 1.0510294437408447], \"y\": [-0.53, -0.53]}, {\"hoverinfo\": \"x+text\", \"marker\": {\"color\": [\"steelblue\", \"crimson\", \"steelblue\", \"crimson\", \"crimson\", \"steelblue\"], \"size\": 8}, \"mode\": \"markers\", \"text\": [\"Alex (D) [0.335]\", \"John (R) [0.311]\", \"Justicia (D) [0.346]\", \"Lauren (R) [0.349]\", \"Mark (R) [0.335]\", \"Mona (D) [0.326]\"], \"type\": \"scatter\", \"x\": [-0.5957480072975159, 0.9244451522827148, -0.9976649284362793, 0.6676518321037292, 1.0510294437408447, -0.9289417266845703], \"y\": [-0.53, -0.53, -0.53, -0.53, -0.53, -0.53]}, {\"base\": -0.3, \"dy\": 0.214, \"hoverinfo\": \"skip\", \"marker\": {\"color\": \"rgb(175,122,197)\"}, \"orientation\": \"h\", \"text\": [\"choice\", \"rare\", \"legal\", \"birth_control\", \"bodily_autonomy\", \"access\", \"rights\", \"contraception\"], \"textposition\": \"outside\", \"type\": \"bar\", \"visible\": false, \"x\": [0.26041048765182495, 0.27668696641921997, 0.3030559718608856, 0.4115324914455414, 0.43028131127357483, 0.4339632987976074, 0.4625251293182373, 0.4737517237663269], \"y0\": 0.529}, {\"base\": -0.3, \"dy\": 0.214, \"hoverinfo\": \"skip\", \"marker\": {\"color\": \"rgb(175,122,197)\"}, \"orientation\": \"h\", \"text\": [\"choice\", \"rare\", \"legal\", \"birth_control\", \"bodily_autonomy\", \"access\", \"rights\", \"contraception\"], \"textposition\": \"outside\", \"type\": \"bar\", \"visible\": false, \"x\": [0.2547025978565216, 0.2633581757545471, 0.2921300530433655, 0.38009196519851685, 0.3962987959384918, 0.4001457989215851, 0.4257151484489441, 0.4356234669685364], \"y0\": 0.529}, {\"base\": -0.3, \"dy\": 0.214, \"hoverinfo\": \"skip\", \"marker\": {\"color\": \"rgb(175,122,197)\"}, \"orientation\": \"h\", \"text\": [\"choice\", \"rare\", \"legal\", \"birth_control\", \"bodily_autonomy\", \"access\", \"rights\", \"contraception\"], \"textposition\": \"outside\", \"type\": \"bar\", \"visible\": false, \"x\": [0.24916081130504608, 0.2507261633872986, 0.2816721498966217, 0.3511086106300354, 0.3650704026222229, 0.36903855204582214, 0.3919156789779663, 0.4006562829017639], \"y0\": 0.529}, {\"base\": -0.3, \"dy\": 0.214, \"hoverinfo\": \"skip\", \"marker\": {\"color\": \"rgb(175,122,197)\"}, \"orientation\": \"h\", \"text\": [\"rare\", \"choice\", \"legal\", \"birth_control\", \"bodily_autonomy\", \"access\", \"rights\", \"contraception\"], \"textposition\": \"outside\", \"type\": \"bar\", \"visible\": false, \"x\": [0.23875221610069275, 0.24377979338169098, 0.2716602683067322, 0.3243862986564636, 0.336367666721344, 0.34041884541511536, 0.3608742654323578, 0.36858123540878296], \"y0\": 0.529}, {\"base\": -0.3, \"dy\": 0.214, \"hoverinfo\": \"skip\", \"marker\": {\"color\": \"rgb(175,122,197)\"}, \"orientation\": \"h\", \"text\": [\"rare\", \"choice\", \"legal\", \"birth_control\", \"bodily_autonomy\", \"access\", \"rights\", \"contraception\"], \"textposition\": \"outside\", \"type\": \"bar\", \"visible\": false, \"x\": [0.2273997813463211, 0.23855429887771606, 0.262073278427124, 0.29974478483200073, 0.3099812865257263, 0.31408238410949707, 0.3323601186275482, 0.33915233612060547], \"y0\": 0.529}, {\"base\": -0.3, \"dy\": 0.214, \"hoverinfo\": \"skip\", \"marker\": {\"color\": \"rgb(175,122,197)\"}, \"orientation\": \"h\", \"text\": [\"women\", \"choice\", \"legal\", \"birth_control\", \"bodily_autonomy\", \"access\", \"rights\", \"contraception\"], \"textposition\": \"outside\", \"type\": \"bar\", \"visible\": false, \"x\": [0.21951302886009216, 0.23347920179367065, 0.2528911828994751, 0.2770186960697174, 0.28571975231170654, 0.289842426776886, 0.3061622083187103, 0.3121453821659088], \"y0\": 0.529}, {\"base\": -0.3, \"dy\": 0.214, \"hoverinfo\": \"skip\", \"marker\": {\"color\": \"rgb(175,122,197)\"}, \"orientation\": \"h\", \"text\": [\"women\", \"choice\", \"legal\", \"birth_control\", \"bodily_autonomy\", \"access\", \"rights\", \"contraception\"], \"textposition\": \"outside\", \"type\": \"bar\", \"visible\": false, \"x\": [0.21676702797412872, 0.22854971885681152, 0.2440951019525528, 0.2560558319091797, 0.2634078860282898, 0.26752763986587524, 0.28208765387535095, 0.2873554229736328], \"y0\": 0.529}, {\"base\": -0.3, \"dy\": 0.214, \"hoverinfo\": \"skip\", \"marker\": {\"color\": \"rgb(175,122,197)\"}, \"orientation\": \"h\", \"text\": [\"women\", \"choice\", \"legal\", \"birth_control\", \"bodily_autonomy\", \"access\", \"rights\", \"contraception\"], \"textposition\": \"outside\", \"type\": \"bar\", \"visible\": false, \"x\": [0.21409288048744202, 0.2237612009048462, 0.23566706478595734, 0.23671650886535645, 0.24288508296012878, 0.24698102474212646, 0.2599598467350006, 0.2645953893661499], \"y0\": 0.529}, {\"base\": -0.3, \"dy\": 0.214, \"hoverinfo\": \"skip\", \"marker\": {\"color\": \"rgb(175,122,197)\"}, \"orientation\": \"h\", \"text\": [\"women\", \"birth_control\", \"choice\", \"bodily_autonomy\", \"legal\", \"access\", \"rights\", \"contraception\"], \"textposition\": \"outside\", \"type\": \"bar\", \"visible\": false, \"x\": [0.2114887535572052, 0.21887220442295074, 0.21910911798477173, 0.22400447726249695, 0.2275899350643158, 0.22805877029895782, 0.23961731791496277, 0.24369442462921143], \"y0\": 0.529}, {\"base\": -0.3, \"dy\": 0.214, \"hoverinfo\": \"skip\", \"marker\": {\"color\": \"rgb(175,122,197)\"}, \"orientation\": \"h\", \"text\": [\"birth_control\", \"bodily_autonomy\", \"women\", \"access\", \"choice\", \"legal\", \"rights\", \"contraception\"], \"textposition\": \"outside\", \"type\": \"bar\", \"visible\": false, \"x\": [0.20240487158298492, 0.20663130283355713, 0.2089528739452362, 0.21062903106212616, 0.21458901464939117, 0.21984755992889404, 0.22091232240200043, 0.22449636459350586], \"y0\": 0.529}, {\"base\": -0.3, \"dy\": 0.214, \"hoverinfo\": \"skip\", \"marker\": {\"color\": \"rgb(175,122,197)\"}, \"orientation\": \"h\", \"text\": [\"birth_control\", \"bodily_autonomy\", \"access\", \"rights\", \"women\", \"contraception\", \"choice\", \"legal\"], \"textposition\": \"outside\", \"type\": \"bar\", \"visible\": false, \"x\": [0.18720585107803345, 0.19064223766326904, 0.19457094371318817, 0.20370952785015106, 0.20648358762264252, 0.2068585753440857, 0.210196852684021, 0.21242448687553406], \"y0\": 0.529}, {\"base\": -0.3, \"dy\": 0.214, \"hoverinfo\": \"skip\", \"marker\": {\"color\": \"rgb(175,122,197)\"}, \"orientation\": \"h\", \"text\": [\"birth_control\", \"bodily_autonomy\", \"access\", \"rights\", \"contraception\", \"women\", \"legal\", \"choice\"], \"textposition\": \"outside\", \"type\": \"bar\", \"visible\": false, \"x\": [0.1731754094362259, 0.17592430114746094, 0.17977364361286163, 0.18788518011569977, 0.1906505525112152, 0.20407921075820923, 0.20530614256858826, 0.20592845976352692], \"y0\": 0.529}, {\"base\": -0.3, \"dy\": 0.214, \"hoverinfo\": \"skip\", \"marker\": {\"color\": \"rgb(175,122,197)\"}, \"orientation\": \"h\", \"text\": [\"birth_control\", \"bodily_autonomy\", \"access\", \"rights\", \"contraception\", \"legal\", \"women\", \"choice\"], \"textposition\": \"outside\", \"type\": \"bar\", \"visible\": false, \"x\": [0.1602216213941574, 0.1623738706111908, 0.1661354899406433, 0.17332589626312256, 0.1757531464099884, 0.19847863912582397, 0.2017381489276886, 0.2017800211906433], \"y0\": 0.529}, {\"base\": -0.3, \"dy\": 0.214, \"hoverinfo\": \"skip\", \"marker\": {\"color\": \"rgb(175,122,197)\"}, \"orientation\": \"h\", \"text\": [\"birth_control\", \"bodily_autonomy\", \"access\", \"rights\", \"contraception\", \"legal\", \"choice\", \"women\"], \"textposition\": \"outside\", \"type\": \"bar\", \"visible\": false, \"x\": [0.14826011657714844, 0.1498960256576538, 0.15356314182281494, 0.1599278450012207, 0.16205726563930511, 0.1919286847114563, 0.19774766266345978, 0.19945889711380005], \"y0\": 0.529}, {\"base\": -0.3, \"dy\": 0.214, \"hoverinfo\": \"skip\", \"marker\": {\"color\": \"rgb(175,122,197)\"}, \"orientation\": \"h\", \"text\": [\"rare\", \"access\", \"stem\", \"rights\", \"contraception\", \"legal\", \"choice\", \"women\"], \"textposition\": \"outside\", \"type\": \"bar\", \"visible\": false, \"x\": [0.14139464497566223, 0.14197105169296265, 0.14530667662620544, 0.14759597182273865, 0.1494632363319397, 0.18564382195472717, 0.19382783770561218, 0.1972399353981018], \"y0\": 0.529}, {\"base\": -0.3, \"dy\": 0.214, \"hoverinfo\": \"skip\", \"marker\": {\"color\": \"rgb(175,122,197)\"}, \"orientation\": \"h\", \"text\": [\"rare\", \"rights\", \"contraception\", \"heartbeat\", \"stem\", \"legal\", \"choice\", \"women\"], \"textposition\": \"outside\", \"type\": \"bar\", \"visible\": false, \"x\": [0.13499540090560913, 0.13624313473701477, 0.13787980377674103, 0.1440681368112564, 0.14836964011192322, 0.17961205542087555, 0.1900169998407364, 0.19507981836795807], \"y0\": 0.529}, {\"base\": -0.3, \"dy\": 0.214, \"hoverinfo\": \"skip\", \"marker\": {\"color\": \"rgb(175,122,197)\"}, \"orientation\": \"h\", \"text\": [\"weeks\", \"late_abortion\", \"rare\", \"heartbeat\", \"stem\", \"legal\", \"choice\", \"women\"], \"textposition\": \"outside\", \"type\": \"bar\", \"visible\": false, \"x\": [0.12736079096794128, 0.12848986685276031, 0.12891390919685364, 0.14737354218959808, 0.15152589976787567, 0.17382203042507172, 0.1863117814064026, 0.1929771602153778], \"y0\": 0.529}, {\"base\": -0.3, \"dy\": 0.214, \"hoverinfo\": \"skip\", \"marker\": {\"color\": \"rgb(175,122,197)\"}, \"orientation\": \"h\", \"text\": [\"rare\", \"weeks\", \"late_abortion\", \"heartbeat\", \"stem\", \"legal\", \"choice\", \"women\"], \"textposition\": \"outside\", \"type\": \"bar\", \"visible\": false, \"x\": [0.12313328683376312, 0.13113991916179657, 0.13199517130851746, 0.15078377723693848, 0.1547786295413971, 0.1682630032300949, 0.18270888924598694, 0.19093060493469238], \"y0\": 0.529}, {\"base\": -0.3, \"dy\": 0.214, \"hoverinfo\": \"skip\", \"marker\": {\"color\": \"rgb(175,122,197)\"}, \"orientation\": \"h\", \"text\": [\"rare\", \"weeks\", \"late_abortion\", \"heartbeat\", \"stem\", \"legal\", \"choice\", \"women\"], \"textposition\": \"outside\", \"type\": \"bar\", \"visible\": false, \"x\": [0.11763755977153778, 0.13505974411964417, 0.13562124967575073, 0.15430258214473724, 0.15813113749027252, 0.162924662232399, 0.17920517921447754, 0.18893884122371674], \"y0\": 0.529}, {\"base\": -0.3, \"dy\": 0.214, \"hoverinfo\": \"skip\", \"marker\": {\"color\": \"rgb(175,122,197)\"}, \"orientation\": \"h\", \"text\": [\"life\", \"weeks\", \"late_abortion\", \"legal\", \"heartbeat\", \"stem\", \"choice\", \"women\"], \"textposition\": \"outside\", \"type\": \"bar\", \"visible\": false, \"x\": [0.11840794235467911, 0.13912615180015564, 0.1393728107213974, 0.1577972173690796, 0.15793389081954956, 0.1615869253873825, 0.17579762637615204, 0.18700061738491058], \"y0\": 0.529}, {\"base\": -0.3, \"dy\": 0.214, \"hoverinfo\": \"skip\", \"marker\": {\"color\": \"rgb(175,122,197)\"}, \"orientation\": \"h\", \"text\": [\"life\", \"late_abortion\", \"weeks\", \"legal\", \"heartbeat\", \"stem\", \"choice\", \"women\"], \"textposition\": \"outside\", \"type\": \"bar\", \"visible\": true, \"x\": [0.12307004630565643, 0.14325472712516785, 0.14334534108638763, 0.15287144482135773, 0.16168171167373657, 0.1651494950056076, 0.17248326539993286, 0.18511466681957245], \"y0\": 0.529}, {\"base\": -0.3, \"dy\": 0.214, \"hoverinfo\": \"skip\", \"marker\": {\"color\": \"rgb(175,122,197)\"}, \"orientation\": \"h\", \"text\": [\"life\", \"late_abortion\", \"weeks\", \"legal\", \"heartbeat\", \"stem\", \"choice\", \"women\"], \"textposition\": \"outside\", \"type\": \"bar\", \"visible\": false, \"x\": [0.12794195115566254, 0.14727208018302917, 0.1477237194776535, 0.14813843369483948, 0.1655503213405609, 0.16882263123989105, 0.16925929486751556, 0.1832798421382904], \"y0\": 0.529}, {\"base\": -0.3, \"dy\": 0.214, \"hoverinfo\": \"skip\", \"marker\": {\"color\": \"rgb(175,122,197)\"}, \"orientation\": \"h\", \"text\": [\"life\", \"legal\", \"late_abortion\", \"weeks\", \"choice\", \"heartbeat\", \"stem\", \"women\"], \"textposition\": \"outside\", \"type\": \"bar\", \"visible\": false, \"x\": [0.13303397595882416, 0.14358976483345032, 0.15143020451068878, 0.15226806700229645, 0.1661229133605957, 0.1695440709590912, 0.17261014878749847, 0.18149501085281372], \"y0\": 0.529}, {\"base\": -0.3, \"dy\": 0.214, \"hoverinfo\": \"skip\", \"marker\": {\"color\": \"rgb(175,122,197)\"}, \"orientation\": \"h\", \"text\": [\"life\", \"legal\", \"late_abortion\", \"weeks\", \"choice\", \"heartbeat\", \"stem\", \"women\"], \"textposition\": \"outside\", \"type\": \"bar\", \"visible\": false, \"x\": [0.1383570283651352, 0.13921745121479034, 0.15573462843894958, 0.15698538720607758, 0.16307151317596436, 0.17366757988929749, 0.1765161156654358, 0.17975904047489166], \"y0\": 0.529}, {\"base\": -0.3, \"dy\": 0.214, \"hoverinfo\": \"skip\", \"marker\": {\"color\": \"rgb(175,122,197)\"}, \"orientation\": \"h\", \"text\": [\"legal\", \"life\", \"choice\", \"late_abortion\", \"weeks\", \"heartbeat\", \"women\", \"stem\"], \"textposition\": \"outside\", \"type\": \"bar\", \"visible\": false, \"x\": [0.13501383364200592, 0.1439225822687149, 0.16010253131389618, 0.1601911187171936, 0.16188311576843262, 0.17792555689811707, 0.17807084321975708, 0.1805446743965149], \"y0\": 0.529}, {\"base\": -0.3, \"dy\": 0.214, \"hoverinfo\": \"skip\", \"marker\": {\"color\": \"rgb(175,122,197)\"}, \"orientation\": \"h\", \"text\": [\"legal\", \"life\", \"choice\", \"late_abortion\", \"weeks\", \"women\", \"heartbeat\", \"stem\"], \"textposition\": \"outside\", \"type\": \"bar\", \"visible\": false, \"x\": [0.13097162544727325, 0.14974269270896912, 0.157213494181633, 0.16480572521686554, 0.16696898639202118, 0.17642942070960999, 0.18232300877571106, 0.18470020592212677], \"y0\": 0.529}, {\"base\": -0.3, \"dy\": 0.214, \"hoverinfo\": \"skip\", \"marker\": {\"color\": \"rgb(175,122,197)\"}, \"orientation\": \"h\", \"text\": [\"legal\", \"choice\", \"life\", \"late_abortion\", \"weeks\", \"women\", \"heartbeat\", \"stem\"], \"textposition\": \"outside\", \"type\": \"bar\", \"visible\": false, \"x\": [0.1270839273929596, 0.1544020026922226, 0.15583011507987976, 0.1695847362279892, 0.17225104570388794, 0.17483371496200562, 0.18686506152153015, 0.18898718059062958], \"y0\": 0.529}, {\"base\": -0.3, \"dy\": 0.214, \"hoverinfo\": \"skip\", \"marker\": {\"color\": \"rgb(175,122,197)\"}, \"orientation\": \"h\", \"text\": [\"legal\", \"choice\", \"life\", \"women\", \"late_abortion\", \"weeks\", \"heartbeat\", \"stem\"], \"textposition\": \"outside\", \"type\": \"bar\", \"visible\": false, \"x\": [0.12334410101175308, 0.1516657918691635, 0.1621982604265213, 0.17328283190727234, 0.17453469336032867, 0.17773783206939697, 0.19155709445476532, 0.19341029226779938], \"y0\": 0.529}, {\"base\": -0.3, \"dy\": 0.214, \"hoverinfo\": \"skip\", \"marker\": {\"color\": \"rgb(175,122,197)\"}, \"orientation\": \"h\", \"text\": [\"unborn_child\", \"choice\", \"life\", \"women\", \"late_abortion\", \"weeks\", \"heartbeat\", \"stem\"], \"textposition\": \"outside\", \"type\": \"bar\", \"visible\": false, \"x\": [0.13135692477226257, 0.14900259673595428, 0.1688612699508667, 0.17177575826644897, 0.17966248095035553, 0.18343818187713623, 0.19640469551086426, 0.19797447323799133], \"y0\": 0.529}, {\"base\": -0.3, \"dy\": 0.214, \"hoverinfo\": \"skip\", \"marker\": {\"color\": \"rgb(175,122,197)\"}, \"orientation\": \"h\", \"text\": [\"unborn_child\", \"choice\", \"women\", \"life\", \"late_abortion\", \"weeks\", \"heartbeat\", \"stem\"], \"textposition\": \"outside\", \"type\": \"bar\", \"visible\": false, \"x\": [0.1419067084789276, 0.1464102864265442, 0.17031164467334747, 0.17583400011062622, 0.1849752515554428, 0.18936142325401306, 0.20141370594501495, 0.20268477499485016], \"y0\": 0.529}, {\"base\": -0.3, \"dy\": 0.214, \"hoverinfo\": \"skip\", \"marker\": {\"color\": \"rgb(175,122,197)\"}, \"orientation\": \"h\", \"text\": [\"unborn\", \"unborn_child\", \"women\", \"life\", \"late_abortion\", \"weeks\", \"heartbeat\", \"stem\"], \"textposition\": \"outside\", \"type\": \"bar\", \"visible\": false, \"x\": [0.14864130318164825, 0.1533285230398178, 0.16888955235481262, 0.18313223123550415, 0.19048047065734863, 0.19551727175712585, 0.2065901756286621, 0.20754647254943848], \"y0\": 0.529}, {\"base\": -0.3, \"dy\": 0.214, \"hoverinfo\": \"skip\", \"marker\": {\"color\": \"rgb(175,122,197)\"}, \"orientation\": \"h\", \"text\": [\"unborn\", \"unborn_child\", \"women\", \"life\", \"late_abortion\", \"weeks\", \"heartbeat\", \"stem\"], \"textposition\": \"outside\", \"type\": \"bar\", \"visible\": false, \"x\": [0.1604931652545929, 0.16569636762142181, 0.16750870645046234, 0.19077248871326447, 0.19618593156337738, 0.20191597938537598, 0.21194040775299072, 0.212565079331398], \"y0\": 0.529}, {\"base\": -0.3, \"dy\": 0.214, \"hoverinfo\": \"skip\", \"marker\": {\"color\": \"rgb(175,122,197)\"}, \"orientation\": \"h\", \"text\": [\"babies\", \"unborn\", \"unborn_child\", \"life\", \"late_abortion\", \"weeks\", \"heartbeat\", \"stem\"], \"textposition\": \"outside\", \"type\": \"bar\", \"visible\": false, \"x\": [0.1720140278339386, 0.17332029342651367, 0.17909064888954163, 0.19877223670482635, 0.20209980010986328, 0.20856821537017822, 0.21747104823589325, 0.2177463173866272], \"y0\": 0.529}, {\"base\": -0.3, \"dy\": 0.214, \"hoverinfo\": \"skip\", \"marker\": {\"color\": \"rgb(175,122,197)\"}, \"orientation\": \"h\", \"text\": [\"babies\", \"unborn\", \"unborn_child\", \"life\", \"late_abortion\", \"weeks\", \"stem\", \"heartbeat\"], \"textposition\": \"outside\", \"type\": \"bar\", \"visible\": false, \"x\": [0.18545179069042206, 0.18720528483390808, 0.1935988813638687, 0.20714989304542542, 0.20823054015636444, 0.21548517048358917, 0.2230960875749588, 0.22318890690803528], \"y0\": 0.529}, {\"base\": -0.3, \"dy\": 0.214, \"hoverinfo\": \"skip\", \"marker\": {\"color\": \"rgb(175,122,197)\"}, \"orientation\": \"h\", \"text\": [\"babies\", \"unborn\", \"unborn_child\", \"late_abortion\", \"life\", \"weeks\", \"stem\", \"heartbeat\"], \"textposition\": \"outside\", \"type\": \"bar\", \"visible\": false, \"x\": [0.19997340440750122, 0.20223796367645264, 0.2093161642551422, 0.21458712220191956, 0.21592490375041962, 0.22267866134643555, 0.22862064838409424, 0.22910112142562866], \"y0\": 0.529}, {\"base\": -0.3, \"dy\": 0.214, \"hoverinfo\": \"skip\", \"marker\": {\"color\": \"rgb(175,122,197)\"}, \"orientation\": \"h\", \"text\": [\"babies\", \"unborn\", \"late_abortion\", \"life\", \"unborn_child\", \"weeks\", \"stem\", \"heartbeat\"], \"textposition\": \"outside\", \"type\": \"bar\", \"visible\": false, \"x\": [0.21566882729530334, 0.21851593255996704, 0.22117877006530762, 0.22511780261993408, 0.22634589672088623, 0.23016095161437988, 0.23432645201683044, 0.2352152019739151], \"y0\": 0.529}, {\"base\": -0.3, \"dy\": 0.214, \"hoverinfo\": \"skip\", \"marker\": {\"color\": \"rgb(175,122,197)\"}, \"orientation\": \"h\", \"text\": [\"late_abortion\", \"babies\", \"life\", \"unborn\", \"weeks\", \"stem\", \"heartbeat\", \"unborn_child\"], \"textposition\": \"outside\", \"type\": \"bar\", \"visible\": false, \"x\": [0.22801519930362701, 0.23263579607009888, 0.2347501963376999, 0.23614540696144104, 0.23794500529766083, 0.24022015929222107, 0.2415388822555542, 0.2448006123304367], \"y0\": 0.529}, {\"base\": -0.3, \"dy\": 0.214, \"hoverinfo\": \"skip\", \"marker\": {\"color\": \"rgb(175,122,197)\"}, \"orientation\": \"h\", \"text\": [\"late_abortion\", \"life\", \"weeks\", \"stem\", \"heartbeat\", \"babies\", \"unborn\", \"unborn_child\"], \"textposition\": \"outside\", \"type\": \"bar\", \"visible\": false, \"x\": [0.23510658740997314, 0.2448449283838272, 0.24604438245296478, 0.24630877375602722, 0.2480802685022354, 0.2509802281856537, 0.255241721868515, 0.2648026645183563], \"y0\": 0.529}, {\"base\": -0.3, \"dy\": 0.214, \"hoverinfo\": \"skip\", \"marker\": {\"color\": \"rgb(175,122,197)\"}, \"orientation\": \"h\", \"text\": [\"late_abortion\", \"stem\", \"weeks\", \"heartbeat\", \"life\", \"babies\", \"unborn\", \"unborn_child\"], \"textposition\": \"outside\", \"type\": \"bar\", \"visible\": false, \"x\": [0.24246346950531006, 0.2525995969772339, 0.2544732689857483, 0.25484782457351685, 0.2554261088371277, 0.2708173990249634, 0.2759304940700531, 0.2864851951599121], \"y0\": 0.529}, {\"base\": -0.3, \"dy\": 0.214, \"hoverinfo\": \"skip\", \"marker\": {\"color\": \"rgb(175,122,197)\"}, \"orientation\": \"h\", \"text\": [\"stem\", \"murder\", \"heartbeat\", \"weeks\", \"life\", \"babies\", \"unborn\", \"unborn_child\"], \"textposition\": \"outside\", \"type\": \"bar\", \"visible\": false, \"x\": [0.25910016894340515, 0.26068058609962463, 0.2618502974510193, 0.26324662566185, 0.2665192186832428, 0.2922722399234772, 0.2983483076095581, 0.30999305844306946], \"y0\": 0.529}, {\"base\": -0.3, \"dy\": 0.214, \"hoverinfo\": \"skip\", \"marker\": {\"color\": \"rgb(175,122,197)\"}, \"orientation\": \"h\", \"text\": [\"heartbeat\", \"weeks\", \"baby\", \"life\", \"murder\", \"babies\", \"unborn\", \"unborn_child\"], \"textposition\": \"outside\", \"type\": \"bar\", \"visible\": false, \"x\": [0.2690969407558441, 0.2723800539970398, 0.2778607904911041, 0.27815109491348267, 0.28080856800079346, 0.3154805898666382, 0.32264381647109985, 0.33548396825790405], \"y0\": 0.529}, {\"base\": -0.3, \"dy\": 0.214, \"hoverinfo\": \"skip\", \"marker\": {\"color\": \"rgb(175,122,197)\"}, \"orientation\": \"h\", \"text\": [\"heartbeat\", \"weeks\", \"life\", \"baby\", \"murder\", \"babies\", \"unborn\", \"unborn_child\"], \"textposition\": \"outside\", \"type\": \"bar\", \"visible\": false, \"x\": [0.2765973210334778, 0.28189000487327576, 0.29035016894340515, 0.2991245985031128, 0.3025398850440979, 0.3405897617340088, 0.3489786982536316, 0.3631294369697571], \"y0\": 0.529}, {\"base\": -0.3, \"dy\": 0.214, \"hoverinfo\": \"skip\", \"marker\": {\"color\": \"rgb(175,122,197)\"}, \"orientation\": \"h\", \"text\": [\"heartbeat\", \"weeks\", \"life\", \"baby\", \"murder\", \"babies\", \"unborn\", \"unborn_child\"], \"textposition\": \"outside\", \"type\": \"bar\", \"visible\": false, \"x\": [0.28436142206192017, 0.29179370403289795, 0.3031463921070099, 0.32206758856773376, 0.32600605487823486, 0.36776003241539, 0.3775290846824646, 0.39311644434928894], \"y0\": 0.529}],                        {\"annotations\": [{\"font\": {\"size\": 14}, \"showarrow\": false, \"text\": \"Move slider to change ideal point\", \"x\": 0.5, \"xref\": \"paper\", \"y\": 0.255, \"yref\": \"paper\"}], \"paper_bgcolor\": \"rgba(0,0,0,0)\", \"plot_bgcolor\": \"rgba(0,0,0,0)\", \"showlegend\": false, \"sliders\": [{\"active\": 21, \"currentvalue\": {\"prefix\": \"Ideal Point: \"}, \"steps\": [{\"args\": [{\"visible\": [true, true, true, false, false, false, false, false, false, false, false, false, false, false, false, false, false, false, false, false, false, false, false, false, false, false, false, false, false, false, false, false, false, false, false, false, false, false, false, false, false, false, false, false, false]}], \"label\": \"-1.05\", \"method\": \"update\"}, {\"args\": [{\"visible\": [true, true, false, true, false, false, false, false, false, false, false, false, false, false, false, false, false, false, false, false, false, false, false, false, false, false, false, false, false, false, false, false, false, false, false, false, false, false, false, false, false, false, false, false, false]}], \"label\": \"-1.00\", \"method\": \"update\"}, {\"args\": [{\"visible\": [true, true, false, false, true, false, false, false, false, false, false, false, false, false, false, false, false, false, false, false, false, false, false, false, false, false, false, false, false, false, false, false, false, false, false, false, false, false, false, false, false, false, false, false, false]}], \"label\": \"-0.95\", \"method\": \"update\"}, {\"args\": [{\"visible\": [true, true, false, false, false, true, false, false, false, false, false, false, false, false, false, false, false, false, false, false, false, false, false, false, false, false, false, false, false, false, false, false, false, false, false, false, false, false, false, false, false, false, false, false, false]}], \"label\": \"-0.90\", \"method\": \"update\"}, {\"args\": [{\"visible\": [true, true, false, false, false, false, true, false, false, false, false, false, false, false, false, false, false, false, false, false, false, false, false, false, false, false, false, false, false, false, false, false, false, false, false, false, false, false, false, false, false, false, false, false, false]}], \"label\": \"-0.85\", \"method\": \"update\"}, {\"args\": [{\"visible\": [true, true, false, false, false, false, false, true, false, false, false, false, false, false, false, false, false, false, false, false, false, false, false, false, false, false, false, false, false, false, false, false, false, false, false, false, false, false, false, false, false, false, false, false, false]}], \"label\": \"-0.80\", \"method\": \"update\"}, {\"args\": [{\"visible\": [true, true, false, false, false, false, false, false, true, false, false, false, false, false, false, false, false, false, false, false, false, false, false, false, false, false, false, false, false, false, false, false, false, false, false, false, false, false, false, false, false, false, false, false, false]}], \"label\": \"-0.75\", \"method\": \"update\"}, {\"args\": [{\"visible\": [true, true, false, false, false, false, false, false, false, true, false, false, false, false, false, false, false, false, false, false, false, false, false, false, false, false, false, false, false, false, false, false, false, false, false, false, false, false, false, false, false, false, false, false, false]}], \"label\": \"-0.70\", \"method\": \"update\"}, {\"args\": [{\"visible\": [true, true, false, false, false, false, false, false, false, false, true, false, false, false, false, false, false, false, false, false, false, false, false, false, false, false, false, false, false, false, false, false, false, false, false, false, false, false, false, false, false, false, false, false, false]}], \"label\": \"-0.65\", \"method\": \"update\"}, {\"args\": [{\"visible\": [true, true, false, false, false, false, false, false, false, false, false, true, false, false, false, false, false, false, false, false, false, false, false, false, false, false, false, false, false, false, false, false, false, false, false, false, false, false, false, false, false, false, false, false, false]}], \"label\": \"-0.60\", \"method\": \"update\"}, {\"args\": [{\"visible\": [true, true, false, false, false, false, false, false, false, false, false, false, true, false, false, false, false, false, false, false, false, false, false, false, false, false, false, false, false, false, false, false, false, false, false, false, false, false, false, false, false, false, false, false, false]}], \"label\": \"-0.55\", \"method\": \"update\"}, {\"args\": [{\"visible\": [true, true, false, false, false, false, false, false, false, false, false, false, false, true, false, false, false, false, false, false, false, false, false, false, false, false, false, false, false, false, false, false, false, false, false, false, false, false, false, false, false, false, false, false, false]}], \"label\": \"-0.50\", \"method\": \"update\"}, {\"args\": [{\"visible\": [true, true, false, false, false, false, false, false, false, false, false, false, false, false, true, false, false, false, false, false, false, false, false, false, false, false, false, false, false, false, false, false, false, false, false, false, false, false, false, false, false, false, false, false, false]}], \"label\": \"-0.45\", \"method\": \"update\"}, {\"args\": [{\"visible\": [true, true, false, false, false, false, false, false, false, false, false, false, false, false, false, true, false, false, false, false, false, false, false, false, false, false, false, false, false, false, false, false, false, false, false, false, false, false, false, false, false, false, false, false, false]}], \"label\": \"-0.40\", \"method\": \"update\"}, {\"args\": [{\"visible\": [true, true, false, false, false, false, false, false, false, false, false, false, false, false, false, false, true, false, false, false, false, false, false, false, false, false, false, false, false, false, false, false, false, false, false, false, false, false, false, false, false, false, false, false, false]}], \"label\": \"-0.35\", \"method\": \"update\"}, {\"args\": [{\"visible\": [true, true, false, false, false, false, false, false, false, false, false, false, false, false, false, false, false, true, false, false, false, false, false, false, false, false, false, false, false, false, false, false, false, false, false, false, false, false, false, false, false, false, false, false, false]}], \"label\": \"-0.30\", \"method\": \"update\"}, {\"args\": [{\"visible\": [true, true, false, false, false, false, false, false, false, false, false, false, false, false, false, false, false, false, true, false, false, false, false, false, false, false, false, false, false, false, false, false, false, false, false, false, false, false, false, false, false, false, false, false, false]}], \"label\": \"-0.25\", \"method\": \"update\"}, {\"args\": [{\"visible\": [true, true, false, false, false, false, false, false, false, false, false, false, false, false, false, false, false, false, false, true, false, false, false, false, false, false, false, false, false, false, false, false, false, false, false, false, false, false, false, false, false, false, false, false, false]}], \"label\": \"-0.20\", \"method\": \"update\"}, {\"args\": [{\"visible\": [true, true, false, false, false, false, false, false, false, false, false, false, false, false, false, false, false, false, false, false, true, false, false, false, false, false, false, false, false, false, false, false, false, false, false, false, false, false, false, false, false, false, false, false, false]}], \"label\": \"-0.15\", \"method\": \"update\"}, {\"args\": [{\"visible\": [true, true, false, false, false, false, false, false, false, false, false, false, false, false, false, false, false, false, false, false, false, true, false, false, false, false, false, false, false, false, false, false, false, false, false, false, false, false, false, false, false, false, false, false, false]}], \"label\": \"-0.10\", \"method\": \"update\"}, {\"args\": [{\"visible\": [true, true, false, false, false, false, false, false, false, false, false, false, false, false, false, false, false, false, false, false, false, false, true, false, false, false, false, false, false, false, false, false, false, false, false, false, false, false, false, false, false, false, false, false, false]}], \"label\": \"-0.05\", \"method\": \"update\"}, {\"args\": [{\"visible\": [true, true, false, false, false, false, false, false, false, false, false, false, false, false, false, false, false, false, false, false, false, false, false, true, false, false, false, false, false, false, false, false, false, false, false, false, false, false, false, false, false, false, false, false, false]}], \"label\": \"-0.00\", \"method\": \"update\"}, {\"args\": [{\"visible\": [true, true, false, false, false, false, false, false, false, false, false, false, false, false, false, false, false, false, false, false, false, false, false, false, true, false, false, false, false, false, false, false, false, false, false, false, false, false, false, false, false, false, false, false, false]}], \"label\": \"0.05\", \"method\": \"update\"}, {\"args\": [{\"visible\": [true, true, false, false, false, false, false, false, false, false, false, false, false, false, false, false, false, false, false, false, false, false, false, false, false, true, false, false, false, false, false, false, false, false, false, false, false, false, false, false, false, false, false, false, false]}], \"label\": \"0.10\", \"method\": \"update\"}, {\"args\": [{\"visible\": [true, true, false, false, false, false, false, false, false, false, false, false, false, false, false, false, false, false, false, false, false, false, false, false, false, false, true, false, false, false, false, false, false, false, false, false, false, false, false, false, false, false, false, false, false]}], \"label\": \"0.15\", \"method\": \"update\"}, {\"args\": [{\"visible\": [true, true, false, false, false, false, false, false, false, false, false, false, false, false, false, false, false, false, false, false, false, false, false, false, false, false, false, true, false, false, false, false, false, false, false, false, false, false, false, false, false, false, false, false, false]}], \"label\": \"0.20\", \"method\": \"update\"}, {\"args\": [{\"visible\": [true, true, false, false, false, false, false, false, false, false, false, false, false, false, false, false, false, false, false, false, false, false, false, false, false, false, false, false, true, false, false, false, false, false, false, false, false, false, false, false, false, false, false, false, false]}], \"label\": \"0.25\", \"method\": \"update\"}, {\"args\": [{\"visible\": [true, true, false, false, false, false, false, false, false, false, false, false, false, false, false, false, false, false, false, false, false, false, false, false, false, false, false, false, false, true, false, false, false, false, false, false, false, false, false, false, false, false, false, false, false]}], \"label\": \"0.30\", \"method\": \"update\"}, {\"args\": [{\"visible\": [true, true, false, false, false, false, false, false, false, false, false, false, false, false, false, false, false, false, false, false, false, false, false, false, false, false, false, false, false, false, true, false, false, false, false, false, false, false, false, false, false, false, false, false, false]}], \"label\": \"0.35\", \"method\": \"update\"}, {\"args\": [{\"visible\": [true, true, false, false, false, false, false, false, false, false, false, false, false, false, false, false, false, false, false, false, false, false, false, false, false, false, false, false, false, false, false, true, false, false, false, false, false, false, false, false, false, false, false, false, false]}], \"label\": \"0.40\", \"method\": \"update\"}, {\"args\": [{\"visible\": [true, true, false, false, false, false, false, false, false, false, false, false, false, false, false, false, false, false, false, false, false, false, false, false, false, false, false, false, false, false, false, false, true, false, false, false, false, false, false, false, false, false, false, false, false]}], \"label\": \"0.45\", \"method\": \"update\"}, {\"args\": [{\"visible\": [true, true, false, false, false, false, false, false, false, false, false, false, false, false, false, false, false, false, false, false, false, false, false, false, false, false, false, false, false, false, false, false, false, true, false, false, false, false, false, false, false, false, false, false, false]}], \"label\": \"0.50\", \"method\": \"update\"}, {\"args\": [{\"visible\": [true, true, false, false, false, false, false, false, false, false, false, false, false, false, false, false, false, false, false, false, false, false, false, false, false, false, false, false, false, false, false, false, false, false, true, false, false, false, false, false, false, false, false, false, false]}], \"label\": \"0.55\", \"method\": \"update\"}, {\"args\": [{\"visible\": [true, true, false, false, false, false, false, false, false, false, false, false, false, false, false, false, false, false, false, false, false, false, false, false, false, false, false, false, false, false, false, false, false, false, false, true, false, false, false, false, false, false, false, false, false]}], \"label\": \"0.60\", \"method\": \"update\"}, {\"args\": [{\"visible\": [true, true, false, false, false, false, false, false, false, false, false, false, false, false, false, false, false, false, false, false, false, false, false, false, false, false, false, false, false, false, false, false, false, false, false, false, true, false, false, false, false, false, false, false, false]}], \"label\": \"0.65\", \"method\": \"update\"}, {\"args\": [{\"visible\": [true, true, false, false, false, false, false, false, false, false, false, false, false, false, false, false, false, false, false, false, false, false, false, false, false, false, false, false, false, false, false, false, false, false, false, false, false, true, false, false, false, false, false, false, false]}], \"label\": \"0.70\", \"method\": \"update\"}, {\"args\": [{\"visible\": [true, true, false, false, false, false, false, false, false, false, false, false, false, false, false, false, false, false, false, false, false, false, false, false, false, false, false, false, false, false, false, false, false, false, false, false, false, false, true, false, false, false, false, false, false]}], \"label\": \"0.75\", \"method\": \"update\"}, {\"args\": [{\"visible\": [true, true, false, false, false, false, false, false, false, false, false, false, false, false, false, false, false, false, false, false, false, false, false, false, false, false, false, false, false, false, false, false, false, false, false, false, false, false, false, true, false, false, false, false, false]}], \"label\": \"0.80\", \"method\": \"update\"}, {\"args\": [{\"visible\": [true, true, false, false, false, false, false, false, false, false, false, false, false, false, false, false, false, false, false, false, false, false, false, false, false, false, false, false, false, false, false, false, false, false, false, false, false, false, false, false, true, false, false, false, false]}], \"label\": \"0.85\", \"method\": \"update\"}, {\"args\": [{\"visible\": [true, true, false, false, false, false, false, false, false, false, false, false, false, false, false, false, false, false, false, false, false, false, false, false, false, false, false, false, false, false, false, false, false, false, false, false, false, false, false, false, false, true, false, false, false]}], \"label\": \"0.90\", \"method\": \"update\"}, {\"args\": [{\"visible\": [true, true, false, false, false, false, false, false, false, false, false, false, false, false, false, false, false, false, false, false, false, false, false, false, false, false, false, false, false, false, false, false, false, false, false, false, false, false, false, false, false, false, true, false, false]}], \"label\": \"0.95\", \"method\": \"update\"}, {\"args\": [{\"visible\": [true, true, false, false, false, false, false, false, false, false, false, false, false, false, false, false, false, false, false, false, false, false, false, false, false, false, false, false, false, false, false, false, false, false, false, false, false, false, false, false, false, false, false, true, false]}], \"label\": \"1.00\", \"method\": \"update\"}, {\"args\": [{\"visible\": [true, true, false, false, false, false, false, false, false, false, false, false, false, false, false, false, false, false, false, false, false, false, false, false, false, false, false, false, false, false, false, false, false, false, false, false, false, false, false, false, false, false, false, false, true]}], \"label\": \"1.05\", \"method\": \"update\"}], \"y\": 0.35}], \"template\": {\"data\": {\"bar\": [{\"error_x\": {\"color\": \"#2a3f5f\"}, \"error_y\": {\"color\": \"#2a3f5f\"}, \"marker\": {\"line\": {\"color\": \"#E5ECF6\", \"width\": 0.5}}, \"type\": \"bar\"}], \"barpolar\": [{\"marker\": {\"line\": {\"color\": \"#E5ECF6\", \"width\": 0.5}}, \"type\": \"barpolar\"}], \"carpet\": [{\"aaxis\": {\"endlinecolor\": \"#2a3f5f\", \"gridcolor\": \"white\", \"linecolor\": \"white\", \"minorgridcolor\": \"white\", \"startlinecolor\": \"#2a3f5f\"}, \"baxis\": {\"endlinecolor\": \"#2a3f5f\", \"gridcolor\": \"white\", \"linecolor\": \"white\", \"minorgridcolor\": \"white\", \"startlinecolor\": \"#2a3f5f\"}, \"type\": \"carpet\"}], \"choropleth\": [{\"colorbar\": {\"outlinewidth\": 0, \"ticks\": \"\"}, \"type\": \"choropleth\"}], \"contour\": [{\"colorbar\": {\"outlinewidth\": 0, \"ticks\": \"\"}, \"colorscale\": [[0.0, \"#0d0887\"], [0.1111111111111111, \"#46039f\"], [0.2222222222222222, \"#7201a8\"], [0.3333333333333333, \"#9c179e\"], [0.4444444444444444, \"#bd3786\"], [0.5555555555555556, \"#d8576b\"], [0.6666666666666666, \"#ed7953\"], [0.7777777777777778, \"#fb9f3a\"], [0.8888888888888888, \"#fdca26\"], [1.0, \"#f0f921\"]], \"type\": \"contour\"}], \"contourcarpet\": [{\"colorbar\": {\"outlinewidth\": 0, \"ticks\": \"\"}, \"type\": \"contourcarpet\"}], \"heatmap\": [{\"colorbar\": {\"outlinewidth\": 0, \"ticks\": \"\"}, \"colorscale\": [[0.0, \"#0d0887\"], [0.1111111111111111, \"#46039f\"], [0.2222222222222222, \"#7201a8\"], [0.3333333333333333, \"#9c179e\"], [0.4444444444444444, \"#bd3786\"], [0.5555555555555556, \"#d8576b\"], [0.6666666666666666, \"#ed7953\"], [0.7777777777777778, \"#fb9f3a\"], [0.8888888888888888, \"#fdca26\"], [1.0, \"#f0f921\"]], \"type\": \"heatmap\"}], \"heatmapgl\": [{\"colorbar\": {\"outlinewidth\": 0, \"ticks\": \"\"}, \"colorscale\": [[0.0, \"#0d0887\"], [0.1111111111111111, \"#46039f\"], [0.2222222222222222, \"#7201a8\"], [0.3333333333333333, \"#9c179e\"], [0.4444444444444444, \"#bd3786\"], [0.5555555555555556, \"#d8576b\"], [0.6666666666666666, \"#ed7953\"], [0.7777777777777778, \"#fb9f3a\"], [0.8888888888888888, \"#fdca26\"], [1.0, \"#f0f921\"]], \"type\": \"heatmapgl\"}], \"histogram\": [{\"marker\": {\"colorbar\": {\"outlinewidth\": 0, \"ticks\": \"\"}}, \"type\": \"histogram\"}], \"histogram2d\": [{\"colorbar\": {\"outlinewidth\": 0, \"ticks\": \"\"}, \"colorscale\": [[0.0, \"#0d0887\"], [0.1111111111111111, \"#46039f\"], [0.2222222222222222, \"#7201a8\"], [0.3333333333333333, \"#9c179e\"], [0.4444444444444444, \"#bd3786\"], [0.5555555555555556, \"#d8576b\"], [0.6666666666666666, \"#ed7953\"], [0.7777777777777778, \"#fb9f3a\"], [0.8888888888888888, \"#fdca26\"], [1.0, \"#f0f921\"]], \"type\": \"histogram2d\"}], \"histogram2dcontour\": [{\"colorbar\": {\"outlinewidth\": 0, \"ticks\": \"\"}, \"colorscale\": [[0.0, \"#0d0887\"], [0.1111111111111111, \"#46039f\"], [0.2222222222222222, \"#7201a8\"], [0.3333333333333333, \"#9c179e\"], [0.4444444444444444, \"#bd3786\"], [0.5555555555555556, \"#d8576b\"], [0.6666666666666666, \"#ed7953\"], [0.7777777777777778, \"#fb9f3a\"], [0.8888888888888888, \"#fdca26\"], [1.0, \"#f0f921\"]], \"type\": \"histogram2dcontour\"}], \"mesh3d\": [{\"colorbar\": {\"outlinewidth\": 0, \"ticks\": \"\"}, \"type\": \"mesh3d\"}], \"parcoords\": [{\"line\": {\"colorbar\": {\"outlinewidth\": 0, \"ticks\": \"\"}}, \"type\": \"parcoords\"}], \"pie\": [{\"automargin\": true, \"type\": \"pie\"}], \"scatter\": [{\"marker\": {\"colorbar\": {\"outlinewidth\": 0, \"ticks\": \"\"}}, \"type\": \"scatter\"}], \"scatter3d\": [{\"line\": {\"colorbar\": {\"outlinewidth\": 0, \"ticks\": \"\"}}, \"marker\": {\"colorbar\": {\"outlinewidth\": 0, \"ticks\": \"\"}}, \"type\": \"scatter3d\"}], \"scattercarpet\": [{\"marker\": {\"colorbar\": {\"outlinewidth\": 0, \"ticks\": \"\"}}, \"type\": \"scattercarpet\"}], \"scattergeo\": [{\"marker\": {\"colorbar\": {\"outlinewidth\": 0, \"ticks\": \"\"}}, \"type\": \"scattergeo\"}], \"scattergl\": [{\"marker\": {\"colorbar\": {\"outlinewidth\": 0, \"ticks\": \"\"}}, \"type\": \"scattergl\"}], \"scattermapbox\": [{\"marker\": {\"colorbar\": {\"outlinewidth\": 0, \"ticks\": \"\"}}, \"type\": \"scattermapbox\"}], \"scatterpolar\": [{\"marker\": {\"colorbar\": {\"outlinewidth\": 0, \"ticks\": \"\"}}, \"type\": \"scatterpolar\"}], \"scatterpolargl\": [{\"marker\": {\"colorbar\": {\"outlinewidth\": 0, \"ticks\": \"\"}}, \"type\": \"scatterpolargl\"}], \"scatterternary\": [{\"marker\": {\"colorbar\": {\"outlinewidth\": 0, \"ticks\": \"\"}}, \"type\": \"scatterternary\"}], \"surface\": [{\"colorbar\": {\"outlinewidth\": 0, \"ticks\": \"\"}, \"colorscale\": [[0.0, \"#0d0887\"], [0.1111111111111111, \"#46039f\"], [0.2222222222222222, \"#7201a8\"], [0.3333333333333333, \"#9c179e\"], [0.4444444444444444, \"#bd3786\"], [0.5555555555555556, \"#d8576b\"], [0.6666666666666666, \"#ed7953\"], [0.7777777777777778, \"#fb9f3a\"], [0.8888888888888888, \"#fdca26\"], [1.0, \"#f0f921\"]], \"type\": \"surface\"}], \"table\": [{\"cells\": {\"fill\": {\"color\": \"#EBF0F8\"}, \"line\": {\"color\": \"white\"}}, \"header\": {\"fill\": {\"color\": \"#C8D4E3\"}, \"line\": {\"color\": \"white\"}}, \"type\": \"table\"}]}, \"layout\": {\"annotationdefaults\": {\"arrowcolor\": \"#2a3f5f\", \"arrowhead\": 0, \"arrowwidth\": 1}, \"autotypenumbers\": \"strict\", \"coloraxis\": {\"colorbar\": {\"outlinewidth\": 0, \"ticks\": \"\"}}, \"colorscale\": {\"diverging\": [[0, \"#8e0152\"], [0.1, \"#c51b7d\"], [0.2, \"#de77ae\"], [0.3, \"#f1b6da\"], [0.4, \"#fde0ef\"], [0.5, \"#f7f7f7\"], [0.6, \"#e6f5d0\"], [0.7, \"#b8e186\"], [0.8, \"#7fbc41\"], [0.9, \"#4d9221\"], [1, \"#276419\"]], \"sequential\": [[0.0, \"#0d0887\"], [0.1111111111111111, \"#46039f\"], [0.2222222222222222, \"#7201a8\"], [0.3333333333333333, \"#9c179e\"], [0.4444444444444444, \"#bd3786\"], [0.5555555555555556, \"#d8576b\"], [0.6666666666666666, \"#ed7953\"], [0.7777777777777778, \"#fb9f3a\"], [0.8888888888888888, \"#fdca26\"], [1.0, \"#f0f921\"]], \"sequentialminus\": [[0.0, \"#0d0887\"], [0.1111111111111111, \"#46039f\"], [0.2222222222222222, \"#7201a8\"], [0.3333333333333333, \"#9c179e\"], [0.4444444444444444, \"#bd3786\"], [0.5555555555555556, \"#d8576b\"], [0.6666666666666666, \"#ed7953\"], [0.7777777777777778, \"#fb9f3a\"], [0.8888888888888888, \"#fdca26\"], [1.0, \"#f0f921\"]]}, \"colorway\": [\"#636efa\", \"#EF553B\", \"#00cc96\", \"#ab63fa\", \"#FFA15A\", \"#19d3f3\", \"#FF6692\", \"#B6E880\", \"#FF97FF\", \"#FECB52\"], \"font\": {\"color\": \"#2a3f5f\"}, \"geo\": {\"bgcolor\": \"white\", \"lakecolor\": \"white\", \"landcolor\": \"#E5ECF6\", \"showlakes\": true, \"showland\": true, \"subunitcolor\": \"white\"}, \"hoverlabel\": {\"align\": \"left\"}, \"hovermode\": \"closest\", \"mapbox\": {\"style\": \"light\"}, \"paper_bgcolor\": \"white\", \"plot_bgcolor\": \"#E5ECF6\", \"polar\": {\"angularaxis\": {\"gridcolor\": \"white\", \"linecolor\": \"white\", \"ticks\": \"\"}, \"bgcolor\": \"#E5ECF6\", \"radialaxis\": {\"gridcolor\": \"white\", \"linecolor\": \"white\", \"ticks\": \"\"}}, \"scene\": {\"xaxis\": {\"backgroundcolor\": \"#E5ECF6\", \"gridcolor\": \"white\", \"gridwidth\": 2, \"linecolor\": \"white\", \"showbackground\": true, \"ticks\": \"\", \"zerolinecolor\": \"white\"}, \"yaxis\": {\"backgroundcolor\": \"#E5ECF6\", \"gridcolor\": \"white\", \"gridwidth\": 2, \"linecolor\": \"white\", \"showbackground\": true, \"ticks\": \"\", \"zerolinecolor\": \"white\"}, \"zaxis\": {\"backgroundcolor\": \"#E5ECF6\", \"gridcolor\": \"white\", \"gridwidth\": 2, \"linecolor\": \"white\", \"showbackground\": true, \"ticks\": \"\", \"zerolinecolor\": \"white\"}}, \"shapedefaults\": {\"line\": {\"color\": \"#2a3f5f\"}}, \"ternary\": {\"aaxis\": {\"gridcolor\": \"white\", \"linecolor\": \"white\", \"ticks\": \"\"}, \"baxis\": {\"gridcolor\": \"white\", \"linecolor\": \"white\", \"ticks\": \"\"}, \"bgcolor\": \"#E5ECF6\", \"caxis\": {\"gridcolor\": \"white\", \"linecolor\": \"white\", \"ticks\": \"\"}}, \"title\": {\"x\": 0.05}, \"xaxis\": {\"automargin\": true, \"gridcolor\": \"white\", \"linecolor\": \"white\", \"ticks\": \"\", \"title\": {\"standoff\": 15}, \"zerolinecolor\": \"white\", \"zerolinewidth\": 2}, \"yaxis\": {\"automargin\": true, \"gridcolor\": \"white\", \"linecolor\": \"white\", \"ticks\": \"\", \"title\": {\"standoff\": 15}, \"zerolinecolor\": \"white\", \"zerolinewidth\": 2}}}, \"title\": {\"text\": \"Word Usage as a Function of Ideal Point (Topic: Abortion)\", \"x\": 0.5, \"y\": 0.9}, \"xaxis\": {\"fixedrange\": true, \"range\": [-1.0710294437408447, 1.0710294437408447], \"showgrid\": false, \"showline\": false, \"showticklabels\": false, \"title\": {\"text\": \"Representative ideal points (hover to see names)\"}, \"zeroline\": false}, \"yaxis\": {\"fixedrange\": true, \"range\": [-0.6, 2.5], \"showgrid\": false, \"showline\": false, \"showticklabels\": false, \"zeroline\": false}},                        {\"responsive\": true}                    ).then(function(){\n",
       "                            \n",
       "var gd = document.getElementById('6bdf183b-81d8-45cc-8e1f-342c73e0c104');\n",
       "var x = new MutationObserver(function (mutations, observer) {{\n",
       "        var display = window.getComputedStyle(gd).display;\n",
       "        if (!display || display === 'none') {{\n",
       "            console.log([gd, 'removed!']);\n",
       "            Plotly.purge(gd);\n",
       "            observer.disconnect();\n",
       "        }}\n",
       "}});\n",
       "\n",
       "// Listen for the removal of the full notebook cells\n",
       "var notebookContainer = gd.closest('#notebook-container');\n",
       "if (notebookContainer) {{\n",
       "    x.observe(notebookContainer, {childList: true});\n",
       "}}\n",
       "\n",
       "// Listen for the clearing of the current output cell\n",
       "var outputEl = gd.closest('.output');\n",
       "if (outputEl) {{\n",
       "    x.observe(outputEl, {childList: true});\n",
       "}}\n",
       "\n",
       "                        })                };                });            </script>        </div>"
      ]
     },
     "metadata": {},
     "output_type": "display_data"
    }
   ],
   "source": [
    "show_interactive(2)"
   ]
  },
  {
   "cell_type": "code",
   "execution_count": null,
   "id": "3a4e5792",
   "metadata": {},
   "outputs": [],
   "source": [
    "speaker1 = 'Mark (R)' \n",
    "#Conservative - Extremely cons. on abortion, moderate on other two, 4 speeches on abortion and 3 on energy, 3 on immigration\n",
    "\n",
    "speaker2 = 'Lauren (R)' \n",
    "#Conservative - extreme cons. on immigration, moderate on other two, 3 speeches on abortion and 1 on energy, 4 on immigration\n",
    "\n",
    "speaker3 = 'John (R)' \n",
    "#Conservative - moderate cons. on immigration, extreme on other two, 1 speech on immigration and 3 on energy, 1 on abortion\n",
    "\n",
    "\n",
    "speaker4 = 'Mona (D)' \n",
    "#Liberal - Extremely lib. on abortion and energy, moderate on immigration, 3 speeches on abortion, 3 on energy, 3 on immigration\n",
    "\n",
    "speaker5 = 'Justicia (D)' \n",
    "#Liberal - Extremely lib. on abortion and immigration, moderate on energy, 3 speeches on abortion, 1 on energy, 3 on immigration\n",
    "\n",
    "speaker6 = 'Alex (D)' \n",
    "#Liberal - moderate on all issues, 2 speeches on abortion, 2 on energy, 2 on immigration"
   ]
  }
 ],
 "metadata": {
  "kernelspec": {
   "display_name": "Python 3",
   "language": "python",
   "name": "python3"
  },
  "language_info": {
   "codemirror_mode": {
    "name": "ipython",
    "version": 3
   },
   "file_extension": ".py",
   "mimetype": "text/x-python",
   "name": "python",
   "nbconvert_exporter": "python",
   "pygments_lexer": "ipython3",
   "version": "3.6.13"
  }
 },
 "nbformat": 4,
 "nbformat_minor": 5
}
